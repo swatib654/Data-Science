{
 "cells": [
  {
   "cell_type": "markdown",
   "id": "d15bbed1-18f9-4401-b48a-3250638e35f4",
   "metadata": {},
   "source": [
    "# TUPLE "
   ]
  },
  {
   "cell_type": "code",
   "execution_count": 3,
   "id": "d007a757-d453-4e30-bf8c-143d64a3a482",
   "metadata": {},
   "outputs": [
    {
     "data": {
      "text/plain": [
       "()"
      ]
     },
     "execution_count": 3,
     "metadata": {},
     "output_type": "execute_result"
    }
   ],
   "source": [
    "t = ()# empty tuple\n",
    "t"
   ]
  },
  {
   "cell_type": "code",
   "execution_count": 4,
   "id": "80afa918-7f36-4b64-a883-1daf6afc16fd",
   "metadata": {},
   "outputs": [
    {
     "data": {
      "text/plain": [
       "tuple"
      ]
     },
     "execution_count": 4,
     "metadata": {},
     "output_type": "execute_result"
    }
   ],
   "source": [
    "type(t)"
   ]
  },
  {
   "cell_type": "code",
   "execution_count": 1,
   "id": "741cceea-3a02-45f8-a7d6-5a6b172d342c",
   "metadata": {},
   "outputs": [
    {
     "data": {
      "text/plain": [
       "(10, 20, 30)"
      ]
     },
     "execution_count": 1,
     "metadata": {},
     "output_type": "execute_result"
    }
   ],
   "source": [
    "t2=(10,20,30) # int num\n",
    "t2"
   ]
  },
  {
   "cell_type": "code",
   "execution_count": 6,
   "id": "cc2861f2-42a1-4a86-a698-d6c93276e74c",
   "metadata": {},
   "outputs": [
    {
     "data": {
      "text/plain": [
       "('swati', 123456789, 'swam89', 345789)"
      ]
     },
     "execution_count": 6,
     "metadata": {},
     "output_type": "execute_result"
    }
   ],
   "source": [
    "sbi=('swati',123456789,'swam89',345789)\n",
    "sbi"
   ]
  },
  {
   "cell_type": "code",
   "execution_count": 2,
   "id": "34e13c4a-3b7f-44ea-af82-f6e2786420c1",
   "metadata": {},
   "outputs": [
    {
     "data": {
      "text/plain": [
       "(10.77, 30.66, 60.89)"
      ]
     },
     "execution_count": 2,
     "metadata": {},
     "output_type": "execute_result"
    }
   ],
   "source": [
    "t3=(10.77,30.66,60.89) # float num\n",
    "t3"
   ]
  },
  {
   "cell_type": "code",
   "execution_count": 3,
   "id": "208fe249-c2bf-4916-95d6-50d7e7cf9ba1",
   "metadata": {},
   "outputs": [
    {
     "data": {
      "text/plain": [
       "('one', 'two', 'three')"
      ]
     },
     "execution_count": 3,
     "metadata": {},
     "output_type": "execute_result"
    }
   ],
   "source": [
    "t4=('one','two',\"three\") # string num\n",
    "t4"
   ]
  },
  {
   "cell_type": "code",
   "execution_count": 2,
   "id": "697c5ceb-8e2a-429e-ae62-966c32463ae1",
   "metadata": {},
   "outputs": [
    {
     "data": {
      "text/plain": [
       "('swati', 25, (50, 100), (150, 90))"
      ]
     },
     "execution_count": 2,
     "metadata": {},
     "output_type": "execute_result"
    }
   ],
   "source": [
    "t5=('swati',25,(50,100),(150,90)) #nested tuple\n",
    "t5"
   ]
  },
  {
   "cell_type": "code",
   "execution_count": 6,
   "id": "2ea3bbf8-0559-4817-8c45-628b2efdc0dc",
   "metadata": {},
   "outputs": [
    {
     "data": {
      "text/plain": [
       "(100, 'asif', 17.765)"
      ]
     },
     "execution_count": 6,
     "metadata": {},
     "output_type": "execute_result"
    }
   ],
   "source": [
    "t6=(100,'asif',17.765) #tuple of mixed data type\n",
    "t6"
   ]
  },
  {
   "cell_type": "code",
   "execution_count": 7,
   "id": "ded553d1-5601-492a-9711-8cb64d177f92",
   "metadata": {},
   "outputs": [
    {
     "data": {
      "text/plain": [
       "('asif', 25, [50, 100], [150, 90], {'David', 'John'}, (99, 22, 33))"
      ]
     },
     "execution_count": 7,
     "metadata": {},
     "output_type": "execute_result"
    }
   ],
   "source": [
    "t7=('asif',25,[50,100],[150,90],{'John','David'},(99,22,33))\n",
    "t7"
   ]
  },
  {
   "cell_type": "code",
   "execution_count": 8,
   "id": "c005c0f6-04f9-427f-8463-9437dd5edfec",
   "metadata": {},
   "outputs": [
    {
     "data": {
      "text/plain": [
       "6"
      ]
     },
     "execution_count": 8,
     "metadata": {},
     "output_type": "execute_result"
    }
   ],
   "source": [
    "len (t7) # length of list"
   ]
  },
  {
   "cell_type": "markdown",
   "id": "f899efa5-11bb-4b3a-b216-ae509905493d",
   "metadata": {},
   "source": [
    "# tuple indexing"
   ]
  },
  {
   "cell_type": "code",
   "execution_count": 9,
   "id": "d5f8ee59-8acf-42f7-8408-8d9e4e6a439c",
   "metadata": {},
   "outputs": [
    {
     "data": {
      "text/plain": [
       "10"
      ]
     },
     "execution_count": 9,
     "metadata": {},
     "output_type": "execute_result"
    }
   ],
   "source": [
    "t2[0] # retrive first element of the tuple"
   ]
  },
  {
   "cell_type": "code",
   "execution_count": 10,
   "id": "7b7d0aca-33d5-40b2-b157-3fbc481d369b",
   "metadata": {},
   "outputs": [
    {
     "data": {
      "text/plain": [
       "'one'"
      ]
     },
     "execution_count": 10,
     "metadata": {},
     "output_type": "execute_result"
    }
   ],
   "source": [
    "t4[0] # retrive firstbelement of the tuple"
   ]
  },
  {
   "cell_type": "code",
   "execution_count": 11,
   "id": "ff02f534-e626-42e7-8912-b83f86bfe436",
   "metadata": {},
   "outputs": [
    {
     "data": {
      "text/plain": [
       "'o'"
      ]
     },
     "execution_count": 11,
     "metadata": {},
     "output_type": "execute_result"
    }
   ],
   "source": [
    "t4[0][0] # nested indrxing access the first character of the first tuple element"
   ]
  },
  {
   "cell_type": "code",
   "execution_count": 12,
   "id": "95181dcd-65df-43db-be8e-8e4be68d3e1c",
   "metadata": {},
   "outputs": [
    {
     "data": {
      "text/plain": [
       "'three'"
      ]
     },
     "execution_count": 12,
     "metadata": {},
     "output_type": "execute_result"
    }
   ],
   "source": [
    "t4[-1] # last item of the tuple"
   ]
  },
  {
   "cell_type": "code",
   "execution_count": 3,
   "id": "6dbd5481-cff7-4937-b193-5f7ea568c7fc",
   "metadata": {},
   "outputs": [
    {
     "data": {
      "text/plain": [
       "(150, 90)"
      ]
     },
     "execution_count": 3,
     "metadata": {},
     "output_type": "execute_result"
    }
   ],
   "source": [
    "t5[-1] #last item of tuple"
   ]
  },
  {
   "cell_type": "markdown",
   "id": "b9b5ea11-26dc-47cb-a980-bc811d6d518e",
   "metadata": {},
   "source": [
    "# tuple slicing"
   ]
  },
  {
   "cell_type": "code",
   "execution_count": 6,
   "id": "27eb41cc-fb11-4da7-8ff8-a434927a09e4",
   "metadata": {},
   "outputs": [],
   "source": [
    "mytuple=('one','two','three','four','five','six','seven','eight','nine')"
   ]
  },
  {
   "cell_type": "code",
   "execution_count": 16,
   "id": "e7af3959-e5ca-42ee-be84-e829471c416e",
   "metadata": {},
   "outputs": [
    {
     "data": {
      "text/plain": [
       "('one', 'two', 'three')"
      ]
     },
     "execution_count": 16,
     "metadata": {},
     "output_type": "execute_result"
    }
   ],
   "source": [
    "mytuple[0:3] # return all item from 0th to 3rd index locatin excluding the item"
   ]
  },
  {
   "cell_type": "code",
   "execution_count": 17,
   "id": "07286004-80e2-4575-bff7-a24e2c7c0adc",
   "metadata": {},
   "outputs": [
    {
     "data": {
      "text/plain": [
       "('three', 'four', 'five')"
      ]
     },
     "execution_count": 17,
     "metadata": {},
     "output_type": "execute_result"
    }
   ],
   "source": [
    "mytuple[2:5] #list all item 2nd to 5th index location"
   ]
  },
  {
   "cell_type": "code",
   "execution_count": 18,
   "id": "40a88fb2-5e1b-4fe4-b185-87bd68e0e344",
   "metadata": {},
   "outputs": [
    {
     "data": {
      "text/plain": [
       "('one', 'two', 'three')"
      ]
     },
     "execution_count": 18,
     "metadata": {},
     "output_type": "execute_result"
    }
   ],
   "source": [
    "mytuple[:3] # return first three otem"
   ]
  },
  {
   "cell_type": "code",
   "execution_count": 19,
   "id": "1ecfb752-ec84-4dca-ba21-1d27de7cc42c",
   "metadata": {},
   "outputs": [
    {
     "data": {
      "text/plain": [
       "('one', 'two')"
      ]
     },
     "execution_count": 19,
     "metadata": {},
     "output_type": "execute_result"
    }
   ],
   "source": [
    "mytuple[:2] # return first three item"
   ]
  },
  {
   "cell_type": "code",
   "execution_count": 20,
   "id": "2b7b9245-5410-42e5-abe8-4ac340a4b704",
   "metadata": {},
   "outputs": [
    {
     "data": {
      "text/plain": [
       "('seven', 'eight', 'nine')"
      ]
     },
     "execution_count": 20,
     "metadata": {},
     "output_type": "execute_result"
    }
   ],
   "source": [
    "mytuple[-3:] # return last three item"
   ]
  },
  {
   "cell_type": "code",
   "execution_count": 21,
   "id": "386ed87d-bef6-483f-bbd7-c8e28c11d71b",
   "metadata": {},
   "outputs": [
    {
     "data": {
      "text/plain": [
       "('eight', 'nine')"
      ]
     },
     "execution_count": 21,
     "metadata": {},
     "output_type": "execute_result"
    }
   ],
   "source": [
    "mytuple[-2:] #return last two item"
   ]
  },
  {
   "cell_type": "code",
   "execution_count": 22,
   "id": "a38f73f3-5960-4b7d-bca8-b9349e58b9ae",
   "metadata": {},
   "outputs": [
    {
     "data": {
      "text/plain": [
       "'nine'"
      ]
     },
     "execution_count": 22,
     "metadata": {},
     "output_type": "execute_result"
    }
   ],
   "source": [
    "mytuple[-1] #return last item"
   ]
  },
  {
   "cell_type": "code",
   "execution_count": 23,
   "id": "c1f21b43-ec75-44d2-8f90-c9765fc7168f",
   "metadata": {},
   "outputs": [
    {
     "data": {
      "text/plain": [
       "('one', 'two', 'three', 'four', 'five', 'six', 'seven', 'eight', 'nine')"
      ]
     },
     "execution_count": 23,
     "metadata": {},
     "output_type": "execute_result"
    }
   ],
   "source": [
    "mytuple[:] # return whole number"
   ]
  },
  {
   "cell_type": "markdown",
   "id": "da348eb0-f0d9-492d-af24-b53ad429bc2b",
   "metadata": {},
   "source": [
    " # remove & change items"
   ]
  },
  {
   "cell_type": "code",
   "execution_count": 24,
   "id": "deed13fa-abbb-427a-93d3-aeb691d50d5f",
   "metadata": {},
   "outputs": [
    {
     "data": {
      "text/plain": [
       "('one', 'two', 'three', 'four', 'five', 'six', 'seven', 'eight', 'nine')"
      ]
     },
     "execution_count": 24,
     "metadata": {},
     "output_type": "execute_result"
    }
   ],
   "source": [
    "mytuple"
   ]
  },
  {
   "cell_type": "code",
   "execution_count": 25,
   "id": "1f78206a-64ea-4f84-aba7-c176ed991ee7",
   "metadata": {},
   "outputs": [
    {
     "ename": "TypeError",
     "evalue": "'tuple' object doesn't support item deletion",
     "output_type": "error",
     "traceback": [
      "\u001b[1;31m---------------------------------------------------------------------------\u001b[0m",
      "\u001b[1;31mTypeError\u001b[0m                                 Traceback (most recent call last)",
      "Cell \u001b[1;32mIn[25], line 1\u001b[0m\n\u001b[1;32m----> 1\u001b[0m \u001b[38;5;28;01mdel\u001b[39;00m mytuple[\u001b[38;5;241m0\u001b[39m]\n",
      "\u001b[1;31mTypeError\u001b[0m: 'tuple' object doesn't support item deletion"
     ]
    }
   ],
   "source": [
    "del mytuple[0] # tuple are immutale which means we can't DELETE tuple item"
   ]
  },
  {
   "cell_type": "code",
   "execution_count": 26,
   "id": "59d414f1-185e-4e58-88ec-24e75312695f",
   "metadata": {},
   "outputs": [
    {
     "ename": "TypeError",
     "evalue": "'tuple' object does not support item assignment",
     "output_type": "error",
     "traceback": [
      "\u001b[1;31m---------------------------------------------------------------------------\u001b[0m",
      "\u001b[1;31mTypeError\u001b[0m                                 Traceback (most recent call last)",
      "Cell \u001b[1;32mIn[26], line 1\u001b[0m\n\u001b[1;32m----> 1\u001b[0m mytuple[\u001b[38;5;241m0\u001b[39m] \u001b[38;5;241m=\u001b[39m \u001b[38;5;241m1\u001b[39m\n",
      "\u001b[1;31mTypeError\u001b[0m: 'tuple' object does not support item assignment"
     ]
    }
   ],
   "source": [
    "mytuple[0] = 1 #can't not change tuple item"
   ]
  },
  {
   "cell_type": "code",
   "execution_count": 27,
   "id": "5ae8ecba-dd74-4636-b78d-4f26ed003046",
   "metadata": {},
   "outputs": [],
   "source": [
    "del mytuple # deleting entire tuple"
   ]
  },
  {
   "cell_type": "markdown",
   "id": "ab56d177-26b3-44ea-a99f-0e608ea7d76e",
   "metadata": {},
   "source": [
    "# loop through a tuple"
   ]
  },
  {
   "cell_type": "code",
   "execution_count": 10,
   "id": "56acf05c-b091-4374-8af8-3022847f815c",
   "metadata": {},
   "outputs": [
    {
     "data": {
      "text/plain": [
       "('one', 'two', 'three', 'four', 'five', 'six', 'seven', 'eight', 'nine')"
      ]
     },
     "execution_count": 10,
     "metadata": {},
     "output_type": "execute_result"
    }
   ],
   "source": [
    "mytuple"
   ]
  },
  {
   "cell_type": "code",
   "execution_count": 32,
   "id": "f46f9ae7-69f7-44fc-8c8c-c2d765b68bd7",
   "metadata": {},
   "outputs": [
    {
     "name": "stdout",
     "output_type": "stream",
     "text": [
      "one\n",
      "two\n",
      "three\n",
      "four\n",
      "five\n",
      "six\n",
      "seven\n",
      "eight\n",
      "nine\n"
     ]
    }
   ],
   "source": [
    "for i in mytuple:\n",
    "    print (i)"
   ]
  },
  {
   "cell_type": "code",
   "execution_count": 33,
   "id": "beb55733-7eaa-4591-9d6e-8de6126237e5",
   "metadata": {},
   "outputs": [
    {
     "name": "stdout",
     "output_type": "stream",
     "text": [
      "(0, 'one')\n",
      "(1, 'two')\n",
      "(2, 'three')\n",
      "(3, 'four')\n",
      "(4, 'five')\n",
      "(5, 'six')\n",
      "(6, 'seven')\n",
      "(7, 'eight')\n",
      "(8, 'nine')\n"
     ]
    }
   ],
   "source": [
    "for i in enumerate(mytuple):\n",
    "    print (i)"
   ]
  },
  {
   "cell_type": "markdown",
   "id": "fe3208e1-2018-4268-ab34-91dd1e322bfa",
   "metadata": {},
   "source": [
    "# Tuple membership"
   ]
  },
  {
   "cell_type": "code",
   "execution_count": 8,
   "id": "c5dedae8-49ca-4e8f-b931-0c926ed21722",
   "metadata": {},
   "outputs": [
    {
     "data": {
      "text/plain": [
       "('one', 'two', 'three', 'four', 'five', 'six', 'seven', 'eight', 'nine')"
      ]
     },
     "execution_count": 8,
     "metadata": {},
     "output_type": "execute_result"
    }
   ],
   "source": [
    "mytuple"
   ]
  },
  {
   "cell_type": "code",
   "execution_count": 9,
   "id": "b04ecfd3-d61c-4a3e-aa10-4a1eecc22246",
   "metadata": {},
   "outputs": [
    {
     "data": {
      "text/plain": [
       "True"
      ]
     },
     "execution_count": 9,
     "metadata": {},
     "output_type": "execute_result"
    }
   ],
   "source": [
    "'one' in mytuple #check if 'one'exist in the list"
   ]
  },
  {
   "cell_type": "code",
   "execution_count": 36,
   "id": "102063ea-bb33-4672-b9f6-b87d985eacbb",
   "metadata": {},
   "outputs": [
    {
     "data": {
      "text/plain": [
       "False"
      ]
     },
     "execution_count": 36,
     "metadata": {},
     "output_type": "execute_result"
    }
   ],
   "source": [
    "'ten' in mytuple #check if 'ten'exist in the list"
   ]
  },
  {
   "cell_type": "code",
   "execution_count": 38,
   "id": "b2ffc714-cb6a-456c-81cb-e3d97a5b05b6",
   "metadata": {},
   "outputs": [
    {
     "name": "stdout",
     "output_type": "stream",
     "text": [
      "Three is present in the tuple\n"
     ]
    }
   ],
   "source": [
    "if 'three' in mytuple:#check if 'three'exist in the list\n",
    "    print('Three is present in the tuple')\n",
    "else:\n",
    "    print('Three is not present in the tuple')"
   ]
  },
  {
   "cell_type": "code",
   "execution_count": 7,
   "id": "e870ad65-0a89-4ac3-8693-4cf2c5721d8f",
   "metadata": {},
   "outputs": [
    {
     "name": "stdout",
     "output_type": "stream",
     "text": [
      "eleven is not present in the tuple\n"
     ]
    }
   ],
   "source": [
    "if 'eleven'in mytuple: # check if 'eleve' exist in the list\n",
    "    print (\"eleven is present in the tuple\")\n",
    "else:\n",
    "    print('eleven is not present in the tuple')"
   ]
  },
  {
   "cell_type": "markdown",
   "id": "7a7e84f6-f824-45bd-aec5-d4ff7b393072",
   "metadata": {},
   "source": [
    "# index position"
   ]
  },
  {
   "cell_type": "code",
   "execution_count": 11,
   "id": "486e03b3-cf04-4289-84b2-0b9c55bb6b99",
   "metadata": {},
   "outputs": [
    {
     "data": {
      "text/plain": [
       "('one', 'two', 'three', 'four', 'five', 'six', 'seven', 'eight', 'nine')"
      ]
     },
     "execution_count": 11,
     "metadata": {},
     "output_type": "execute_result"
    }
   ],
   "source": [
    "mytuple"
   ]
  },
  {
   "cell_type": "code",
   "execution_count": 12,
   "id": "c4a78617-d026-4204-a857-daa1946d63c9",
   "metadata": {},
   "outputs": [
    {
     "data": {
      "text/plain": [
       "0"
      ]
     },
     "execution_count": 12,
     "metadata": {},
     "output_type": "execute_result"
    }
   ],
   "source": [
    "mytuple.index('one') # index of first element equal to 'one'"
   ]
  },
  {
   "cell_type": "code",
   "execution_count": 13,
   "id": "d5d0c3f9-3500-4cf6-8103-4e143adba113",
   "metadata": {},
   "outputs": [
    {
     "data": {
      "text/plain": [
       "4"
      ]
     },
     "execution_count": 13,
     "metadata": {},
     "output_type": "execute_result"
    }
   ],
   "source": [
    "mytuple.index('five') #index of first element"
   ]
  },
  {
   "cell_type": "code",
   "execution_count": 15,
   "id": "2fa4f46b-6ef9-4969-9b9e-3784bfc8b33d",
   "metadata": {},
   "outputs": [],
   "source": [
    "mytuple1=('one','two','three','four','one','one','two','three')"
   ]
  },
  {
   "cell_type": "code",
   "execution_count": 16,
   "id": "91ac0baa-b8d8-4813-8012-9a763a6185b0",
   "metadata": {},
   "outputs": [
    {
     "data": {
      "text/plain": [
       "0"
      ]
     },
     "execution_count": 16,
     "metadata": {},
     "output_type": "execute_result"
    }
   ],
   "source": [
    "mytuple1.index('one') # index of first element equal to'one'"
   ]
  },
  {
   "cell_type": "markdown",
   "id": "9f308697-4bff-4c5a-b854-083454228760",
   "metadata": {},
   "source": [
    "# sorting"
   ]
  },
  {
   "cell_type": "code",
   "execution_count": 17,
   "id": "39e490cb-4614-437d-ad84-60805117117d",
   "metadata": {},
   "outputs": [],
   "source": [
    "mytuple2=(43,67,99,12,6,90,67)"
   ]
  },
  {
   "cell_type": "code",
   "execution_count": 18,
   "id": "dbb90da8-0426-4aa0-a608-5a5ef7bc5aaf",
   "metadata": {},
   "outputs": [
    {
     "data": {
      "text/plain": [
       "[6, 12, 43, 67, 67, 90, 99]"
      ]
     },
     "execution_count": 18,
     "metadata": {},
     "output_type": "execute_result"
    }
   ],
   "source": [
    "sorted(mytuple2) #returns a new sorted list doesn't change original tuple"
   ]
  },
  {
   "cell_type": "code",
   "execution_count": 20,
   "id": "0bd10bc2-bffb-424d-a986-2d2ad1b166da",
   "metadata": {},
   "outputs": [
    {
     "data": {
      "text/plain": [
       "[99, 90, 67, 67, 43, 12, 6]"
      ]
     },
     "execution_count": 20,
     "metadata": {},
     "output_type": "execute_result"
    }
   ],
   "source": [
    "sorted(mytuple2, reverse=True) # sort in desending order"
   ]
  },
  {
   "cell_type": "code",
   "execution_count": 1,
   "id": "a9ae5318-f610-4f79-81c8-ee2dc3784b9b",
   "metadata": {},
   "outputs": [],
   "source": [
    "t=() # empty tuple"
   ]
  },
  {
   "cell_type": "code",
   "execution_count": 2,
   "id": "e56554dd-09b2-4005-a477-5531654ed7d4",
   "metadata": {},
   "outputs": [],
   "source": [
    "tup2=(10,30,60) # tuple int numbers"
   ]
  },
  {
   "cell_type": "code",
   "execution_count": 3,
   "id": "f32e92ff-822d-437f-a723-9ec0c9126d02",
   "metadata": {},
   "outputs": [],
   "source": [
    "tup3=(10.3,14.5,3.5,4.5) # tuple float numbers"
   ]
  },
  {
   "cell_type": "code",
   "execution_count": 5,
   "id": "38e3d964-aff2-4289-859a-a0429a9fc291",
   "metadata": {},
   "outputs": [],
   "source": [
    "tup4=('one','two',\"three\") # tuple string"
   ]
  },
  {
   "cell_type": "code",
   "execution_count": 18,
   "id": "a278412a-4016-414b-a352-fc99d15053a6",
   "metadata": {},
   "outputs": [],
   "source": [
    "tup5=('swati',23,(50,100),(150,90)) #nested tuple"
   ]
  },
  {
   "cell_type": "code",
   "execution_count": 7,
   "id": "4405f7e0-992f-463d-b3ee-c0d7df9f86b7",
   "metadata": {},
   "outputs": [],
   "source": [
    "tup6=(100,'swati',17.500)  # tuple of mixed data types"
   ]
  },
  {
   "cell_type": "code",
   "execution_count": 8,
   "id": "ebef7db0-7ec3-49e0-920e-cd9406cb5cd2",
   "metadata": {},
   "outputs": [],
   "source": [
    "tup7=('swati',25,[50,100],[150,90],{'swati','sneha'},(99,33,22))   "
   ]
  },
  {
   "cell_type": "code",
   "execution_count": 9,
   "id": "f6b3bfef-ffeb-4b37-b9f3-0c93e127bd36",
   "metadata": {},
   "outputs": [
    {
     "data": {
      "text/plain": [
       "6"
      ]
     },
     "execution_count": 9,
     "metadata": {},
     "output_type": "execute_result"
    }
   ],
   "source": [
    "len(tup7) # lengh of list"
   ]
  },
  {
   "cell_type": "markdown",
   "id": "f74ee1b3-1b71-40d7-b05b-e1a43fd19441",
   "metadata": {},
   "source": [
    " # Tuple Indexing"
   ]
  },
  {
   "cell_type": "code",
   "execution_count": 11,
   "id": "70770573-b5da-4d84-b4ea-a519e212f92c",
   "metadata": {},
   "outputs": [
    {
     "data": {
      "text/plain": [
       "10"
      ]
     },
     "execution_count": 11,
     "metadata": {},
     "output_type": "execute_result"
    }
   ],
   "source": [
    "tup2[0] # recieve first element of the tuple"
   ]
  },
  {
   "cell_type": "code",
   "execution_count": 12,
   "id": "1af404a1-de33-4140-9755-4fa90a93da58",
   "metadata": {},
   "outputs": [
    {
     "data": {
      "text/plain": [
       "'one'"
      ]
     },
     "execution_count": 12,
     "metadata": {},
     "output_type": "execute_result"
    }
   ],
   "source": [
    "tup4[0] # receive first element of the tuple"
   ]
  },
  {
   "cell_type": "code",
   "execution_count": 13,
   "id": "947210d8-b8ea-4c1c-a761-063e6b3bb2b9",
   "metadata": {},
   "outputs": [
    {
     "data": {
      "text/plain": [
       "'o'"
      ]
     },
     "execution_count": 13,
     "metadata": {},
     "output_type": "execute_result"
    }
   ],
   "source": [
    "tup4[0][0] # nested indexing "
   ]
  },
  {
   "cell_type": "code",
   "execution_count": 14,
   "id": "775ec079-7067-4ccb-90ff-01b928090905",
   "metadata": {},
   "outputs": [
    {
     "data": {
      "text/plain": [
       "'three'"
      ]
     },
     "execution_count": 14,
     "metadata": {},
     "output_type": "execute_result"
    }
   ],
   "source": [
    "tup4[-1] # last indexing of the tuple"
   ]
  },
  {
   "cell_type": "code",
   "execution_count": 19,
   "id": "fcb642b5-8cfd-4e35-94fe-a8bbe89f6d8e",
   "metadata": {},
   "outputs": [
    {
     "data": {
      "text/plain": [
       "(150, 90)"
      ]
     },
     "execution_count": 19,
     "metadata": {},
     "output_type": "execute_result"
    }
   ],
   "source": [
    "tup5[-1] # last item of the tuple"
   ]
  },
  {
   "cell_type": "code",
   "execution_count": 21,
   "id": "478b1ae0-c6fd-4997-bec2-a28257c04262",
   "metadata": {},
   "outputs": [
    {
     "data": {
      "text/plain": [
       "17.5"
      ]
     },
     "execution_count": 21,
     "metadata": {},
     "output_type": "execute_result"
    }
   ],
   "source": [
    "tup6[2] # third numbers of the indexing"
   ]
  },
  {
   "cell_type": "markdown",
   "id": "ed4de622-0d14-4958-b64b-5e5cb502f418",
   "metadata": {},
   "source": [
    "# Tuple Slicing"
   ]
  },
  {
   "cell_type": "code",
   "execution_count": null,
   "id": "6a6e0aaa-d201-4008-bd3b-a9fcc9cdd966",
   "metadata": {},
   "outputs": [],
   "source": []
  }
 ],
 "metadata": {
  "kernelspec": {
   "display_name": "Python [conda env:base] *",
   "language": "python",
   "name": "conda-base-py"
  },
  "language_info": {
   "codemirror_mode": {
    "name": "ipython",
    "version": 3
   },
   "file_extension": ".py",
   "mimetype": "text/x-python",
   "name": "python",
   "nbconvert_exporter": "python",
   "pygments_lexer": "ipython3",
   "version": "3.12.7"
  }
 },
 "nbformat": 4,
 "nbformat_minor": 5
}

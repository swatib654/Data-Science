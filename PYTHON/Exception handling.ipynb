{
 "cells": [
  {
   "cell_type": "markdown",
   "id": "76234041-8933-404a-83e1-ba57ee5275d6",
   "metadata": {},
   "source": [
    "# Excepitonal Handling in python"
   ]
  },
  {
   "cell_type": "code",
   "execution_count": 1,
   "id": "7f46a6f3-a29e-432c-8f89-65ee42905ec1",
   "metadata": {},
   "outputs": [
    {
     "name": "stdout",
     "output_type": "stream",
     "text": [
      "2.5\n",
      "bye\n"
     ]
    }
   ],
   "source": [
    "a = 5\n",
    "b = 2\n",
    "print(a/b)\n",
    "print('bye')"
   ]
  },
  {
   "cell_type": "code",
   "execution_count": 2,
   "id": "77b78c63-6cb5-40eb-8ed1-f77cf7d571a2",
   "metadata": {},
   "outputs": [
    {
     "name": "stdout",
     "output_type": "stream",
     "text": [
      "0.0\n",
      "bye\n"
     ]
    }
   ],
   "source": [
    "c = 5\n",
    "d = 0\n",
    "\n",
    "print(d/c)\n",
    "\n",
    "print('bye')"
   ]
  },
  {
   "cell_type": "code",
   "execution_count": 3,
   "id": "698a8469-1398-4b63-9a3f-b8955c4bfda5",
   "metadata": {},
   "outputs": [
    {
     "name": "stdout",
     "output_type": "stream",
     "text": [
      "0.0\n",
      "bye\n"
     ]
    }
   ],
   "source": [
    "c = 5\n",
    "d = 0\n",
    "\n",
    "print(d/c)\n",
    "\n",
    "print('bye')"
   ]
  },
  {
   "cell_type": "code",
   "execution_count": 5,
   "id": "b79d31be-9a18-48e8-b8d8-ff2b141fcfd1",
   "metadata": {},
   "outputs": [
    {
     "name": "stdout",
     "output_type": "stream",
     "text": [
      "bye\n"
     ]
    },
    {
     "ename": "ZeroDivisionError",
     "evalue": "division by zero",
     "output_type": "error",
     "traceback": [
      "\u001b[1;31m---------------------------------------------------------------------------\u001b[0m",
      "\u001b[1;31mZeroDivisionError\u001b[0m                         Traceback (most recent call last)",
      "Cell \u001b[1;32mIn[5], line 6\u001b[0m\n\u001b[0;32m      2\u001b[0m d \u001b[38;5;241m=\u001b[39m \u001b[38;5;241m0\u001b[39m\n\u001b[0;32m      4\u001b[0m \u001b[38;5;28mprint\u001b[39m(\u001b[38;5;124m'\u001b[39m\u001b[38;5;124mbye\u001b[39m\u001b[38;5;124m'\u001b[39m)\n\u001b[1;32m----> 6\u001b[0m \u001b[38;5;28mprint\u001b[39m(c\u001b[38;5;241m/\u001b[39md)\n",
      "\u001b[1;31mZeroDivisionError\u001b[0m: division by zero"
     ]
    }
   ],
   "source": [
    "c = 5\n",
    "d = 0\n",
    "\n",
    "print('bye')\n",
    "\n",
    "print(c/d)"
   ]
  },
  {
   "cell_type": "code",
   "execution_count": 6,
   "id": "3b539842-5bba-4f8c-bd50-479ae39be06d",
   "metadata": {},
   "outputs": [
    {
     "ename": "ZeroDivisionError",
     "evalue": "division by zero",
     "output_type": "error",
     "traceback": [
      "\u001b[1;31m---------------------------------------------------------------------------\u001b[0m",
      "\u001b[1;31mZeroDivisionError\u001b[0m                         Traceback (most recent call last)",
      "Cell \u001b[1;32mIn[6], line 4\u001b[0m\n\u001b[0;32m      1\u001b[0m c \u001b[38;5;241m=\u001b[39m \u001b[38;5;241m5\u001b[39m\n\u001b[0;32m      2\u001b[0m d \u001b[38;5;241m=\u001b[39m \u001b[38;5;241m0\u001b[39m\n\u001b[1;32m----> 4\u001b[0m \u001b[38;5;28mprint\u001b[39m(c\u001b[38;5;241m/\u001b[39md)\n\u001b[0;32m      6\u001b[0m \u001b[38;5;28mprint\u001b[39m(\u001b[38;5;124m'\u001b[39m\u001b[38;5;124mbye\u001b[39m\u001b[38;5;124m'\u001b[39m)\n",
      "\u001b[1;31mZeroDivisionError\u001b[0m: division by zero"
     ]
    }
   ],
   "source": [
    "c = 5\n",
    "d = 0\n",
    "\n",
    "print(c/d)\n",
    "\n",
    "print('bye')"
   ]
  },
  {
   "cell_type": "code",
   "execution_count": 7,
   "id": "28c433d7-fbb5-4ccf-9043-3b6465ba64ca",
   "metadata": {},
   "outputs": [
    {
     "name": "stdout",
     "output_type": "stream",
     "text": [
      "hey you cannot divide Number by zero\n",
      "bye\n"
     ]
    }
   ],
   "source": [
    "c = 3\n",
    "d = 0\n",
    "\n",
    "try:\n",
    "    print(c/d)    # if thisi code give error then except the exception and print the message  \n",
    "    \n",
    "except Exception: \n",
    "    print('hey you cannot divide Number by zero')\n",
    "\n",
    "print('bye')"
   ]
  },
  {
   "cell_type": "code",
   "execution_count": 8,
   "id": "2e94e9f2-9ab3-464c-b5c6-42fd55333b73",
   "metadata": {},
   "outputs": [
    {
     "name": "stdout",
     "output_type": "stream",
     "text": [
      "hey you cannot divide Number by zero: division by zero\n",
      "bye\n"
     ]
    }
   ],
   "source": [
    "c = 3\n",
    "d = 0\n",
    "\n",
    "try:\n",
    "    print(c/d)    # if thisi code give error then except the exception and print the message  \n",
    "    \n",
    "except Exception as e :\n",
    "    \n",
    "    print('hey you cannot divide Number by zero:', e)\n",
    "\n",
    "print('bye')"
   ]
  },
  {
   "cell_type": "code",
   "execution_count": 9,
   "id": "24835967-bedc-497b-af39-23c79d0f5bd3",
   "metadata": {},
   "outputs": [
    {
     "name": "stdout",
     "output_type": "stream",
     "text": [
      "0.0\n",
      "bye\n"
     ]
    }
   ],
   "source": [
    "c = 3\n",
    "d = 0\n",
    "\n",
    "try:\n",
    "    print(d/c)    # if thisi code give error then except the exception and print the message  \n",
    "    \n",
    "except Exception: \n",
    "    print('hey you cannot divide Number by zero')\n",
    "\n",
    "print('bye')\n",
    "       # except block will excute only when you entire the error"
   ]
  },
  {
   "cell_type": "code",
   "execution_count": 11,
   "id": "b189c73e-e064-4000-b5c2-3c424787bd1e",
   "metadata": {},
   "outputs": [
    {
     "name": "stdout",
     "output_type": "stream",
     "text": [
      "resource open\n",
      "1.0\n",
      "resource closed\n"
     ]
    }
   ],
   "source": [
    "c = 3\n",
    "d = 3\n",
    "\n",
    "try:\n",
    "    print('resource open')    # resource can be anything this can be file this can be database\n",
    "    print(c/d)\n",
    "    print('resource closed')\n",
    "except Exception as e: \n",
    "    print('hey you cannot divide Number by zero', ':', e)\n"
   ]
  },
  {
   "cell_type": "code",
   "execution_count": 12,
   "id": "91684c27-70be-4228-a771-7f531b06c078",
   "metadata": {},
   "outputs": [
    {
     "name": "stdout",
     "output_type": "stream",
     "text": [
      "resource open\n",
      "hey you cannot divide Number by zero : division by zero\n"
     ]
    }
   ],
   "source": [
    "c = 3\n",
    "d = 0\n",
    "\n",
    "try:\n",
    "    print('resource open') # resource can be anything this can be file this can be database\n",
    "    print(c/d)\n",
    "    print('resource closed')\n",
    "    \n",
    "except Exception as e :\n",
    "    print('hey you cannot divide Number by zero', ':', e)   \n",
    "# if you see the output then resource is open but resource is not closed hear at exception block\n"
   ]
  },
  {
   "cell_type": "code",
   "execution_count": 13,
   "id": "8f97c19b-72e5-43ad-af0b-08dfd523b0e4",
   "metadata": {},
   "outputs": [
    {
     "name": "stdout",
     "output_type": "stream",
     "text": [
      "resource open\n",
      "hey you cannot divide Number by zero : division by zero\n",
      "resource closed\n"
     ]
    }
   ],
   "source": [
    "# if i print the error message as well along with message \n",
    "c = 3\n",
    "d = 0\n",
    "\n",
    "try:\n",
    "    print('resource open') # resource can be anything this can be file this can be database\n",
    "    print(c/d)\n",
    "    \n",
    "except Exception as e :\n",
    "    print('hey you cannot divide Number by zero',':', e)   \n",
    "    print('resource closed')\n",
    "# if you see the output then resource is open but resource is not closed hear at exception block\n"
   ]
  },
  {
   "cell_type": "code",
   "execution_count": 14,
   "id": "b8b353a8-291c-46a0-9ccf-7c8ff61994ba",
   "metadata": {},
   "outputs": [
    {
     "name": "stdout",
     "output_type": "stream",
     "text": [
      "resource open\n",
      "1.0\n"
     ]
    }
   ],
   "source": [
    "c = 3\n",
    "d = 3\n",
    "\n",
    "try:\n",
    "    print('resource open') # resource can be anything this can be file this can be database\n",
    "    print(c/d)\n",
    " \n",
    "except Exception as e :\n",
    "    print('hey you cannot divide Number by zero',  e)   \n",
    "    print('resource closed')"
   ]
  },
  {
   "cell_type": "code",
   "execution_count": null,
   "id": "549039c1-6bfa-4327-96f9-a5f1f036653b",
   "metadata": {},
   "outputs": [],
   "source": []
  }
 ],
 "metadata": {
  "kernelspec": {
   "display_name": "Python [conda env:base] *",
   "language": "python",
   "name": "conda-base-py"
  },
  "language_info": {
   "codemirror_mode": {
    "name": "ipython",
    "version": 3
   },
   "file_extension": ".py",
   "mimetype": "text/x-python",
   "name": "python",
   "nbconvert_exporter": "python",
   "pygments_lexer": "ipython3",
   "version": "3.13.5"
  }
 },
 "nbformat": 4,
 "nbformat_minor": 5
}

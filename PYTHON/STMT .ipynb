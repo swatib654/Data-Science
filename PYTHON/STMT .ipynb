{
 "cells": [
  {
   "cell_type": "code",
   "execution_count": 1,
   "id": "a5d30700-4ba6-4adf-992c-e33414a1a875",
   "metadata": {},
   "outputs": [
    {
     "name": "stdout",
     "output_type": "stream",
     "text": [
      "hello\n"
     ]
    }
   ],
   "source": [
    "if True:\n",
    "    print('hello')"
   ]
  },
  {
   "cell_type": "code",
   "execution_count": 2,
   "id": "4d2179de-3322-46f0-8a1d-c716028bf5ae",
   "metadata": {},
   "outputs": [
    {
     "name": "stdout",
     "output_type": "stream",
     "text": [
      "Swati\n"
     ]
    }
   ],
   "source": [
    "if True:\n",
    "    print('Swati')"
   ]
  },
  {
   "cell_type": "code",
   "execution_count": 3,
   "id": "346ebe6f-5a3f-4d32-bd83-098516509192",
   "metadata": {},
   "outputs": [
    {
     "ename": "IndentationError",
     "evalue": "expected an indented block after 'if' statement on line 1 (1785633973.py, line 2)",
     "output_type": "error",
     "traceback": [
      "\u001b[1;36m  Cell \u001b[1;32mIn[3], line 2\u001b[1;36m\u001b[0m\n\u001b[1;33m    print('hello')\u001b[0m\n\u001b[1;37m    ^\u001b[0m\n\u001b[1;31mIndentationError\u001b[0m\u001b[1;31m:\u001b[0m expected an indented block after 'if' statement on line 1\n"
     ]
    }
   ],
   "source": [
    "if True:\n",
    "print('hello')"
   ]
  },
  {
   "cell_type": "code",
   "execution_count": null,
   "id": "611be7ea-2891-4789-8cd0-87574166dc0f",
   "metadata": {},
   "outputs": [],
   "source": [
    "if True:\n",
    "    print('hello')"
   ]
  },
  {
   "cell_type": "code",
   "execution_count": null,
   "id": "8c9e9caf-e1e5-4524-9699-56be4db5a013",
   "metadata": {},
   "outputs": [],
   "source": [
    "if False:\n",
    "    print('bye')"
   ]
  },
  {
   "cell_type": "code",
   "execution_count": null,
   "id": "6730081d-688a-4134-83b5-4e5b9ee46b18",
   "metadata": {},
   "outputs": [],
   "source": [
    "if True:\n",
    "    print('hello')\n",
    "print('how are you')"
   ]
  },
  {
   "cell_type": "code",
   "execution_count": null,
   "id": "2c95a592-45ec-475d-9e0c-37ef7cd5360c",
   "metadata": {},
   "outputs": [],
   "source": [
    "if False:\n",
    "    print('Data Science')\n",
    "\n",
    "print('bye for now')"
   ]
  },
  {
   "cell_type": "code",
   "execution_count": null,
   "id": "2514fd79-0eef-46a6-a302-9bee38de7976",
   "metadata": {},
   "outputs": [],
   "source": [
    "if False:\n",
    "    print('Data Science')\n",
    "else:\n",
    "    print('bye for now')"
   ]
  },
  {
   "cell_type": "markdown",
   "id": "611fa7cf-d2e3-4f88-a52f-404276e31101",
   "metadata": {},
   "source": [
    "# Write python first code and check even or odd number"
   ]
  },
  {
   "cell_type": "code",
   "execution_count": null,
   "id": "0897da70-92c0-475a-a3d2-d2285bd79aec",
   "metadata": {},
   "outputs": [],
   "source": [
    "x = 4\n",
    "\n",
    "r = x%2\n",
    "\n",
    "if r == 0:\n",
    "    print('Even number')"
   ]
  },
  {
   "cell_type": "code",
   "execution_count": null,
   "id": "8217a9a2-80d6-4336-a47a-e253ddc98ea4",
   "metadata": {},
   "outputs": [],
   "source": [
    "x = 6\n",
    "\n",
    "r = x%2\n",
    "\n",
    "if r == 0:\n",
    "    print('Even number')\n",
    "    "
   ]
  },
  {
   "cell_type": "code",
   "execution_count": null,
   "id": "61d7d0da-f1a3-4adc-8fd6-57670b0f1755",
   "metadata": {},
   "outputs": [],
   "source": [
    "x = 6\n",
    "\n",
    "r = x % 2\n",
    "\n",
    "if r == 0:\n",
    "    print('Even number')\n",
    "else:\n",
    "    print('odd number')"
   ]
  },
  {
   "cell_type": "code",
   "execution_count": null,
   "id": "4bd51686-f06d-4685-8b2d-56ec56368b25",
   "metadata": {},
   "outputs": [],
   "source": [
    "x = 6\n",
    "\n",
    "r = x%2\n",
    "\n",
    "if r == 0:\n",
    "    print('Even number')\n",
    "print('odd number')"
   ]
  },
  {
   "cell_type": "code",
   "execution_count": null,
   "id": "204820e1-1628-44e3-a48b-8b78d03de43e",
   "metadata": {},
   "outputs": [],
   "source": [
    "x = 4\n",
    "\n",
    "r = x % 2\n",
    "\n",
    "if r == 0:  print('Even number')\n",
    "else:print('odd number')"
   ]
  },
  {
   "cell_type": "code",
   "execution_count": null,
   "id": "262cac5b-2ecd-4237-b438-3f998f385eaa",
   "metadata": {},
   "outputs": [],
   "source": [
    "x = 10\n",
    "r = x % 2 \n",
    "\n",
    "if r == 0:\n",
    "    print('Even number')\n",
    "if r == 1:\n",
    "    print('odd number')"
   ]
  },
  {
   "cell_type": "code",
   "execution_count": null,
   "id": "b8cc8bd9-093e-43f3-b79b-3fc7963f9f6f",
   "metadata": {},
   "outputs": [],
   "source": [
    "x = 9\n",
    "r = x % 2 \n",
    "\n",
    "if r == 0:\n",
    "    print('Even number')\n",
    "    \n",
    "if r != 0:\n",
    "    print('odd number')"
   ]
  },
  {
   "cell_type": "markdown",
   "id": "7213aa4b-8d9b-48dd-8b9f-0a453118fca5",
   "metadata": {},
   "source": [
    "# nested if"
   ]
  },
  {
   "cell_type": "code",
   "execution_count": null,
   "id": "785cce3d-95b0-4b0c-8648-d23b78024104",
   "metadata": {},
   "outputs": [],
   "source": [
    "x = 3\n",
    "r = x % 2\n",
    "\n",
    "if r == 0:\n",
    "    print('Even number')\n",
    "    if x>5:\n",
    "        print('greater number')\n",
    "  \n",
    "else:\n",
    "    print('Odd Number')"
   ]
  },
  {
   "cell_type": "code",
   "execution_count": null,
   "id": "3772053e-ee5d-4e30-8035-513da34f81bb",
   "metadata": {},
   "outputs": [],
   "source": [
    "x = 6\n",
    "r = x % 2\n",
    "\n",
    "if r == 0:\n",
    "    print('Even number')\n",
    "    \n",
    "    if x>5:\n",
    "        print('greater number')\n",
    "    else:\n",
    "        print('smaller number')\n",
    "  \n",
    "else:\n",
    "    print('Odd Number')"
   ]
  },
  {
   "cell_type": "code",
   "execution_count": null,
   "id": "3faf8062-9ec3-477c-b96f-d5a065bcdee2",
   "metadata": {},
   "outputs": [],
   "source": [
    "x = 4\n",
    "\n",
    "if x == 1:\n",
    "    print('one')\n",
    "if x == 2:\n",
    "    print('Two')\n",
    "if x == 3:\n",
    "    print('Three')\n",
    "if x == 4:\n",
    "    print('four')"
   ]
  },
  {
   "cell_type": "code",
   "execution_count": null,
   "id": "b05722f1-cd3d-4dcd-9500-12c4a20fc40d",
   "metadata": {},
   "outputs": [],
   "source": [
    "x = 2\n",
    "\n",
    "if x == 1:\n",
    "    print('one')\n",
    "elif x == 2:\n",
    "    print('Two')\n",
    "elif x == 3:\n",
    "    print('Three')\n",
    "elif x == 4:\n",
    "    print('four')"
   ]
  },
  {
   "cell_type": "code",
   "execution_count": null,
   "id": "842df799-2c52-411d-a110-36f0fc3643da",
   "metadata": {},
   "outputs": [],
   "source": [
    "x = 10\n",
    "\n",
    "if x == 1:\n",
    "    print('one')\n",
    "elif x == 2:\n",
    "    print('Two')\n",
    "elif x == 3:\n",
    "    print('Three')\n",
    "elif x == 4:\n",
    "    print('four')"
   ]
  },
  {
   "cell_type": "code",
   "execution_count": null,
   "id": "0f53ff0d-fabf-459e-9c61-1d9a9b60ae08",
   "metadata": {},
   "outputs": [],
   "source": [
    "x = 10\n",
    "\n",
    "if x == 1:\n",
    "    print('one')\n",
    "    \n",
    "elif x == 2:\n",
    "    print('Two')\n",
    "elif x == 3:\n",
    "    print('Three')\n",
    "elif x == 4:\n",
    "    print('four')\n",
    "\n",
    "else:\n",
    "    print('number not found')"
   ]
  },
  {
   "cell_type": "code",
   "execution_count": null,
   "id": "217d9ab4-c5f4-4e6a-badb-439c34760a40",
   "metadata": {},
   "outputs": [],
   "source": [
    "num = int(input(\"Enter a number: \"))\n",
    "\n",
    "if num > 0:\n",
    " print(\"Positive\")\n",
    "elif num < 0:\n",
    " print(\"Negative\")\n",
    "else:\n",
    " print(\"Zero\")"
   ]
  },
  {
   "cell_type": "code",
   "execution_count": null,
   "id": "0f36d699-dd5e-44a9-a149-5f08d1e2cbf5",
   "metadata": {},
   "outputs": [],
   "source": [
    "age = 20\n",
    "if age >= 18:\n",
    "    print(\"Eligible to vote.\")"
   ]
  },
  {
   "cell_type": "code",
   "execution_count": null,
   "id": "c9434b46-ba34-4971-b14f-0a709eb0b029",
   "metadata": {},
   "outputs": [],
   "source": [
    "age = 19\n",
    "if age > 18: print(\"Eligible to Vote.\")"
   ]
  },
  {
   "cell_type": "code",
   "execution_count": null,
   "id": "7a1b8efe-1db6-4546-aa0c-776b9e9df9b4",
   "metadata": {},
   "outputs": [],
   "source": [
    "age = 10\n",
    "\n",
    "if age <= 12:\n",
    "    print(\"Travel for free.\")\n",
    "else:\n",
    "    print(\"Pay for ticket.\")"
   ]
  },
  {
   "cell_type": "code",
   "execution_count": null,
   "id": "c030e792-1138-44a9-afde-131cdda8ec68",
   "metadata": {},
   "outputs": [],
   "source": [
    "age = 10\n",
    "\n",
    "if age <= 12:\n",
    "    print(\"Travel for free.\")\n",
    "else:\n",
    "    print(\"Pay for ticket\")"
   ]
  },
  {
   "cell_type": "code",
   "execution_count": null,
   "id": "7321cd24-8e60-46d2-a8a8-a778ff273db4",
   "metadata": {},
   "outputs": [],
   "source": [
    "marks = 45\n",
    "\n",
    "res = \"pass\" if marks >= 40 else \"Fail\"\n",
    "\n",
    "print(f\"Result: {res}\")"
   ]
  },
  {
   "cell_type": "code",
   "execution_count": null,
   "id": "4d7f158a-e99e-4049-87b2-e442ad8c563e",
   "metadata": {},
   "outputs": [],
   "source": [
    "age = 25\n",
    "\n",
    "if age <= 12:\n",
    "    print(\"Child\")\n",
    "elif age <= 19:\n",
    "    print(\"Teenager\")\n",
    "elif age <= 35:\n",
    "    print(\"Young adult\")\n",
    "else:\n",
    "    print(\"Adult\")"
   ]
  },
  {
   "cell_type": "code",
   "execution_count": null,
   "id": "15952315-96b2-424d-991a-0a986f096c60",
   "metadata": {},
   "outputs": [],
   "source": [
    "age = 70\n",
    "is_member = True\n",
    "\n",
    "if age >= 60:\n",
    "    if is_member:\n",
    "        print(\"30% senior discount!\")\n",
    "    else:\n",
    "        print(\"20% senior discount!\")\n",
    "else:\n",
    "    print(\"Not eligible for a senior discount\")"
   ]
  },
  {
   "cell_type": "code",
   "execution_count": null,
   "id": "26288bc1-75a3-4ec3-b1e2-41728d00a72c",
   "metadata": {},
   "outputs": [],
   "source": [
    "# Assign a value based on a condition\n",
    "age = 20\n",
    "s = \"Adult\" if age >= 18 else \"Minor\"\n",
    "\n",
    "print(s)"
   ]
  },
  {
   "cell_type": "code",
   "execution_count": null,
   "id": "f77a54ba-5372-4456-9ba7-f8f5bd78eb18",
   "metadata": {},
   "outputs": [],
   "source": [
    "number = 2\n",
    "\n",
    "match number:\n",
    "     case 1:\n",
    "         print(\"One\")\n",
    "     case 2 | 3:\n",
    "         print(\"Two or Three\")\n",
    "     case _:\n",
    "         print(\"Other number\")\n",
    " "
   ]
  },
  {
   "cell_type": "code",
   "execution_count": null,
   "id": "ccca6e24-dd56-40aa-8fa9-1054c610211e",
   "metadata": {},
   "outputs": [],
   "source": [
    "i = 10\n",
    "\n",
    "# Checking if i is greater than 15\n",
    "if (i > 15):\n",
    "    print(\"10 is less than 15\")\n",
    "\n",
    "print(\"I am Not in if\")"
   ]
  },
  {
   "cell_type": "code",
   "execution_count": null,
   "id": "ef60a9ca-7d89-45a3-a19f-6519432b6041",
   "metadata": {},
   "outputs": [],
   "source": [
    "i = 20\n",
    "\n",
    "# Checking if i is greater than 0\n",
    "if (i > 0):\n",
    "    print(\"i is positive\")\n",
    "else:\n",
    "    print(\"i is 0 or negative\")"
   ]
  },
  {
   "cell_type": "code",
   "execution_count": null,
   "id": "a65029f4-3245-4a9f-8c6f-d4fdcfe55ec0",
   "metadata": {},
   "outputs": [],
   "source": [
    "a = -2\n",
    "\n",
    "# Ternary conditinal to check if number is positive or negative\n",
    "\n",
    "res = \"Positive\" if a >= 0 else \"Negative\"\n",
    "\n",
    "print(res)"
   ]
  },
  {
   "cell_type": "code",
   "execution_count": null,
   "id": "ab25c756-9203-407e-b585-2e70e3dec5a2",
   "metadata": {},
   "outputs": [],
   "source": [
    "age = 25\n",
    "exp = 10\n",
    "\n",
    "# Using '>' operator & 'and' with if-else\n",
    "if age > 23 and exp > 8:\n",
    "    print(\"Eligible.\")\n",
    "else:\n",
    "    print(\"Not eligible.\")"
   ]
  },
  {
   "cell_type": "code",
   "execution_count": null,
   "id": "657a7505-5959-43c0-a5da-1767105ac052",
   "metadata": {},
   "outputs": [],
   "source": [
    "i = 10\n",
    "if (i == 10):\n",
    "\n",
    "    # Fist if statement \n",
    "    if (i < 15):\n",
    "        print(\"i is smaller than 15\")\n",
    "\n",
    "\n",
    "     # nested = if statement\n",
    "     # Will only be executed if stmt above\n",
    "     #it is true\n",
    "\n",
    "    if (i < 12):\n",
    "        print(\"i is smaller than 12 too\")\n",
    "    else:\n",
    "        print(\"i is greater than 15\")\n",
    "\n",
    "else:\n",
    "    print(\"i is not equal to 10\")"
   ]
  },
  {
   "cell_type": "code",
   "execution_count": null,
   "id": "caf0b377-0028-48d7-885b-7c8766afccb2",
   "metadata": {},
   "outputs": [],
   "source": [
    "i = 25\n",
    "\n",
    " # Checking if i is equal to 10\n",
    "if (i == 10):\n",
    "    print(\"i is 10\")\n",
    " # Checking if i is equal to 15\n",
    "\n",
    "elif (i == 15):\n",
    "    print(\"i is 15\")\n",
    " # Checking if i is equal to 20\n",
    "\n",
    "elif (i == 20):\n",
    "    print(\"i is 20\")\n",
    "    \n",
    " # If none of the above conditions are true\n",
    "else:\n",
    "    print(\"i is not present\")"
   ]
  },
  {
   "cell_type": "code",
   "execution_count": null,
   "id": "e9eb9694-1db1-489c-8b7a-dc6de23e5f6b",
   "metadata": {},
   "outputs": [],
   "source": [
    "# if stmt example\n",
    "\n",
    "if 10 > 5:\n",
    "    print(\" 10 greater than 5\")\n",
    "\n",
    "print(\" program ended\")"
   ]
  },
  {
   "cell_type": "code",
   "execution_count": null,
   "id": "eaa9500d-c5b4-40e8-94e6-40a0138addb4",
   "metadata": {},
   "outputs": [],
   "source": [
    "# if .. else stmt example\n",
    "\n",
    "x = 3\n",
    "if x == 4:\n",
    "    print(\"Yes\")\n",
    "\n",
    "else:\n",
    "    print(\"No\")"
   ]
  },
  {
   "cell_type": "code",
   "execution_count": null,
   "id": "5e978441-cb34-4077-a8f6-256e65828ecb",
   "metadata": {},
   "outputs": [],
   "source": [
    "# if .. else chain stmt\n",
    "\n",
    "letter = \"A\"\n",
    "\n",
    "if letter == \"B\":\n",
    "    print(\"letter is B\")\n",
    "\n",
    "else:\n",
    "\n",
    "    if letter == \"C\":\n",
    "        print(\"letter is C\")\n",
    "\n",
    "    else:\n",
    "\n",
    "       if letter == \"A\":\n",
    "          print(\"letter is A\")\n",
    "       else:\n",
    "         print(\"letter isn't A, B and C\")"
   ]
  },
  {
   "cell_type": "code",
   "execution_count": null,
   "id": "33867f16-85c5-4966-af06-5a125598dbae",
   "metadata": {},
   "outputs": [],
   "source": [
    "# nested if stmat example \n",
    "\n",
    "a = 10\n",
    "\n",
    "if a > 5:\n",
    "    print(\"Bigger than 5\")\n",
    "\n",
    "    if a <= 15:\n",
    "        print(\"Between 5 and 15\")"
   ]
  },
  {
   "cell_type": "code",
   "execution_count": null,
   "id": "eaf083ff-7d91-4d8d-ac44-5f6ee6cb8284",
   "metadata": {},
   "outputs": [],
   "source": [
    "# if-elif statement example\n",
    "letter = \"A\"\n",
    "\n",
    "if letter == \"B\":\n",
    "    print(\"letter is B\")\n",
    "\n",
    "elif letter == \"C\":\n",
    "    print(\"letter is C\")\n",
    "\n",
    "elif letter == \"A\":\n",
    "    print(\"letter is A\")\n",
    "\n",
    "else:\n",
    "    print(\"letter isn't A, B or C\")"
   ]
  },
  {
   "cell_type": "code",
   "execution_count": null,
   "id": "ee2fa27d-fb75-4721-a545-4053a9d0e287",
   "metadata": {},
   "outputs": [],
   "source": [
    "x = 10\n",
    "y = 5\n",
    "if x > 5:\n",
    "    if y > 5:\n",
    "        print(\"x is greater than 5\")\n",
    "    elif y==5:\n",
    "         print(\"x is greater than 5 and y is 5\")\n",
    "    else:\n",
    "        print(\"x is greater than 5 and y is less than 5\")\n",
    "        "
   ]
  },
  {
   "cell_type": "markdown",
   "id": "7bbd25ff-fb4c-44c8-a239-7918996dcb81",
   "metadata": {},
   "source": [
    "# LOOP'S"
   ]
  },
  {
   "cell_type": "code",
   "execution_count": null,
   "id": "08040334-73d3-40c0-bc83-65436e4dd9a8",
   "metadata": {},
   "outputs": [],
   "source": [
    "print('data science')\n",
    "print('data science')\n",
    "print('data science')\n",
    "print('data science')    \n",
    "print('data science')"
   ]
  },
  {
   "cell_type": "code",
   "execution_count": null,
   "id": "0a838629-2d9b-42f5-b271-bcc3997288af",
   "metadata": {},
   "outputs": [],
   "source": [
    "i = 1          # initializing\n",
    "\n",
    "while i<=5:    # condition\n",
    "    print('data science')\n",
    "    i = i + 1  # increment"
   ]
  },
  {
   "cell_type": "code",
   "execution_count": null,
   "id": "b1f4f4a8-3a60-4be3-bbee-d739fc2015b5",
   "metadata": {},
   "outputs": [],
   "source": [
    "i = 5          # initializing\n",
    "\n",
    "while i>=1:    # condition\n",
    "    print('data science')\n",
    "    i = i - 1  # decrement"
   ]
  },
  {
   "cell_type": "code",
   "execution_count": null,
   "id": "b70956fe-f45c-40ad-a554-931bb9c155ac",
   "metadata": {},
   "outputs": [],
   "source": [
    "i = 1         # initializing\n",
    "while i<=5:    # condition\n",
    "    print('data science : ', i)\n",
    "    i = i + 1  # increment"
   ]
  },
  {
   "cell_type": "code",
   "execution_count": null,
   "id": "1d8e426d-6278-42b5-a41d-2ca3938ef69f",
   "metadata": {},
   "outputs": [],
   "source": [
    "i = 5          # initializing\n",
    "while i>=1:    # condition\n",
    "    print('data science :',i)\n",
    "    i = i - 1  # decrement"
   ]
  },
  {
   "cell_type": "code",
   "execution_count": null,
   "id": "fe006d34-05b4-4f3e-84c5-aefa82f33544",
   "metadata": {},
   "outputs": [],
   "source": [
    "I = 1\n",
    "\n",
    "while i<=5:\n",
    "    print('data science') # when we mention end then new line will not create\n",
    "    j=1\n",
    "    while j<=4:\n",
    "        print('techonology')\n",
    "        j=j+1\n",
    "    i = i+1\n",
    "    print()\n",
    "\n",
    "# The output which we got is very lengty but how to make them one line lets to below code"
   ]
  },
  {
   "cell_type": "code",
   "execution_count": null,
   "id": "d2cbc69d-3eb2-4dca-ab77-ad3497f0dfd0",
   "metadata": {},
   "outputs": [],
   "source": [
    "i = 1\n",
    "while i<=5:\n",
    "    print(' datascience', end = \"\")\n",
    "    j = 1 \n",
    "    while j<=4:\n",
    "        print(' techonology',end=\"\")\n",
    "        j = j + 1\n",
    "    i = i + 1\n",
    "    print()"
   ]
  },
  {
   "cell_type": "code",
   "execution_count": null,
   "id": "7694a331-2063-4189-80aa-0025cc079854",
   "metadata": {},
   "outputs": [],
   "source": [
    "# lests use while loops using some numbers\n",
    "i = 1\n",
    "\n",
    "while i <= 2 :\n",
    "    j = 0\n",
    "    while j <= 2 :\n",
    "        print(i*j, end=\" \")\n",
    "        j += 1\n",
    "    print()\n",
    "    i += 1"
   ]
  },
  {
   "cell_type": "code",
   "execution_count": null,
   "id": "e61245db-06b4-4ebd-a715-a48ac1e81a93",
   "metadata": {},
   "outputs": [],
   "source": [
    "i = 1\n",
    "while i <= 4:\n",
    "    j = 0\n",
    "    while j <= 3 :\n",
    "        print(i*j, end=\" \")\n",
    "        j += 1\n",
    "    print()\n",
    "    i += 1"
   ]
  },
  {
   "cell_type": "code",
   "execution_count": null,
   "id": "cf28cf14-0e2f-46a3-b518-4a0ef2c9b2fc",
   "metadata": {},
   "outputs": [],
   "source": [
    "name = 'nit'\n",
    "\n",
    "for i in name:\n",
    "    print(i)"
   ]
  },
  {
   "cell_type": "code",
   "execution_count": null,
   "id": "5879b525-bb37-4aff-b618-1e644ddcda75",
   "metadata": {},
   "outputs": [],
   "source": [
    "name1 = [1,3,5,'hallo']\n",
    "\n",
    "for i in name1:\n",
    "    print(i)"
   ]
  },
  {
   "cell_type": "code",
   "execution_count": null,
   "id": "344daef3-daf8-4550-a136-186c92471428",
   "metadata": {},
   "outputs": [],
   "source": [
    "for i in [2,3, 7.8, 'hi']:\n",
    "    print(i)"
   ]
  },
  {
   "cell_type": "code",
   "execution_count": null,
   "id": "14497710-eacd-4cdc-9f00-6252ba1eaf34",
   "metadata": {},
   "outputs": [],
   "source": [
    "range(5)"
   ]
  },
  {
   "cell_type": "code",
   "execution_count": null,
   "id": "5dc33028-6515-4ebf-9ac9-c81fdd07a023",
   "metadata": {},
   "outputs": [],
   "source": [
    "for i in range(5):\n",
    "    print(i)"
   ]
  },
  {
   "cell_type": "code",
   "execution_count": null,
   "id": "3e68ec23-515e-4599-a410-cd0977c353f5",
   "metadata": {},
   "outputs": [],
   "source": [
    "for i in range(2,5):\n",
    "    \n",
    "    print(i)"
   ]
  },
  {
   "cell_type": "code",
   "execution_count": null,
   "id": "7a8e90f4-b3ba-4026-9ad7-700c128d21b7",
   "metadata": {},
   "outputs": [],
   "source": [
    "for i in range (1,10,3):\n",
    "    print(i)"
   ]
  },
  {
   "cell_type": "code",
   "execution_count": null,
   "id": "1fe4d22d-25b8-4dbe-af85-8d46e519a180",
   "metadata": {},
   "outputs": [],
   "source": [
    "# print the value which is divisible by 5 \n",
    "for i in range(1,21):\n",
    "    print(i) "
   ]
  },
  {
   "cell_type": "code",
   "execution_count": null,
   "id": "c343f64b-2afd-42ec-8ab0-267acee57c07",
   "metadata": {},
   "outputs": [],
   "source": [
    "# print the value which is divisible by 5 \n",
    "\n",
    "for i in range(1,51):\n",
    "    \n",
    "    if i%5==0 :\n",
    "        print(i)"
   ]
  },
  {
   "cell_type": "code",
   "execution_count": null,
   "id": "aae06fff-a8d9-4972-8e9b-db71027901d8",
   "metadata": {},
   "outputs": [],
   "source": [
    "# print the value which is divisible by 5 i dont want that value \n",
    "for i in range(1,51):\n",
    "    \n",
    "    if i%5!=0 :\n",
    "        print(i)"
   ]
  },
  {
   "cell_type": "code",
   "execution_count": null,
   "id": "eb089e27-9e10-4256-a436-da72bbe87eb4",
   "metadata": {},
   "outputs": [],
   "source": [
    "# Write the code user ask chocklet from machine write the basic code\n",
    "ava = 5\n",
    "x = int(input('How many choclets you want:?' ))\n",
    "\n",
    "i = 1\n",
    "while i<=x:\n",
    "    print('choclet')\n",
    "    i += 1"
   ]
  },
  {
   "cell_type": "code",
   "execution_count": null,
   "id": "b37dacbd-3951-4ab7-a857-0b9d9c121cdb",
   "metadata": {},
   "outputs": [],
   "source": [
    "ava = 5 # the machine has only 5 choclet \n",
    "\n",
    "x = int(input('How many choclets you want:?'))\n",
    "\n",
    "i = 1\n",
    "while i<=x:\n",
    "    print('choclet')\n",
    "    i += 1 "
   ]
  },
  {
   "cell_type": "code",
   "execution_count": null,
   "id": "f7c40335-e3c8-4052-aecb-c04fcb344530",
   "metadata": {},
   "outputs": [],
   "source": [
    "available_choclet = 5 # the machine has only 10 candis \n",
    "\n",
    "x = int(input('How many choclets user want:?'))\n",
    "\n",
    "i = 1\n",
    "while i<=x:\n",
    "    \n",
    "    if i>available_choclet: # we stop the execution but which code execution not entire code , i want to come out of while loop \n",
    "        break # break is statement | means jump out of the loop\n",
    "    print('choclet')\n",
    "    i += 1   \n",
    "    \n",
    "print('bye for now')"
   ]
  },
  {
   "cell_type": "code",
   "execution_count": null,
   "id": "fe951ef7-f80f-417c-ad00-ab825860cfdf",
   "metadata": {},
   "outputs": [],
   "source": [
    "available_choclet = 5 # the machine has only 10 candis \n",
    "\n",
    "x = int(input('How many choclets you want:?'))\n",
    "\n",
    "i = 1\n",
    "while i<=x:\n",
    "    \n",
    "    if i>available_choclet: # we stop the execution but which code execution not entire code , i want to come out of while loop \n",
    "        print('out of stock')\n",
    "        break # break is statement | means jump out of the loop\n",
    "    print('choclet')\n",
    "    i += 1   \n",
    "    \n",
    "print('bye for now')"
   ]
  },
  {
   "cell_type": "code",
   "execution_count": null,
   "id": "ce6e7e8d-7606-426b-a90f-0d40d06888e3",
   "metadata": {},
   "outputs": [],
   "source": [
    "for i in range(1,11):\n",
    "    print(i)"
   ]
  },
  {
   "cell_type": "code",
   "execution_count": null,
   "id": "50123aab-97da-43d3-a847-ab7f284f7d33",
   "metadata": {},
   "outputs": [],
   "source": [
    "for i in range(1,11):\n",
    "    if i == 6:\n",
    "       break \n",
    "    print(i)"
   ]
  },
  {
   "cell_type": "code",
   "execution_count": null,
   "id": "4bc09829-28aa-4b58-a78e-14d337c8faaf",
   "metadata": {},
   "outputs": [],
   "source": [
    "for i in range(1,11):\n",
    "    if i == 3:\n",
    "        continue \n",
    "    print(i)"
   ]
  },
  {
   "cell_type": "code",
   "execution_count": null,
   "id": "3a7eaa36-c6f9-4e97-8189-19f231968ce0",
   "metadata": {},
   "outputs": [],
   "source": [
    "for i in range(1,11):\n",
    "    if i == 6:\n",
    "        continue  \n",
    "    print('hello :',i) "
   ]
  },
  {
   "cell_type": "code",
   "execution_count": null,
   "id": "32176963-55ab-4da0-8453-4c81aa71316b",
   "metadata": {},
   "outputs": [],
   "source": [
    "for i in range(1,11): "
   ]
  },
  {
   "cell_type": "code",
   "execution_count": null,
   "id": "7ca559e1-a18a-4064-a7e2-018a73576e4e",
   "metadata": {},
   "outputs": [],
   "source": [
    "for i in range(1,11):\n",
    "    pass"
   ]
  },
  {
   "cell_type": "code",
   "execution_count": null,
   "id": "97b2a071-2c51-4493-93a3-d0c0d72383da",
   "metadata": {},
   "outputs": [],
   "source": [
    "for i in range(1,51):\n",
    "    \n",
    "    if i%3 == 0:\n",
    "    \n",
    "        print(i)\n",
    "print('end') "
   ]
  },
  {
   "cell_type": "code",
   "execution_count": null,
   "id": "665fbc7b-3398-4f56-ac92-cfc8dbe76a6e",
   "metadata": {},
   "outputs": [],
   "source": [
    "for i in range(1,51):\n",
    "    \n",
    "    if i%3 == 0:\n",
    "        continue\n",
    "    print(i)\n",
    "print('end')   "
   ]
  },
  {
   "cell_type": "code",
   "execution_count": null,
   "id": "5df66898-a47a-4edd-bdb1-80cd946ac164",
   "metadata": {},
   "outputs": [],
   "source": [
    "for i in range(1,51):\n",
    "    \n",
    "    if i%3 == 0 or i%5 == 0:\n",
    "        continue\n",
    "    print(i)\n",
    "#print('end')    \n",
    "# it will skip all the value which is divisible by 3 or 5"
   ]
  },
  {
   "cell_type": "code",
   "execution_count": null,
   "id": "1a641e5a-7e7b-4db8-92ec-e8175403ca8c",
   "metadata": {},
   "outputs": [],
   "source": [
    "for i in range(1,50):\n",
    "    if i%3 == 0 or i%5 == 0:\n",
    "        continue\n",
    "    print(i)\n",
    "print('end')    \n",
    "# when you apply and you wont get the value which is divisible by both 3 & 5 (15)"
   ]
  },
  {
   "cell_type": "code",
   "execution_count": null,
   "id": "d424cf5b-f3fe-49b0-8701-de4bf00ba45f",
   "metadata": {},
   "outputs": [],
   "source": [
    "# i dont want to print the values which are even numbers that means print only odd numbers\n",
    "\n",
    "for i in range(1,51):\n",
    "    \n",
    "    if (i%2 == 0):\n",
    "        #print('even')\n",
    "        continue\n",
    "    else:\n",
    "        print(i)\n",
    "print('bye')"
   ]
  },
  {
   "cell_type": "markdown",
   "id": "e316f35c-8130-4e4b-a60e-c89f34876800",
   "metadata": {},
   "source": [
    "# PRINTING PATTERN IN PYTHON"
   ]
  },
  {
   "cell_type": "code",
   "execution_count": null,
   "id": "d066a498-d909-482c-a0ca-60b7af451387",
   "metadata": {},
   "outputs": [],
   "source": [
    "![image.png](attachment:image.png)"
   ]
  },
  {
   "cell_type": "code",
   "execution_count": null,
   "id": "84d2a7dc-10cd-4a55-8ce4-4237bbd5c4d7",
   "metadata": {},
   "outputs": [],
   "source": [
    "print('# # # #')\n",
    "print('# # # #')\n",
    "print('# # # #')\n",
    "print('# # # #')"
   ]
  },
  {
   "cell_type": "code",
   "execution_count": null,
   "id": "71af82d4-f0ff-406a-bce7-7dbd9e28bac6",
   "metadata": {},
   "outputs": [],
   "source": [
    "for i in range(1,5):\n",
    "    i=i+1\n",
    "    print('# # # # ')"
   ]
  },
  {
   "cell_type": "code",
   "execution_count": null,
   "id": "875766a5-0aa3-45bd-b276-efe2633c1fe8",
   "metadata": {},
   "outputs": [],
   "source": [
    "for i in range(1,5):\n",
    "    if i<=5:\n",
    "        print('# # # #')"
   ]
  },
  {
   "cell_type": "code",
   "execution_count": null,
   "id": "8710c0e5-ec01-4b90-aa5b-dafb97f19a2b",
   "metadata": {},
   "outputs": [],
   "source": [
    "for j in range(4):\n",
    "    print('#')"
   ]
  },
  {
   "cell_type": "code",
   "execution_count": null,
   "id": "c17e73a5-7e81-4eeb-9764-ee5f1e868e34",
   "metadata": {},
   "outputs": [],
   "source": [
    "for j in range(4):\n",
    "    print('# # # #')"
   ]
  },
  {
   "cell_type": "code",
   "execution_count": null,
   "id": "05446679-ef8d-4d85-80e7-cfbe0d825da9",
   "metadata": {},
   "outputs": [],
   "source": [
    "for j in range(4):\n",
    "    print('#', end = \" \")"
   ]
  },
  {
   "cell_type": "code",
   "execution_count": null,
   "id": "13fcc4cf-d529-4f62-9be9-d48be7dcdf11",
   "metadata": {},
   "outputs": [],
   "source": [
    "for j in range(4):\n",
    "    print('#', end=\" \")\n",
    "\n",
    "for j in range(4):\n",
    "    print('#', end=\" \")"
   ]
  },
  {
   "cell_type": "code",
   "execution_count": null,
   "id": "0bcbe08d-62f8-41d3-ac7d-e56269c89d7e",
   "metadata": {},
   "outputs": [],
   "source": [
    "for j in range(4):\n",
    "    print('#', end=\" \")\n",
    "    \n",
    "print()\n",
    "    \n",
    "for j in range(4):\n",
    "    print('#', end=\" \")"
   ]
  },
  {
   "cell_type": "code",
   "execution_count": null,
   "id": "7af476aa-9cd3-411a-9197-59bb48c9ee71",
   "metadata": {},
   "outputs": [],
   "source": [
    "for j in range(4):\n",
    "    print('#', end=\"  \")\n",
    "    \n",
    "print()\n",
    "\n",
    "for j in range(4):\n",
    "    print('#', end=\"  \")\n",
    "\n",
    "print()\n",
    "\n",
    "for j in range(4):\n",
    "    print('$', end=\"  \")\n",
    "    \n",
    "print()\n",
    "\n",
    "for j in range(4):\n",
    "    print('#', end=\"  \")"
   ]
  },
  {
   "cell_type": "code",
   "execution_count": null,
   "id": "a8a48fd0-1023-4aea-945f-8737e667ca40",
   "metadata": {},
   "outputs": [],
   "source": [
    "for i in range(4):\n",
    "    for j in range(4):\n",
    "        print('#', end=\"  \")\n",
    "    print()\n",
    "    # pease use debug mode in pycharm"
   ]
  },
  {
   "cell_type": "code",
   "execution_count": null,
   "id": "b0aae843-d24b-4385-96d9-5e0a6cf996ce",
   "metadata": {},
   "outputs": [],
   "source": [
    "for i in range(4):\n",
    "    for j in range(i+1):\n",
    "        print('$', end = \" \")\n",
    "    print()"
   ]
  },
  {
   "cell_type": "code",
   "execution_count": null,
   "id": "0784b6dd-0b51-4b42-bd67-0992a83c5d2e",
   "metadata": {},
   "outputs": [],
   "source": [
    "for i in range(1,5):\n",
    "    print(\"# \"*i)"
   ]
  },
  {
   "cell_type": "code",
   "execution_count": null,
   "id": "9f505087-2f8f-40fd-adba-ce41e6bb697a",
   "metadata": {},
   "outputs": [],
   "source": [
    "for i in range(1,5):\n",
    "    for j in range(4):\n",
    "        if i>j:\n",
    "            print(\"#\",end=\" \")\n",
    "    print()"
   ]
  },
  {
   "cell_type": "code",
   "execution_count": null,
   "id": "828f7e95-6ee1-4858-ad71-db7c8cc9acbf",
   "metadata": {},
   "outputs": [],
   "source": [
    "list(range(5))\n"
   ]
  },
  {
   "cell_type": "code",
   "execution_count": null,
   "id": "6670c59f-fc7f-4b8c-b0ef-498318dc04ad",
   "metadata": {},
   "outputs": [],
   "source": [
    "for i in range(4):\n",
    "    for j in range(i):\n",
    "        print('#', end=\"  \")\n",
    "    print()"
   ]
  },
  {
   "cell_type": "code",
   "execution_count": null,
   "id": "a33c9da2-15b6-43fa-8d60-384da58f881b",
   "metadata": {},
   "outputs": [],
   "source": [
    "for i in range(4):\n",
    "    for j in range(i+1):\n",
    "        print('#', end=\"  \")\n",
    "    print()\n"
   ]
  },
  {
   "cell_type": "code",
   "execution_count": null,
   "id": "ffcfadd7-5ef4-4301-b9ce-2a4127572704",
   "metadata": {},
   "outputs": [],
   "source": [
    "for i in range(4):\n",
    "    for j in range(4-i):\n",
    "        print('#', end=\"  \")\n",
    "    print()"
   ]
  },
  {
   "cell_type": "code",
   "execution_count": null,
   "id": "69f13d26-d506-4245-9108-632ca1c0ce96",
   "metadata": {},
   "outputs": [],
   "source": [
    "for i in range(1,5):\n",
    "    print(\"# \"*(5-i))"
   ]
  },
  {
   "cell_type": "markdown",
   "id": "9d05210b-9adb-4110-aa15-e7b809af48d3",
   "metadata": {},
   "source": [
    "# FOR ELSE"
   ]
  },
  {
   "cell_type": "code",
   "execution_count": null,
   "id": "f025803b-b050-4de6-ba8e-e6b10bbacc27",
   "metadata": {},
   "outputs": [],
   "source": [
    "nums = [12,15,18,21,26,30,40]\n",
    "\n",
    "for num in nums:\n",
    "    if num % 3 == 0:\n",
    "        print(num)"
   ]
  },
  {
   "cell_type": "code",
   "execution_count": null,
   "id": "f63847c7-0cda-4398-9501-693d179a0782",
   "metadata": {},
   "outputs": [],
   "source": [
    "nums = [12,14,18,21,25,30,35]\n",
    "\n",
    "for num in nums:\n",
    "    if num % 5 == 0:\n",
    "        print(num)"
   ]
  },
  {
   "cell_type": "code",
   "execution_count": null,
   "id": "9f693627-b680-4633-ad5a-d9515045b3d6",
   "metadata": {},
   "outputs": [],
   "source": [
    "nums = [12,14,18,21,25,20]\n",
    "\n",
    "for num in nums:\n",
    "    if num % 5 == 0:\n",
    "        print(num)"
   ]
  },
  {
   "cell_type": "code",
   "execution_count": null,
   "id": "3a4f395a-55d9-415b-9b3a-ba13e8a4fc03",
   "metadata": {},
   "outputs": [],
   "source": [
    "nums = [12,14,18,21,20,25]\n",
    "\n",
    "for num in nums:\n",
    "    if num % 5 == 0:\n",
    "        print(num)\n",
    "        break"
   ]
  },
  {
   "cell_type": "code",
   "execution_count": null,
   "id": "ea8117f7-4c6f-410f-8012-0da42b28f1f0",
   "metadata": {},
   "outputs": [],
   "source": [
    "nums = [12,14,18,21,20,25]\n",
    "\n",
    "for num in nums:\n",
    "    if num % 5 == 0:\n",
    "        print(num)  \n",
    "        break"
   ]
  },
  {
   "cell_type": "code",
   "execution_count": null,
   "id": "c3579946-958b-47a1-9199-be918f2d0836",
   "metadata": {},
   "outputs": [],
   "source": [
    "nums = [10,14,18,21,5,10]\n",
    "\n",
    "for num in nums:\n",
    "    if num % 5 == 0:\n",
    "        print(num)\n",
    "        break"
   ]
  },
  {
   "cell_type": "code",
   "execution_count": null,
   "id": "995f1703-462d-4e6c-9803-0af0fbd1113f",
   "metadata": {},
   "outputs": [],
   "source": [
    "nums = [7,14, 18, 21,23,27]\n",
    "\n",
    "for num in nums:\n",
    "    if num % 5 == 0:\n",
    "        print(num)\n",
    "        break"
   ]
  },
  {
   "cell_type": "code",
   "execution_count": null,
   "id": "11329a33-2f09-410f-89d4-0044129d9f24",
   "metadata": {},
   "outputs": [],
   "source": [
    "nums = [7,14,18,21,23,27,29] #hear there is no number which is divisible by 5 we got output as blank\n",
    "\n",
    "for num in nums:\n",
    "    if num % 5 == 0:\n",
    "        print(num)  \n",
    "        break\n",
    "    else:\n",
    "        print('Number Not Found') #every iteration it cheking condition  "
   ]
  },
  {
   "cell_type": "code",
   "execution_count": null,
   "id": "e3c192b7-3c85-447f-9d64-29a1f2cb7122",
   "metadata": {},
   "outputs": [],
   "source": [
    "nums = [7,14]\n",
    "\n",
    "for num in nums:\n",
    "    if num % 5 == 0:\n",
    "        print(num)\n",
    "        break\n",
    "    else:\n",
    "        print('Number Not Found')"
   ]
  },
  {
   "cell_type": "code",
   "execution_count": null,
   "id": "6a2c6543-f6d8-4f16-a033-e544dcb297b3",
   "metadata": {},
   "outputs": [],
   "source": [
    "nums = [7,14,18,21,23,27]\n",
    "\n",
    "for num in nums:\n",
    "    if num % 5 == 0:\n",
    "        print(num)\n",
    "        break\n",
    "else:\n",
    "    print('Not  Found')"
   ]
  },
  {
   "cell_type": "code",
   "execution_count": null,
   "id": "2f7089af-b2ad-4f1a-8113-df4406c56045",
   "metadata": {},
   "outputs": [],
   "source": [
    "nums = [10,14,18,21,20,27,30] #hear there is no number which is divisible by 5 we got output as blank\n",
    "\n",
    "for num in nums:\n",
    "    if num % 5 == 0:\n",
    "        print(num)  \n",
    "        #break\n",
    "else:\n",
    "        print('Not Found')"
   ]
  },
  {
   "cell_type": "markdown",
   "id": "7526bd59-29bc-42cd-8bb5-b531c7bd98ba",
   "metadata": {},
   "source": [
    "# PRIME NUMBER"
   ]
  },
  {
   "cell_type": "code",
   "execution_count": null,
   "id": "78b82761-1ce5-4d8b-be8e-85833a7cb111",
   "metadata": {},
   "outputs": [],
   "source": [
    "num = 19\n",
    "\n",
    "for i in range(2,num):\n",
    "    if num % i == 0:\n",
    "        print('Not Prime Number')\n",
    "        break\n",
    "else:\n",
    "    print('Prime Number')"
   ]
  },
  {
   "cell_type": "code",
   "execution_count": null,
   "id": "71833e82-871f-4a66-849b-33f414045feb",
   "metadata": {},
   "outputs": [],
   "source": [
    "num = 14\n",
    "\n",
    "for i in range(2,num):\n",
    "    if num % i == 0:\n",
    "        print('Not Prime Number')\n",
    "        break\n",
    "else:\n",
    "    print('Prime Number')"
   ]
  },
  {
   "cell_type": "markdown",
   "id": "7f09254b-d90b-4015-8881-61f1b2522c84",
   "metadata": {},
   "source": [
    "# ARRAY IN PYTHON"
   ]
  },
  {
   "cell_type": "code",
   "execution_count": null,
   "id": "094fcf4a-6d40-4384-bb74-5b0991556008",
   "metadata": {},
   "outputs": [],
   "source": [
    "from array import *\n",
    "arr = array('i',[])\n",
    "\n",
    "n = int (input('Enter the length of the array'))\n",
    "\n",
    "for i in range(5):\n",
    "    x = int (input('Enter the next value'))\n",
    "    arr.append(x)\n",
    "print(arr)\n"
   ]
  },
  {
   "cell_type": "code",
   "execution_count": null,
   "id": "da714812-7e81-466e-8e2e-2acefcd905a7",
   "metadata": {},
   "outputs": [],
   "source": [
    "from array import * \n",
    "arr = array('i',[])\n",
    "\n",
    "n = input('Enter the length of the array')\n",
    "\n",
    "for i in range(5):\n",
    "    x = input('Enter the next value')\n",
    "    arr.append(x)\n",
    "print(arr)"
   ]
  },
  {
   "cell_type": "code",
   "execution_count": null,
   "id": "51aa2f47-06c1-4ccb-aeac-343e7e71a837",
   "metadata": {},
   "outputs": [],
   "source": [
    "from numpy import * \n",
    "arr = array ([1,2,3,4,5])\n",
    "print(arr)\n",
    "type(arr)"
   ]
  },
  {
   "cell_type": "code",
   "execution_count": null,
   "id": "0cc7d941-409f-42e3-8a4d-b68bd03b13a4",
   "metadata": {},
   "outputs": [],
   "source": [
    "print(arr.dtype)"
   ]
  },
  {
   "cell_type": "code",
   "execution_count": null,
   "id": "0c050957-fe08-4685-853f-be51a598866a",
   "metadata": {},
   "outputs": [],
   "source": [
    "arr = array ([1,2,3,4,5,9])\n",
    "print(arr)"
   ]
  },
  {
   "cell_type": "code",
   "execution_count": null,
   "id": "8baf37ba-38d6-48c3-801c-8656001527a1",
   "metadata": {},
   "outputs": [],
   "source": [
    "print(arr.dtype)"
   ]
  },
  {
   "cell_type": "code",
   "execution_count": null,
   "id": "da4e6cfc-de98-42ee-8e9d-c2a6d43c4cd8",
   "metadata": {},
   "outputs": [],
   "source": [
    "arr2 = array([1,2,3,4,5,9],float)\n",
    "arr2"
   ]
  },
  {
   "cell_type": "code",
   "execution_count": null,
   "id": "af927e49-c6a7-438f-8d7a-a3376a9ef66c",
   "metadata": {},
   "outputs": [],
   "source": [
    "arr3 = array([1,2,3,4,5,9],int)\n",
    "arr3"
   ]
  },
  {
   "cell_type": "code",
   "execution_count": null,
   "id": "bbe1bbb1-bef3-4e7f-9820-50165584a07c",
   "metadata": {},
   "outputs": [],
   "source": [
    "import numpy as np"
   ]
  },
  {
   "cell_type": "code",
   "execution_count": null,
   "id": "4d82349b-d17b-49a3-94e8-0bbb90839f8f",
   "metadata": {},
   "outputs": [],
   "source": [
    "arr4 = np.linspace(0, 16, 10)\n",
    "arr4"
   ]
  },
  {
   "cell_type": "code",
   "execution_count": null,
   "id": "fc7d09d2-43ad-4b04-a8a0-19d2a4b918ca",
   "metadata": {},
   "outputs": [],
   "source": [
    "import tkinter as tk\n",
    "# Function to be called when the button is clicked\n",
    "def on_button_click():\n",
    "    label.config(text=\"Button clicked!\")\n",
    "\n",
    "# Create the main application window\n",
    "root = tk.Tk()\n",
    "root.title(\"Simple Tkinter App\")\n",
    "\n",
    "# Create a label widget\n",
    "label = tk.Label(root, text=\"Hello, Tkinter!\")\n",
    "label.pack(pady=20)\n",
    "\n",
    "# Create a button widget\n",
    "button = tk.Button(root, text=\"Click Me\", command=on_button_click)\n",
    "button.pack(pady=20)\n",
    "\n",
    "# Run the application\n",
    "root.mainloop()"
   ]
  },
  {
   "cell_type": "code",
   "execution_count": null,
   "id": "6c232bd0-15d5-4027-8d1f-0ce4f1156daf",
   "metadata": {},
   "outputs": [],
   "source": [
    "import tkinter as tk\n",
    "from tkinter import messagebox\n",
    "\n",
    "# Function to be called when the button is clicked\n",
    "def on_button_click():\n",
    "    user_input = entry.get()\n",
    "    messagebox.showinfo(\"Information\", f\"You entered: {user_input}\")\n",
    "\n",
    "# Create the main application window\n",
    "root = tk.Tk()\n",
    "root.title(\"Simple Tkinter App\")\n",
    "\n",
    "# Create a label widget\n",
    "label = tk.Label(root, text=\"Enter something:\")\n",
    "label.pack(pady=10)\n",
    "\n",
    "# Create a text entry widget\n",
    "entry = tk.Entry(root, width=30)\n",
    "entry.pack(pady=10)\n",
    "\n",
    "# Create a button widget\n",
    "button = tk.Button(root, text=\"Submit\", command=on_button_click)\n",
    "button.pack(pady=10)\n",
    "\n",
    "# Run the application\n",
    "root.mainloop()"
   ]
  }
 ],
 "metadata": {
  "kernelspec": {
   "display_name": "Python [conda env:base] *",
   "language": "python",
   "name": "conda-base-py"
  },
  "language_info": {
   "codemirror_mode": {
    "name": "ipython",
    "version": 3
   },
   "file_extension": ".py",
   "mimetype": "text/x-python",
   "name": "python",
   "nbconvert_exporter": "python",
   "pygments_lexer": "ipython3",
   "version": "3.12.7"
  }
 },
 "nbformat": 4,
 "nbformat_minor": 5
}

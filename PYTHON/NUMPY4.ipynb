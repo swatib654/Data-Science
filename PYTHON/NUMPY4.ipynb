{
 "cells": [
  {
   "cell_type": "markdown",
   "id": "b64c37b2-dd42-4211-807c-3245ce4513ee",
   "metadata": {},
   "source": [
    "# NUMPY CODE"
   ]
  },
  {
   "cell_type": "markdown",
   "id": "7c29d4d6-b40f-497e-8606-a600f331c181",
   "metadata": {},
   "source": [
    "## 1."
   ]
  },
  {
   "cell_type": "code",
   "execution_count": 1,
   "id": "8abe872e-888e-4b26-9ea6-54b1e3c36bc4",
   "metadata": {},
   "outputs": [],
   "source": [
    "import numpy as np"
   ]
  },
  {
   "cell_type": "code",
   "execution_count": 155,
   "id": "919d5c92-a4a1-4507-9faf-3204b21094b1",
   "metadata": {},
   "outputs": [
    {
     "name": "stdout",
     "output_type": "stream",
     "text": [
      "[[[ 1  2]\n",
      "  [ 3  4]\n",
      "  [ 5  6]]\n",
      "\n",
      " [[ 7  8]\n",
      "  [ 9 10]\n",
      "  [11 12]]]\n",
      "[[ 1  2  3]\n",
      " [ 4  5  6]\n",
      " [ 7  8  9]\n",
      " [10 11 12]]\n"
     ]
    }
   ],
   "source": [
    "arr = np.array([1,2,3,4,5,6,7,8,9,10,11,12])\n",
    "\n",
    "newarr1 = arr.reshape(2,3,2)\n",
    "newarr2 = arr.reshape(4,3)\n",
    "\n",
    "print(newarr1)\n",
    "\n",
    "print(newarr2)"
   ]
  },
  {
   "cell_type": "code",
   "execution_count": 156,
   "id": "6819c5f8-47aa-41c4-92d0-5928c9c3bb54",
   "metadata": {},
   "outputs": [
    {
     "data": {
      "text/plain": [
       "array([[[ 1,  2],\n",
       "        [ 3,  4],\n",
       "        [ 5,  6]],\n",
       "\n",
       "       [[ 7,  8],\n",
       "        [ 9, 10],\n",
       "        [11, 12]]])"
      ]
     },
     "execution_count": 156,
     "metadata": {},
     "output_type": "execute_result"
    }
   ],
   "source": [
    "newarr1"
   ]
  },
  {
   "cell_type": "code",
   "execution_count": 157,
   "id": "4104be3c-193a-4b1f-ab18-1e883123ae04",
   "metadata": {},
   "outputs": [
    {
     "data": {
      "text/plain": [
       "array([[ 1,  2,  3],\n",
       "       [ 4,  5,  6],\n",
       "       [ 7,  8,  9],\n",
       "       [10, 11, 12]])"
      ]
     },
     "execution_count": 157,
     "metadata": {},
     "output_type": "execute_result"
    }
   ],
   "source": [
    "newarr2"
   ]
  },
  {
   "cell_type": "code",
   "execution_count": 158,
   "id": "e4218ef8-bf2f-4f5e-b764-904ac124d659",
   "metadata": {},
   "outputs": [
    {
     "name": "stdout",
     "output_type": "stream",
     "text": [
      "[Ellipsis, 2]\n"
     ]
    }
   ],
   "source": [
    "newarr1 = [...,2]\n",
    "print(newarr1)"
   ]
  },
  {
   "cell_type": "code",
   "execution_count": 6,
   "id": "8107419e-be8e-44e6-9350-11db035a122a",
   "metadata": {},
   "outputs": [
    {
     "name": "stdout",
     "output_type": "stream",
     "text": [
      "[1, Ellipsis]\n"
     ]
    }
   ],
   "source": [
    "newarr1 = [1,...]\n",
    "print(newarr1)"
   ]
  },
  {
   "cell_type": "markdown",
   "id": "5453ae92-9954-4aa0-9d55-71e6b38412e3",
   "metadata": {},
   "source": [
    "## 2.[]"
   ]
  },
  {
   "cell_type": "code",
   "execution_count": 159,
   "id": "2d02c56a-267c-4895-b742-9a1ab023ba88",
   "metadata": {},
   "outputs": [
    {
     "name": "stdout",
     "output_type": "stream",
     "text": [
      "[ 0  1  2  3  4  5  6  7  8  9 10 11 12 13 14 15 16 17 18 19]\n"
     ]
    }
   ],
   "source": [
    "import numpy as np\n",
    "b = np.arange(0,20)\n",
    "print(b)"
   ]
  },
  {
   "cell_type": "code",
   "execution_count": 160,
   "id": "174540b4-f1c3-4d01-bed9-a2abc021ca29",
   "metadata": {},
   "outputs": [
    {
     "name": "stdout",
     "output_type": "stream",
     "text": [
      "[[ 0  1  2  3]\n",
      " [ 4  5  6  7]\n",
      " [ 8  9 10 11]\n",
      " [12 13 14 15]\n",
      " [16 17 18 19]]\n"
     ]
    }
   ],
   "source": [
    "b1 = np.reshape(b,(5,4))\n",
    "print(b1)"
   ]
  },
  {
   "cell_type": "code",
   "execution_count": 161,
   "id": "f2271c00-f2a8-4cfa-8107-0fd1a363402e",
   "metadata": {},
   "outputs": [
    {
     "data": {
      "text/plain": [
       "array([16, 17, 18, 19])"
      ]
     },
     "execution_count": 161,
     "metadata": {},
     "output_type": "execute_result"
    }
   ],
   "source": [
    "b1[-1]"
   ]
  },
  {
   "cell_type": "code",
   "execution_count": 162,
   "id": "49688a5a-22f9-48c1-8941-ac0ae2ed64f7",
   "metadata": {},
   "outputs": [
    {
     "data": {
      "text/plain": [
       "array([[ 5,  6,  7],\n",
       "       [ 9, 10, 11]])"
      ]
     },
     "execution_count": 162,
     "metadata": {},
     "output_type": "execute_result"
    }
   ],
   "source": [
    "b1[1:3, 1:4]"
   ]
  },
  {
   "cell_type": "code",
   "execution_count": 163,
   "id": "a06c5eda-38fe-42ab-9b9a-0dac9df9c5f6",
   "metadata": {},
   "outputs": [
    {
     "data": {
      "text/plain": [
       "array([[ 0,  1,  2,  3],\n",
       "       [ 4,  5,  6,  7],\n",
       "       [ 8,  9, 10, 11],\n",
       "       [12, 13, 14, 15],\n",
       "       [16, 17, 18, 19]])"
      ]
     },
     "execution_count": 163,
     "metadata": {},
     "output_type": "execute_result"
    }
   ],
   "source": [
    "b1"
   ]
  },
  {
   "cell_type": "code",
   "execution_count": 164,
   "id": "74f5711a-dd40-4c9c-897e-97875c04e21c",
   "metadata": {},
   "outputs": [
    {
     "data": {
      "text/plain": [
       "array([[False, False, False, False],\n",
       "       [False, False, False, False],\n",
       "       [False, False, False, False],\n",
       "       [False, False, False, False],\n",
       "       [ True,  True,  True,  True]])"
      ]
     },
     "execution_count": 164,
     "metadata": {},
     "output_type": "execute_result"
    }
   ],
   "source": [
    "b1>15"
   ]
  },
  {
   "cell_type": "code",
   "execution_count": 13,
   "id": "35923172-4c54-4511-936b-a970034b9376",
   "metadata": {},
   "outputs": [
    {
     "data": {
      "text/plain": [
       "array([[ True,  True,  True,  True],\n",
       "       [ True,  True,  True,  True],\n",
       "       [ True,  True,  True,  True],\n",
       "       [ True,  True,  True, False],\n",
       "       [False, False, False, False]])"
      ]
     },
     "execution_count": 13,
     "metadata": {},
     "output_type": "execute_result"
    }
   ],
   "source": [
    "b1<15"
   ]
  },
  {
   "cell_type": "code",
   "execution_count": 14,
   "id": "8bdbdb61-5786-4211-8ae2-ce393a411f7d",
   "metadata": {},
   "outputs": [
    {
     "name": "stdout",
     "output_type": "stream",
     "text": [
      "[[ 0  1  2  3  4]\n",
      " [10 11 12 13 14]\n",
      " [20 21 22 23 24]\n",
      " [30 31 32 33 34]]\n"
     ]
    }
   ],
   "source": [
    "\n",
    "a = np.array([ [ 0, 1, 2, 3, 4],[10,11,12,13,14],[20,21,22,23,24],[30,31,32,33,34] ])\n",
    "c = np.array( [True,False,True,False] ) # boolean row selector\n",
    "print(a)"
   ]
  },
  {
   "cell_type": "code",
   "execution_count": 15,
   "id": "fe5dcd72-63bc-48d5-ab28-e5c2a042e9b1",
   "metadata": {},
   "outputs": [
    {
     "data": {
      "text/plain": [
       "array([[ 0,  1,  2,  3,  4],\n",
       "       [20, 21, 22, 23, 24]])"
      ]
     },
     "execution_count": 15,
     "metadata": {},
     "output_type": "execute_result"
    }
   ],
   "source": [
    "a[c,:]"
   ]
  },
  {
   "cell_type": "code",
   "execution_count": 16,
   "id": "c95f163c-8431-4ff1-85aa-33128f88096c",
   "metadata": {},
   "outputs": [
    {
     "data": {
      "text/plain": [
       "array([[ 1,  2,  4],\n",
       "       [11, 12, 14],\n",
       "       [21, 22, 24],\n",
       "       [31, 32, 34]])"
      ]
     },
     "execution_count": 16,
     "metadata": {},
     "output_type": "execute_result"
    }
   ],
   "source": [
    "d =  np.array([False,True,True,False,True])  # boolean column selector\n",
    "a[:,d]"
   ]
  },
  {
   "cell_type": "code",
   "execution_count": 17,
   "id": "7db288e9-9934-4021-8cee-ea9b471eb11f",
   "metadata": {},
   "outputs": [
    {
     "data": {
      "text/plain": [
       "array([[ 0,  1,  2,  3,  4],\n",
       "       [10, 11, 12, 13, 14],\n",
       "       [20, 21, 22, 23, 24],\n",
       "       [30, 31, 32, 33, 34]])"
      ]
     },
     "execution_count": 17,
     "metadata": {},
     "output_type": "execute_result"
    }
   ],
   "source": [
    "a"
   ]
  },
  {
   "cell_type": "code",
   "execution_count": 18,
   "id": "b003e208-ee58-41c2-a263-232b4a622597",
   "metadata": {},
   "outputs": [],
   "source": [
    "i = np.array([0, 1, 2, 1]) # array of indices for the first axis\n",
    "j = np.array([1,2,3,4]) # array of indices for the second axis"
   ]
  },
  {
   "cell_type": "code",
   "execution_count": 19,
   "id": "95127176-5e75-4919-81f0-f365456af47a",
   "metadata": {},
   "outputs": [
    {
     "data": {
      "text/plain": [
       "array([ 1, 12, 23, 14])"
      ]
     },
     "execution_count": 19,
     "metadata": {},
     "output_type": "execute_result"
    }
   ],
   "source": [
    "a[i,j]"
   ]
  },
  {
   "cell_type": "markdown",
   "id": "014e0706-2fe8-463d-bac7-670574427be9",
   "metadata": {},
   "source": [
    "# 3.abs() & \n",
    "# 4.ABSOLUTE both are same Synonym for abs()"
   ]
  },
  {
   "cell_type": "code",
   "execution_count": 165,
   "id": "0aa33fe0-5f9a-431a-8a71-9665f886a73f",
   "metadata": {},
   "outputs": [
    {
     "data": {
      "text/plain": [
       "array([[-4, -3, -2],\n",
       "       [-1,  0,  1],\n",
       "       [ 2,  3,  4]])"
      ]
     },
     "execution_count": 165,
     "metadata": {},
     "output_type": "execute_result"
    }
   ],
   "source": [
    "import numpy as np\n",
    "ARR = np.arange(-4,5).reshape(3,3)\n",
    "ARR"
   ]
  },
  {
   "cell_type": "code",
   "execution_count": 166,
   "id": "67b79153-d63e-4877-97f5-7cb15cc90fa4",
   "metadata": {},
   "outputs": [
    {
     "data": {
      "text/plain": [
       "array([[4, 3, 2],\n",
       "       [1, 0, 1],\n",
       "       [2, 3, 4]])"
      ]
     },
     "execution_count": 166,
     "metadata": {},
     "output_type": "execute_result"
    }
   ],
   "source": [
    "abs(ARR)"
   ]
  },
  {
   "cell_type": "code",
   "execution_count": 167,
   "id": "b8cdf9e3-407a-4559-90d7-db4f357ab554",
   "metadata": {},
   "outputs": [
    {
     "data": {
      "text/plain": [
       "(1.2+5j)"
      ]
     },
     "execution_count": 167,
     "metadata": {},
     "output_type": "execute_result"
    }
   ],
   "source": [
    "ARR1 = 1.2 + 5j\n",
    "ARR1"
   ]
  },
  {
   "cell_type": "code",
   "execution_count": 168,
   "id": "9a8500d0-f798-4efc-9369-7c26f95cb626",
   "metadata": {},
   "outputs": [
    {
     "data": {
      "text/plain": [
       "5.141984052872976"
      ]
     },
     "execution_count": 168,
     "metadata": {},
     "output_type": "execute_result"
    }
   ],
   "source": [
    "abs(ARR1)"
   ]
  },
  {
   "cell_type": "code",
   "execution_count": 169,
   "id": "9fce445d-4072-4775-afd3-911d2fa89604",
   "metadata": {},
   "outputs": [
    {
     "data": {
      "text/plain": [
       "5.141984052872976"
      ]
     },
     "execution_count": 169,
     "metadata": {},
     "output_type": "execute_result"
    }
   ],
   "source": [
    "np.absolute(ARR1)"
   ]
  },
  {
   "cell_type": "code",
   "execution_count": 170,
   "id": "a84c5c24-ab44-4560-a49d-d69ae8dfe007",
   "metadata": {},
   "outputs": [
    {
     "data": {
      "text/plain": [
       "array([10, 15])"
      ]
     },
     "execution_count": 170,
     "metadata": {},
     "output_type": "execute_result"
    }
   ],
   "source": [
    "np.absolute([-10,-15])"
   ]
  },
  {
   "cell_type": "markdown",
   "id": "d7fe2e71-f8fd-490e-bad1-331027608112",
   "metadata": {},
   "source": [
    "# 5. accumulate"
   ]
  },
  {
   "cell_type": "code",
   "execution_count": 171,
   "id": "2dbe219e-c6d5-4e5b-8f3e-f0431027b3fa",
   "metadata": {},
   "outputs": [],
   "source": [
    "import numpy as np"
   ]
  },
  {
   "cell_type": "code",
   "execution_count": 172,
   "id": "c54aa2b7-7476-413c-b270-892b484fd02b",
   "metadata": {},
   "outputs": [
    {
     "name": "stdout",
     "output_type": "stream",
     "text": [
      "[0 1 2 3 4 5 6 7 8 9]\n"
     ]
    }
   ],
   "source": [
    "A1 = np.arange(0,10)\n",
    "print(A1)"
   ]
  },
  {
   "cell_type": "code",
   "execution_count": 173,
   "id": "5e330a42-66e6-43e4-a4c2-4994d1489c79",
   "metadata": {},
   "outputs": [
    {
     "data": {
      "text/plain": [
       "array([ 0,  1,  3,  6, 10, 15, 21, 28, 36, 45])"
      ]
     },
     "execution_count": 173,
     "metadata": {},
     "output_type": "execute_result"
    }
   ],
   "source": [
    "np.add.accumulate(A1)"
   ]
  },
  {
   "cell_type": "code",
   "execution_count": 174,
   "id": "40a8ea7f-e54c-4d31-ad86-08d2c0a7728a",
   "metadata": {},
   "outputs": [],
   "source": [
    "A2 = np.arange(1,6)"
   ]
  },
  {
   "cell_type": "code",
   "execution_count": 175,
   "id": "46b5b2ed-00f2-4534-a93a-af9cc39515e0",
   "metadata": {},
   "outputs": [
    {
     "data": {
      "text/plain": [
       "array([ 1,  3,  6, 10, 15])"
      ]
     },
     "execution_count": 175,
     "metadata": {},
     "output_type": "execute_result"
    }
   ],
   "source": [
    "np.add.accumulate(A2)"
   ]
  },
  {
   "cell_type": "code",
   "execution_count": 176,
   "id": "afa036e6-bce8-43a1-aa0d-917ef3a5dd56",
   "metadata": {},
   "outputs": [
    {
     "data": {
      "text/plain": [
       "array([[1, 2, 3],\n",
       "       [4, 5, 6]])"
      ]
     },
     "execution_count": 176,
     "metadata": {},
     "output_type": "execute_result"
    }
   ],
   "source": [
    "AC = np.array([[1,2,3],[4,5,6]])\n",
    "AC"
   ]
  },
  {
   "cell_type": "code",
   "execution_count": 177,
   "id": "36790235-cda2-47c2-aa0b-824be6fb1405",
   "metadata": {},
   "outputs": [
    {
     "data": {
      "text/plain": [
       "array([[1, 2, 3],\n",
       "       [5, 7, 9]])"
      ]
     },
     "execution_count": 177,
     "metadata": {},
     "output_type": "execute_result"
    }
   ],
   "source": [
    "np.add.accumulate(AC)"
   ]
  },
  {
   "cell_type": "code",
   "execution_count": 33,
   "id": "85d41a02-d474-4b3f-92d0-d693b5d0e2c6",
   "metadata": {},
   "outputs": [
    {
     "data": {
      "text/plain": [
       "array([[1, 2, 3],\n",
       "       [5, 7, 9]])"
      ]
     },
     "execution_count": 33,
     "metadata": {},
     "output_type": "execute_result"
    }
   ],
   "source": [
    "np.add.accumulate(AC)"
   ]
  },
  {
   "cell_type": "markdown",
   "id": "3bad77ea-4c56-4d98-a778-131f1cd221e6",
   "metadata": {},
   "source": [
    "# 6.add"
   ]
  },
  {
   "cell_type": "code",
   "execution_count": 178,
   "id": "9929291a-21d9-4ef9-a8fa-c6f5db7e7390",
   "metadata": {},
   "outputs": [],
   "source": [
    "import numpy as np"
   ]
  },
  {
   "cell_type": "code",
   "execution_count": 179,
   "id": "a9adc7a6-04b7-41ff-b93b-86187c25cc07",
   "metadata": {},
   "outputs": [
    {
     "name": "stdout",
     "output_type": "stream",
     "text": [
      "[2, -6] [1, 3] [2.2, 8.7] [7, -3]\n"
     ]
    }
   ],
   "source": [
    "ar1 = [2,-6]\n",
    "ar2 = [1, 3]\n",
    "ar3 = [2.2, 8.7]\n",
    "ar4 = [7,-3]\n",
    "print(ar1,ar2,ar3,ar4)"
   ]
  },
  {
   "cell_type": "code",
   "execution_count": 180,
   "id": "1eb9aa44-931b-439f-956f-8d37d7d3bc59",
   "metadata": {},
   "outputs": [
    {
     "data": {
      "text/plain": [
       "array([ 3, -3])"
      ]
     },
     "execution_count": 180,
     "metadata": {},
     "output_type": "execute_result"
    }
   ],
   "source": [
    "np.add(ar1,ar2)"
   ]
  },
  {
   "cell_type": "code",
   "execution_count": 181,
   "id": "282ade4f-efef-470a-a93d-5e2d997ad990",
   "metadata": {},
   "outputs": [
    {
     "data": {
      "text/plain": [
       "array([9.2, 5.7])"
      ]
     },
     "execution_count": 181,
     "metadata": {},
     "output_type": "execute_result"
    }
   ],
   "source": [
    "np.add(ar3, ar4)"
   ]
  },
  {
   "cell_type": "code",
   "execution_count": 182,
   "id": "5882b216-f241-4469-97e3-c3af47ea708b",
   "metadata": {},
   "outputs": [],
   "source": [
    "c1 = 5+2j"
   ]
  },
  {
   "cell_type": "code",
   "execution_count": 183,
   "id": "241d7528-0c87-4f84-b552-b3966536461a",
   "metadata": {},
   "outputs": [
    {
     "data": {
      "text/plain": [
       "array([ 7.2+2.j, 13.7+2.j])"
      ]
     },
     "execution_count": 183,
     "metadata": {},
     "output_type": "execute_result"
    }
   ],
   "source": [
    "np.add(ar3, c1)"
   ]
  },
  {
   "cell_type": "markdown",
   "id": "babeed06-bf1e-4858-8423-2a86f0f93893",
   "metadata": {},
   "source": [
    "# 7.all"
   ]
  },
  {
   "cell_type": "code",
   "execution_count": 189,
   "id": "8285c226-46dc-40b9-aff2-78edfc7f1662",
   "metadata": {},
   "outputs": [
    {
     "data": {
      "text/plain": [
       "array([0, 1, 2, 3, 4, 5, 6, 7, 8, 9])"
      ]
     },
     "execution_count": 189,
     "metadata": {},
     "output_type": "execute_result"
    }
   ],
   "source": [
    "a = np.arange(0,10)\n",
    "a"
   ]
  },
  {
   "cell_type": "code",
   "execution_count": 190,
   "id": "e2f3738a-494b-469d-a37c-73d64f8c14d0",
   "metadata": {},
   "outputs": [
    {
     "data": {
      "text/plain": [
       "False"
      ]
     },
     "execution_count": 190,
     "metadata": {},
     "output_type": "execute_result"
    }
   ],
   "source": [
    "np.all(a>5)"
   ]
  },
  {
   "cell_type": "code",
   "execution_count": 191,
   "id": "4e2c1932-6f2e-44cb-8e03-937c22d5f900",
   "metadata": {},
   "outputs": [
    {
     "data": {
      "text/plain": [
       "True"
      ]
     },
     "execution_count": 191,
     "metadata": {},
     "output_type": "execute_result"
    }
   ],
   "source": [
    "np.all(a>=0)"
   ]
  },
  {
   "cell_type": "code",
   "execution_count": 192,
   "id": "63066424-de6d-4f0a-b694-9ee1cb55ed9e",
   "metadata": {},
   "outputs": [],
   "source": [
    "b7 = np.array([True,False,True,True])"
   ]
  },
  {
   "cell_type": "code",
   "execution_count": 193,
   "id": "1c32d00c-8e98-4ca8-b75c-fc761e773de5",
   "metadata": {},
   "outputs": [
    {
     "data": {
      "text/plain": [
       "False"
      ]
     },
     "execution_count": 193,
     "metadata": {},
     "output_type": "execute_result"
    }
   ],
   "source": [
    "np.all(b7)"
   ]
  },
  {
   "cell_type": "markdown",
   "id": "1a83381b-c0e9-44f9-bad1-cd1cda1b7b22",
   "metadata": {},
   "source": [
    "# allclose"
   ]
  },
  {
   "cell_type": "code",
   "execution_count": 194,
   "id": "f586094e-e279-4179-b226-2d85d9f8444c",
   "metadata": {},
   "outputs": [
    {
     "data": {
      "text/plain": [
       "False"
      ]
     },
     "execution_count": 194,
     "metadata": {},
     "output_type": "execute_result"
    }
   ],
   "source": [
    "np.allclose([0.1,0.003],[0.11,0.003])"
   ]
  },
  {
   "cell_type": "code",
   "execution_count": 195,
   "id": "67c54e10-9e05-4bf4-b0ab-7492a7bd3bee",
   "metadata": {},
   "outputs": [
    {
     "data": {
      "text/plain": [
       "False"
      ]
     },
     "execution_count": 195,
     "metadata": {},
     "output_type": "execute_result"
    }
   ],
   "source": [
    "np.allclose([0.1e10,1e-8],[1.00011e10,1e-9])"
   ]
  },
  {
   "cell_type": "code",
   "execution_count": 196,
   "id": "a7bffced-8155-4c74-9049-b0aead13b8a8",
   "metadata": {},
   "outputs": [
    {
     "data": {
      "text/plain": [
       "True"
      ]
     },
     "execution_count": 196,
     "metadata": {},
     "output_type": "execute_result"
    }
   ],
   "source": [
    "np.allclose([1e10,1e-8],[1.00001e10,1e-9])"
   ]
  },
  {
   "cell_type": "markdown",
   "id": "51d9f574-22d0-4de0-8d41-044355ea9d96",
   "metadata": {},
   "source": [
    "# alltrue- same as all function"
   ]
  },
  {
   "cell_type": "code",
   "execution_count": 48,
   "id": "323050b9-87d4-44f4-98c5-00bff8c89793",
   "metadata": {},
   "outputs": [
    {
     "data": {
      "text/plain": [
       "False"
      ]
     },
     "execution_count": 48,
     "metadata": {},
     "output_type": "execute_result"
    }
   ],
   "source": [
    "b = np.array([True, False, True, True])\n",
    "np.alltrue(b)"
   ]
  },
  {
   "cell_type": "code",
   "execution_count": 197,
   "id": "69b123f8-5473-4c94-9b22-3daca4345cfa",
   "metadata": {},
   "outputs": [
    {
     "data": {
      "text/plain": [
       "False"
      ]
     },
     "execution_count": 197,
     "metadata": {},
     "output_type": "execute_result"
    }
   ],
   "source": [
    "a = np.array([1, 5, 2, 7])\n",
    "np.alltrue(a >= 5)"
   ]
  },
  {
   "cell_type": "code",
   "execution_count": 198,
   "id": "270c81fc-bed2-4d47-a33c-90dc88f4bf9d",
   "metadata": {},
   "outputs": [
    {
     "data": {
      "text/plain": [
       "True"
      ]
     },
     "execution_count": 198,
     "metadata": {},
     "output_type": "execute_result"
    }
   ],
   "source": [
    "np.alltrue(a>0)"
   ]
  },
  {
   "cell_type": "markdown",
   "id": "64d74444-e97a-491c-bcfe-0519248ca349",
   "metadata": {},
   "source": [
    "## 10.angle"
   ]
  },
  {
   "cell_type": "code",
   "execution_count": 199,
   "id": "20262c1e-993f-44f4-a82b-af0226141fb4",
   "metadata": {},
   "outputs": [
    {
     "data": {
      "text/plain": [
       "array([0.5404195 , 1.57079633, 0.        ])"
      ]
     },
     "execution_count": 199,
     "metadata": {},
     "output_type": "execute_result"
    }
   ],
   "source": [
    "\n",
    "np.angle([5+3j, 1j, 1.0]) # in RADIAN UNIT"
   ]
  },
  {
   "cell_type": "code",
   "execution_count": 200,
   "id": "e1108fa9-c2db-4fff-8feb-d91af1faf186",
   "metadata": {},
   "outputs": [
    {
     "data": {
      "text/plain": [
       "array([30.96375653, 90.        ,  0.        ])"
      ]
     },
     "execution_count": 200,
     "metadata": {},
     "output_type": "execute_result"
    }
   ],
   "source": [
    "\n",
    "np.angle([5+3j, 1j, 1.0], deg=True)# in Degree"
   ]
  },
  {
   "cell_type": "code",
   "execution_count": 201,
   "id": "7a1f4508-66e8-45a9-8e14-6c514a468d95",
   "metadata": {},
   "outputs": [
    {
     "data": {
      "text/plain": [
       "0.7853981633974483"
      ]
     },
     "execution_count": 201,
     "metadata": {},
     "output_type": "execute_result"
    }
   ],
   "source": [
    "\n",
    "np.angle(1+1j,deg=False) # in RADIAN Unit"
   ]
  },
  {
   "cell_type": "markdown",
   "id": "a60d125f-b3d1-4b17-9bf2-77e3ec3fb79b",
   "metadata": {},
   "source": [
    "# 11.any"
   ]
  },
  {
   "cell_type": "code",
   "execution_count": 202,
   "id": "0fd67237-f495-4fd1-a26a-aa0f253b61ee",
   "metadata": {},
   "outputs": [],
   "source": [
    "c2 = np.array([True,False,True])"
   ]
  },
  {
   "cell_type": "code",
   "execution_count": 203,
   "id": "74bb3987-b6bb-4914-b1f1-704821c72a9d",
   "metadata": {},
   "outputs": [
    {
     "data": {
      "text/plain": [
       "True"
      ]
     },
     "execution_count": 203,
     "metadata": {},
     "output_type": "execute_result"
    }
   ],
   "source": [
    "np.any(c2)"
   ]
  },
  {
   "cell_type": "code",
   "execution_count": 204,
   "id": "672fd0bd-9fb3-4a46-a45c-e39ff4b1acdf",
   "metadata": {},
   "outputs": [
    {
     "data": {
      "text/plain": [
       "array([0, 1, 2, 3, 4, 5, 6, 7, 8, 9])"
      ]
     },
     "execution_count": 204,
     "metadata": {},
     "output_type": "execute_result"
    }
   ],
   "source": [
    "c3= np.arange(0,10)\n",
    "c3"
   ]
  },
  {
   "cell_type": "code",
   "execution_count": 205,
   "id": "10ca06bd-642b-4ad9-b81f-7ff5c669c9b6",
   "metadata": {},
   "outputs": [
    {
     "data": {
      "text/plain": [
       "True"
      ]
     },
     "execution_count": 205,
     "metadata": {},
     "output_type": "execute_result"
    }
   ],
   "source": [
    "any(c3>=5)"
   ]
  },
  {
   "cell_type": "code",
   "execution_count": 206,
   "id": "2d2d25fc-be6c-4a5b-84eb-6960184bbd30",
   "metadata": {},
   "outputs": [
    {
     "data": {
      "text/plain": [
       "True"
      ]
     },
     "execution_count": 206,
     "metadata": {},
     "output_type": "execute_result"
    }
   ],
   "source": [
    "any(c3<10)"
   ]
  },
  {
   "cell_type": "code",
   "execution_count": 207,
   "id": "18cba738-3943-4930-bd01-267350a93103",
   "metadata": {},
   "outputs": [
    {
     "data": {
      "text/plain": [
       "False"
      ]
     },
     "execution_count": 207,
     "metadata": {},
     "output_type": "execute_result"
    }
   ],
   "source": [
    "any(c3>20)"
   ]
  },
  {
   "cell_type": "markdown",
   "id": "5ee2e78a-746f-454a-b617-629394c50817",
   "metadata": {},
   "source": [
    "# 12.append"
   ]
  },
  {
   "cell_type": "code",
   "execution_count": 208,
   "id": "0d7127fe-0b7e-4b3d-8165-ee6897b34c79",
   "metadata": {},
   "outputs": [],
   "source": [
    "\n",
    "c3= np.append([1, 2, 3], [[4, 5, 6], [7, 8, 9]])"
   ]
  },
  {
   "cell_type": "code",
   "execution_count": 209,
   "id": "a91cddd1-4616-411e-beba-71ceeaf046e7",
   "metadata": {},
   "outputs": [
    {
     "data": {
      "text/plain": [
       "array([1, 2, 3, 4, 5, 6, 7, 8, 9])"
      ]
     },
     "execution_count": 209,
     "metadata": {},
     "output_type": "execute_result"
    }
   ],
   "source": [
    "c3"
   ]
  },
  {
   "cell_type": "code",
   "execution_count": 210,
   "id": "0524edd3-5872-49dd-b8e6-9978cbf8becb",
   "metadata": {},
   "outputs": [
    {
     "data": {
      "text/plain": [
       "array([ 1,  2,  3,  4,  5,  6,  7,  8,  9, 10])"
      ]
     },
     "execution_count": 210,
     "metadata": {},
     "output_type": "execute_result"
    }
   ],
   "source": [
    "c5 = np.append(c3,10)\n",
    "c5"
   ]
  },
  {
   "cell_type": "code",
   "execution_count": 211,
   "id": "f0a23ff1-1ed3-4a54-80e2-ee59d8323c2d",
   "metadata": {},
   "outputs": [
    {
     "data": {
      "text/plain": [
       "array(['1', '2', '3', '4', '5', '6', '7', '8', '9', '10', 'ABC', '(1+2j)'],\n",
       "      dtype='<U64')"
      ]
     },
     "execution_count": 211,
     "metadata": {},
     "output_type": "execute_result"
    }
   ],
   "source": [
    "np.append(c5,('ABC', 1+2j))"
   ]
  },
  {
   "cell_type": "code",
   "execution_count": 212,
   "id": "ed7e1093-8e70-4de4-9c04-35a07381b7e2",
   "metadata": {},
   "outputs": [
    {
     "data": {
      "text/plain": [
       "array([10, 20, 30, 40, 50, 60])"
      ]
     },
     "execution_count": 212,
     "metadata": {},
     "output_type": "execute_result"
    }
   ],
   "source": [
    "c9 = np.arange(10,61,10)\n",
    "c9"
   ]
  },
  {
   "cell_type": "code",
   "execution_count": 213,
   "id": "ad7394ca-1c80-4b64-b611-13f943947382",
   "metadata": {},
   "outputs": [
    {
     "data": {
      "text/plain": [
       "array([10, 20, 30, 40, 50, 60, 70, 80, 90])"
      ]
     },
     "execution_count": 213,
     "metadata": {},
     "output_type": "execute_result"
    }
   ],
   "source": [
    "\n",
    "np.append(c9, (70, 80, 90))"
   ]
  },
  {
   "cell_type": "code",
   "execution_count": 214,
   "id": "6a7946b4-7de3-4107-ac22-0ffe11c36c7d",
   "metadata": {},
   "outputs": [
    {
     "data": {
      "text/plain": [
       "array([[10, 20, 30],\n",
       "       [40, 50, 60]])"
      ]
     },
     "execution_count": 214,
     "metadata": {},
     "output_type": "execute_result"
    }
   ],
   "source": [
    "c10 = np.reshape(c9,(2,3))\n",
    "c10"
   ]
  },
  {
   "cell_type": "code",
   "execution_count": 215,
   "id": "2ddf2de4-3ec0-430b-9c64-0f0b6dc3360a",
   "metadata": {},
   "outputs": [
    {
     "data": {
      "text/plain": [
       "array([[10, 20, 30],\n",
       "       [40, 50, 60],\n",
       "       [70, 80, 90]])"
      ]
     },
     "execution_count": 215,
     "metadata": {},
     "output_type": "execute_result"
    }
   ],
   "source": [
    "c11 = np.append(c10,[[70,80,90]],axis = 0)\n",
    "c11"
   ]
  },
  {
   "cell_type": "code",
   "execution_count": 68,
   "id": "7804a9bf-437f-42a9-8beb-b7ca14685533",
   "metadata": {},
   "outputs": [
    {
     "data": {
      "text/plain": [
       "array([[ 10,  20,  30, 100],\n",
       "       [ 40,  50,  60, 120],\n",
       "       [ 70,  80,  90, 130]])"
      ]
     },
     "execution_count": 68,
     "metadata": {},
     "output_type": "execute_result"
    }
   ],
   "source": [
    "c13 = np.append(c11, [[100], [120], [130]], axis = 1) # AT COLUMN\n",
    "c13"
   ]
  },
  {
   "cell_type": "markdown",
   "id": "d6ab0d12-1835-419b-8273-c04c87d438ef",
   "metadata": {},
   "source": [
    "## 13.apply_along_axis"
   ]
  },
  {
   "cell_type": "code",
   "execution_count": 69,
   "id": "e49506d9-785d-4436-abf5-8d0e7bf3ed37",
   "metadata": {},
   "outputs": [
    {
     "data": {
      "text/plain": [
       "array([[1, 2, 3],\n",
       "       [4, 5, 6],\n",
       "       [7, 8, 9]])"
      ]
     },
     "execution_count": 69,
     "metadata": {},
     "output_type": "execute_result"
    }
   ],
   "source": [
    "def func1(Q): #EX-1\n",
    "    return (Q[0] + Q[-1])\n",
    "abc = np.array([[1,2,3], [4, 5, 6], [7, 8, 9]])\n",
    "abc"
   ]
  },
  {
   "cell_type": "code",
   "execution_count": 70,
   "id": "ad27372e-1200-46ca-9db9-df1edde318a2",
   "metadata": {},
   "outputs": [
    {
     "data": {
      "text/plain": [
       "array([ 8, 10, 12])"
      ]
     },
     "execution_count": 70,
     "metadata": {},
     "output_type": "execute_result"
    }
   ],
   "source": [
    "np.apply_along_axis(func1,0,abc)"
   ]
  },
  {
   "cell_type": "code",
   "execution_count": 71,
   "id": "139b243e-903a-4c17-8ecd-5bb86bf72738",
   "metadata": {},
   "outputs": [
    {
     "data": {
      "text/plain": [
       "array([ 4, 10, 16])"
      ]
     },
     "execution_count": 71,
     "metadata": {},
     "output_type": "execute_result"
    }
   ],
   "source": [
    "np.apply_along_axis(func1,1,abc)"
   ]
  },
  {
   "cell_type": "code",
   "execution_count": 72,
   "id": "3586d550-a2f3-40ef-9a73-1b7d7473c129",
   "metadata": {},
   "outputs": [
    {
     "data": {
      "text/plain": [
       "array([[1, 2, 3],\n",
       "       [4, 5, 6],\n",
       "       [7, 8, 9]])"
      ]
     },
     "execution_count": 72,
     "metadata": {},
     "output_type": "execute_result"
    }
   ],
   "source": [
    "def func2(P): #2\n",
    "    return (P[0] + P[-1])*2\n",
    "abc1 = np.array([[1,2,3], [4, 5, 6], [7, 8, 9]])\n",
    "abc1"
   ]
  },
  {
   "cell_type": "code",
   "execution_count": 73,
   "id": "654d1526-e7a2-428e-8929-a87510225714",
   "metadata": {},
   "outputs": [
    {
     "data": {
      "text/plain": [
       "array([16, 20, 24])"
      ]
     },
     "execution_count": 73,
     "metadata": {},
     "output_type": "execute_result"
    }
   ],
   "source": [
    "np.apply_along_axis(func2,0,abc1)"
   ]
  },
  {
   "cell_type": "code",
   "execution_count": 74,
   "id": "e1c846ad-4ee3-4672-b187-a5bcb82721f3",
   "metadata": {},
   "outputs": [
    {
     "data": {
      "text/plain": [
       "array([ 8, 20, 32])"
      ]
     },
     "execution_count": 74,
     "metadata": {},
     "output_type": "execute_result"
    }
   ],
   "source": [
    "np.apply_along_axis(func2,1,abc1)"
   ]
  },
  {
   "cell_type": "markdown",
   "id": "2f08ecb2-ca90-41c6-9d40-ce5d01272151",
   "metadata": {},
   "source": [
    "# 14.aaply_over_axes()"
   ]
  },
  {
   "cell_type": "code",
   "execution_count": 75,
   "id": "47208661-26b4-42d8-b5ae-8b2ab538f2c5",
   "metadata": {},
   "outputs": [
    {
     "data": {
      "text/plain": [
       "array([ 0,  1,  2,  3,  4,  5,  6,  7,  8,  9, 10, 11, 12, 13, 14, 15, 16,\n",
       "       17, 18, 19, 20, 21, 22, 23])"
      ]
     },
     "execution_count": 75,
     "metadata": {},
     "output_type": "execute_result"
    }
   ],
   "source": [
    "D = np.arange(24)\n",
    "D"
   ]
  },
  {
   "cell_type": "code",
   "execution_count": 76,
   "id": "075edc1c-d1af-456a-b923-57528fa6796c",
   "metadata": {},
   "outputs": [
    {
     "data": {
      "text/plain": [
       "array([[[ 0,  1,  2,  3],\n",
       "        [ 4,  5,  6,  7],\n",
       "        [ 8,  9, 10, 11]],\n",
       "\n",
       "       [[12, 13, 14, 15],\n",
       "        [16, 17, 18, 19],\n",
       "        [20, 21, 22, 23]]])"
      ]
     },
     "execution_count": 76,
     "metadata": {},
     "output_type": "execute_result"
    }
   ],
   "source": [
    "D = np.reshape(D,(2,3,4))\n",
    "D"
   ]
  },
  {
   "cell_type": "code",
   "execution_count": 77,
   "id": "c356eea2-bab7-4c3e-a49b-a24c018fd915",
   "metadata": {},
   "outputs": [
    {
     "data": {
      "text/plain": [
       "array([[[ 60],\n",
       "        [ 92],\n",
       "        [124]]])"
      ]
     },
     "execution_count": 77,
     "metadata": {},
     "output_type": "execute_result"
    }
   ],
   "source": [
    "DQ = np.apply_over_axes(np.sum, D, [0,2])\n",
    "DQ"
   ]
  },
  {
   "cell_type": "markdown",
   "id": "7a754343-0e9c-4a5d-a40c-1860ef028097",
   "metadata": {},
   "source": [
    "# 15. Arrange"
   ]
  },
  {
   "cell_type": "code",
   "execution_count": 78,
   "id": "51dd5c11-1956-40a1-ba9f-d1e45bff9f14",
   "metadata": {},
   "outputs": [
    {
     "data": {
      "text/plain": [
       "array([0, 1, 2, 3, 4, 5, 6, 7, 8])"
      ]
     },
     "execution_count": 78,
     "metadata": {},
     "output_type": "execute_result"
    }
   ],
   "source": [
    "np.arange(9)"
   ]
  },
  {
   "cell_type": "code",
   "execution_count": 79,
   "id": "3fbacc5b-9810-41f6-ae65-f0b6759f415d",
   "metadata": {},
   "outputs": [
    {
     "data": {
      "text/plain": [
       "array([], dtype=int32)"
      ]
     },
     "execution_count": 79,
     "metadata": {},
     "output_type": "execute_result"
    }
   ],
   "source": [
    "np.arange(11,0)"
   ]
  },
  {
   "cell_type": "code",
   "execution_count": 80,
   "id": "f3114959-653d-4943-9ef4-38afecfcdc3d",
   "metadata": {},
   "outputs": [
    {
     "data": {
      "text/plain": [
       "array([0., 1., 2., 3., 4., 5., 6., 7.])"
      ]
     },
     "execution_count": 80,
     "metadata": {},
     "output_type": "execute_result"
    }
   ],
   "source": [
    "np.arange(8, dtype=float)"
   ]
  },
  {
   "cell_type": "code",
   "execution_count": 81,
   "id": "f23a9db0-b5da-4435-852e-896324ef4250",
   "metadata": {},
   "outputs": [
    {
     "data": {
      "text/plain": [
       "array([ 3, 12, 21])"
      ]
     },
     "execution_count": 81,
     "metadata": {},
     "output_type": "execute_result"
    }
   ],
   "source": [
    "np.arange(3,30,9)"
   ]
  },
  {
   "cell_type": "markdown",
   "id": "826cca83-a157-4c4c-90a1-0e972cb7243f",
   "metadata": {},
   "source": [
    "# 16.arccos"
   ]
  },
  {
   "cell_type": "code",
   "execution_count": 82,
   "id": "03b462e3-302a-4e14-81a4-b221fc18fae8",
   "metadata": {},
   "outputs": [
    {
     "data": {
      "text/plain": [
       "array([1.65745445, 2.99322285])"
      ]
     },
     "execution_count": 82,
     "metadata": {},
     "output_type": "execute_result"
    }
   ],
   "source": [
    "np.arccosh([np.e, 10.0])"
   ]
  },
  {
   "cell_type": "code",
   "execution_count": 83,
   "id": "a080d0fc-762b-40b8-9b7c-e4ab6da533ab",
   "metadata": {},
   "outputs": [
    {
     "data": {
      "text/plain": [
       "0.0"
      ]
     },
     "execution_count": 83,
     "metadata": {},
     "output_type": "execute_result"
    }
   ],
   "source": [
    "np.arccosh(1)"
   ]
  },
  {
   "cell_type": "markdown",
   "id": "4c0d9225-f582-4069-8cb2-50c997e6dd17",
   "metadata": {},
   "source": [
    "# 17.arccosh"
   ]
  },
  {
   "cell_type": "code",
   "execution_count": 84,
   "id": "5b717dc9-ea21-4412-a0cc-e658c6446909",
   "metadata": {},
   "outputs": [
    {
     "data": {
      "text/plain": [
       "array([1.65745445, 2.99322285])"
      ]
     },
     "execution_count": 84,
     "metadata": {},
     "output_type": "execute_result"
    }
   ],
   "source": [
    "np.arccosh([np.e, 10.0])"
   ]
  },
  {
   "cell_type": "code",
   "execution_count": 85,
   "id": "fa8de369-57e9-4682-8636-c618e0227206",
   "metadata": {},
   "outputs": [
    {
     "data": {
      "text/plain": [
       "0.0"
      ]
     },
     "execution_count": 85,
     "metadata": {},
     "output_type": "execute_result"
    }
   ],
   "source": [
    "\n",
    "np.arccosh(1)"
   ]
  },
  {
   "cell_type": "markdown",
   "id": "c0b3b1f4-1110-4eff-8281-f01ce75111ea",
   "metadata": {},
   "source": [
    "# arcsin"
   ]
  },
  {
   "cell_type": "code",
   "execution_count": 86,
   "id": "d8a4b6d3-8e83-43e3-a760-e2aba5921173",
   "metadata": {},
   "outputs": [
    {
     "data": {
      "text/plain": [
       "array([ 1.57079633, -1.57079633,  0.        ])"
      ]
     },
     "execution_count": 86,
     "metadata": {},
     "output_type": "execute_result"
    }
   ],
   "source": [
    "np.arcsin([1, -1, 0])"
   ]
  },
  {
   "cell_type": "markdown",
   "id": "0c5a5e1b-0798-4188-8ef8-8a66dcf1f59a",
   "metadata": {},
   "source": [
    "## 20 arctan"
   ]
  },
  {
   "cell_type": "code",
   "execution_count": 216,
   "id": "6e70d17b-ff0a-4954-bc04-18f231e56f2e",
   "metadata": {},
   "outputs": [
    {
     "data": {
      "text/plain": [
       "array([ 0.        ,  0.78539816, -0.78539816])"
      ]
     },
     "execution_count": 216,
     "metadata": {},
     "output_type": "execute_result"
    }
   ],
   "source": [
    "\n",
    "np.arctan([0, 1, -1])"
   ]
  },
  {
   "cell_type": "markdown",
   "id": "222fa161-618f-401f-b347-4068c575dddb",
   "metadata": {},
   "source": [
    "## 21.arctan2"
   ]
  },
  {
   "cell_type": "code",
   "execution_count": 217,
   "id": "20a1570f-bf75-48e0-a713-6812f6472f2c",
   "metadata": {},
   "outputs": [
    {
     "data": {
      "text/plain": [
       "array([-135.,  -45.,   45.,  135.])"
      ]
     },
     "execution_count": 217,
     "metadata": {},
     "output_type": "execute_result"
    }
   ],
   "source": [
    "#Consider four points in different quadrants\n",
    "x = np.array([-1, +1, +1, -1])\n",
    "y = np.array([-1, -1, +1, +1])\n",
    "np.arctan2(y, x) * 180 / np.pi # In Degree Unit"
   ]
  },
  {
   "cell_type": "code",
   "execution_count": 218,
   "id": "97806b7f-cc12-4d18-b389-97d398da5030",
   "metadata": {},
   "outputs": [
    {
     "data": {
      "text/plain": [
       "array([-2.35619449, -0.78539816,  0.78539816,  2.35619449])"
      ]
     },
     "execution_count": 218,
     "metadata": {},
     "output_type": "execute_result"
    }
   ],
   "source": [
    "np.arctan2(y,x)"
   ]
  },
  {
   "cell_type": "code",
   "execution_count": 90,
   "id": "5774c80d-5e0e-4270-aec6-305af5547870",
   "metadata": {},
   "outputs": [
    {
     "data": {
      "text/plain": [
       "array([ 1.57079633, -1.57079633])"
      ]
     },
     "execution_count": 90,
     "metadata": {},
     "output_type": "execute_result"
    }
   ],
   "source": [
    "np.arctan2([1., -1.],[0., 0.])"
   ]
  },
  {
   "cell_type": "code",
   "execution_count": 91,
   "id": "71e5d043-531c-468b-845b-38c668637391",
   "metadata": {},
   "outputs": [
    {
     "data": {
      "text/plain": [
       "array([0.        , 1.57079633])"
      ]
     },
     "execution_count": 91,
     "metadata": {},
     "output_type": "execute_result"
    }
   ],
   "source": [
    "np.arctan2([0,1], [1,0])"
   ]
  },
  {
   "cell_type": "markdown",
   "id": "3f099658-3804-4eba-8bfc-d96f9fe30bb5",
   "metadata": {},
   "source": [
    "# 22.arctanh"
   ]
  },
  {
   "cell_type": "code",
   "execution_count": 92,
   "id": "066db7d7-ac97-438c-8bd8-aa7f7b908811",
   "metadata": {},
   "outputs": [
    {
     "data": {
      "text/plain": [
       "array([ 0.        , -0.54930614])"
      ]
     },
     "execution_count": 92,
     "metadata": {},
     "output_type": "execute_result"
    }
   ],
   "source": [
    "\n",
    "np.arctanh([0, -0.5])"
   ]
  },
  {
   "cell_type": "markdown",
   "id": "195b79ec-ef45-4710-8946-23506cfb3e9d",
   "metadata": {},
   "source": [
    "## 23. argmax"
   ]
  },
  {
   "cell_type": "code",
   "execution_count": 93,
   "id": "8ec08f61-9e5d-4ef8-a12d-a2d3a0820484",
   "metadata": {},
   "outputs": [],
   "source": [
    "J = np.array([0,11,95,2,-5,55])"
   ]
  },
  {
   "cell_type": "code",
   "execution_count": 94,
   "id": "8e804faa-fb40-4526-9ced-1944862dde12",
   "metadata": {},
   "outputs": [
    {
     "data": {
      "text/plain": [
       "2"
      ]
     },
     "execution_count": 94,
     "metadata": {},
     "output_type": "execute_result"
    }
   ],
   "source": [
    "np.argmax(J)"
   ]
  },
  {
   "cell_type": "code",
   "execution_count": 95,
   "id": "23066e21-cee4-45be-bbdc-1744ba2b68c9",
   "metadata": {},
   "outputs": [
    {
     "data": {
      "text/plain": [
       "array([[10, 11, 12],\n",
       "       [13, 14, 15]])"
      ]
     },
     "execution_count": 95,
     "metadata": {},
     "output_type": "execute_result"
    }
   ],
   "source": [
    "j1 = np.arange(6).reshape(2,3) + 10\n",
    "j1"
   ]
  },
  {
   "cell_type": "code",
   "execution_count": 96,
   "id": "50ce1d8e-4eec-4731-8012-3336410cf692",
   "metadata": {},
   "outputs": [
    {
     "data": {
      "text/plain": [
       "5"
      ]
     },
     "execution_count": 96,
     "metadata": {},
     "output_type": "execute_result"
    }
   ],
   "source": [
    "np.argmax(j1)"
   ]
  },
  {
   "cell_type": "code",
   "execution_count": 97,
   "id": "8d1a2060-308d-44a9-a501-913967bd6dcc",
   "metadata": {},
   "outputs": [],
   "source": [
    "J2 = np.array([[1, 9, 0, 4], [2, 0, 8, -1]])"
   ]
  },
  {
   "cell_type": "code",
   "execution_count": 98,
   "id": "f4ee71eb-db1b-4158-9021-a2a66dfc533e",
   "metadata": {},
   "outputs": [
    {
     "data": {
      "text/plain": [
       "array([[ 1,  9,  0,  4],\n",
       "       [ 2,  0,  8, -1]])"
      ]
     },
     "execution_count": 98,
     "metadata": {},
     "output_type": "execute_result"
    }
   ],
   "source": [
    "J2"
   ]
  },
  {
   "cell_type": "code",
   "execution_count": 99,
   "id": "b2f39858-7f02-4a1b-a44e-dba05482206f",
   "metadata": {},
   "outputs": [
    {
     "data": {
      "text/plain": [
       "array([1, 0, 1, 0], dtype=int64)"
      ]
     },
     "execution_count": 99,
     "metadata": {},
     "output_type": "execute_result"
    }
   ],
   "source": [
    "np.argmax(J2, axis=0)"
   ]
  },
  {
   "cell_type": "code",
   "execution_count": 100,
   "id": "2160f452-fde9-4dd6-a414-4ea2b45954af",
   "metadata": {},
   "outputs": [
    {
     "data": {
      "text/plain": [
       "array([1, 2], dtype=int64)"
      ]
     },
     "execution_count": 100,
     "metadata": {},
     "output_type": "execute_result"
    }
   ],
   "source": [
    "np.argmax(J2, axis=1)"
   ]
  },
  {
   "cell_type": "markdown",
   "id": "cca4020f-e149-4d8f-96e4-fc6b854eb882",
   "metadata": {},
   "source": [
    "# 24.argmin"
   ]
  },
  {
   "cell_type": "code",
   "execution_count": 101,
   "id": "f81ed9e5-dd31-4378-adfe-15818ee854ec",
   "metadata": {},
   "outputs": [],
   "source": [
    "d4 = np.array([0,11,95,2,-5,55])"
   ]
  },
  {
   "cell_type": "code",
   "execution_count": 102,
   "id": "6abe9dae-969b-458e-b0fd-79108fb1a2e6",
   "metadata": {},
   "outputs": [
    {
     "data": {
      "text/plain": [
       "4"
      ]
     },
     "execution_count": 102,
     "metadata": {},
     "output_type": "execute_result"
    }
   ],
   "source": [
    "np.argmin(d4)"
   ]
  },
  {
   "cell_type": "code",
   "execution_count": 103,
   "id": "f69da3a2-9dbf-4a79-8d92-0c50a8c3aff2",
   "metadata": {},
   "outputs": [
    {
     "data": {
      "text/plain": [
       "array([[10, 11, 12],\n",
       "       [13, 14, 15]])"
      ]
     },
     "execution_count": 103,
     "metadata": {},
     "output_type": "execute_result"
    }
   ],
   "source": [
    "d9 = np.arange(6).reshape(2,3) + 10\n",
    "d9"
   ]
  },
  {
   "cell_type": "code",
   "execution_count": 104,
   "id": "40657ff6-c011-4f96-bac9-97f3c880eac9",
   "metadata": {},
   "outputs": [
    {
     "data": {
      "text/plain": [
       "0"
      ]
     },
     "execution_count": 104,
     "metadata": {},
     "output_type": "execute_result"
    }
   ],
   "source": [
    "np.argmin(d9)"
   ]
  },
  {
   "cell_type": "code",
   "execution_count": 105,
   "id": "68e781a2-dd4e-4edd-9c95-11792a89b699",
   "metadata": {},
   "outputs": [
    {
     "data": {
      "text/plain": [
       "array([[50, 50, 10],\n",
       "       [60, 10, 40]])"
      ]
     },
     "execution_count": 105,
     "metadata": {},
     "output_type": "execute_result"
    }
   ],
   "source": [
    "da2 = np.array([[50,50,10],[60,10,40]])\n",
    "da2"
   ]
  },
  {
   "cell_type": "code",
   "execution_count": 106,
   "id": "993ed3ed-917d-4ce1-9d21-6b7ad29e4dfa",
   "metadata": {},
   "outputs": [
    {
     "data": {
      "text/plain": [
       "2"
      ]
     },
     "execution_count": 106,
     "metadata": {},
     "output_type": "execute_result"
    }
   ],
   "source": [
    "np.argmin(da2)"
   ]
  },
  {
   "cell_type": "code",
   "execution_count": 107,
   "id": "e09ecf60-da28-4c3a-bcca-ed1a6ea44716",
   "metadata": {},
   "outputs": [
    {
     "data": {
      "text/plain": [
       "array([0, 1, 0], dtype=int64)"
      ]
     },
     "execution_count": 107,
     "metadata": {},
     "output_type": "execute_result"
    }
   ],
   "source": [
    "np.argmin(da2, axis=0)"
   ]
  },
  {
   "cell_type": "code",
   "execution_count": 108,
   "id": "e0fb6bee-a7f8-4e4f-be53-d1ffd3ea5d8e",
   "metadata": {},
   "outputs": [
    {
     "data": {
      "text/plain": [
       "array([2, 1], dtype=int64)"
      ]
     },
     "execution_count": 108,
     "metadata": {},
     "output_type": "execute_result"
    }
   ],
   "source": [
    "np.argmin(da2, axis=1)"
   ]
  },
  {
   "cell_type": "markdown",
   "id": "3ea115f3-6c76-419d-a427-62a72b69dc2c",
   "metadata": {},
   "source": [
    "# 25.argsoft"
   ]
  },
  {
   "cell_type": "code",
   "execution_count": 109,
   "id": "7a51e1fc-14bc-4328-b577-3229a9e06ac8",
   "metadata": {},
   "outputs": [],
   "source": [
    "AB1 = np.array([2,0, 1, 5, 4, 1, 9])"
   ]
  },
  {
   "cell_type": "code",
   "execution_count": 110,
   "id": "8d87d0ee-1f27-4e03-979b-8d2fee3a9161",
   "metadata": {},
   "outputs": [
    {
     "data": {
      "text/plain": [
       "array([1, 2, 5, 0, 4, 3, 6], dtype=int64)"
      ]
     },
     "execution_count": 110,
     "metadata": {},
     "output_type": "execute_result"
    }
   ],
   "source": [
    "np.argsort(AB1)"
   ]
  },
  {
   "cell_type": "code",
   "execution_count": 111,
   "id": "b868bac6-a806-4fef-8774-a711a067d8cb",
   "metadata": {},
   "outputs": [
    {
     "data": {
      "text/plain": [
       "array([1, 2, 5, 0, 4, 3, 6], dtype=int64)"
      ]
     },
     "execution_count": 111,
     "metadata": {},
     "output_type": "execute_result"
    }
   ],
   "source": [
    "BQ = np.argsort(AB1)\n",
    "BQ"
   ]
  },
  {
   "cell_type": "code",
   "execution_count": 112,
   "id": "3699c041-4c44-413a-9b96-87dde3b64d36",
   "metadata": {},
   "outputs": [
    {
     "data": {
      "text/plain": [
       "array([0, 1, 1, 2, 4, 5, 9])"
      ]
     },
     "execution_count": 112,
     "metadata": {},
     "output_type": "execute_result"
    }
   ],
   "source": [
    "AB1[BQ]"
   ]
  },
  {
   "cell_type": "code",
   "execution_count": 113,
   "id": "989c33cd-3f18-478f-8706-5c174581cc78",
   "metadata": {},
   "outputs": [
    {
     "data": {
      "text/plain": [
       "array([[8, 4, 1],\n",
       "       [2, 0, 9]])"
      ]
     },
     "execution_count": 113,
     "metadata": {},
     "output_type": "execute_result"
    }
   ],
   "source": [
    "aq1 = np.array([[8,4,1],[2,0,9]])\n",
    "aq1"
   ]
  },
  {
   "cell_type": "code",
   "execution_count": 114,
   "id": "1c75bbee-e97d-4e8e-80c8-ffd29fcf8d58",
   "metadata": {},
   "outputs": [
    {
     "data": {
      "text/plain": [
       "array([[1, 1, 0],\n",
       "       [0, 0, 1]], dtype=int64)"
      ]
     },
     "execution_count": 114,
     "metadata": {},
     "output_type": "execute_result"
    }
   ],
   "source": [
    "JQ1 = aq1.argsort(axis=0)\n",
    "JQ1"
   ]
  },
  {
   "cell_type": "code",
   "execution_count": 115,
   "id": "0541a442-b64f-4e66-ab7b-ece247d425f7",
   "metadata": {},
   "outputs": [
    {
     "data": {
      "text/plain": [
       "array([[2, 0, 1],\n",
       "       [8, 4, 9]])"
      ]
     },
     "execution_count": 115,
     "metadata": {},
     "output_type": "execute_result"
    }
   ],
   "source": [
    "aq1 [JQ1,[[0,1,2],[0,1,2]]]"
   ]
  },
  {
   "cell_type": "code",
   "execution_count": 116,
   "id": "39f64922-e4ee-4d41-951f-a2688f517fb9",
   "metadata": {},
   "outputs": [
    {
     "data": {
      "text/plain": [
       "array([[2, 1, 0],\n",
       "       [1, 0, 2]], dtype=int64)"
      ]
     },
     "execution_count": 116,
     "metadata": {},
     "output_type": "execute_result"
    }
   ],
   "source": [
    "JQ1 = aq1.argsort(axis=1)  # sort along rows. Can use aq1.argsort(axis=-1) for last axis.\n",
    "JQ1 "
   ]
  },
  {
   "cell_type": "markdown",
   "id": "6293a4ab-d259-4b96-876e-f3cea251def1",
   "metadata": {},
   "source": [
    "# 26.array"
   ]
  },
  {
   "cell_type": "code",
   "execution_count": 117,
   "id": "10a803b8-ac99-407a-bfe2-ca9bb123503e",
   "metadata": {},
   "outputs": [
    {
     "data": {
      "text/plain": [
       "array([1., 2., 3.])"
      ]
     },
     "execution_count": 117,
     "metadata": {},
     "output_type": "execute_result"
    }
   ],
   "source": [
    "np.array([1,2, 3.0])"
   ]
  },
  {
   "cell_type": "code",
   "execution_count": 118,
   "id": "434668f5-776d-4d72-a7eb-63a69b7a8f57",
   "metadata": {},
   "outputs": [
    {
     "data": {
      "text/plain": [
       "array([[1, 2],\n",
       "       [3, 4]])"
      ]
     },
     "execution_count": 118,
     "metadata": {},
     "output_type": "execute_result"
    }
   ],
   "source": [
    "np.array([[1,2],[3,4]])"
   ]
  },
  {
   "cell_type": "code",
   "execution_count": 119,
   "id": "b44935b6-e6c0-4d6f-b55b-cc2d09c00c39",
   "metadata": {},
   "outputs": [
    {
     "data": {
      "text/plain": [
       "array([1.+0.j, 2.+0.j, 3.+0.j])"
      ]
     },
     "execution_count": 119,
     "metadata": {},
     "output_type": "execute_result"
    }
   ],
   "source": [
    "np.array([1,2,3], dtype=complex)"
   ]
  },
  {
   "cell_type": "code",
   "execution_count": 120,
   "id": "b364ece7-c93b-4ee0-baf3-c81f7c33556c",
   "metadata": {},
   "outputs": [
    {
     "data": {
      "text/plain": [
       "array([[1, 2, 3]])"
      ]
     },
     "execution_count": 120,
     "metadata": {},
     "output_type": "execute_result"
    }
   ],
   "source": [
    "np.array([1,2,3], ndmin=2)"
   ]
  },
  {
   "cell_type": "code",
   "execution_count": 121,
   "id": "91d2f218-e9b8-47c5-85a4-96c33575438d",
   "metadata": {},
   "outputs": [
    {
     "data": {
      "text/plain": [
       "array([1])"
      ]
     },
     "execution_count": 121,
     "metadata": {},
     "output_type": "execute_result"
    }
   ],
   "source": [
    "np.array(1, copy=0, subok=1, ndmin=1)"
   ]
  },
  {
   "cell_type": "code",
   "execution_count": 122,
   "id": "fecbca3b-84a4-48d1-a30f-e308930f4f64",
   "metadata": {},
   "outputs": [
    {
     "data": {
      "text/plain": [
       "array([[1]])"
      ]
     },
     "execution_count": 122,
     "metadata": {},
     "output_type": "execute_result"
    }
   ],
   "source": [
    "np.array(1, copy=0, subok=1, ndmin=2)"
   ]
  },
  {
   "cell_type": "code",
   "execution_count": 123,
   "id": "61ae6339-b19d-4c1f-9f99-685c1323ad0b",
   "metadata": {},
   "outputs": [
    {
     "data": {
      "text/plain": [
       "array([[1]])"
      ]
     },
     "execution_count": 123,
     "metadata": {},
     "output_type": "execute_result"
    }
   ],
   "source": [
    "np.array(1, subok=1, ndmin=2)"
   ]
  },
  {
   "cell_type": "markdown",
   "id": "8e175dbc-b686-4844-a9b6-20b802c97eda",
   "metadata": {},
   "source": [
    "# 27.arrayrange \n",
    "## same as Synonym for arange"
   ]
  },
  {
   "cell_type": "markdown",
   "id": "b82b9838-ea75-4bfc-8d76-3efa978644e5",
   "metadata": {},
   "source": [
    "## 28.Array split"
   ]
  },
  {
   "cell_type": "code",
   "execution_count": 124,
   "id": "3c158682-54d0-4357-9ae9-1487904969e9",
   "metadata": {},
   "outputs": [
    {
     "data": {
      "text/plain": [
       "array([[1, 2, 3, 4],\n",
       "       [5, 6, 7, 8]])"
      ]
     },
     "execution_count": 124,
     "metadata": {},
     "output_type": "execute_result"
    }
   ],
   "source": [
    "c4 = np.array([[1,2,3,4],[5,6,7,8]])\n",
    "c4"
   ]
  },
  {
   "cell_type": "code",
   "execution_count": 125,
   "id": "e7a06e8d-178a-45f4-b118-17b01dc02170",
   "metadata": {},
   "outputs": [
    {
     "data": {
      "text/plain": [
       "[array([[1],\n",
       "        [5]]),\n",
       " array([[2],\n",
       "        [6]]),\n",
       " array([[3],\n",
       "        [7]]),\n",
       " array([[4],\n",
       "        [8]])]"
      ]
     },
     "execution_count": 125,
     "metadata": {},
     "output_type": "execute_result"
    }
   ],
   "source": [
    "np.array_split(c4, 4, axis=1)"
   ]
  },
  {
   "cell_type": "code",
   "execution_count": 126,
   "id": "6304f72c-d63f-4bc8-a2ab-2009122ef57a",
   "metadata": {},
   "outputs": [
    {
     "data": {
      "text/plain": [
       "[array([[1, 2],\n",
       "        [5, 6]]),\n",
       " array([[3],\n",
       "        [7]]),\n",
       " array([[4],\n",
       "        [8]])]"
      ]
     },
     "execution_count": 126,
     "metadata": {},
     "output_type": "execute_result"
    }
   ],
   "source": [
    "np.array_split(c4,3,axis=1)"
   ]
  },
  {
   "cell_type": "code",
   "execution_count": 127,
   "id": "d5353a16-8ba5-40f5-8560-ef29348add51",
   "metadata": {},
   "outputs": [
    {
     "data": {
      "text/plain": [
       "[array([[1, 2],\n",
       "        [5, 6]]),\n",
       " array([[3],\n",
       "        [7]]),\n",
       " array([[4],\n",
       "        [8]])]"
      ]
     },
     "execution_count": 127,
     "metadata": {},
     "output_type": "execute_result"
    }
   ],
   "source": [
    "np.array_split(c4,[2,3], axis=1)"
   ]
  },
  {
   "cell_type": "markdown",
   "id": "8ca074d4-dcca-48da-99c5-7490f41c87e4",
   "metadata": {},
   "source": [
    "# 29.asarray"
   ]
  },
  {
   "cell_type": "code",
   "execution_count": 128,
   "id": "218f913c-2a9d-4856-944a-df1520d3dace",
   "metadata": {},
   "outputs": [
    {
     "data": {
      "text/plain": [
       "array([1, 3, 5, 7, 9])"
      ]
     },
     "execution_count": 128,
     "metadata": {},
     "output_type": "execute_result"
    }
   ],
   "source": [
    "my_list = [1,3,5,7,9]\n",
    "np.asarray(my_list)"
   ]
  },
  {
   "cell_type": "code",
   "execution_count": 129,
   "id": "f236d2fe-5543-43bd-9cc0-f79ae766d6b5",
   "metadata": {},
   "outputs": [
    {
     "data": {
      "text/plain": [
       "array([[1, 3, 9],\n",
       "       [8, 2, 6]])"
      ]
     },
     "execution_count": 129,
     "metadata": {},
     "output_type": "execute_result"
    }
   ],
   "source": [
    "my_tuple = ([1,3,9], [8,2,6])\n",
    "np.asarray(my_tuple)"
   ]
  },
  {
   "cell_type": "code",
   "execution_count": 130,
   "id": "26bdf38b-ae91-4436-9f23-b2717e5444e5",
   "metadata": {},
   "outputs": [
    {
     "data": {
      "text/plain": [
       "matrix([[1, 2],\n",
       "        [5, 8]])"
      ]
     },
     "execution_count": 130,
     "metadata": {},
     "output_type": "execute_result"
    }
   ],
   "source": [
    "m = np.matrix('1 2; 5 8')\n",
    "m"
   ]
  },
  {
   "cell_type": "code",
   "execution_count": 131,
   "id": "b5629a1a-6071-4219-9e80-004eba5d00f7",
   "metadata": {},
   "outputs": [
    {
     "data": {
      "text/plain": [
       "array([[1, 2],\n",
       "       [5, 8]])"
      ]
     },
     "execution_count": 131,
     "metadata": {},
     "output_type": "execute_result"
    }
   ],
   "source": [
    "B9 = np.asarray(m)\n",
    "B9"
   ]
  },
  {
   "cell_type": "code",
   "execution_count": 132,
   "id": "a9f5d88c-7f80-42b6-8c68-b16d14328bb4",
   "metadata": {},
   "outputs": [
    {
     "data": {
      "text/plain": [
       "matrix([[   1, -190],\n",
       "        [   5,    8]])"
      ]
     },
     "execution_count": 132,
     "metadata": {},
     "output_type": "execute_result"
    }
   ],
   "source": [
    "m[0,1] = -190\n",
    "m"
   ]
  },
  {
   "cell_type": "code",
   "execution_count": 133,
   "id": "9ecccd15-20a4-478e-9c4a-b6822acc9546",
   "metadata": {},
   "outputs": [
    {
     "data": {
      "text/plain": [
       "array([[   1, -190],\n",
       "       [   5,    8]])"
      ]
     },
     "execution_count": 133,
     "metadata": {},
     "output_type": "execute_result"
    }
   ],
   "source": [
    "B9"
   ]
  },
  {
   "cell_type": "markdown",
   "id": "417293bd-e00a-498c-8adc-b8510a63a473",
   "metadata": {},
   "source": [
    "# 30 asanyarray"
   ]
  },
  {
   "cell_type": "code",
   "execution_count": 134,
   "id": "d4f51584-72ce-4acf-b01d-1b9ad795c63c",
   "metadata": {},
   "outputs": [
    {
     "data": {
      "text/plain": [
       "array([[1, 2],\n",
       "       [5, 8]])"
      ]
     },
     "execution_count": 134,
     "metadata": {},
     "output_type": "execute_result"
    }
   ],
   "source": [
    "c7 = np.array([[1,2],[5,8]])\n",
    "c7"
   ]
  },
  {
   "cell_type": "code",
   "execution_count": 135,
   "id": "a6410e54-01a8-4bfe-9721-b5e195c92e24",
   "metadata": {},
   "outputs": [
    {
     "data": {
      "text/plain": [
       "matrix([[1, 2],\n",
       "        [5, 8]])"
      ]
     },
     "execution_count": 135,
     "metadata": {},
     "output_type": "execute_result"
    }
   ],
   "source": [
    "mq = np.matrix('1 2; 5 8')\n",
    "mq"
   ]
  },
  {
   "cell_type": "code",
   "execution_count": 136,
   "id": "d5a5d256-493b-40a3-9d0e-38184ab2148b",
   "metadata": {},
   "outputs": [
    {
     "data": {
      "text/plain": [
       "array([[1, 2],\n",
       "       [5, 8]])"
      ]
     },
     "execution_count": 136,
     "metadata": {},
     "output_type": "execute_result"
    }
   ],
   "source": [
    "np.asanyarray(c7)"
   ]
  },
  {
   "cell_type": "code",
   "execution_count": 137,
   "id": "86e94206-f0ec-49bb-b983-241fd0a0b149",
   "metadata": {},
   "outputs": [
    {
     "data": {
      "text/plain": [
       "matrix([[1, 2],\n",
       "        [5, 8]])"
      ]
     },
     "execution_count": 137,
     "metadata": {},
     "output_type": "execute_result"
    }
   ],
   "source": [
    "np.asanyarray(mq)"
   ]
  },
  {
   "cell_type": "code",
   "execution_count": 138,
   "id": "eebe02d2-a9cb-4ef1-9af3-72bdb3ce0d50",
   "metadata": {},
   "outputs": [],
   "source": [
    "my_tuple1 = ([1,3,9],[8,2,6])"
   ]
  },
  {
   "cell_type": "code",
   "execution_count": 139,
   "id": "92ba85f0-985e-4afd-b6f2-628ac284b221",
   "metadata": {},
   "outputs": [
    {
     "data": {
      "text/plain": [
       "array([[1, 3, 9],\n",
       "       [8, 2, 6]])"
      ]
     },
     "execution_count": 139,
     "metadata": {},
     "output_type": "execute_result"
    }
   ],
   "source": [
    "np.asanyarray(my_tuple1)"
   ]
  },
  {
   "cell_type": "markdown",
   "id": "7ed49348-6f3a-4558-879b-9a342cc815b0",
   "metadata": {},
   "source": [
    "# 31.asmatrix"
   ]
  },
  {
   "cell_type": "code",
   "execution_count": 140,
   "id": "7b2b177f-241e-4c86-89c2-f40685f78505",
   "metadata": {},
   "outputs": [
    {
     "data": {
      "text/plain": [
       "matrix([[1, 2],\n",
       "        [3, 4]])"
      ]
     },
     "execution_count": 140,
     "metadata": {},
     "output_type": "execute_result"
    }
   ],
   "source": [
    "x = np.array([[1, 2], [3, 4]])\n",
    "m = np.asmatrix(x)# m is matrix type with same contents as x -- data is not copied\n",
    "m"
   ]
  },
  {
   "cell_type": "code",
   "execution_count": 141,
   "id": "6f33566b-53f3-46bf-b8d8-fc6d530243a0",
   "metadata": {},
   "outputs": [
    {
     "name": "stdout",
     "output_type": "stream",
     "text": [
      "[[5 2]\n",
      " [3 4]]\n"
     ]
    }
   ],
   "source": [
    "x[0,0] = 5\n",
    "print(m)"
   ]
  },
  {
   "cell_type": "markdown",
   "id": "60006f7a-5988-48b6-aa90-7d89ca4d5e28",
   "metadata": {},
   "source": [
    "## 32.astype"
   ]
  },
  {
   "cell_type": "code",
   "execution_count": 142,
   "id": "a171cfc8-a608-4c6f-82a4-f42ca3dac9e7",
   "metadata": {},
   "outputs": [
    {
     "data": {
      "text/plain": [
       "array([1. , 2. , 2.5])"
      ]
     },
     "execution_count": 142,
     "metadata": {},
     "output_type": "execute_result"
    }
   ],
   "source": [
    "x6 = np.array([1,2, 2.5])\n",
    "x6"
   ]
  },
  {
   "cell_type": "code",
   "execution_count": 143,
   "id": "9aecca7f-cd30-4b99-b359-051cfa91f19f",
   "metadata": {},
   "outputs": [
    {
     "data": {
      "text/plain": [
       "array([1, 2, 2])"
      ]
     },
     "execution_count": 143,
     "metadata": {},
     "output_type": "execute_result"
    }
   ],
   "source": [
    "x6.astype(int)"
   ]
  },
  {
   "cell_type": "code",
   "execution_count": 144,
   "id": "4a4deea5-d968-4b84-bf1b-54c30b3ea78b",
   "metadata": {},
   "outputs": [
    {
     "data": {
      "text/plain": [
       "array([1. , 2. , 2.5])"
      ]
     },
     "execution_count": 144,
     "metadata": {},
     "output_type": "execute_result"
    }
   ],
   "source": [
    "x6.astype(None)"
   ]
  },
  {
   "cell_type": "markdown",
   "id": "195e4a5e-388b-4876-af60-a9f4225bb9f2",
   "metadata": {},
   "source": [
    "# 33.atleast 1d"
   ]
  },
  {
   "cell_type": "code",
   "execution_count": 145,
   "id": "4536d1ba-2688-48fb-8d91-fc5560b82682",
   "metadata": {},
   "outputs": [
    {
     "data": {
      "text/plain": [
       "array([[[0, 1],\n",
       "        [2, 3]],\n",
       "\n",
       "       [[4, 5],\n",
       "        [6, 7]]])"
      ]
     },
     "execution_count": 145,
     "metadata": {},
     "output_type": "execute_result"
    }
   ],
   "source": [
    "a01 = 1 # 0-d array\n",
    "b01 = np.array([2,3]) # 1-d array\n",
    "c01 = np.array([[4,5],[6,7]]) # 2-d array\n",
    "d01 = np.arange(8).reshape(2,2,2) # 3-d array\n",
    "d01"
   ]
  },
  {
   "cell_type": "code",
   "execution_count": 146,
   "id": "adb8faa5-d8d0-4ddb-a5ae-42914bef9347",
   "metadata": {},
   "outputs": [
    {
     "data": {
      "text/plain": [
       "[array([1]),\n",
       " array([2, 3]),\n",
       " array([[4, 5],\n",
       "        [6, 7]]),\n",
       " array([[[0, 1],\n",
       "         [2, 3]],\n",
       " \n",
       "        [[4, 5],\n",
       "         [6, 7]]])]"
      ]
     },
     "execution_count": 146,
     "metadata": {},
     "output_type": "execute_result"
    }
   ],
   "source": [
    "np.atleast_1d(a01,b01,c01,d01)"
   ]
  },
  {
   "cell_type": "markdown",
   "id": "74d8f8a3-a243-4f7e-8a09-46ace17a30a9",
   "metadata": {},
   "source": [
    "# 34.atleast_2d()"
   ]
  },
  {
   "cell_type": "code",
   "execution_count": 147,
   "id": "b3567d9b-7929-40d8-a6b8-88489bff08d1",
   "metadata": {},
   "outputs": [
    {
     "data": {
      "text/plain": [
       "array([[[0, 1],\n",
       "        [2, 3]],\n",
       "\n",
       "       [[4, 5],\n",
       "        [6, 7]]])"
      ]
     },
     "execution_count": 147,
     "metadata": {},
     "output_type": "execute_result"
    }
   ],
   "source": [
    "a11 = 1 # 0-d array\n",
    "b11 = np.array([2,3]) # 1-d array\n",
    "c11 = np.array([[4,5],[6,7]]) # 2-d array\n",
    "d11 = np.arange(8).reshape(2,2,2) # 3-d array\n",
    "d11"
   ]
  },
  {
   "cell_type": "code",
   "execution_count": 148,
   "id": "10106a20-f623-4ee5-a207-59928303306f",
   "metadata": {},
   "outputs": [
    {
     "data": {
      "text/plain": [
       "[array([[1]]),\n",
       " array([[2, 3]]),\n",
       " array([[4, 5],\n",
       "        [6, 7]]),\n",
       " array([[[0, 1],\n",
       "         [2, 3]],\n",
       " \n",
       "        [[4, 5],\n",
       "         [6, 7]]])]"
      ]
     },
     "execution_count": 148,
     "metadata": {},
     "output_type": "execute_result"
    }
   ],
   "source": [
    "np.atleast_2d(a11,b11,c11,d11)"
   ]
  },
  {
   "cell_type": "markdown",
   "id": "27b6f807-8dda-494f-8a28-06ffa57b54e3",
   "metadata": {},
   "source": [
    "## 35.atleast_3d()"
   ]
  },
  {
   "cell_type": "code",
   "execution_count": 149,
   "id": "e913d590-74e6-4c87-8518-9b775480b1ad",
   "metadata": {},
   "outputs": [
    {
     "data": {
      "text/plain": [
       "array([[[0, 1],\n",
       "        [2, 3]],\n",
       "\n",
       "       [[4, 5],\n",
       "        [6, 7]]])"
      ]
     },
     "execution_count": 149,
     "metadata": {},
     "output_type": "execute_result"
    }
   ],
   "source": [
    "f = 1 # 0-d array\n",
    "g = np.array([2,3]) # 1-d array\n",
    "h = np.array([[4,5],[6,7]]) # 2-d array\n",
    "i = np.arange(8).reshape(2,2,2) # 3-d array\n",
    "i"
   ]
  },
  {
   "cell_type": "code",
   "execution_count": 150,
   "id": "429fac40-61c8-4ed4-976a-ac4a60e0196b",
   "metadata": {},
   "outputs": [
    {
     "data": {
      "text/plain": [
       "[array([[[1]]]),\n",
       " array([[[2],\n",
       "         [3]]]),\n",
       " array([[[4],\n",
       "         [5]],\n",
       " \n",
       "        [[6],\n",
       "         [7]]]),\n",
       " array([[[0, 1],\n",
       "         [2, 3]],\n",
       " \n",
       "        [[4, 5],\n",
       "         [6, 7]]])]"
      ]
     },
     "execution_count": 150,
     "metadata": {},
     "output_type": "execute_result"
    }
   ],
   "source": [
    "np.atleast_3d(f,g,h,i)"
   ]
  },
  {
   "cell_type": "markdown",
   "id": "9f1703dc-79cc-4e36-b015-0fb68ff5c786",
   "metadata": {},
   "source": [
    "# 36 Average"
   ]
  },
  {
   "cell_type": "code",
   "execution_count": 151,
   "id": "760f9d38-348a-4c01-9043-f1a84b265c32",
   "metadata": {},
   "outputs": [
    {
     "data": {
      "text/plain": [
       "array([1, 4, 5, 7, 5])"
      ]
     },
     "execution_count": 151,
     "metadata": {},
     "output_type": "execute_result"
    }
   ],
   "source": [
    "bz = np.array([1,4,5,7,5])\n",
    "bz"
   ]
  },
  {
   "cell_type": "code",
   "execution_count": 152,
   "id": "86bfaff7-5689-4534-86b3-d2bfe7ae4f34",
   "metadata": {},
   "outputs": [
    {
     "data": {
      "text/plain": [
       "4.4"
      ]
     },
     "execution_count": 152,
     "metadata": {},
     "output_type": "execute_result"
    }
   ],
   "source": [
    "np.average(bz)"
   ]
  },
  {
   "cell_type": "code",
   "execution_count": 153,
   "id": "a6ae372a-6a0b-49a4-b046-5792e444514f",
   "metadata": {},
   "outputs": [],
   "source": [
    "w = np.array([0.1,0.2,0.5,0.2,0.2])"
   ]
  },
  {
   "cell_type": "code",
   "execution_count": 154,
   "id": "dbb2c730-7891-4501-8886-bd4265a3c08e",
   "metadata": {},
   "outputs": [
    {
     "data": {
      "text/plain": [
       "4.833333333333333"
      ]
     },
     "execution_count": 154,
     "metadata": {},
     "output_type": "execute_result"
    }
   ],
   "source": [
    "np.average(bz,weights=w)"
   ]
  }
 ],
 "metadata": {
  "kernelspec": {
   "display_name": "Python [conda env:base] *",
   "language": "python",
   "name": "conda-base-py"
  },
  "language_info": {
   "codemirror_mode": {
    "name": "ipython",
    "version": 3
   },
   "file_extension": ".py",
   "mimetype": "text/x-python",
   "name": "python",
   "nbconvert_exporter": "python",
   "pygments_lexer": "ipython3",
   "version": "3.12.7"
  }
 },
 "nbformat": 4,
 "nbformat_minor": 5
}

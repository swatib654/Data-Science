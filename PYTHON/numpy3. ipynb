{
 "cells": [
  {
   "cell_type": "markdown",
   "id": "27744529-3288-4cf7-9a76-5ab1822ed6cb",
   "metadata": {},
   "source": [
    "# NUMPY 3"
   ]
  },
  {
   "cell_type": "code",
   "execution_count": 1,
   "id": "d44d2e01-cd6a-4e7e-8c36-d590e365c66f",
   "metadata": {},
   "outputs": [],
   "source": [
    "import numpy as np"
   ]
  },
  {
   "cell_type": "code",
   "execution_count": 2,
   "id": "30bb92c9-3782-49c9-94cf-eddcf17c1893",
   "metadata": {},
   "outputs": [
    {
     "data": {
      "text/plain": [
       "array([  2,   4,  56, 422,  32,   1])"
      ]
     },
     "execution_count": 2,
     "metadata": {},
     "output_type": "execute_result"
    }
   ],
   "source": [
    "np.array([2,4,56,422,32,1]) # 1d array"
   ]
  },
  {
   "cell_type": "code",
   "execution_count": 3,
   "id": "d39e0510-47b4-472c-955e-6f17799f606c",
   "metadata": {},
   "outputs": [
    {
     "name": "stdout",
     "output_type": "stream",
     "text": [
      "[  2   4  56 422  32   1]\n"
     ]
    }
   ],
   "source": [
    "a = np.array([2,4,56,422,32,1]) # vector\n",
    "print(a)"
   ]
  },
  {
   "cell_type": "code",
   "execution_count": 4,
   "id": "dbbd1002-5270-4381-927b-65e14258d4a4",
   "metadata": {},
   "outputs": [
    {
     "data": {
      "text/plain": [
       "numpy.ndarray"
      ]
     },
     "execution_count": 4,
     "metadata": {},
     "output_type": "execute_result"
    }
   ],
   "source": [
    "type(a)"
   ]
  },
  {
   "cell_type": "code",
   "execution_count": 5,
   "id": "e86c957c-4025-451a-a013-0f69509ab547",
   "metadata": {},
   "outputs": [
    {
     "name": "stdout",
     "output_type": "stream",
     "text": [
      "[[45 34 22  2]\n",
      " [24 55  3 22]]\n"
     ]
    }
   ],
   "source": [
    "new = np.array([[45,34,22,2],[24,55,3,22]])\n",
    "print(new)"
   ]
  },
  {
   "cell_type": "code",
   "execution_count": 6,
   "id": "6820e209-5cd1-413e-b634-283124cafdf1",
   "metadata": {},
   "outputs": [
    {
     "data": {
      "text/plain": [
       "array([[  2,   3,  33,   4,  45],\n",
       "       [ 23,  45,  56,  66,   2],\n",
       "       [357, 523,  32,  24,   2],\n",
       "       [ 32,  32,  44,  33, 234]])"
      ]
     },
     "execution_count": 6,
     "metadata": {},
     "output_type": "execute_result"
    }
   ],
   "source": [
    "# 3 D ---- # tensor \n",
    "np.array ([[2,3,33,4,45],[23,45,56,66,2],[357,523,32,24,2],[32,32,44,33,234]])"
   ]
  },
  {
   "cell_type": "code",
   "execution_count": 7,
   "id": "666077f0-feef-490e-8df6-aa2f3d28bbc6",
   "metadata": {},
   "outputs": [
    {
     "data": {
      "text/plain": [
       "array([11., 23., 44.])"
      ]
     },
     "execution_count": 7,
     "metadata": {},
     "output_type": "execute_result"
    }
   ],
   "source": [
    "np.array([11,23,44],dtype = float)"
   ]
  },
  {
   "cell_type": "code",
   "execution_count": 8,
   "id": "933e66fd-871d-4201-87a4-b3196c82b546",
   "metadata": {},
   "outputs": [
    {
     "data": {
      "text/plain": [
       "array([ True,  True,  True])"
      ]
     },
     "execution_count": 8,
     "metadata": {},
     "output_type": "execute_result"
    }
   ],
   "source": [
    "np.array([11,23,44],dtype = bool) "
   ]
  },
  {
   "cell_type": "code",
   "execution_count": 9,
   "id": "52326f56-40f7-4b8a-9d0b-edc6113decff",
   "metadata": {},
   "outputs": [
    {
     "data": {
      "text/plain": [
       "array([11.+0.j, 23.+0.j, 44.+0.j])"
      ]
     },
     "execution_count": 9,
     "metadata": {},
     "output_type": "execute_result"
    }
   ],
   "source": [
    "np.array([11,23,44],dtype = complex)"
   ]
  },
  {
   "cell_type": "markdown",
   "id": "a0035759-db4e-4e5d-a391-08a6b9c1bdb6",
   "metadata": {},
   "source": [
    "# arrnge"
   ]
  },
  {
   "cell_type": "code",
   "execution_count": 10,
   "id": "a735536b-b22a-4014-9a84-6ec1638053c2",
   "metadata": {},
   "outputs": [
    {
     "data": {
      "text/plain": [
       "array([ 1,  2,  3,  4,  5,  6,  7,  8,  9, 10, 11, 12, 13, 14, 15, 16, 17,\n",
       "       18, 19, 20, 21, 22, 23, 24])"
      ]
     },
     "execution_count": 10,
     "metadata": {},
     "output_type": "execute_result"
    }
   ],
   "source": [
    "np.arange(1,25) # 1-include ,25 - last one got excluded"
   ]
  },
  {
   "cell_type": "code",
   "execution_count": 11,
   "id": "e6437a27-131f-412e-aa56-d0a04b272120",
   "metadata": {},
   "outputs": [
    {
     "data": {
      "text/plain": [
       "array([ 1,  3,  5,  7,  9, 11, 13, 15, 17, 19, 21, 23])"
      ]
     },
     "execution_count": 11,
     "metadata": {},
     "output_type": "execute_result"
    }
   ],
   "source": [
    "np.arange(1,25,2) #strides-----> AL ternate numbers"
   ]
  },
  {
   "cell_type": "markdown",
   "id": "fe4e1891-80dd-48f2-bab4-c050c97dbd6f",
   "metadata": {},
   "source": [
    "# reshape"
   ]
  },
  {
   "cell_type": "code",
   "execution_count": 12,
   "id": "dca788a1-3843-483a-8045-c234832fee0a",
   "metadata": {},
   "outputs": [
    {
     "data": {
      "text/plain": [
       "array([[ 1,  2],\n",
       "       [ 3,  4],\n",
       "       [ 5,  6],\n",
       "       [ 7,  8],\n",
       "       [ 9, 10]])"
      ]
     },
     "execution_count": 12,
     "metadata": {},
     "output_type": "execute_result"
    }
   ],
   "source": [
    "np.arange(1,11).reshape(5,2) # converted 5 rows and 2 columns"
   ]
  },
  {
   "cell_type": "code",
   "execution_count": 13,
   "id": "fa433013-ea82-4826-b560-d0533fa52859",
   "metadata": {},
   "outputs": [
    {
     "data": {
      "text/plain": [
       "array([[ 1,  2,  3,  4,  5],\n",
       "       [ 6,  7,  8,  9, 10]])"
      ]
     },
     "execution_count": 13,
     "metadata": {},
     "output_type": "execute_result"
    }
   ],
   "source": [
    "np.arange(1,11).reshape(2,5) # converted 2 rows and 5 columns"
   ]
  },
  {
   "cell_type": "code",
   "execution_count": 14,
   "id": "9ffeed46-10d9-4dd0-92d2-1273fc35bf2c",
   "metadata": {},
   "outputs": [
    {
     "data": {
      "text/plain": [
       "array([[ 1,  2,  3,  4],\n",
       "       [ 5,  6,  7,  8],\n",
       "       [ 9, 10, 11, 12]])"
      ]
     },
     "execution_count": 14,
     "metadata": {},
     "output_type": "execute_result"
    }
   ],
   "source": [
    "np.arange(1,13).reshape(3,4) # converted 3 rows  and 4 columns"
   ]
  },
  {
   "cell_type": "markdown",
   "id": "e6e3240b-7678-405f-9a45-9f3a13af9f1a",
   "metadata": {},
   "source": [
    "# ones & zeros"
   ]
  },
  {
   "cell_type": "code",
   "execution_count": 15,
   "id": "92d0db79-444c-4770-9d00-7073224841ed",
   "metadata": {},
   "outputs": [
    {
     "data": {
      "text/plain": [
       "array([[1., 1., 1., 1.],\n",
       "       [1., 1., 1., 1.],\n",
       "       [1., 1., 1., 1.]])"
      ]
     },
     "execution_count": 15,
     "metadata": {},
     "output_type": "execute_result"
    }
   ],
   "source": [
    "np.ones((3,4))"
   ]
  },
  {
   "cell_type": "code",
   "execution_count": 16,
   "id": "b9c2439f-8046-45b3-8413-ce4cac7a19f8",
   "metadata": {},
   "outputs": [
    {
     "data": {
      "text/plain": [
       "array([[0., 0., 0., 0.],\n",
       "       [0., 0., 0., 0.],\n",
       "       [0., 0., 0., 0.]])"
      ]
     },
     "execution_count": 16,
     "metadata": {},
     "output_type": "execute_result"
    }
   ],
   "source": [
    "np.zeros((3,4))"
   ]
  },
  {
   "cell_type": "code",
   "execution_count": 17,
   "id": "364bf9d1-2ee2-46cb-8f2e-50e97deb1212",
   "metadata": {},
   "outputs": [
    {
     "data": {
      "text/plain": [
       "array([[0.95306914, 0.77486719, 0.74067911],\n",
       "       [0.15721637, 0.16305975, 0.4671645 ],\n",
       "       [0.8931074 , 0.40218163, 0.42316622],\n",
       "       [0.37776341, 0.40524527, 0.94562368]])"
      ]
     },
     "execution_count": 17,
     "metadata": {},
     "output_type": "execute_result"
    }
   ],
   "source": [
    "np.random.random((4,3))"
   ]
  },
  {
   "cell_type": "markdown",
   "id": "1a5f27ec-c2b1-46c1-8cb8-f3ff5f866cff",
   "metadata": {},
   "source": [
    "# linespace"
   ]
  },
  {
   "cell_type": "code",
   "execution_count": 18,
   "id": "444a9206-00f7-425d-97b0-e4bf3c87adb1",
   "metadata": {},
   "outputs": [
    {
     "data": {
      "text/plain": [
       "array([-10.        ,  -7.77777778,  -5.55555556,  -3.33333333,\n",
       "        -1.11111111,   1.11111111,   3.33333333,   5.55555556,\n",
       "         7.77777778,  10.        ])"
      ]
     },
     "execution_count": 18,
     "metadata": {},
     "output_type": "execute_result"
    }
   ],
   "source": [
    "np.linspace(-10,10,10)"
   ]
  },
  {
   "cell_type": "code",
   "execution_count": 19,
   "id": "f0b6986f-de02-43cb-bfc0-2b1df783f490",
   "metadata": {},
   "outputs": [
    {
     "data": {
      "text/plain": [
       "array([-2. ,  0.8,  3.6,  6.4,  9.2, 12. ])"
      ]
     },
     "execution_count": 19,
     "metadata": {},
     "output_type": "execute_result"
    }
   ],
   "source": [
    "np.linspace(-2,12,6)"
   ]
  },
  {
   "cell_type": "markdown",
   "id": "84b1b015-887a-4f7b-b29a-c17d4c2c08f5",
   "metadata": {},
   "source": [
    "# identity"
   ]
  },
  {
   "cell_type": "code",
   "execution_count": 20,
   "id": "c7b63d57-5366-4ce9-b167-29eabc138dc0",
   "metadata": {},
   "outputs": [
    {
     "data": {
      "text/plain": [
       "array([[1., 0., 0.],\n",
       "       [0., 1., 0.],\n",
       "       [0., 0., 1.]])"
      ]
     },
     "execution_count": 20,
     "metadata": {},
     "output_type": "execute_result"
    }
   ],
   "source": [
    "np.identity(3)"
   ]
  },
  {
   "cell_type": "code",
   "execution_count": 21,
   "id": "16be75ba-4d2e-4507-afea-4e2973865873",
   "metadata": {},
   "outputs": [
    {
     "data": {
      "text/plain": [
       "array([[1., 0., 0., 0., 0., 0.],\n",
       "       [0., 1., 0., 0., 0., 0.],\n",
       "       [0., 0., 1., 0., 0., 0.],\n",
       "       [0., 0., 0., 1., 0., 0.],\n",
       "       [0., 0., 0., 0., 1., 0.],\n",
       "       [0., 0., 0., 0., 0., 1.]])"
      ]
     },
     "execution_count": 21,
     "metadata": {},
     "output_type": "execute_result"
    }
   ],
   "source": [
    "np.identity(6)"
   ]
  },
  {
   "cell_type": "markdown",
   "id": "7083c922-3ef2-4524-ac2d-23ab12505397",
   "metadata": {},
   "source": [
    "# Array Arrributes"
   ]
  },
  {
   "cell_type": "code",
   "execution_count": 22,
   "id": "1c665bc2-2260-4b58-b64c-233c6a422e3f",
   "metadata": {},
   "outputs": [
    {
     "data": {
      "text/plain": [
       "array([0, 1, 2, 3, 4, 5, 6, 7, 8, 9])"
      ]
     },
     "execution_count": 22,
     "metadata": {},
     "output_type": "execute_result"
    }
   ],
   "source": [
    "a1 = np.arange(10)\n",
    "a1"
   ]
  },
  {
   "cell_type": "code",
   "execution_count": 23,
   "id": "888e689f-a6ad-4a48-9546-e8b38cc84512",
   "metadata": {},
   "outputs": [
    {
     "data": {
      "text/plain": [
       "array([[ 0.,  1.,  2.,  3.],\n",
       "       [ 4.,  5.,  6.,  7.],\n",
       "       [ 8.,  9., 10., 11.]])"
      ]
     },
     "execution_count": 23,
     "metadata": {},
     "output_type": "execute_result"
    }
   ],
   "source": [
    "a2 = np.arange(12, dtype = float).reshape(3,4)\n",
    "a2"
   ]
  },
  {
   "cell_type": "code",
   "execution_count": 24,
   "id": "1d220714-b2ea-4690-b89d-330db9131d3c",
   "metadata": {},
   "outputs": [
    {
     "data": {
      "text/plain": [
       "array([[[0, 1],\n",
       "        [2, 3]],\n",
       "\n",
       "       [[4, 5],\n",
       "        [6, 7]]])"
      ]
     },
     "execution_count": 24,
     "metadata": {},
     "output_type": "execute_result"
    }
   ],
   "source": [
    "a3 = np.arange(8).reshape(2,2,2)\n",
    "a3"
   ]
  },
  {
   "cell_type": "markdown",
   "id": "a9378b9c-7216-4120-9330-d8cb036fcb6d",
   "metadata": {},
   "source": [
    "# ndim"
   ]
  },
  {
   "cell_type": "code",
   "execution_count": 25,
   "id": "59208217-db25-420f-b6c9-9ea3a24543a7",
   "metadata": {},
   "outputs": [
    {
     "data": {
      "text/plain": [
       "1"
      ]
     },
     "execution_count": 25,
     "metadata": {},
     "output_type": "execute_result"
    }
   ],
   "source": [
    "a1.ndim"
   ]
  },
  {
   "cell_type": "code",
   "execution_count": 26,
   "id": "2f138fdc-e011-40e9-929e-6ab099c58a53",
   "metadata": {},
   "outputs": [
    {
     "data": {
      "text/plain": [
       "2"
      ]
     },
     "execution_count": 26,
     "metadata": {},
     "output_type": "execute_result"
    }
   ],
   "source": [
    "a2.ndim"
   ]
  },
  {
   "cell_type": "markdown",
   "id": "7c70db2f-0e62-4f73-915b-b6068a81bd23",
   "metadata": {},
   "source": [
    "# shape"
   ]
  },
  {
   "cell_type": "code",
   "execution_count": 27,
   "id": "c57034a4-bbf6-4bad-92d2-bf95b56e5ccc",
   "metadata": {},
   "outputs": [
    {
     "data": {
      "text/plain": [
       "(10,)"
      ]
     },
     "execution_count": 27,
     "metadata": {},
     "output_type": "execute_result"
    }
   ],
   "source": [
    "a1.shape # 1D array has 10 item"
   ]
  },
  {
   "cell_type": "code",
   "execution_count": 28,
   "id": "933afe2c-936f-4939-9705-41aa48e387ff",
   "metadata": {},
   "outputs": [
    {
     "data": {
      "text/plain": [
       "(3, 4)"
      ]
     },
     "execution_count": 28,
     "metadata": {},
     "output_type": "execute_result"
    }
   ],
   "source": [
    "a2.shape # 3 rows and 4 columns"
   ]
  },
  {
   "cell_type": "code",
   "execution_count": 29,
   "id": "7086d9e9-eb08-474e-ac10-b0eb68340949",
   "metadata": {},
   "outputs": [
    {
     "data": {
      "text/plain": [
       "(2, 2, 2)"
      ]
     },
     "execution_count": 29,
     "metadata": {},
     "output_type": "execute_result"
    }
   ],
   "source": [
    "a3.shape #first 2 says it consists of 2d arrays  2,2 gives n0.of rows column"
   ]
  },
  {
   "cell_type": "markdown",
   "id": "e5b51977-e9f0-477c-91b3-7d98dc60b0b9",
   "metadata": {},
   "source": [
    "# size"
   ]
  },
  {
   "cell_type": "code",
   "execution_count": 30,
   "id": "e190c35f-a93c-427d-8262-081f521a5a81",
   "metadata": {},
   "outputs": [
    {
     "data": {
      "text/plain": [
       "array([[[0, 1],\n",
       "        [2, 3]],\n",
       "\n",
       "       [[4, 5],\n",
       "        [6, 7]]])"
      ]
     },
     "execution_count": 30,
     "metadata": {},
     "output_type": "execute_result"
    }
   ],
   "source": [
    "a3"
   ]
  },
  {
   "cell_type": "code",
   "execution_count": 31,
   "id": "be697988-2d00-4353-82ee-f0e71d253d87",
   "metadata": {},
   "outputs": [
    {
     "data": {
      "text/plain": [
       "8"
      ]
     },
     "execution_count": 31,
     "metadata": {},
     "output_type": "execute_result"
    }
   ],
   "source": [
    "a3.size "
   ]
  },
  {
   "cell_type": "code",
   "execution_count": 32,
   "id": "3603789d-5f61-42a3-9e29-fde5713c88c9",
   "metadata": {},
   "outputs": [
    {
     "data": {
      "text/plain": [
       "array([[ 0.,  1.,  2.,  3.],\n",
       "       [ 4.,  5.,  6.,  7.],\n",
       "       [ 8.,  9., 10., 11.]])"
      ]
     },
     "execution_count": 32,
     "metadata": {},
     "output_type": "execute_result"
    }
   ],
   "source": [
    "a2"
   ]
  },
  {
   "cell_type": "code",
   "execution_count": 33,
   "id": "bfe50026-e807-4b6a-8753-f880e64a8482",
   "metadata": {},
   "outputs": [
    {
     "data": {
      "text/plain": [
       "12"
      ]
     },
     "execution_count": 33,
     "metadata": {},
     "output_type": "execute_result"
    }
   ],
   "source": [
    "a2.size"
   ]
  },
  {
   "cell_type": "markdown",
   "id": "67b7c653-5fc0-493b-bad3-6ca02330c552",
   "metadata": {},
   "source": [
    "# item size"
   ]
  },
  {
   "cell_type": "code",
   "execution_count": 34,
   "id": "9a40f223-2c0b-4d0a-9ca7-d10f588c608e",
   "metadata": {},
   "outputs": [
    {
     "data": {
      "text/plain": [
       "array([0, 1, 2, 3, 4, 5, 6, 7, 8, 9])"
      ]
     },
     "execution_count": 34,
     "metadata": {},
     "output_type": "execute_result"
    }
   ],
   "source": [
    "a1"
   ]
  },
  {
   "cell_type": "code",
   "execution_count": 35,
   "id": "5797f090-76af-49dc-95d2-5ffe8bf2d61e",
   "metadata": {},
   "outputs": [
    {
     "data": {
      "text/plain": [
       "4"
      ]
     },
     "execution_count": 35,
     "metadata": {},
     "output_type": "execute_result"
    }
   ],
   "source": [
    "a1.itemsize "
   ]
  },
  {
   "cell_type": "code",
   "execution_count": 36,
   "id": "28219238-913f-493b-8b46-93800ae83bad",
   "metadata": {},
   "outputs": [
    {
     "data": {
      "text/plain": [
       "8"
      ]
     },
     "execution_count": 36,
     "metadata": {},
     "output_type": "execute_result"
    }
   ],
   "source": [
    "a2.itemsize"
   ]
  },
  {
   "cell_type": "code",
   "execution_count": 37,
   "id": "cbfd6d37-41d6-4ee9-8140-05bbc4fb3a21",
   "metadata": {},
   "outputs": [
    {
     "data": {
      "text/plain": [
       "4"
      ]
     },
     "execution_count": 37,
     "metadata": {},
     "output_type": "execute_result"
    }
   ],
   "source": [
    "a3.itemsize"
   ]
  },
  {
   "cell_type": "markdown",
   "id": "28fa2061-ad81-478d-9a39-8c0c3f20c4c3",
   "metadata": {},
   "source": [
    "# dtype"
   ]
  },
  {
   "cell_type": "code",
   "execution_count": 38,
   "id": "adf3b836-e150-4149-a9ba-ba1cabdbbd83",
   "metadata": {},
   "outputs": [
    {
     "name": "stdout",
     "output_type": "stream",
     "text": [
      "int32\n",
      "float64\n",
      "int32\n"
     ]
    }
   ],
   "source": [
    "print(a1.dtype)\n",
    "print(a2.dtype)\n",
    "print(a3.dtype)"
   ]
  },
  {
   "cell_type": "markdown",
   "id": "4c861829-e07b-425f-adaa-fbe46f8c98b1",
   "metadata": {},
   "source": [
    "# changing data type"
   ]
  },
  {
   "cell_type": "code",
   "execution_count": 39,
   "id": "6632b3b9-4b5b-4be6-9c9a-f9fbd452febc",
   "metadata": {},
   "outputs": [
    {
     "data": {
      "text/plain": [
       "array([33. , 22. ,  2.5])"
      ]
     },
     "execution_count": 39,
     "metadata": {},
     "output_type": "execute_result"
    }
   ],
   "source": [
    "x = np.array([33,22,2.5])\n",
    "x"
   ]
  },
  {
   "cell_type": "code",
   "execution_count": 40,
   "id": "6dd42842-8332-4e57-8487-ab9092b396a8",
   "metadata": {},
   "outputs": [
    {
     "data": {
      "text/plain": [
       "array([33, 22,  2])"
      ]
     },
     "execution_count": 40,
     "metadata": {},
     "output_type": "execute_result"
    }
   ],
   "source": [
    "x.astype(int)"
   ]
  },
  {
   "cell_type": "markdown",
   "id": "7c0b0188-523e-47d8-87ee-b008cb9bee9b",
   "metadata": {},
   "source": [
    "# Array operation"
   ]
  },
  {
   "cell_type": "code",
   "execution_count": 41,
   "id": "0c829b87-dc35-45c7-afeb-e7ad88b7241e",
   "metadata": {},
   "outputs": [],
   "source": [
    "z1 = np.arange(12).reshape(3,4)\n",
    "z2 = np.arange(12,24).reshape(3,4)"
   ]
  },
  {
   "cell_type": "code",
   "execution_count": 42,
   "id": "64388013-3d0b-4692-b244-a03c020a008b",
   "metadata": {},
   "outputs": [
    {
     "data": {
      "text/plain": [
       "array([[ 0,  1,  2,  3],\n",
       "       [ 4,  5,  6,  7],\n",
       "       [ 8,  9, 10, 11]])"
      ]
     },
     "execution_count": 42,
     "metadata": {},
     "output_type": "execute_result"
    }
   ],
   "source": [
    "z1"
   ]
  },
  {
   "cell_type": "code",
   "execution_count": 43,
   "id": "141efa4f-f9c6-4e7f-b7f0-2138f45b4f85",
   "metadata": {},
   "outputs": [
    {
     "data": {
      "text/plain": [
       "array([[12, 13, 14, 15],\n",
       "       [16, 17, 18, 19],\n",
       "       [20, 21, 22, 23]])"
      ]
     },
     "execution_count": 43,
     "metadata": {},
     "output_type": "execute_result"
    }
   ],
   "source": [
    "z2"
   ]
  },
  {
   "cell_type": "markdown",
   "id": "ee12616c-ad58-4081-b62e-71d2893b8962",
   "metadata": {},
   "source": [
    "# scalar operation"
   ]
  },
  {
   "cell_type": "code",
   "execution_count": 44,
   "id": "146e2969-0bd0-473e-be04-d94010956ad9",
   "metadata": {},
   "outputs": [
    {
     "data": {
      "text/plain": [
       "array([[ 2,  3,  4,  5],\n",
       "       [ 6,  7,  8,  9],\n",
       "       [10, 11, 12, 13]])"
      ]
     },
     "execution_count": 44,
     "metadata": {},
     "output_type": "execute_result"
    }
   ],
   "source": [
    "z1+2"
   ]
  },
  {
   "cell_type": "code",
   "execution_count": 45,
   "id": "bfd2b58f-577b-4ced-9ca6-f28bbb8b4414",
   "metadata": {},
   "outputs": [
    {
     "data": {
      "text/plain": [
       "array([[-2, -1,  0,  1],\n",
       "       [ 2,  3,  4,  5],\n",
       "       [ 6,  7,  8,  9]])"
      ]
     },
     "execution_count": 45,
     "metadata": {},
     "output_type": "execute_result"
    }
   ],
   "source": [
    "z1-2"
   ]
  },
  {
   "cell_type": "code",
   "execution_count": 46,
   "id": "0fba6b61-f8f9-426c-9f03-10d021cd206e",
   "metadata": {},
   "outputs": [
    {
     "data": {
      "text/plain": [
       "array([[ 0,  2,  4,  6],\n",
       "       [ 8, 10, 12, 14],\n",
       "       [16, 18, 20, 22]])"
      ]
     },
     "execution_count": 46,
     "metadata": {},
     "output_type": "execute_result"
    }
   ],
   "source": [
    "z1*2"
   ]
  },
  {
   "cell_type": "code",
   "execution_count": 47,
   "id": "9e2abf7b-bb41-4ea5-b8f0-5bf43dd71b6d",
   "metadata": {},
   "outputs": [
    {
     "data": {
      "text/plain": [
       "array([[  0,   1,   4,   9],\n",
       "       [ 16,  25,  36,  49],\n",
       "       [ 64,  81, 100, 121]])"
      ]
     },
     "execution_count": 47,
     "metadata": {},
     "output_type": "execute_result"
    }
   ],
   "source": [
    "z1**2"
   ]
  },
  {
   "cell_type": "code",
   "execution_count": 48,
   "id": "6a072ed3-42a2-4a75-b47c-18d2e5129ec3",
   "metadata": {},
   "outputs": [
    {
     "data": {
      "text/plain": [
       "array([[0, 1, 0, 1],\n",
       "       [0, 1, 0, 1],\n",
       "       [0, 1, 0, 1]], dtype=int32)"
      ]
     },
     "execution_count": 48,
     "metadata": {},
     "output_type": "execute_result"
    }
   ],
   "source": [
    "z1%2"
   ]
  },
  {
   "cell_type": "markdown",
   "id": "ed3f2525-b3a2-4065-aa86-5363f629ee83",
   "metadata": {},
   "source": [
    "# relational operators"
   ]
  },
  {
   "cell_type": "code",
   "execution_count": 49,
   "id": "e1023380-e931-43d5-adf8-586c035a3e6b",
   "metadata": {},
   "outputs": [
    {
     "data": {
      "text/plain": [
       "array([[12, 13, 14, 15],\n",
       "       [16, 17, 18, 19],\n",
       "       [20, 21, 22, 23]])"
      ]
     },
     "execution_count": 49,
     "metadata": {},
     "output_type": "execute_result"
    }
   ],
   "source": [
    "z2"
   ]
  },
  {
   "cell_type": "code",
   "execution_count": 50,
   "id": "8ef978ad-390d-4289-b2fc-3ba13261dc49",
   "metadata": {},
   "outputs": [
    {
     "data": {
      "text/plain": [
       "array([[ True,  True,  True,  True],\n",
       "       [ True,  True,  True,  True],\n",
       "       [ True,  True,  True,  True]])"
      ]
     },
     "execution_count": 50,
     "metadata": {},
     "output_type": "execute_result"
    }
   ],
   "source": [
    "z2 > 2"
   ]
  },
  {
   "cell_type": "code",
   "execution_count": 51,
   "id": "9edf9e84-8b82-4597-814a-810ab431c966",
   "metadata": {},
   "outputs": [
    {
     "data": {
      "text/plain": [
       "array([[False, False, False, False],\n",
       "       [False, False, False, False],\n",
       "       [False,  True,  True,  True]])"
      ]
     },
     "execution_count": 51,
     "metadata": {},
     "output_type": "execute_result"
    }
   ],
   "source": [
    "z2 > 20"
   ]
  },
  {
   "cell_type": "markdown",
   "id": "d72d4bec-6609-4877-962b-61aa13144763",
   "metadata": {},
   "source": [
    "# Vector operation"
   ]
  },
  {
   "cell_type": "code",
   "execution_count": 52,
   "id": "0f4b5a6a-f204-4120-8948-086f72594205",
   "metadata": {},
   "outputs": [
    {
     "data": {
      "text/plain": [
       "array([[ 0,  1,  2,  3],\n",
       "       [ 4,  5,  6,  7],\n",
       "       [ 8,  9, 10, 11]])"
      ]
     },
     "execution_count": 52,
     "metadata": {},
     "output_type": "execute_result"
    }
   ],
   "source": [
    "z1"
   ]
  },
  {
   "cell_type": "code",
   "execution_count": 53,
   "id": "a9e56588-95be-497d-8d05-0a25dedb22b6",
   "metadata": {},
   "outputs": [
    {
     "data": {
      "text/plain": [
       "array([[12, 13, 14, 15],\n",
       "       [16, 17, 18, 19],\n",
       "       [20, 21, 22, 23]])"
      ]
     },
     "execution_count": 53,
     "metadata": {},
     "output_type": "execute_result"
    }
   ],
   "source": [
    "z2"
   ]
  },
  {
   "cell_type": "code",
   "execution_count": 54,
   "id": "8dcc49d4-7db9-421c-aa25-111f49808ea1",
   "metadata": {},
   "outputs": [
    {
     "data": {
      "text/plain": [
       "array([[12, 14, 16, 18],\n",
       "       [20, 22, 24, 26],\n",
       "       [28, 30, 32, 34]])"
      ]
     },
     "execution_count": 54,
     "metadata": {},
     "output_type": "execute_result"
    }
   ],
   "source": [
    "z1 + z2"
   ]
  },
  {
   "cell_type": "code",
   "execution_count": 55,
   "id": "6bc4da79-810d-4c0a-b0c8-8a7f77ffb4ca",
   "metadata": {},
   "outputs": [
    {
     "data": {
      "text/plain": [
       "array([[  0,  13,  28,  45],\n",
       "       [ 64,  85, 108, 133],\n",
       "       [160, 189, 220, 253]])"
      ]
     },
     "execution_count": 55,
     "metadata": {},
     "output_type": "execute_result"
    }
   ],
   "source": [
    "z1*z2"
   ]
  },
  {
   "cell_type": "code",
   "execution_count": 56,
   "id": "81592aa4-5cd9-499d-9417-b0cca7643af7",
   "metadata": {},
   "outputs": [
    {
     "data": {
      "text/plain": [
       "array([[-12, -12, -12, -12],\n",
       "       [-12, -12, -12, -12],\n",
       "       [-12, -12, -12, -12]])"
      ]
     },
     "execution_count": 56,
     "metadata": {},
     "output_type": "execute_result"
    }
   ],
   "source": [
    "z1-z2"
   ]
  },
  {
   "cell_type": "code",
   "execution_count": 57,
   "id": "c4fa7af9-b445-4886-b925-746b42e8dac8",
   "metadata": {},
   "outputs": [
    {
     "data": {
      "text/plain": [
       "array([[0.        , 0.07692308, 0.14285714, 0.2       ],\n",
       "       [0.25      , 0.29411765, 0.33333333, 0.36842105],\n",
       "       [0.4       , 0.42857143, 0.45454545, 0.47826087]])"
      ]
     },
     "execution_count": 57,
     "metadata": {},
     "output_type": "execute_result"
    }
   ],
   "source": [
    "z1/z2"
   ]
  },
  {
   "cell_type": "markdown",
   "id": "ee13593b-2086-4beb-9737-e08c37bebc63",
   "metadata": {},
   "source": [
    "# Array function"
   ]
  },
  {
   "cell_type": "code",
   "execution_count": 58,
   "id": "e929ba16-7677-4156-8cd9-a752c9bd88b2",
   "metadata": {},
   "outputs": [
    {
     "data": {
      "text/plain": [
       "array([[81., 42., 37.],\n",
       "       [ 1., 13., 11.],\n",
       "       [58., 33., 97.]])"
      ]
     },
     "execution_count": 58,
     "metadata": {},
     "output_type": "execute_result"
    }
   ],
   "source": [
    "k1 = np.random.random((3,3))\n",
    "k1 = np.round(k1*100)\n",
    "k1"
   ]
  },
  {
   "cell_type": "code",
   "execution_count": 59,
   "id": "3627fe87-1a05-48c0-88ce-e888a6f5e50d",
   "metadata": {},
   "outputs": [
    {
     "data": {
      "text/plain": [
       "97.0"
      ]
     },
     "execution_count": 59,
     "metadata": {},
     "output_type": "execute_result"
    }
   ],
   "source": [
    "np.max(k1)"
   ]
  },
  {
   "cell_type": "code",
   "execution_count": 60,
   "id": "3e9e8f6f-7992-44e0-b527-09b96f52fd94",
   "metadata": {},
   "outputs": [
    {
     "data": {
      "text/plain": [
       "1.0"
      ]
     },
     "execution_count": 60,
     "metadata": {},
     "output_type": "execute_result"
    }
   ],
   "source": [
    "np.min(k1)"
   ]
  },
  {
   "cell_type": "code",
   "execution_count": 61,
   "id": "2a841a79-9971-43f5-b5d4-02f6deadd6e6",
   "metadata": {},
   "outputs": [
    {
     "data": {
      "text/plain": [
       "373.0"
      ]
     },
     "execution_count": 61,
     "metadata": {},
     "output_type": "execute_result"
    }
   ],
   "source": [
    "np.sum(k1)"
   ]
  },
  {
   "cell_type": "code",
   "execution_count": 62,
   "id": "28eda06e-52ff-422f-937a-a08d4f094ffa",
   "metadata": {},
   "outputs": [
    {
     "data": {
      "text/plain": [
       "3341840658156.0"
      ]
     },
     "execution_count": 62,
     "metadata": {},
     "output_type": "execute_result"
    }
   ],
   "source": [
    "np.prod(k1)"
   ]
  },
  {
   "cell_type": "markdown",
   "id": "35aaa524-0324-4da3-9933-14fff2dae976",
   "metadata": {},
   "source": [
    "# in numpy"
   ]
  },
  {
   "cell_type": "code",
   "execution_count": 63,
   "id": "b5905cfc-8e7a-4d41-bcf1-c70af5f4bdd1",
   "metadata": {},
   "outputs": [
    {
     "data": {
      "text/plain": [
       "array([81., 13., 97.])"
      ]
     },
     "execution_count": 63,
     "metadata": {},
     "output_type": "execute_result"
    }
   ],
   "source": [
    "np.max(k1, axis = 1)"
   ]
  },
  {
   "cell_type": "code",
   "execution_count": 64,
   "id": "2cd013f8-700b-4e7e-a6ae-3c3487286a17",
   "metadata": {},
   "outputs": [
    {
     "data": {
      "text/plain": [
       "array([81., 42., 97.])"
      ]
     },
     "execution_count": 64,
     "metadata": {},
     "output_type": "execute_result"
    }
   ],
   "source": [
    "np.max(k1,axis = 0)"
   ]
  },
  {
   "cell_type": "code",
   "execution_count": 65,
   "id": "68a5f9c7-37ee-4888-bd1b-3aa1579b93bc",
   "metadata": {},
   "outputs": [
    {
     "data": {
      "text/plain": [
       "array([ 4698., 18018., 39479.])"
      ]
     },
     "execution_count": 65,
     "metadata": {},
     "output_type": "execute_result"
    }
   ],
   "source": [
    "np.prod(k1,axis=0)"
   ]
  },
  {
   "cell_type": "markdown",
   "id": "3f60399d-c285-4fc0-aaad-5702ee644342",
   "metadata": {},
   "source": [
    "# statistics related function"
   ]
  },
  {
   "cell_type": "code",
   "execution_count": 66,
   "id": "e2f0058b-96e3-4bcd-a10b-f3f67546e607",
   "metadata": {},
   "outputs": [
    {
     "data": {
      "text/plain": [
       "array([[81., 42., 37.],\n",
       "       [ 1., 13., 11.],\n",
       "       [58., 33., 97.]])"
      ]
     },
     "execution_count": 66,
     "metadata": {},
     "output_type": "execute_result"
    }
   ],
   "source": [
    "k1"
   ]
  },
  {
   "cell_type": "code",
   "execution_count": 67,
   "id": "a09ea567-f360-4d3b-8782-33683866dd2c",
   "metadata": {},
   "outputs": [
    {
     "data": {
      "text/plain": [
       "41.44444444444444"
      ]
     },
     "execution_count": 67,
     "metadata": {},
     "output_type": "execute_result"
    }
   ],
   "source": [
    "np.mean(k1)"
   ]
  },
  {
   "cell_type": "code",
   "execution_count": 68,
   "id": "de2af8d7-fb2b-4a94-870e-0f2a9453c04d",
   "metadata": {},
   "outputs": [
    {
     "data": {
      "text/plain": [
       "array([46.66666667, 29.33333333, 48.33333333])"
      ]
     },
     "execution_count": 68,
     "metadata": {},
     "output_type": "execute_result"
    }
   ],
   "source": [
    "k1.mean(axis=0)"
   ]
  },
  {
   "cell_type": "code",
   "execution_count": 69,
   "id": "8a5a3ba7-92f9-4160-8aba-d1a8dd7e5b31",
   "metadata": {},
   "outputs": [
    {
     "data": {
      "text/plain": [
       "37.0"
      ]
     },
     "execution_count": 69,
     "metadata": {},
     "output_type": "execute_result"
    }
   ],
   "source": [
    "np.median(k1)"
   ]
  },
  {
   "cell_type": "code",
   "execution_count": 70,
   "id": "00618667-b6a8-418d-863f-27942490aad5",
   "metadata": {},
   "outputs": [
    {
     "data": {
      "text/plain": [
       "array([42., 11., 58.])"
      ]
     },
     "execution_count": 70,
     "metadata": {},
     "output_type": "execute_result"
    }
   ],
   "source": [
    "np.median(k1, axis = 1)"
   ]
  },
  {
   "cell_type": "code",
   "execution_count": 71,
   "id": "a7841414-92c8-4f35-8e1a-f3dfcb7afb0a",
   "metadata": {},
   "outputs": [
    {
     "data": {
      "text/plain": [
       "30.529079438430905"
      ]
     },
     "execution_count": 71,
     "metadata": {},
     "output_type": "execute_result"
    }
   ],
   "source": [
    "np.std(k1)"
   ]
  },
  {
   "cell_type": "code",
   "execution_count": 72,
   "id": "d79cebe1-796f-4d4a-8942-4d925c97254c",
   "metadata": {},
   "outputs": [
    {
     "data": {
      "text/plain": [
       "array([33.62869145, 12.11977264, 36.01234356])"
      ]
     },
     "execution_count": 72,
     "metadata": {},
     "output_type": "execute_result"
    }
   ],
   "source": [
    "np.std(k1, axis = 0)"
   ]
  },
  {
   "cell_type": "code",
   "execution_count": 73,
   "id": "b335bc44-81ed-4abb-b6ef-350b028e60df",
   "metadata": {},
   "outputs": [
    {
     "data": {
      "text/plain": [
       "932.0246913580247"
      ]
     },
     "execution_count": 73,
     "metadata": {},
     "output_type": "execute_result"
    }
   ],
   "source": [
    "np.var(k1)"
   ]
  },
  {
   "cell_type": "markdown",
   "id": "dee682e5-4b88-4ad7-8f7c-f5eb828f14d5",
   "metadata": {},
   "source": [
    "# Trignometry Functions"
   ]
  },
  {
   "cell_type": "code",
   "execution_count": 74,
   "id": "d65a9b5f-d797-4947-be7f-0f7998eb802f",
   "metadata": {},
   "outputs": [
    {
     "data": {
      "text/plain": [
       "array([[-0.62988799, -0.91652155, -0.64353813],\n",
       "       [ 0.84147098,  0.42016704, -0.99999021],\n",
       "       [ 0.99287265,  0.99991186,  0.37960774]])"
      ]
     },
     "execution_count": 74,
     "metadata": {},
     "output_type": "execute_result"
    }
   ],
   "source": [
    "np.sin(k1) "
   ]
  },
  {
   "cell_type": "code",
   "execution_count": 75,
   "id": "b45de808-0d17-4e30-9b61-545ae42c7470",
   "metadata": {},
   "outputs": [
    {
     "data": {
      "text/plain": [
       "array([[ 0.77668598, -0.39998531,  0.76541405],\n",
       "       [ 0.54030231,  0.90744678,  0.0044257 ],\n",
       "       [ 0.11918014, -0.01327675, -0.92514754]])"
      ]
     },
     "execution_count": 75,
     "metadata": {},
     "output_type": "execute_result"
    }
   ],
   "source": [
    "np.cos(k1)"
   ]
  },
  {
   "cell_type": "code",
   "execution_count": 76,
   "id": "d2bf0f6e-be3f-4aad-ac42-e54e9d2db72a",
   "metadata": {},
   "outputs": [
    {
     "data": {
      "text/plain": [
       "array([[  -0.81099442,    2.29138799,   -0.84077126],\n",
       "       [   1.55740772,    0.46302113, -225.95084645],\n",
       "       [   8.33085685,  -75.3130148 ,   -0.4103213 ]])"
      ]
     },
     "execution_count": 76,
     "metadata": {},
     "output_type": "execute_result"
    }
   ],
   "source": [
    "np.tan(k1)"
   ]
  },
  {
   "cell_type": "markdown",
   "id": "3df53b1a-fe99-435f-bd88-fe3aab1cccd2",
   "metadata": {},
   "source": [
    "# dot product"
   ]
  },
  {
   "cell_type": "code",
   "execution_count": 77,
   "id": "08b5f658-1f70-475a-b8af-7bde62363db3",
   "metadata": {},
   "outputs": [
    {
     "data": {
      "text/plain": [
       "array([[ 0,  1,  2,  3],\n",
       "       [ 4,  5,  6,  7],\n",
       "       [ 8,  9, 10, 11]])"
      ]
     },
     "execution_count": 77,
     "metadata": {},
     "output_type": "execute_result"
    }
   ],
   "source": [
    "s2 = np.arange(12).reshape(3,4)\n",
    "s3 = np.arange(12,24).reshape(4,3)\n",
    "s2"
   ]
  },
  {
   "cell_type": "code",
   "execution_count": 78,
   "id": "f2f352b8-8fce-42b4-98f8-80173921e31d",
   "metadata": {},
   "outputs": [
    {
     "data": {
      "text/plain": [
       "array([[12, 13, 14],\n",
       "       [15, 16, 17],\n",
       "       [18, 19, 20],\n",
       "       [21, 22, 23]])"
      ]
     },
     "execution_count": 78,
     "metadata": {},
     "output_type": "execute_result"
    }
   ],
   "source": [
    "s3"
   ]
  },
  {
   "cell_type": "code",
   "execution_count": 79,
   "id": "879bdb3f-fa63-478d-b0a2-173c57891247",
   "metadata": {},
   "outputs": [
    {
     "data": {
      "text/plain": [
       "array([[114, 120, 126],\n",
       "       [378, 400, 422],\n",
       "       [642, 680, 718]])"
      ]
     },
     "execution_count": 79,
     "metadata": {},
     "output_type": "execute_result"
    }
   ],
   "source": [
    "np.dot(s2,s3)"
   ]
  },
  {
   "cell_type": "markdown",
   "id": "4ba176e5-f662-4cb0-8f02-ea37b67d7328",
   "metadata": {},
   "source": [
    "# log and exponents"
   ]
  },
  {
   "cell_type": "code",
   "execution_count": 80,
   "id": "f00256f5-c95e-4c3b-b6b9-034e791f520e",
   "metadata": {},
   "outputs": [
    {
     "data": {
      "text/plain": [
       "array([[1.00000000e+00, 2.71828183e+00, 7.38905610e+00, 2.00855369e+01],\n",
       "       [5.45981500e+01, 1.48413159e+02, 4.03428793e+02, 1.09663316e+03],\n",
       "       [2.98095799e+03, 8.10308393e+03, 2.20264658e+04, 5.98741417e+04]])"
      ]
     },
     "execution_count": 80,
     "metadata": {},
     "output_type": "execute_result"
    }
   ],
   "source": [
    "np.exp(s2)"
   ]
  },
  {
   "cell_type": "markdown",
   "id": "7eec8c78-209d-45c5-bc7c-71bd15a65a00",
   "metadata": {},
   "source": [
    "# round/floor/ceil"
   ]
  },
  {
   "cell_type": "markdown",
   "id": "b981bb95-f71c-444e-b770-d4fe66257fce",
   "metadata": {},
   "source": [
    "# 1.round"
   ]
  },
  {
   "cell_type": "code",
   "execution_count": 81,
   "id": "12014d29-6223-4992-8649-7523c1095c89",
   "metadata": {},
   "outputs": [
    {
     "name": "stdout",
     "output_type": "stream",
     "text": [
      "[1. 3. 4. 5.]\n"
     ]
    }
   ],
   "source": [
    "arr = np.array([1.2,2.7,3.5,4.9])\n",
    "rounded_arr = np.round(arr)\n",
    "print(rounded_arr)"
   ]
  },
  {
   "cell_type": "code",
   "execution_count": 82,
   "id": "1ff06e9a-12e4-4907-bd5b-2ea0f265ffa8",
   "metadata": {},
   "outputs": [
    {
     "name": "stdout",
     "output_type": "stream",
     "text": [
      "[1.23 2.57 3.89]\n"
     ]
    }
   ],
   "source": [
    "arr = np.array([1.234,2.567,3.891])\n",
    "rounded_arr = np.round(arr,decimals=2)\n",
    "print(rounded_arr)"
   ]
  },
  {
   "cell_type": "code",
   "execution_count": 83,
   "id": "ec0f0d41-450c-4e46-b29a-5e885ed78272",
   "metadata": {},
   "outputs": [
    {
     "data": {
      "text/plain": [
       "array([[61., 46., 48.],\n",
       "       [ 5., 37., 50.]])"
      ]
     },
     "execution_count": 83,
     "metadata": {},
     "output_type": "execute_result"
    }
   ],
   "source": [
    "np.round(np.random.random((2,3))*100)"
   ]
  },
  {
   "cell_type": "markdown",
   "id": "46dc2c31-29e3-4ab0-9e02-17ec80b8c5f7",
   "metadata": {},
   "source": [
    "# 2.floor"
   ]
  },
  {
   "cell_type": "code",
   "execution_count": 84,
   "id": "8743028e-dba7-4da4-9ce3-983b728288eb",
   "metadata": {},
   "outputs": [
    {
     "name": "stdout",
     "output_type": "stream",
     "text": [
      "[1. 2. 3. 4.]\n"
     ]
    }
   ],
   "source": [
    "arr = np.array([1.2,2.7,3.5,4.9])\n",
    "floored_arr = np.floor(arr)\n",
    "print(floored_arr)"
   ]
  },
  {
   "cell_type": "code",
   "execution_count": 85,
   "id": "bfc19443-f1ba-494d-9b24-18e0da54357c",
   "metadata": {},
   "outputs": [
    {
     "data": {
      "text/plain": [
       "array([[63., 19., 13.],\n",
       "       [30., 32., 89.]])"
      ]
     },
     "execution_count": 85,
     "metadata": {},
     "output_type": "execute_result"
    }
   ],
   "source": [
    "np.floor(np.random.random((2,3))*100)"
   ]
  },
  {
   "cell_type": "markdown",
   "id": "a55be443-5ee9-48cc-ac16-6773a339d3cd",
   "metadata": {},
   "source": [
    "# ceil"
   ]
  },
  {
   "cell_type": "code",
   "execution_count": 86,
   "id": "12502af7-1e28-4bcc-9432-eeca60d6072f",
   "metadata": {},
   "outputs": [
    {
     "name": "stdout",
     "output_type": "stream",
     "text": [
      "[2. 3. 4. 5.]\n"
     ]
    }
   ],
   "source": [
    "arr = np.array([1.2,2.7,3.5,4.9])\n",
    "ceiled_arr = np.ceil(arr)\n",
    "print(ceiled_arr)"
   ]
  },
  {
   "cell_type": "code",
   "execution_count": 87,
   "id": "205becd2-747b-4c7d-823b-2a04ce2e3143",
   "metadata": {},
   "outputs": [
    {
     "data": {
      "text/plain": [
       "array([[36., 15., 61.],\n",
       "       [93., 26., 17.]])"
      ]
     },
     "execution_count": 87,
     "metadata": {},
     "output_type": "execute_result"
    }
   ],
   "source": [
    "np.ceil(np.random.random((2,3))*100)"
   ]
  },
  {
   "cell_type": "markdown",
   "id": "501c1ac0-7413-4c53-8567-7a750c554ec3",
   "metadata": {},
   "source": [
    "# Indexing and slicing"
   ]
  },
  {
   "cell_type": "code",
   "execution_count": 88,
   "id": "28804121-93cb-4fc6-b717-c67ace8da440",
   "metadata": {},
   "outputs": [],
   "source": [
    "p1 = np.arange(10)\n",
    "p2 = np.arange(12).reshape(3,4)\n",
    "p3 = np.arange(8).reshape(2,2,2)"
   ]
  },
  {
   "cell_type": "code",
   "execution_count": 89,
   "id": "b2754610-9460-4b73-8668-b824653d985b",
   "metadata": {},
   "outputs": [
    {
     "data": {
      "text/plain": [
       "array([0, 1, 2, 3, 4, 5, 6, 7, 8, 9])"
      ]
     },
     "execution_count": 89,
     "metadata": {},
     "output_type": "execute_result"
    }
   ],
   "source": [
    "p1"
   ]
  },
  {
   "cell_type": "code",
   "execution_count": 90,
   "id": "385f7e10-63df-4d9d-ab2d-192d739672f5",
   "metadata": {},
   "outputs": [
    {
     "data": {
      "text/plain": [
       "array([[ 0,  1,  2,  3],\n",
       "       [ 4,  5,  6,  7],\n",
       "       [ 8,  9, 10, 11]])"
      ]
     },
     "execution_count": 90,
     "metadata": {},
     "output_type": "execute_result"
    }
   ],
   "source": [
    "p2"
   ]
  },
  {
   "cell_type": "code",
   "execution_count": 91,
   "id": "b8893333-baa6-4b7d-a7c9-f38a437db366",
   "metadata": {},
   "outputs": [
    {
     "data": {
      "text/plain": [
       "array([[[0, 1],\n",
       "        [2, 3]],\n",
       "\n",
       "       [[4, 5],\n",
       "        [6, 7]]])"
      ]
     },
     "execution_count": 91,
     "metadata": {},
     "output_type": "execute_result"
    }
   ],
   "source": [
    "p3"
   ]
  },
  {
   "cell_type": "markdown",
   "id": "ab23c871-6ac0-4696-b1b7-42f06e6afec0",
   "metadata": {},
   "source": [
    "# indexing on 1D array"
   ]
  },
  {
   "cell_type": "code",
   "execution_count": 92,
   "id": "31606c90-3a3b-420d-959d-938841576126",
   "metadata": {},
   "outputs": [
    {
     "data": {
      "text/plain": [
       "array([0, 1, 2, 3, 4, 5, 6, 7, 8, 9])"
      ]
     },
     "execution_count": 92,
     "metadata": {},
     "output_type": "execute_result"
    }
   ],
   "source": [
    "p1"
   ]
  },
  {
   "cell_type": "code",
   "execution_count": 93,
   "id": "8ca84df4-4640-4468-a98a-462b561fdd38",
   "metadata": {},
   "outputs": [
    {
     "data": {
      "text/plain": [
       "9"
      ]
     },
     "execution_count": 93,
     "metadata": {},
     "output_type": "execute_result"
    }
   ],
   "source": [
    "p1[-1]"
   ]
  },
  {
   "cell_type": "code",
   "execution_count": 94,
   "id": "fa63be4e-fe26-4d74-a87a-fcc456c1578e",
   "metadata": {},
   "outputs": [
    {
     "data": {
      "text/plain": [
       "0"
      ]
     },
     "execution_count": 94,
     "metadata": {},
     "output_type": "execute_result"
    }
   ],
   "source": [
    "p1[0]"
   ]
  },
  {
   "cell_type": "markdown",
   "id": "6693bbe0-f185-4dd1-bd67-33ad39d2272d",
   "metadata": {},
   "source": [
    "# indexing on 2D array"
   ]
  },
  {
   "cell_type": "code",
   "execution_count": 95,
   "id": "2a2a2488-4f1f-4786-bd7d-2e12344d07e1",
   "metadata": {},
   "outputs": [
    {
     "data": {
      "text/plain": [
       "array([[ 0,  1,  2,  3],\n",
       "       [ 4,  5,  6,  7],\n",
       "       [ 8,  9, 10, 11]])"
      ]
     },
     "execution_count": 95,
     "metadata": {},
     "output_type": "execute_result"
    }
   ],
   "source": [
    "p2"
   ]
  },
  {
   "cell_type": "code",
   "execution_count": 96,
   "id": "3e8215c5-b535-486e-b175-3221d6944085",
   "metadata": {},
   "outputs": [
    {
     "data": {
      "text/plain": [
       "6"
      ]
     },
     "execution_count": 96,
     "metadata": {},
     "output_type": "execute_result"
    }
   ],
   "source": [
    "p2[1,2]"
   ]
  },
  {
   "cell_type": "code",
   "execution_count": 97,
   "id": "6acaa899-49f6-46a7-918a-89b6c0f358a6",
   "metadata": {},
   "outputs": [
    {
     "data": {
      "text/plain": [
       "11"
      ]
     },
     "execution_count": 97,
     "metadata": {},
     "output_type": "execute_result"
    }
   ],
   "source": [
    "p2[2,3]"
   ]
  },
  {
   "cell_type": "code",
   "execution_count": 98,
   "id": "242bb103-dda7-4a3d-8c16-00701bcc7f2b",
   "metadata": {},
   "outputs": [
    {
     "data": {
      "text/plain": [
       "4"
      ]
     },
     "execution_count": 98,
     "metadata": {},
     "output_type": "execute_result"
    }
   ],
   "source": [
    "p2[1,0]"
   ]
  },
  {
   "cell_type": "markdown",
   "id": "8df625be-a65d-47e3-8909-9103b02615af",
   "metadata": {},
   "source": [
    "# indexing on 3D (Tensors)"
   ]
  },
  {
   "cell_type": "code",
   "execution_count": 99,
   "id": "042d0ef8-0a8a-4fec-b970-3e23d77b58c1",
   "metadata": {},
   "outputs": [
    {
     "data": {
      "text/plain": [
       "array([[[0, 1],\n",
       "        [2, 3]],\n",
       "\n",
       "       [[4, 5],\n",
       "        [6, 7]]])"
      ]
     },
     "execution_count": 99,
     "metadata": {},
     "output_type": "execute_result"
    }
   ],
   "source": [
    "p3"
   ]
  },
  {
   "cell_type": "code",
   "execution_count": 100,
   "id": "2b8d1add-4677-4e25-98aa-f30e60b3c757",
   "metadata": {},
   "outputs": [
    {
     "data": {
      "text/plain": [
       "5"
      ]
     },
     "execution_count": 100,
     "metadata": {},
     "output_type": "execute_result"
    }
   ],
   "source": [
    "p3[1,0,1]"
   ]
  },
  {
   "cell_type": "code",
   "execution_count": 101,
   "id": "e7ad816d-6637-482e-bc58-daddbc81c599",
   "metadata": {},
   "outputs": [
    {
     "data": {
      "text/plain": [
       "2"
      ]
     },
     "execution_count": 101,
     "metadata": {},
     "output_type": "execute_result"
    }
   ],
   "source": [
    "p3[0,1,0]"
   ]
  },
  {
   "cell_type": "code",
   "execution_count": 102,
   "id": "e9c56a25-ae89-4ef3-b192-b0aaf5514d27",
   "metadata": {},
   "outputs": [
    {
     "data": {
      "text/plain": [
       "0"
      ]
     },
     "execution_count": 102,
     "metadata": {},
     "output_type": "execute_result"
    }
   ],
   "source": [
    "p3[0,0,0]"
   ]
  },
  {
   "cell_type": "code",
   "execution_count": 103,
   "id": "d876e363-171a-4b1c-993c-e11d441cd425",
   "metadata": {},
   "outputs": [
    {
     "data": {
      "text/plain": [
       "6"
      ]
     },
     "execution_count": 103,
     "metadata": {},
     "output_type": "execute_result"
    }
   ],
   "source": [
    "p3[1,1,0]"
   ]
  },
  {
   "cell_type": "markdown",
   "id": "48586c7f-906a-4866-b038-659cc2072f24",
   "metadata": {},
   "source": [
    "# slicing"
   ]
  },
  {
   "cell_type": "code",
   "execution_count": 104,
   "id": "83b26dd6-24a0-4246-86b3-1d2255df83fa",
   "metadata": {},
   "outputs": [
    {
     "data": {
      "text/plain": [
       "array([0, 1, 2, 3, 4, 5, 6, 7, 8, 9])"
      ]
     },
     "execution_count": 104,
     "metadata": {},
     "output_type": "execute_result"
    }
   ],
   "source": [
    "p1"
   ]
  },
  {
   "cell_type": "code",
   "execution_count": 105,
   "id": "12f8e0a3-802c-4a19-9cad-22dcc60cef99",
   "metadata": {},
   "outputs": [
    {
     "data": {
      "text/plain": [
       "array([2, 3, 4])"
      ]
     },
     "execution_count": 105,
     "metadata": {},
     "output_type": "execute_result"
    }
   ],
   "source": [
    "p1[2:5]"
   ]
  },
  {
   "cell_type": "code",
   "execution_count": 106,
   "id": "65205e92-60a7-472f-ab93-e95054ec7392",
   "metadata": {},
   "outputs": [
    {
     "data": {
      "text/plain": [
       "array([2, 4])"
      ]
     },
     "execution_count": 106,
     "metadata": {},
     "output_type": "execute_result"
    }
   ],
   "source": [
    "p1[2:5:2]"
   ]
  },
  {
   "cell_type": "markdown",
   "id": "b0abbdc4-ab74-4a61-9e9b-178bd86398b5",
   "metadata": {},
   "source": [
    "# slicing on 2D"
   ]
  },
  {
   "cell_type": "code",
   "execution_count": 107,
   "id": "bf4ece1c-6e04-4d41-a718-ec37204e92c7",
   "metadata": {},
   "outputs": [
    {
     "data": {
      "text/plain": [
       "array([[ 0,  1,  2,  3],\n",
       "       [ 4,  5,  6,  7],\n",
       "       [ 8,  9, 10, 11]])"
      ]
     },
     "execution_count": 107,
     "metadata": {},
     "output_type": "execute_result"
    }
   ],
   "source": [
    "p2"
   ]
  },
  {
   "cell_type": "code",
   "execution_count": 108,
   "id": "c56149ed-bc70-4ea2-be2c-97744b483903",
   "metadata": {},
   "outputs": [
    {
     "data": {
      "text/plain": [
       "array([0, 1, 2, 3])"
      ]
     },
     "execution_count": 108,
     "metadata": {},
     "output_type": "execute_result"
    }
   ],
   "source": [
    "p2[0,:]"
   ]
  },
  {
   "cell_type": "code",
   "execution_count": 109,
   "id": "655c2ca2-acf6-4ded-bc37-b3d608528410",
   "metadata": {},
   "outputs": [
    {
     "data": {
      "text/plain": [
       "array([ 2,  6, 10])"
      ]
     },
     "execution_count": 109,
     "metadata": {},
     "output_type": "execute_result"
    }
   ],
   "source": [
    "p2[:,2]"
   ]
  },
  {
   "cell_type": "code",
   "execution_count": 110,
   "id": "99ffa202-1d41-470e-8a1a-8acfada06947",
   "metadata": {},
   "outputs": [
    {
     "data": {
      "text/plain": [
       "array([[ 0,  1,  2,  3],\n",
       "       [ 4,  5,  6,  7],\n",
       "       [ 8,  9, 10, 11]])"
      ]
     },
     "execution_count": 110,
     "metadata": {},
     "output_type": "execute_result"
    }
   ],
   "source": [
    "p2"
   ]
  },
  {
   "cell_type": "code",
   "execution_count": 111,
   "id": "894b76b3-56ec-44d6-bdd4-e459e0efa811",
   "metadata": {},
   "outputs": [
    {
     "data": {
      "text/plain": [
       "array([[ 0,  1,  2,  3],\n",
       "       [ 4,  5,  6,  7],\n",
       "       [ 8,  9, 10, 11]])"
      ]
     },
     "execution_count": 111,
     "metadata": {},
     "output_type": "execute_result"
    }
   ],
   "source": [
    "p2"
   ]
  },
  {
   "cell_type": "code",
   "execution_count": 112,
   "id": "fcd12369-5edd-4f75-b57f-57ae56c54226",
   "metadata": {},
   "outputs": [
    {
     "data": {
      "text/plain": [
       "array([[ 4,  5,  6,  7],\n",
       "       [ 8,  9, 10, 11]])"
      ]
     },
     "execution_count": 112,
     "metadata": {},
     "output_type": "execute_result"
    }
   ],
   "source": [
    "p2[1:3]"
   ]
  },
  {
   "cell_type": "code",
   "execution_count": 113,
   "id": "527cfc5d-728e-4158-ba3d-ef425963d825",
   "metadata": {},
   "outputs": [
    {
     "data": {
      "text/plain": [
       "array([[ 5,  6],\n",
       "       [ 9, 10]])"
      ]
     },
     "execution_count": 113,
     "metadata": {},
     "output_type": "execute_result"
    }
   ],
   "source": [
    "p2[1:3,1:3]"
   ]
  },
  {
   "cell_type": "code",
   "execution_count": 114,
   "id": "bfcd4f43-d2c9-4fb0-9e03-986149b83404",
   "metadata": {},
   "outputs": [
    {
     "data": {
      "text/plain": [
       "array([[ 0,  1,  2,  3],\n",
       "       [ 4,  5,  6,  7],\n",
       "       [ 8,  9, 10, 11]])"
      ]
     },
     "execution_count": 114,
     "metadata": {},
     "output_type": "execute_result"
    }
   ],
   "source": [
    "p2"
   ]
  },
  {
   "cell_type": "code",
   "execution_count": 115,
   "id": "40fe6305-eae3-425b-9456-016d113ee20c",
   "metadata": {},
   "outputs": [
    {
     "data": {
      "text/plain": [
       "array([[ 0,  3],\n",
       "       [ 8, 11]])"
      ]
     },
     "execution_count": 115,
     "metadata": {},
     "output_type": "execute_result"
    }
   ],
   "source": [
    "p2[::2,::3]"
   ]
  },
  {
   "cell_type": "code",
   "execution_count": 116,
   "id": "7c45200e-9f72-44f2-b1f3-62c0c245be40",
   "metadata": {},
   "outputs": [
    {
     "data": {
      "text/plain": [
       "array([[ 0,  1,  2,  3],\n",
       "       [ 4,  5,  6,  7],\n",
       "       [ 8,  9, 10, 11]])"
      ]
     },
     "execution_count": 116,
     "metadata": {},
     "output_type": "execute_result"
    }
   ],
   "source": [
    "p2"
   ]
  },
  {
   "cell_type": "code",
   "execution_count": 117,
   "id": "5c96d0c5-2212-49b1-a248-16eec5511053",
   "metadata": {},
   "outputs": [
    {
     "data": {
      "text/plain": [
       "array([4, 5, 6, 7])"
      ]
     },
     "execution_count": 117,
     "metadata": {},
     "output_type": "execute_result"
    }
   ],
   "source": [
    "p2[1]"
   ]
  },
  {
   "cell_type": "code",
   "execution_count": 118,
   "id": "e1e12e4e-7b86-4848-bed6-405fdda0a87d",
   "metadata": {},
   "outputs": [
    {
     "data": {
      "text/plain": [
       "array([4, 7])"
      ]
     },
     "execution_count": 118,
     "metadata": {},
     "output_type": "execute_result"
    }
   ],
   "source": [
    "p2[1,::3]"
   ]
  },
  {
   "cell_type": "code",
   "execution_count": 119,
   "id": "9d0b1d76-7a73-464d-a551-e172507417f2",
   "metadata": {},
   "outputs": [
    {
     "data": {
      "text/plain": [
       "array([[ 0,  1,  2,  3],\n",
       "       [ 4,  5,  6,  7],\n",
       "       [ 8,  9, 10, 11]])"
      ]
     },
     "execution_count": 119,
     "metadata": {},
     "output_type": "execute_result"
    }
   ],
   "source": [
    "p2"
   ]
  },
  {
   "cell_type": "code",
   "execution_count": 120,
   "id": "daf35c1e-7723-4e1d-bb82-0211670bd39f",
   "metadata": {},
   "outputs": [
    {
     "data": {
      "text/plain": [
       "array([[0, 1, 2, 3],\n",
       "       [4, 5, 6, 7]])"
      ]
     },
     "execution_count": 120,
     "metadata": {},
     "output_type": "execute_result"
    }
   ],
   "source": [
    "p2[0:2]"
   ]
  },
  {
   "cell_type": "code",
   "execution_count": 121,
   "id": "791a12de-a828-4f71-9c88-414cac9be62a",
   "metadata": {},
   "outputs": [
    {
     "data": {
      "text/plain": [
       "array([[1, 2, 3],\n",
       "       [5, 6, 7]])"
      ]
     },
     "execution_count": 121,
     "metadata": {},
     "output_type": "execute_result"
    }
   ],
   "source": [
    "p2[0:2,1:]"
   ]
  },
  {
   "cell_type": "code",
   "execution_count": 122,
   "id": "455c32c4-df86-4743-9c99-45364f65133e",
   "metadata": {},
   "outputs": [
    {
     "data": {
      "text/plain": [
       "array([[ 0,  1,  2,  3],\n",
       "       [ 4,  5,  6,  7],\n",
       "       [ 8,  9, 10, 11]])"
      ]
     },
     "execution_count": 122,
     "metadata": {},
     "output_type": "execute_result"
    }
   ],
   "source": [
    "p2"
   ]
  },
  {
   "cell_type": "code",
   "execution_count": 123,
   "id": "43fc5ab0-a2e2-4168-a9c9-ff533dc73fee",
   "metadata": {},
   "outputs": [
    {
     "data": {
      "text/plain": [
       "array([[0, 1, 2, 3],\n",
       "       [4, 5, 6, 7]])"
      ]
     },
     "execution_count": 123,
     "metadata": {},
     "output_type": "execute_result"
    }
   ],
   "source": [
    "p2[0:2]"
   ]
  },
  {
   "cell_type": "code",
   "execution_count": 124,
   "id": "c696959f-5ad3-46eb-ab25-3dca5554e165",
   "metadata": {},
   "outputs": [
    {
     "data": {
      "text/plain": [
       "array([[1, 3],\n",
       "       [5, 7]])"
      ]
     },
     "execution_count": 124,
     "metadata": {},
     "output_type": "execute_result"
    }
   ],
   "source": [
    "p2[0:2,1::2]"
   ]
  },
  {
   "cell_type": "markdown",
   "id": "a51f93e5-adc1-4e3f-a9c4-0904012eda0e",
   "metadata": {},
   "source": [
    "# slicing in 3D"
   ]
  },
  {
   "cell_type": "code",
   "execution_count": 125,
   "id": "32c15468-8be3-47a1-a7c0-98373fe6b6a6",
   "metadata": {},
   "outputs": [
    {
     "data": {
      "text/plain": [
       "array([[[ 0,  1,  2],\n",
       "        [ 3,  4,  5],\n",
       "        [ 6,  7,  8]],\n",
       "\n",
       "       [[ 9, 10, 11],\n",
       "        [12, 13, 14],\n",
       "        [15, 16, 17]],\n",
       "\n",
       "       [[18, 19, 20],\n",
       "        [21, 22, 23],\n",
       "        [24, 25, 26]]])"
      ]
     },
     "execution_count": 125,
     "metadata": {},
     "output_type": "execute_result"
    }
   ],
   "source": [
    "p3 = np.arange(27).reshape(3,3,3)\n",
    "p3"
   ]
  },
  {
   "cell_type": "code",
   "execution_count": 126,
   "id": "fbe7cce2-b22d-4ada-b98b-1fed3f8f48ec",
   "metadata": {},
   "outputs": [
    {
     "data": {
      "text/plain": [
       "array([[ 9, 10, 11],\n",
       "       [12, 13, 14],\n",
       "       [15, 16, 17]])"
      ]
     },
     "execution_count": 126,
     "metadata": {},
     "output_type": "execute_result"
    }
   ],
   "source": [
    "p3[1]"
   ]
  },
  {
   "cell_type": "code",
   "execution_count": 127,
   "id": "f2e12905-9433-4aa4-857b-e401296746b2",
   "metadata": {},
   "outputs": [
    {
     "data": {
      "text/plain": [
       "array([[[ 0,  1,  2],\n",
       "        [ 3,  4,  5],\n",
       "        [ 6,  7,  8]],\n",
       "\n",
       "       [[18, 19, 20],\n",
       "        [21, 22, 23],\n",
       "        [24, 25, 26]]])"
      ]
     },
     "execution_count": 127,
     "metadata": {},
     "output_type": "execute_result"
    }
   ],
   "source": [
    "p3[::2]"
   ]
  },
  {
   "cell_type": "code",
   "execution_count": 128,
   "id": "de60f354-8587-4bf3-a1e2-bd17acff078e",
   "metadata": {},
   "outputs": [
    {
     "data": {
      "text/plain": [
       "array([[[ 0,  1,  2],\n",
       "        [ 3,  4,  5],\n",
       "        [ 6,  7,  8]],\n",
       "\n",
       "       [[ 9, 10, 11],\n",
       "        [12, 13, 14],\n",
       "        [15, 16, 17]],\n",
       "\n",
       "       [[18, 19, 20],\n",
       "        [21, 22, 23],\n",
       "        [24, 25, 26]]])"
      ]
     },
     "execution_count": 128,
     "metadata": {},
     "output_type": "execute_result"
    }
   ],
   "source": [
    "p3"
   ]
  },
  {
   "cell_type": "code",
   "execution_count": 129,
   "id": "257b2d41-ea3c-4258-a2c3-dea4f4d71b22",
   "metadata": {},
   "outputs": [
    {
     "data": {
      "text/plain": [
       "array([3, 4, 5])"
      ]
     },
     "execution_count": 129,
     "metadata": {},
     "output_type": "execute_result"
    }
   ],
   "source": [
    "p3[0,1,:]"
   ]
  },
  {
   "cell_type": "code",
   "execution_count": 130,
   "id": "6c759f72-1194-4481-a24a-a3feb927d28c",
   "metadata": {},
   "outputs": [
    {
     "data": {
      "text/plain": [
       "array([[[ 0,  1,  2],\n",
       "        [ 3,  4,  5],\n",
       "        [ 6,  7,  8]],\n",
       "\n",
       "       [[ 9, 10, 11],\n",
       "        [12, 13, 14],\n",
       "        [15, 16, 17]],\n",
       "\n",
       "       [[18, 19, 20],\n",
       "        [21, 22, 23],\n",
       "        [24, 25, 26]]])"
      ]
     },
     "execution_count": 130,
     "metadata": {},
     "output_type": "execute_result"
    }
   ],
   "source": [
    "p3"
   ]
  },
  {
   "cell_type": "code",
   "execution_count": 131,
   "id": "57d9e385-af4c-429e-8604-d3c08c8c3291",
   "metadata": {},
   "outputs": [
    {
     "data": {
      "text/plain": [
       "array([[ 9, 10, 11],\n",
       "       [12, 13, 14],\n",
       "       [15, 16, 17]])"
      ]
     },
     "execution_count": 131,
     "metadata": {},
     "output_type": "execute_result"
    }
   ],
   "source": [
    "p3[1]"
   ]
  },
  {
   "cell_type": "code",
   "execution_count": 132,
   "id": "b6da3a6b-5c0f-4d01-b75f-f20eea207f6c",
   "metadata": {},
   "outputs": [
    {
     "data": {
      "text/plain": [
       "array([10, 13, 16])"
      ]
     },
     "execution_count": 132,
     "metadata": {},
     "output_type": "execute_result"
    }
   ],
   "source": [
    "p3[1,:,1]"
   ]
  },
  {
   "cell_type": "code",
   "execution_count": 133,
   "id": "8a6c354b-2560-4232-9183-777c99a3dc42",
   "metadata": {},
   "outputs": [
    {
     "data": {
      "text/plain": [
       "array([[[ 0,  1,  2],\n",
       "        [ 3,  4,  5],\n",
       "        [ 6,  7,  8]],\n",
       "\n",
       "       [[ 9, 10, 11],\n",
       "        [12, 13, 14],\n",
       "        [15, 16, 17]],\n",
       "\n",
       "       [[18, 19, 20],\n",
       "        [21, 22, 23],\n",
       "        [24, 25, 26]]])"
      ]
     },
     "execution_count": 133,
     "metadata": {},
     "output_type": "execute_result"
    }
   ],
   "source": [
    "p3"
   ]
  },
  {
   "cell_type": "code",
   "execution_count": 134,
   "id": "786d58fa-c587-4743-a879-8ce17698acca",
   "metadata": {},
   "outputs": [
    {
     "data": {
      "text/plain": [
       "array([[18, 19, 20],\n",
       "       [21, 22, 23],\n",
       "       [24, 25, 26]])"
      ]
     },
     "execution_count": 134,
     "metadata": {},
     "output_type": "execute_result"
    }
   ],
   "source": [
    "p3[2]"
   ]
  },
  {
   "cell_type": "code",
   "execution_count": 135,
   "id": "cc2af4c3-f267-421d-b67e-276ac386f96a",
   "metadata": {},
   "outputs": [
    {
     "data": {
      "text/plain": [
       "array([[21, 22, 23],\n",
       "       [24, 25, 26]])"
      ]
     },
     "execution_count": 135,
     "metadata": {},
     "output_type": "execute_result"
    }
   ],
   "source": [
    "p3[2,1:]"
   ]
  },
  {
   "cell_type": "code",
   "execution_count": 136,
   "id": "04735768-ad0e-48e1-bc64-0dcc09c26724",
   "metadata": {},
   "outputs": [
    {
     "data": {
      "text/plain": [
       "array([[22, 23],\n",
       "       [25, 26]])"
      ]
     },
     "execution_count": 136,
     "metadata": {},
     "output_type": "execute_result"
    }
   ],
   "source": [
    "p3[2,1:,1:]"
   ]
  },
  {
   "cell_type": "code",
   "execution_count": 137,
   "id": "7893370b-39ed-43c9-be73-de5f758c8160",
   "metadata": {},
   "outputs": [
    {
     "data": {
      "text/plain": [
       "array([[[ 0,  1,  2],\n",
       "        [ 3,  4,  5],\n",
       "        [ 6,  7,  8]],\n",
       "\n",
       "       [[ 9, 10, 11],\n",
       "        [12, 13, 14],\n",
       "        [15, 16, 17]],\n",
       "\n",
       "       [[18, 19, 20],\n",
       "        [21, 22, 23],\n",
       "        [24, 25, 26]]])"
      ]
     },
     "execution_count": 137,
     "metadata": {},
     "output_type": "execute_result"
    }
   ],
   "source": [
    "p3"
   ]
  },
  {
   "cell_type": "code",
   "execution_count": 138,
   "id": "ae0f2bae-68a7-4bd9-8006-3a577c8ef9f8",
   "metadata": {},
   "outputs": [
    {
     "data": {
      "text/plain": [
       "array([[[ 0,  1,  2],\n",
       "        [ 3,  4,  5],\n",
       "        [ 6,  7,  8]],\n",
       "\n",
       "       [[18, 19, 20],\n",
       "        [21, 22, 23],\n",
       "        [24, 25, 26]]])"
      ]
     },
     "execution_count": 138,
     "metadata": {},
     "output_type": "execute_result"
    }
   ],
   "source": [
    "p3[0::2]"
   ]
  },
  {
   "cell_type": "code",
   "execution_count": 139,
   "id": "d91ab6ea-d7e3-4e5d-9af4-50176c9ad78a",
   "metadata": {},
   "outputs": [
    {
     "data": {
      "text/plain": [
       "array([[ 0,  1,  2],\n",
       "       [18, 19, 20]])"
      ]
     },
     "execution_count": 139,
     "metadata": {},
     "output_type": "execute_result"
    }
   ],
   "source": [
    "p3[0::2,0]"
   ]
  },
  {
   "cell_type": "code",
   "execution_count": 140,
   "id": "b2a8da84-458d-4e5d-88eb-d6bd1eef6946",
   "metadata": {},
   "outputs": [
    {
     "data": {
      "text/plain": [
       "array([[ 0,  2],\n",
       "       [18, 20]])"
      ]
     },
     "execution_count": 140,
     "metadata": {},
     "output_type": "execute_result"
    }
   ],
   "source": [
    "p3[0::2,0,::2]"
   ]
  },
  {
   "cell_type": "markdown",
   "id": "2cb49661-66ef-493d-8565-9be2b96e0af0",
   "metadata": {},
   "source": [
    "# iterating"
   ]
  },
  {
   "cell_type": "code",
   "execution_count": 141,
   "id": "17a4a549-1327-438d-90e9-76579c56102e",
   "metadata": {},
   "outputs": [
    {
     "data": {
      "text/plain": [
       "array([0, 1, 2, 3, 4, 5, 6, 7, 8, 9])"
      ]
     },
     "execution_count": 141,
     "metadata": {},
     "output_type": "execute_result"
    }
   ],
   "source": [
    "p1"
   ]
  },
  {
   "cell_type": "code",
   "execution_count": 142,
   "id": "16d3fccf-fcbd-46ee-9501-59d3f8610c8f",
   "metadata": {},
   "outputs": [
    {
     "name": "stdout",
     "output_type": "stream",
     "text": [
      "0\n",
      "1\n",
      "2\n",
      "3\n",
      "4\n",
      "5\n",
      "6\n",
      "7\n",
      "8\n",
      "9\n"
     ]
    }
   ],
   "source": [
    "for i in p1:\n",
    "    print(i)"
   ]
  },
  {
   "cell_type": "code",
   "execution_count": 143,
   "id": "049e7f3f-c8b5-4f0e-8d07-a98652f1033b",
   "metadata": {},
   "outputs": [
    {
     "data": {
      "text/plain": [
       "array([[ 0,  1,  2,  3],\n",
       "       [ 4,  5,  6,  7],\n",
       "       [ 8,  9, 10, 11]])"
      ]
     },
     "execution_count": 143,
     "metadata": {},
     "output_type": "execute_result"
    }
   ],
   "source": [
    "p2"
   ]
  },
  {
   "cell_type": "code",
   "execution_count": 144,
   "id": "5c01f756-ee14-4e00-a733-36cbcd3239c6",
   "metadata": {},
   "outputs": [
    {
     "name": "stdout",
     "output_type": "stream",
     "text": [
      "[0 1 2 3]\n",
      "[4 5 6 7]\n",
      "[ 8  9 10 11]\n"
     ]
    }
   ],
   "source": [
    "for i in p2:\n",
    "    print(i)"
   ]
  },
  {
   "cell_type": "code",
   "execution_count": 145,
   "id": "26df5e0b-50e3-4b16-8994-b4b2fb4b8b85",
   "metadata": {},
   "outputs": [
    {
     "data": {
      "text/plain": [
       "array([[[ 0,  1,  2],\n",
       "        [ 3,  4,  5],\n",
       "        [ 6,  7,  8]],\n",
       "\n",
       "       [[ 9, 10, 11],\n",
       "        [12, 13, 14],\n",
       "        [15, 16, 17]],\n",
       "\n",
       "       [[18, 19, 20],\n",
       "        [21, 22, 23],\n",
       "        [24, 25, 26]]])"
      ]
     },
     "execution_count": 145,
     "metadata": {},
     "output_type": "execute_result"
    }
   ],
   "source": [
    "p3"
   ]
  },
  {
   "cell_type": "code",
   "execution_count": 146,
   "id": "97afc5e0-f2f4-4ee9-b5ea-b104ee0e82c5",
   "metadata": {},
   "outputs": [
    {
     "name": "stdout",
     "output_type": "stream",
     "text": [
      "[[0 1 2]\n",
      " [3 4 5]\n",
      " [6 7 8]]\n",
      "[[ 9 10 11]\n",
      " [12 13 14]\n",
      " [15 16 17]]\n",
      "[[18 19 20]\n",
      " [21 22 23]\n",
      " [24 25 26]]\n"
     ]
    }
   ],
   "source": [
    "for i in p3:\n",
    "    print(i)"
   ]
  },
  {
   "cell_type": "code",
   "execution_count": 147,
   "id": "7b120514-6c74-49ef-8b9c-d06ac77912a4",
   "metadata": {},
   "outputs": [
    {
     "name": "stdout",
     "output_type": "stream",
     "text": [
      "0\n",
      "1\n",
      "2\n",
      "3\n",
      "4\n",
      "5\n",
      "6\n",
      "7\n",
      "8\n",
      "9\n",
      "10\n",
      "11\n",
      "12\n",
      "13\n",
      "14\n",
      "15\n",
      "16\n",
      "17\n",
      "18\n",
      "19\n",
      "20\n",
      "21\n",
      "22\n",
      "23\n",
      "24\n",
      "25\n",
      "26\n"
     ]
    }
   ],
   "source": [
    "for i in np.nditer(p3):\n",
    "    print(i)\n",
    "  "
   ]
  },
  {
   "cell_type": "code",
   "execution_count": 148,
   "id": "1e999ee4-a01f-4040-9081-c4f38d3a4c23",
   "metadata": {},
   "outputs": [
    {
     "data": {
      "text/plain": [
       "array([[ 0,  1,  2,  3],\n",
       "       [ 4,  5,  6,  7],\n",
       "       [ 8,  9, 10, 11]])"
      ]
     },
     "execution_count": 148,
     "metadata": {},
     "output_type": "execute_result"
    }
   ],
   "source": [
    "p2"
   ]
  },
  {
   "cell_type": "code",
   "execution_count": 149,
   "id": "ffa4b7de-63f9-45c7-8a9d-fc9316cf0269",
   "metadata": {},
   "outputs": [
    {
     "data": {
      "text/plain": [
       "array([[ 0,  4,  8],\n",
       "       [ 1,  5,  9],\n",
       "       [ 2,  6, 10],\n",
       "       [ 3,  7, 11]])"
      ]
     },
     "execution_count": 149,
     "metadata": {},
     "output_type": "execute_result"
    }
   ],
   "source": [
    "np.transpose(p2)"
   ]
  },
  {
   "cell_type": "code",
   "execution_count": 150,
   "id": "21f8d19b-40e7-4b94-b14c-abbe1244a51b",
   "metadata": {},
   "outputs": [
    {
     "data": {
      "text/plain": [
       "array([[ 0,  4,  8],\n",
       "       [ 1,  5,  9],\n",
       "       [ 2,  6, 10],\n",
       "       [ 3,  7, 11]])"
      ]
     },
     "execution_count": 150,
     "metadata": {},
     "output_type": "execute_result"
    }
   ],
   "source": [
    "p2.T"
   ]
  },
  {
   "cell_type": "code",
   "execution_count": 151,
   "id": "fc3dfc14-ea68-4a9f-980a-e0eab07e21ae",
   "metadata": {},
   "outputs": [
    {
     "data": {
      "text/plain": [
       "array([[[ 0,  1,  2],\n",
       "        [ 3,  4,  5],\n",
       "        [ 6,  7,  8]],\n",
       "\n",
       "       [[ 9, 10, 11],\n",
       "        [12, 13, 14],\n",
       "        [15, 16, 17]],\n",
       "\n",
       "       [[18, 19, 20],\n",
       "        [21, 22, 23],\n",
       "        [24, 25, 26]]])"
      ]
     },
     "execution_count": 151,
     "metadata": {},
     "output_type": "execute_result"
    }
   ],
   "source": [
    "p3"
   ]
  },
  {
   "cell_type": "code",
   "execution_count": 152,
   "id": "88e170d4-143c-444d-bd90-2a6ad66ce552",
   "metadata": {},
   "outputs": [
    {
     "data": {
      "text/plain": [
       "array([[[ 0,  9, 18],\n",
       "        [ 3, 12, 21],\n",
       "        [ 6, 15, 24]],\n",
       "\n",
       "       [[ 1, 10, 19],\n",
       "        [ 4, 13, 22],\n",
       "        [ 7, 16, 25]],\n",
       "\n",
       "       [[ 2, 11, 20],\n",
       "        [ 5, 14, 23],\n",
       "        [ 8, 17, 26]]])"
      ]
     },
     "execution_count": 152,
     "metadata": {},
     "output_type": "execute_result"
    }
   ],
   "source": [
    "p3.T"
   ]
  },
  {
   "cell_type": "markdown",
   "id": "89f29e31-9876-484c-a1fe-8b23a9343a2b",
   "metadata": {},
   "source": [
    "# Ravel"
   ]
  },
  {
   "cell_type": "code",
   "execution_count": 153,
   "id": "c104f843-59a0-4a37-8aa2-75f1558d90f1",
   "metadata": {},
   "outputs": [
    {
     "data": {
      "text/plain": [
       "array([[ 0,  1,  2,  3],\n",
       "       [ 4,  5,  6,  7],\n",
       "       [ 8,  9, 10, 11]])"
      ]
     },
     "execution_count": 153,
     "metadata": {},
     "output_type": "execute_result"
    }
   ],
   "source": [
    "p2"
   ]
  },
  {
   "cell_type": "code",
   "execution_count": 154,
   "id": "f73e2329-2bbc-4eb6-806d-f061207fe520",
   "metadata": {},
   "outputs": [
    {
     "data": {
      "text/plain": [
       "array([ 0,  1,  2,  3,  4,  5,  6,  7,  8,  9, 10, 11])"
      ]
     },
     "execution_count": 154,
     "metadata": {},
     "output_type": "execute_result"
    }
   ],
   "source": [
    "p2.ravel()"
   ]
  },
  {
   "cell_type": "code",
   "execution_count": 155,
   "id": "06e8d7db-0fe8-46ef-aef4-b70331dc4855",
   "metadata": {},
   "outputs": [
    {
     "data": {
      "text/plain": [
       "array([[[ 0,  1,  2],\n",
       "        [ 3,  4,  5],\n",
       "        [ 6,  7,  8]],\n",
       "\n",
       "       [[ 9, 10, 11],\n",
       "        [12, 13, 14],\n",
       "        [15, 16, 17]],\n",
       "\n",
       "       [[18, 19, 20],\n",
       "        [21, 22, 23],\n",
       "        [24, 25, 26]]])"
      ]
     },
     "execution_count": 155,
     "metadata": {},
     "output_type": "execute_result"
    }
   ],
   "source": [
    "p3"
   ]
  },
  {
   "cell_type": "code",
   "execution_count": 156,
   "id": "284e7d82-e8f4-46f1-b3bf-ae9b82eeaae9",
   "metadata": {},
   "outputs": [
    {
     "data": {
      "text/plain": [
       "array([ 0,  1,  2,  3,  4,  5,  6,  7,  8,  9, 10, 11, 12, 13, 14, 15, 16,\n",
       "       17, 18, 19, 20, 21, 22, 23, 24, 25, 26])"
      ]
     },
     "execution_count": 156,
     "metadata": {},
     "output_type": "execute_result"
    }
   ],
   "source": [
    "p3.ravel()"
   ]
  },
  {
   "cell_type": "markdown",
   "id": "61cdb432-1dc1-4c9d-ba27-f1c938c51d87",
   "metadata": {},
   "source": [
    "# Stacking"
   ]
  },
  {
   "cell_type": "code",
   "execution_count": 157,
   "id": "5754d946-1a33-4830-a5bc-225b54d04d5f",
   "metadata": {},
   "outputs": [
    {
     "data": {
      "text/plain": [
       "array([[ 0,  1,  2,  3],\n",
       "       [ 4,  5,  6,  7],\n",
       "       [ 8,  9, 10, 11]])"
      ]
     },
     "execution_count": 157,
     "metadata": {},
     "output_type": "execute_result"
    }
   ],
   "source": [
    "w1 = np.arange(12).reshape(3,4)\n",
    "w2 = np.arange(12,24).reshape(3,4)\n",
    "w1"
   ]
  },
  {
   "cell_type": "code",
   "execution_count": 158,
   "id": "7a8e4740-ae4d-4587-8f7b-56c1b7648b7e",
   "metadata": {},
   "outputs": [
    {
     "data": {
      "text/plain": [
       "array([[12, 13, 14, 15],\n",
       "       [16, 17, 18, 19],\n",
       "       [20, 21, 22, 23]])"
      ]
     },
     "execution_count": 158,
     "metadata": {},
     "output_type": "execute_result"
    }
   ],
   "source": [
    "w2"
   ]
  },
  {
   "cell_type": "code",
   "execution_count": 159,
   "id": "d1c5c047-5070-41f5-88e5-3e3490eaf556",
   "metadata": {},
   "outputs": [
    {
     "data": {
      "text/plain": [
       "array([[ 0,  1,  2,  3, 12, 13, 14, 15],\n",
       "       [ 4,  5,  6,  7, 16, 17, 18, 19],\n",
       "       [ 8,  9, 10, 11, 20, 21, 22, 23]])"
      ]
     },
     "execution_count": 159,
     "metadata": {},
     "output_type": "execute_result"
    }
   ],
   "source": [
    "np.hstack((w1,w2))"
   ]
  },
  {
   "cell_type": "code",
   "execution_count": 160,
   "id": "9fbe4e10-1398-48d3-9796-65265b518321",
   "metadata": {},
   "outputs": [
    {
     "data": {
      "text/plain": [
       "array([[ 0,  1,  2,  3],\n",
       "       [ 4,  5,  6,  7],\n",
       "       [ 8,  9, 10, 11]])"
      ]
     },
     "execution_count": 160,
     "metadata": {},
     "output_type": "execute_result"
    }
   ],
   "source": [
    "w1"
   ]
  },
  {
   "cell_type": "code",
   "execution_count": 161,
   "id": "c877bf88-9174-4ade-876a-75e1f9a07f27",
   "metadata": {},
   "outputs": [
    {
     "data": {
      "text/plain": [
       "array([[12, 13, 14, 15],\n",
       "       [16, 17, 18, 19],\n",
       "       [20, 21, 22, 23]])"
      ]
     },
     "execution_count": 161,
     "metadata": {},
     "output_type": "execute_result"
    }
   ],
   "source": [
    "w2"
   ]
  },
  {
   "cell_type": "code",
   "execution_count": 162,
   "id": "ab53ec8c-a282-43d5-aec6-b56d3c539fa6",
   "metadata": {},
   "outputs": [
    {
     "data": {
      "text/plain": [
       "array([[ 0,  1,  2,  3],\n",
       "       [ 4,  5,  6,  7],\n",
       "       [ 8,  9, 10, 11],\n",
       "       [12, 13, 14, 15],\n",
       "       [16, 17, 18, 19],\n",
       "       [20, 21, 22, 23]])"
      ]
     },
     "execution_count": 162,
     "metadata": {},
     "output_type": "execute_result"
    }
   ],
   "source": [
    "np.vstack((w1,w2))"
   ]
  },
  {
   "cell_type": "markdown",
   "id": "f5b833d2-1b39-4cba-8522-7ee7a1a2ecb7",
   "metadata": {},
   "source": [
    "# splitting"
   ]
  },
  {
   "cell_type": "code",
   "execution_count": 163,
   "id": "c4aebf01-64e4-4bd1-9f63-377286748929",
   "metadata": {},
   "outputs": [
    {
     "data": {
      "text/plain": [
       "array([[ 0,  1,  2,  3],\n",
       "       [ 4,  5,  6,  7],\n",
       "       [ 8,  9, 10, 11]])"
      ]
     },
     "execution_count": 163,
     "metadata": {},
     "output_type": "execute_result"
    }
   ],
   "source": [
    "w1"
   ]
  },
  {
   "cell_type": "code",
   "execution_count": 164,
   "id": "fb1c4662-dfa6-449f-9410-d7aba5e58433",
   "metadata": {},
   "outputs": [
    {
     "data": {
      "text/plain": [
       "[array([[0, 1],\n",
       "        [4, 5],\n",
       "        [8, 9]]),\n",
       " array([[ 2,  3],\n",
       "        [ 6,  7],\n",
       "        [10, 11]])]"
      ]
     },
     "execution_count": 164,
     "metadata": {},
     "output_type": "execute_result"
    }
   ],
   "source": [
    "np.hsplit(w1,2)"
   ]
  },
  {
   "cell_type": "code",
   "execution_count": 165,
   "id": "8c5ce67e-3116-4a42-b136-6df74f90081c",
   "metadata": {},
   "outputs": [
    {
     "data": {
      "text/plain": [
       "[array([[0],\n",
       "        [4],\n",
       "        [8]]),\n",
       " array([[1],\n",
       "        [5],\n",
       "        [9]]),\n",
       " array([[ 2],\n",
       "        [ 6],\n",
       "        [10]]),\n",
       " array([[ 3],\n",
       "        [ 7],\n",
       "        [11]])]"
      ]
     },
     "execution_count": 165,
     "metadata": {},
     "output_type": "execute_result"
    }
   ],
   "source": [
    "np.hsplit(w1,4)"
   ]
  },
  {
   "cell_type": "code",
   "execution_count": 166,
   "id": "5d1d34b2-db87-4bbc-8286-aace42c672c3",
   "metadata": {},
   "outputs": [
    {
     "data": {
      "text/plain": [
       "array([[12, 13, 14, 15],\n",
       "       [16, 17, 18, 19],\n",
       "       [20, 21, 22, 23]])"
      ]
     },
     "execution_count": 166,
     "metadata": {},
     "output_type": "execute_result"
    }
   ],
   "source": [
    "w2"
   ]
  },
  {
   "cell_type": "code",
   "execution_count": 167,
   "id": "fa368758-d4a6-4e67-90f5-5eed5d71cfb6",
   "metadata": {},
   "outputs": [
    {
     "data": {
      "text/plain": [
       "[array([[12, 13, 14, 15]]),\n",
       " array([[16, 17, 18, 19]]),\n",
       " array([[20, 21, 22, 23]])]"
      ]
     },
     "execution_count": 167,
     "metadata": {},
     "output_type": "execute_result"
    }
   ],
   "source": [
    "np.vsplit(w2,3)"
   ]
  },
  {
   "cell_type": "markdown",
   "id": "6638ca0d-a99c-4634-b8a9-c14767abb19e",
   "metadata": {},
   "source": [
    "# speed of List vs Numpy"
   ]
  },
  {
   "cell_type": "markdown",
   "id": "93ac1d65-2390-4400-a901-ef9e9c20c773",
   "metadata": {},
   "source": [
    "### List"
   ]
  },
  {
   "cell_type": "code",
   "execution_count": 168,
   "id": "d39ab5ae-7183-4f3a-8930-8fa67fdc7761",
   "metadata": {},
   "outputs": [
    {
     "name": "stdout",
     "output_type": "stream",
     "text": [
      "4.289594888687134\n"
     ]
    }
   ],
   "source": [
    "a = [i for i in range (10000000)]\n",
    "b = [i for i in range (10000000,20000000)]\n",
    "\n",
    "c = []\n",
    "\n",
    "import time\n",
    "\n",
    "start = time . time()\n",
    "for i in range(len(a)):\n",
    "    c.append(a[i]+b[i])\n",
    "    \n",
    "print(time.time()-start)"
   ]
  },
  {
   "cell_type": "markdown",
   "id": "b6d3acc0-62de-4a95-833d-7297f2c3d507",
   "metadata": {},
   "source": [
    "### Numpy"
   ]
  },
  {
   "cell_type": "code",
   "execution_count": 169,
   "id": "763b2824-cab2-4df9-ae8b-c9822f30ff02",
   "metadata": {},
   "outputs": [
    {
     "ename": "ValueError",
     "evalue": "operands could not be broadcast together with shapes (10000000,) (0,) ",
     "output_type": "error",
     "traceback": [
      "\u001b[1;31m---------------------------------------------------------------------------\u001b[0m",
      "\u001b[1;31mValueError\u001b[0m                                Traceback (most recent call last)",
      "Cell \u001b[1;32mIn[169], line 7\u001b[0m\n\u001b[0;32m      4\u001b[0m b \u001b[38;5;241m=\u001b[39m np\u001b[38;5;241m.\u001b[39m arange(\u001b[38;5;241m100000000\u001b[39m,\u001b[38;5;241m20000000\u001b[39m)\n\u001b[0;32m      6\u001b[0m start \u001b[38;5;241m=\u001b[39mtime\u001b[38;5;241m.\u001b[39mtime()\n\u001b[1;32m----> 7\u001b[0m c \u001b[38;5;241m=\u001b[39m a\u001b[38;5;241m+\u001b[39mb\n\u001b[0;32m      8\u001b[0m \u001b[38;5;28mprint\u001b[39m(time\u001b[38;5;241m.\u001b[39mtime()\u001b[38;5;241m-\u001b[39mstart)\n",
      "\u001b[1;31mValueError\u001b[0m: operands could not be broadcast together with shapes (10000000,) (0,) "
     ]
    }
   ],
   "source": [
    "import numpy as np\n",
    "\n",
    "a = np. arange(10000000)\n",
    "b = np. arange(100000000,20000000)\n",
    "\n",
    "start =time.time()\n",
    "c = a+b\n",
    "print(time.time()-start)"
   ]
  },
  {
   "cell_type": "code",
   "execution_count": null,
   "id": "e8ee9752-5e09-4d51-86ae-954d07b447b3",
   "metadata": {},
   "outputs": [],
   "source": [
    "import numpy as np\n",
    "a = np.arange(10000000)\n",
    "b = np.arange(10000000,20000000)\n",
    "start =time.time()\n",
    "c = a+b\n",
    "print(time.time()-start)"
   ]
  },
  {
   "cell_type": "code",
   "execution_count": null,
   "id": "04437ecd-c8db-4a7f-ace0-e2b87f2ca0c5",
   "metadata": {},
   "outputs": [],
   "source": [
    "2.7065064907073975 / 0.02248692512512207"
   ]
  },
  {
   "cell_type": "markdown",
   "id": "4c79f20e-54dc-4597-b1f8-91b88e95b220",
   "metadata": {},
   "source": [
    "# Meomary used for list vs Numpy"
   ]
  },
  {
   "cell_type": "markdown",
   "id": "8007e59b-f892-4657-85f0-0fe45cdfa5c8",
   "metadata": {},
   "source": [
    "# List"
   ]
  },
  {
   "cell_type": "code",
   "execution_count": null,
   "id": "20e426dc-2671-413a-a16a-85afdb6333ef",
   "metadata": {},
   "outputs": [],
   "source": [
    "p = [i for i in range(10000000)]\n",
    "\n",
    "import sys\n",
    "\n",
    "sys.getsizeof(p)"
   ]
  },
  {
   "cell_type": "markdown",
   "id": "fc54207f-6565-4efe-8c1a-441e467bb563",
   "metadata": {},
   "source": [
    "# Numpy"
   ]
  },
  {
   "cell_type": "code",
   "execution_count": null,
   "id": "5adc50f2-0cc0-4032-bc7d-8e38801006cd",
   "metadata": {},
   "outputs": [],
   "source": [
    "R = np.arange(100000000)\n",
    "\n",
    "sys.getsizeof(R)"
   ]
  },
  {
   "cell_type": "code",
   "execution_count": null,
   "id": "8afc0c37-cf53-487f-b6c6-d0ce79baf736",
   "metadata": {},
   "outputs": [],
   "source": [
    "R = np.arange(10000000, dtype = np.int16)\n",
    "sys.getsizeof(R)"
   ]
  },
  {
   "cell_type": "markdown",
   "id": "339f1014-1c99-4aba-b359-39f8ba7459b3",
   "metadata": {},
   "source": [
    "## Adavance INdexing and Slicing"
   ]
  },
  {
   "cell_type": "code",
   "execution_count": null,
   "id": "587a3010-9d95-4107-81f8-abb5ee2949e7",
   "metadata": {},
   "outputs": [],
   "source": [
    "w = np.arange(12).reshape(4,3)\n",
    "w"
   ]
  },
  {
   "cell_type": "code",
   "execution_count": null,
   "id": "91eb1c2d-191f-41f9-bddb-6cfaf1fc3505",
   "metadata": {},
   "outputs": [],
   "source": [
    "w[1,2]"
   ]
  },
  {
   "cell_type": "code",
   "execution_count": null,
   "id": "69e35c15-6292-46b5-a7b4-98d7fe0b61d5",
   "metadata": {},
   "outputs": [],
   "source": [
    "w[1:3]"
   ]
  },
  {
   "cell_type": "code",
   "execution_count": null,
   "id": "8c918184-c836-41f2-a524-d28d78833f5b",
   "metadata": {},
   "outputs": [],
   "source": [
    "w[1:3 , 1:3]"
   ]
  },
  {
   "cell_type": "markdown",
   "id": "fb3fa55f-90f6-4e70-9fc3-eda3365dd076",
   "metadata": {},
   "source": [
    "### Fancy Indexing"
   ]
  },
  {
   "cell_type": "code",
   "execution_count": null,
   "id": "03ec60d3-5e66-4e7b-948e-ca4bb90911b1",
   "metadata": {},
   "outputs": [],
   "source": [
    "w"
   ]
  },
  {
   "cell_type": "code",
   "execution_count": null,
   "id": "bb53ae51-0487-4013-85fe-24ae148cbfe7",
   "metadata": {},
   "outputs": [],
   "source": [
    "w[[0,2,3]]"
   ]
  },
  {
   "cell_type": "code",
   "execution_count": null,
   "id": "94c271f7-b42e-4677-98fd-5239769c21c1",
   "metadata": {},
   "outputs": [],
   "source": [
    "z = np.arange(24).reshape(6,4)\n",
    "z"
   ]
  },
  {
   "cell_type": "code",
   "execution_count": null,
   "id": "0eefeb2a-d138-459b-8d47-93bf3be6350c",
   "metadata": {},
   "outputs": [],
   "source": [
    "z[[0,2,3,5]]"
   ]
  },
  {
   "cell_type": "code",
   "execution_count": null,
   "id": "2902d626-86e9-4de9-807c-8b4580538392",
   "metadata": {},
   "outputs": [],
   "source": [
    "z[:,[0,2,3]]"
   ]
  },
  {
   "cell_type": "markdown",
   "id": "7118d2fe-96fc-4199-ac15-282c4327ebbc",
   "metadata": {},
   "source": [
    "#### Boolean indexing"
   ]
  },
  {
   "cell_type": "code",
   "execution_count": 171,
   "id": "3ec0a00a-7d11-4e1b-b556-a6ffabc5c78b",
   "metadata": {},
   "outputs": [
    {
     "data": {
      "text/plain": [
       "array([[13, 18, 65, 53],\n",
       "       [24, 72, 50, 72],\n",
       "       [98, 97, 49, 75],\n",
       "       [62, 68, 17,  1],\n",
       "       [32, 25, 30, 60],\n",
       "       [84, 68, 29, 34]])"
      ]
     },
     "execution_count": 171,
     "metadata": {},
     "output_type": "execute_result"
    }
   ],
   "source": [
    "G = np.random.randint(1,100,24).reshape(6,4)\n",
    "G"
   ]
  },
  {
   "cell_type": "code",
   "execution_count": 172,
   "id": "a3c2f82e-100f-4f38-b06b-4a7c54871c33",
   "metadata": {},
   "outputs": [
    {
     "data": {
      "text/plain": [
       "array([[False, False,  True,  True],\n",
       "       [False,  True, False,  True],\n",
       "       [ True,  True, False,  True],\n",
       "       [ True,  True, False, False],\n",
       "       [False, False, False,  True],\n",
       "       [ True,  True, False, False]])"
      ]
     },
     "execution_count": 172,
     "metadata": {},
     "output_type": "execute_result"
    }
   ],
   "source": [
    "G > 50"
   ]
  },
  {
   "cell_type": "code",
   "execution_count": 173,
   "id": "22faad26-b951-4b58-9a49-dc157bdf2fba",
   "metadata": {},
   "outputs": [
    {
     "data": {
      "text/plain": [
       "array([65, 53, 72, 72, 98, 97, 75, 62, 68, 60, 84, 68])"
      ]
     },
     "execution_count": 173,
     "metadata": {},
     "output_type": "execute_result"
    }
   ],
   "source": [
    "G[G > 50]"
   ]
  },
  {
   "cell_type": "code",
   "execution_count": 174,
   "id": "ee76e0e4-f66b-4f28-8376-4f1a4d68ceac",
   "metadata": {},
   "outputs": [
    {
     "data": {
      "text/plain": [
       "array([[False,  True, False, False],\n",
       "       [ True,  True,  True,  True],\n",
       "       [ True, False, False, False],\n",
       "       [ True,  True, False, False],\n",
       "       [ True, False,  True,  True],\n",
       "       [ True,  True, False,  True]])"
      ]
     },
     "execution_count": 174,
     "metadata": {},
     "output_type": "execute_result"
    }
   ],
   "source": [
    "G%2 == 0"
   ]
  },
  {
   "cell_type": "code",
   "execution_count": 175,
   "id": "41f3f720-0c8c-48d6-83d8-5f9e0ae2bdd8",
   "metadata": {},
   "outputs": [
    {
     "data": {
      "text/plain": [
       "array([72, 72, 98, 62, 68, 60, 84, 68])"
      ]
     },
     "execution_count": 175,
     "metadata": {},
     "output_type": "execute_result"
    }
   ],
   "source": [
    "G [(G > 50) & (G % 2 == 0)]"
   ]
  },
  {
   "cell_type": "code",
   "execution_count": 176,
   "id": "3f94b767-40d6-4994-bdd5-6ac545c92c2e",
   "metadata": {},
   "outputs": [
    {
     "data": {
      "text/plain": [
       "array([[False, False, False, False],\n",
       "       [False, False, False, False],\n",
       "       [ True, False,  True, False],\n",
       "       [False, False, False, False],\n",
       "       [False, False, False, False],\n",
       "       [ True, False, False, False]])"
      ]
     },
     "execution_count": 176,
     "metadata": {},
     "output_type": "execute_result"
    }
   ],
   "source": [
    "G % 7 == 0"
   ]
  },
  {
   "cell_type": "code",
   "execution_count": 177,
   "id": "2eb208de-b541-4f27-af0b-eb755f5a5d16",
   "metadata": {},
   "outputs": [
    {
     "data": {
      "text/plain": [
       "array([13, 18, 65, 53, 24, 72, 50, 72, 97, 75, 62, 68, 17,  1, 32, 25, 30,\n",
       "       60, 68, 29, 34])"
      ]
     },
     "execution_count": 177,
     "metadata": {},
     "output_type": "execute_result"
    }
   ],
   "source": [
    "G [~ (G % 7 == 0) ]"
   ]
  },
  {
   "cell_type": "markdown",
   "id": "41329d9a-6536-4529-924d-ed20ca6c1555",
   "metadata": {},
   "source": [
    "# Broadcasting"
   ]
  },
  {
   "cell_type": "code",
   "execution_count": 192,
   "id": "f700edb9-6b55-4568-a443-10d0a03700a4",
   "metadata": {},
   "outputs": [
    {
     "name": "stdout",
     "output_type": "stream",
     "text": [
      "[[0 1 2]\n",
      " [3 4 5]]\n",
      "[[ 6  7  8]\n",
      " [ 9 10 11]]\n",
      "[[ 6  8 10]\n",
      " [12 14 16]]\n"
     ]
    }
   ],
   "source": [
    "a = np.arange(6).reshape(2,3)\n",
    "b = np.arange(6,12).reshape(2,3)\n",
    "\n",
    "print(a)\n",
    "print(b)\n",
    "\n",
    "print(a+b)"
   ]
  },
  {
   "cell_type": "code",
   "execution_count": 193,
   "id": "ac8bf861-4abc-4729-96e5-e4a499f7e4f1",
   "metadata": {},
   "outputs": [
    {
     "name": "stdout",
     "output_type": "stream",
     "text": [
      "[[0 1 2]\n",
      " [3 4 5]]\n",
      "[[0 1 2]]\n",
      "[[0 2 4]\n",
      " [3 5 7]]\n"
     ]
    }
   ],
   "source": [
    "a = np.arange(6).reshape(2,3)\n",
    "b = np.arange(3).reshape(1,3)\n",
    "\n",
    "print(a)\n",
    "print(b)\n",
    "\n",
    "print(a+b)"
   ]
  },
  {
   "cell_type": "code",
   "execution_count": 194,
   "id": "330d0627-2bb2-492a-a6d0-87498bd5b088",
   "metadata": {},
   "outputs": [
    {
     "name": "stdout",
     "output_type": "stream",
     "text": [
      "[[ 0  1  2]\n",
      " [ 3  4  5]\n",
      " [ 6  7  8]\n",
      " [ 9 10 11]]\n"
     ]
    }
   ],
   "source": [
    "a = np.arange(12).reshape(4,3)\n",
    "b = np.arange(3)\n",
    "\n",
    "print(a)"
   ]
  },
  {
   "cell_type": "code",
   "execution_count": 195,
   "id": "1394e288-6d20-4af0-8541-071cf5121fa9",
   "metadata": {},
   "outputs": [
    {
     "name": "stdout",
     "output_type": "stream",
     "text": [
      "[0 1 2]\n"
     ]
    }
   ],
   "source": [
    "print(b)"
   ]
  },
  {
   "cell_type": "code",
   "execution_count": 196,
   "id": "39c517b7-6a7f-45b1-9d5f-1a48724e34c0",
   "metadata": {},
   "outputs": [
    {
     "name": "stdout",
     "output_type": "stream",
     "text": [
      "[[ 0  2  4]\n",
      " [ 3  5  7]\n",
      " [ 6  8 10]\n",
      " [ 9 11 13]]\n"
     ]
    }
   ],
   "source": [
    "print(a+b)"
   ]
  },
  {
   "cell_type": "code",
   "execution_count": 197,
   "id": "09654472-4c60-439b-9572-838baf6902ad",
   "metadata": {},
   "outputs": [
    {
     "name": "stdout",
     "output_type": "stream",
     "text": [
      "[0 1 2]\n",
      "[0 1 2]\n",
      "[0 2 4]\n"
     ]
    }
   ],
   "source": [
    "a = np.arange(12).reshape(3,4)\n",
    "a = np.arange(3)\n",
    "\n",
    "print(a)\n",
    "print(b)\n",
    "\n",
    "print(a+b)"
   ]
  },
  {
   "cell_type": "code",
   "execution_count": 198,
   "id": "f067139d-bb6c-412d-8445-5a8473e0a0ef",
   "metadata": {},
   "outputs": [
    {
     "name": "stdout",
     "output_type": "stream",
     "text": [
      "[[0]\n",
      " [1]\n",
      " [2]]\n",
      "[0 1 2]\n",
      "[[0 1 2]\n",
      " [1 2 3]\n",
      " [2 3 4]]\n"
     ]
    }
   ],
   "source": [
    "a = np.arange(3).reshape(1,3)\n",
    "a = np.arange(3).reshape(3,1)\n",
    "\n",
    "print(a)\n",
    "print(b)\n",
    "\n",
    "print(a+b)"
   ]
  },
  {
   "cell_type": "code",
   "execution_count": 199,
   "id": "e68b421a-eb46-42ab-87f4-e1b4473d16e2",
   "metadata": {},
   "outputs": [
    {
     "name": "stdout",
     "output_type": "stream",
     "text": [
      "[[0]\n",
      " [1]\n",
      " [2]\n",
      " [3]]\n",
      "[0 1 2]\n",
      "[[0 1 2]\n",
      " [1 2 3]\n",
      " [2 3 4]\n",
      " [3 4 5]]\n"
     ]
    }
   ],
   "source": [
    "a = np.arange(3).reshape(1,3)\n",
    "a = np.arange(4).reshape(4,1)\n",
    "\n",
    "print(a)\n",
    "print(b)\n",
    "\n",
    "print(a+b)"
   ]
  },
  {
   "cell_type": "code",
   "execution_count": 200,
   "id": "43982baf-d231-45ec-9a9f-56f9b1793c87",
   "metadata": {},
   "outputs": [
    {
     "name": "stdout",
     "output_type": "stream",
     "text": [
      "[1]\n",
      "[[0 1]\n",
      " [2 3]]\n",
      "[[1 2]\n",
      " [3 4]]\n"
     ]
    }
   ],
   "source": [
    "a = np.array([1])\n",
    "\n",
    "b = np.arange(4).reshape(2,2)\n",
    "\n",
    "print(a)\n",
    "print(b)\n",
    "\n",
    "print(a+b)"
   ]
  },
  {
   "cell_type": "code",
   "execution_count": 201,
   "id": "8b2e295f-f31b-4a21-9adc-64388ed38fe8",
   "metadata": {},
   "outputs": [
    {
     "name": "stdout",
     "output_type": "stream",
     "text": [
      "[[0]\n",
      " [1]\n",
      " [2]\n",
      " [3]]\n",
      "[[0 1]\n",
      " [2 3]]\n"
     ]
    },
    {
     "ename": "ValueError",
     "evalue": "operands could not be broadcast together with shapes (4,1) (2,2) ",
     "output_type": "error",
     "traceback": [
      "\u001b[1;31m---------------------------------------------------------------------------\u001b[0m",
      "\u001b[1;31mValueError\u001b[0m                                Traceback (most recent call last)",
      "Cell \u001b[1;32mIn[201], line 7\u001b[0m\n\u001b[0;32m      4\u001b[0m \u001b[38;5;28mprint\u001b[39m(a)\n\u001b[0;32m      5\u001b[0m \u001b[38;5;28mprint\u001b[39m(b)\n\u001b[1;32m----> 7\u001b[0m \u001b[38;5;28mprint\u001b[39m(a\u001b[38;5;241m+\u001b[39mb)\n",
      "\u001b[1;31mValueError\u001b[0m: operands could not be broadcast together with shapes (4,1) (2,2) "
     ]
    }
   ],
   "source": [
    "a = np.arange(16).reshape(4,4)\n",
    "a = np.arange(4).reshape(4,1)\n",
    "\n",
    "print(a)\n",
    "print(b)\n",
    "\n",
    "print(a+b)"
   ]
  },
  {
   "cell_type": "code",
   "execution_count": 202,
   "id": "7703660a-2960-4adf-a0c2-f809e371fd03",
   "metadata": {},
   "outputs": [
    {
     "name": "stdout",
     "output_type": "stream",
     "text": [
      "[[ 0  1  2  3]\n",
      " [ 4  5  6  7]\n",
      " [ 8  9 10 11]\n",
      " [12 13 14 15]]\n",
      "[[0 1]\n",
      " [2 3]]\n"
     ]
    },
    {
     "ename": "ValueError",
     "evalue": "operands could not be broadcast together with shapes (4,4) (2,2) ",
     "output_type": "error",
     "traceback": [
      "\u001b[1;31m---------------------------------------------------------------------------\u001b[0m",
      "\u001b[1;31mValueError\u001b[0m                                Traceback (most recent call last)",
      "Cell \u001b[1;32mIn[202], line 6\u001b[0m\n\u001b[0;32m      4\u001b[0m \u001b[38;5;28mprint\u001b[39m(a)\n\u001b[0;32m      5\u001b[0m \u001b[38;5;28mprint\u001b[39m(b)\n\u001b[1;32m----> 6\u001b[0m \u001b[38;5;28mprint\u001b[39m(a\u001b[38;5;241m+\u001b[39mb)\n",
      "\u001b[1;31mValueError\u001b[0m: operands could not be broadcast together with shapes (4,4) (2,2) "
     ]
    }
   ],
   "source": [
    "# Not Work\n",
    "a = np.arange(16).reshape(4,4)\n",
    "b = np.arange(4).reshape(2,2)\n",
    "print(a)\n",
    "print(b)\n",
    "print(a+b)"
   ]
  },
  {
   "cell_type": "markdown",
   "id": "12a57068-5a27-4a8e-91f5-f04579672289",
   "metadata": {},
   "source": [
    "# working with mathematical formulas"
   ]
  },
  {
   "cell_type": "code",
   "execution_count": 203,
   "id": "b2cc9618-2d69-456d-972d-6669c83dfe1e",
   "metadata": {},
   "outputs": [
    {
     "data": {
      "text/plain": [
       "array([0, 1, 2, 3, 4, 5, 6, 7, 8, 9])"
      ]
     },
     "execution_count": 203,
     "metadata": {},
     "output_type": "execute_result"
    }
   ],
   "source": [
    "k = np.arange(10)\n",
    "k"
   ]
  },
  {
   "cell_type": "code",
   "execution_count": 204,
   "id": "5c9b8925-24f0-40b4-9349-3e6d62af0cd8",
   "metadata": {},
   "outputs": [
    {
     "data": {
      "text/plain": [
       "45"
      ]
     },
     "execution_count": 204,
     "metadata": {},
     "output_type": "execute_result"
    }
   ],
   "source": [
    "np.sum(k)"
   ]
  },
  {
   "cell_type": "code",
   "execution_count": 205,
   "id": "63e93240-e3e8-4e88-b505-0b06357ec47b",
   "metadata": {},
   "outputs": [
    {
     "data": {
      "text/plain": [
       "array([ 0.        ,  0.84147098,  0.90929743,  0.14112001, -0.7568025 ,\n",
       "       -0.95892427, -0.2794155 ,  0.6569866 ,  0.98935825,  0.41211849])"
      ]
     },
     "execution_count": 205,
     "metadata": {},
     "output_type": "execute_result"
    }
   ],
   "source": [
    "np.sin(k)"
   ]
  },
  {
   "cell_type": "markdown",
   "id": "0db8a370-14ee-4d56-aa16-aa6c4d025e32",
   "metadata": {},
   "source": [
    "#### sigmoid"
   ]
  },
  {
   "cell_type": "code",
   "execution_count": 206,
   "id": "20fa9a27-d81b-43c7-aa00-e8c4189804fc",
   "metadata": {},
   "outputs": [
    {
     "data": {
      "text/plain": [
       "array([0.5       , 0.73105858, 0.88079708, 0.95257413, 0.98201379,\n",
       "       0.99330715, 0.99752738, 0.99908895, 0.99966465, 0.99987661])"
      ]
     },
     "execution_count": 206,
     "metadata": {},
     "output_type": "execute_result"
    }
   ],
   "source": [
    "def sigmoid(array):\n",
    "    return 1/(1+np.exp(-(array)))\n",
    "k = np.arange(10)\n",
    "sigmoid(k)"
   ]
  },
  {
   "cell_type": "code",
   "execution_count": 207,
   "id": "e65a1239-e11f-4d51-8974-06d37350d450",
   "metadata": {},
   "outputs": [
    {
     "data": {
      "text/plain": [
       "array([0.5       , 0.73105858, 0.88079708, 0.95257413, 0.98201379,\n",
       "       0.99330715, 0.99752738, 0.99908895, 0.99966465, 0.99987661,\n",
       "       0.9999546 , 0.9999833 , 0.99999386, 0.99999774, 0.99999917,\n",
       "       0.99999969, 0.99999989, 0.99999996, 0.99999998, 0.99999999,\n",
       "       1.        , 1.        , 1.        , 1.        , 1.        ,\n",
       "       1.        , 1.        , 1.        , 1.        , 1.        ,\n",
       "       1.        , 1.        , 1.        , 1.        , 1.        ,\n",
       "       1.        , 1.        , 1.        , 1.        , 1.        ,\n",
       "       1.        , 1.        , 1.        , 1.        , 1.        ,\n",
       "       1.        , 1.        , 1.        , 1.        , 1.        ,\n",
       "       1.        , 1.        , 1.        , 1.        , 1.        ,\n",
       "       1.        , 1.        , 1.        , 1.        , 1.        ,\n",
       "       1.        , 1.        , 1.        , 1.        , 1.        ,\n",
       "       1.        , 1.        , 1.        , 1.        , 1.        ,\n",
       "       1.        , 1.        , 1.        , 1.        , 1.        ,\n",
       "       1.        , 1.        , 1.        , 1.        , 1.        ,\n",
       "       1.        , 1.        , 1.        , 1.        , 1.        ,\n",
       "       1.        , 1.        , 1.        , 1.        , 1.        ,\n",
       "       1.        , 1.        , 1.        , 1.        , 1.        ,\n",
       "       1.        , 1.        , 1.        , 1.        , 1.        ])"
      ]
     },
     "execution_count": 207,
     "metadata": {},
     "output_type": "execute_result"
    }
   ],
   "source": [
    "k = np.arange(100)\n",
    "sigmoid(k)"
   ]
  },
  {
   "cell_type": "markdown",
   "id": "5fcba33d-a25e-4dbd-8aeb-5f35af9c90e3",
   "metadata": {},
   "source": [
    "### mean squared error"
   ]
  },
  {
   "cell_type": "code",
   "execution_count": 209,
   "id": "586be60b-a835-43de-9dd1-608cad3e5feb",
   "metadata": {},
   "outputs": [],
   "source": [
    "actual = np.random.randint(1,50,25)\n",
    "predicted = np.random.randint(1,50,25)"
   ]
  },
  {
   "cell_type": "code",
   "execution_count": 210,
   "id": "1d1b3ee7-d8a6-41a5-80e3-886071c3dcee",
   "metadata": {},
   "outputs": [
    {
     "data": {
      "text/plain": [
       "array([37,  3, 11, 27, 13,  7, 27, 43, 18, 35, 32, 36, 37, 29, 38, 23, 44,\n",
       "       41,  4,  8, 38, 42,  4, 20,  9])"
      ]
     },
     "execution_count": 210,
     "metadata": {},
     "output_type": "execute_result"
    }
   ],
   "source": [
    "actual"
   ]
  },
  {
   "cell_type": "code",
   "execution_count": 214,
   "id": "2f5ff5eb-0404-4972-8834-2be7e8c5e3c5",
   "metadata": {},
   "outputs": [
    {
     "data": {
      "text/plain": [
       "array([27, 46, 24, 45, 31, 14, 17,  8, 13, 47,  9, 18, 20, 17, 27, 44, 27,\n",
       "       36, 21, 22, 48, 17, 33, 30, 12])"
      ]
     },
     "execution_count": 214,
     "metadata": {},
     "output_type": "execute_result"
    }
   ],
   "source": [
    "predicted"
   ]
  },
  {
   "cell_type": "code",
   "execution_count": 215,
   "id": "3ce1b85e-74f1-4d32-b90f-59aaeec6bdf0",
   "metadata": {},
   "outputs": [
    {
     "data": {
      "text/plain": [
       "345.24"
      ]
     },
     "execution_count": 215,
     "metadata": {},
     "output_type": "execute_result"
    }
   ],
   "source": [
    "def mse (actual,predicted):\n",
    "    return np.mean((actual-predicted)**2)\n",
    "mse(actual,predicted)"
   ]
  },
  {
   "cell_type": "code",
   "execution_count": 216,
   "id": "c3bb4634-6b09-4110-af7a-adaaa62a2123",
   "metadata": {},
   "outputs": [
    {
     "data": {
      "text/plain": [
       "array([ 10, -43, -13, -18, -18,  -7,  10,  35,   5, -12,  23,  18,  17,\n",
       "        12,  11, -21,  17,   5, -17, -14, -10,  25, -29, -10,  -3])"
      ]
     },
     "execution_count": 216,
     "metadata": {},
     "output_type": "execute_result"
    }
   ],
   "source": [
    "actual-predicted"
   ]
  },
  {
   "cell_type": "code",
   "execution_count": 217,
   "id": "44bdd329-3ecb-4416-bea3-b5be7dacaffa",
   "metadata": {},
   "outputs": [
    {
     "data": {
      "text/plain": [
       "array([ 100, 1849,  169,  324,  324,   49,  100, 1225,   25,  144,  529,\n",
       "        324,  289,  144,  121,  441,  289,   25,  289,  196,  100,  625,\n",
       "        841,  100,    9])"
      ]
     },
     "execution_count": 217,
     "metadata": {},
     "output_type": "execute_result"
    }
   ],
   "source": [
    "(actual-predicted)**2"
   ]
  },
  {
   "cell_type": "code",
   "execution_count": 219,
   "id": "3decb6c6-8a6d-4d12-b4f9-50d9d40afce3",
   "metadata": {},
   "outputs": [
    {
     "data": {
      "text/plain": [
       "1.1664"
      ]
     },
     "execution_count": 219,
     "metadata": {},
     "output_type": "execute_result"
    }
   ],
   "source": [
    "np.mean(actual-predicted)**2"
   ]
  },
  {
   "cell_type": "markdown",
   "id": "9a98fe16-1892-47c6-9953-586883ccac38",
   "metadata": {},
   "source": [
    "## Working with missing vailues"
   ]
  },
  {
   "cell_type": "code",
   "execution_count": 221,
   "id": "3f147e57-7831-4062-9d2f-c32169ba4712",
   "metadata": {},
   "outputs": [
    {
     "data": {
      "text/plain": [
       "array([ 1.,  2.,  3.,  4., nan,  6.])"
      ]
     },
     "execution_count": 221,
     "metadata": {},
     "output_type": "execute_result"
    }
   ],
   "source": [
    "S = np.array([1,2,3,4,np.nan,6])\n",
    "S"
   ]
  },
  {
   "cell_type": "code",
   "execution_count": 222,
   "id": "4563b477-1401-415e-b03c-12d36a6ebd3b",
   "metadata": {},
   "outputs": [
    {
     "data": {
      "text/plain": [
       "array([False, False, False, False,  True, False])"
      ]
     },
     "execution_count": 222,
     "metadata": {},
     "output_type": "execute_result"
    }
   ],
   "source": [
    "np.isnan(S)"
   ]
  },
  {
   "cell_type": "code",
   "execution_count": 223,
   "id": "fc1f9c2e-2071-4049-923b-7d5e4b3d4efc",
   "metadata": {},
   "outputs": [
    {
     "data": {
      "text/plain": [
       "array([nan])"
      ]
     },
     "execution_count": 223,
     "metadata": {},
     "output_type": "execute_result"
    }
   ],
   "source": [
    "S[np.isnan(S)]"
   ]
  },
  {
   "cell_type": "code",
   "execution_count": 225,
   "id": "92e639e9-4c3d-4dd5-9155-6f0a757db487",
   "metadata": {},
   "outputs": [
    {
     "data": {
      "text/plain": [
       "array([1., 2., 3., 4., 6.])"
      ]
     },
     "execution_count": 225,
     "metadata": {},
     "output_type": "execute_result"
    }
   ],
   "source": [
    "S[~np.isnan(S)]"
   ]
  },
  {
   "cell_type": "markdown",
   "id": "0abe6f46-d0be-49af-945b-a3e79897b3f1",
   "metadata": {},
   "source": [
    "## Plotting Graphs"
   ]
  },
  {
   "cell_type": "code",
   "execution_count": 227,
   "id": "3071b8d8-755b-4721-8eb3-3b2ee80cef0a",
   "metadata": {},
   "outputs": [
    {
     "data": {
      "text/plain": [
       "array([-10.        ,  -9.7979798 ,  -9.5959596 ,  -9.39393939,\n",
       "        -9.19191919,  -8.98989899,  -8.78787879,  -8.58585859,\n",
       "        -8.38383838,  -8.18181818,  -7.97979798,  -7.77777778,\n",
       "        -7.57575758,  -7.37373737,  -7.17171717,  -6.96969697,\n",
       "        -6.76767677,  -6.56565657,  -6.36363636,  -6.16161616,\n",
       "        -5.95959596,  -5.75757576,  -5.55555556,  -5.35353535,\n",
       "        -5.15151515,  -4.94949495,  -4.74747475,  -4.54545455,\n",
       "        -4.34343434,  -4.14141414,  -3.93939394,  -3.73737374,\n",
       "        -3.53535354,  -3.33333333,  -3.13131313,  -2.92929293,\n",
       "        -2.72727273,  -2.52525253,  -2.32323232,  -2.12121212,\n",
       "        -1.91919192,  -1.71717172,  -1.51515152,  -1.31313131,\n",
       "        -1.11111111,  -0.90909091,  -0.70707071,  -0.50505051,\n",
       "        -0.3030303 ,  -0.1010101 ,   0.1010101 ,   0.3030303 ,\n",
       "         0.50505051,   0.70707071,   0.90909091,   1.11111111,\n",
       "         1.31313131,   1.51515152,   1.71717172,   1.91919192,\n",
       "         2.12121212,   2.32323232,   2.52525253,   2.72727273,\n",
       "         2.92929293,   3.13131313,   3.33333333,   3.53535354,\n",
       "         3.73737374,   3.93939394,   4.14141414,   4.34343434,\n",
       "         4.54545455,   4.74747475,   4.94949495,   5.15151515,\n",
       "         5.35353535,   5.55555556,   5.75757576,   5.95959596,\n",
       "         6.16161616,   6.36363636,   6.56565657,   6.76767677,\n",
       "         6.96969697,   7.17171717,   7.37373737,   7.57575758,\n",
       "         7.77777778,   7.97979798,   8.18181818,   8.38383838,\n",
       "         8.58585859,   8.78787879,   8.98989899,   9.19191919,\n",
       "         9.39393939,   9.5959596 ,   9.7979798 ,  10.        ])"
      ]
     },
     "execution_count": 227,
     "metadata": {},
     "output_type": "execute_result"
    }
   ],
   "source": [
    "x = np.linspace(-10,10,100)\n",
    "x"
   ]
  },
  {
   "cell_type": "code",
   "execution_count": 228,
   "id": "2e013933-8157-4859-ae11-91fa3ff6b6d8",
   "metadata": {},
   "outputs": [],
   "source": [
    "y = x"
   ]
  },
  {
   "cell_type": "code",
   "execution_count": 229,
   "id": "8596179c-1d3c-40a7-baef-66b256b5fe24",
   "metadata": {},
   "outputs": [
    {
     "data": {
      "text/plain": [
       "array([-10.        ,  -9.7979798 ,  -9.5959596 ,  -9.39393939,\n",
       "        -9.19191919,  -8.98989899,  -8.78787879,  -8.58585859,\n",
       "        -8.38383838,  -8.18181818,  -7.97979798,  -7.77777778,\n",
       "        -7.57575758,  -7.37373737,  -7.17171717,  -6.96969697,\n",
       "        -6.76767677,  -6.56565657,  -6.36363636,  -6.16161616,\n",
       "        -5.95959596,  -5.75757576,  -5.55555556,  -5.35353535,\n",
       "        -5.15151515,  -4.94949495,  -4.74747475,  -4.54545455,\n",
       "        -4.34343434,  -4.14141414,  -3.93939394,  -3.73737374,\n",
       "        -3.53535354,  -3.33333333,  -3.13131313,  -2.92929293,\n",
       "        -2.72727273,  -2.52525253,  -2.32323232,  -2.12121212,\n",
       "        -1.91919192,  -1.71717172,  -1.51515152,  -1.31313131,\n",
       "        -1.11111111,  -0.90909091,  -0.70707071,  -0.50505051,\n",
       "        -0.3030303 ,  -0.1010101 ,   0.1010101 ,   0.3030303 ,\n",
       "         0.50505051,   0.70707071,   0.90909091,   1.11111111,\n",
       "         1.31313131,   1.51515152,   1.71717172,   1.91919192,\n",
       "         2.12121212,   2.32323232,   2.52525253,   2.72727273,\n",
       "         2.92929293,   3.13131313,   3.33333333,   3.53535354,\n",
       "         3.73737374,   3.93939394,   4.14141414,   4.34343434,\n",
       "         4.54545455,   4.74747475,   4.94949495,   5.15151515,\n",
       "         5.35353535,   5.55555556,   5.75757576,   5.95959596,\n",
       "         6.16161616,   6.36363636,   6.56565657,   6.76767677,\n",
       "         6.96969697,   7.17171717,   7.37373737,   7.57575758,\n",
       "         7.77777778,   7.97979798,   8.18181818,   8.38383838,\n",
       "         8.58585859,   8.78787879,   8.98989899,   9.19191919,\n",
       "         9.39393939,   9.5959596 ,   9.7979798 ,  10.        ])"
      ]
     },
     "execution_count": 229,
     "metadata": {},
     "output_type": "execute_result"
    }
   ],
   "source": [
    "y"
   ]
  },
  {
   "cell_type": "code",
   "execution_count": 230,
   "id": "6590e50e-58c7-483f-867b-cd5cb5f21429",
   "metadata": {},
   "outputs": [
    {
     "data": {
      "text/plain": [
       "array([-10.        ,  -9.7979798 ,  -9.5959596 ,  -9.39393939,\n",
       "        -9.19191919,  -8.98989899,  -8.78787879,  -8.58585859,\n",
       "        -8.38383838,  -8.18181818,  -7.97979798,  -7.77777778,\n",
       "        -7.57575758,  -7.37373737,  -7.17171717,  -6.96969697,\n",
       "        -6.76767677,  -6.56565657,  -6.36363636,  -6.16161616,\n",
       "        -5.95959596,  -5.75757576,  -5.55555556,  -5.35353535,\n",
       "        -5.15151515,  -4.94949495,  -4.74747475,  -4.54545455,\n",
       "        -4.34343434,  -4.14141414,  -3.93939394,  -3.73737374,\n",
       "        -3.53535354,  -3.33333333,  -3.13131313,  -2.92929293,\n",
       "        -2.72727273,  -2.52525253,  -2.32323232,  -2.12121212,\n",
       "        -1.91919192,  -1.71717172,  -1.51515152,  -1.31313131,\n",
       "        -1.11111111,  -0.90909091,  -0.70707071,  -0.50505051,\n",
       "        -0.3030303 ,  -0.1010101 ,   0.1010101 ,   0.3030303 ,\n",
       "         0.50505051,   0.70707071,   0.90909091,   1.11111111,\n",
       "         1.31313131,   1.51515152,   1.71717172,   1.91919192,\n",
       "         2.12121212,   2.32323232,   2.52525253,   2.72727273,\n",
       "         2.92929293,   3.13131313,   3.33333333,   3.53535354,\n",
       "         3.73737374,   3.93939394,   4.14141414,   4.34343434,\n",
       "         4.54545455,   4.74747475,   4.94949495,   5.15151515,\n",
       "         5.35353535,   5.55555556,   5.75757576,   5.95959596,\n",
       "         6.16161616,   6.36363636,   6.56565657,   6.76767677,\n",
       "         6.96969697,   7.17171717,   7.37373737,   7.57575758,\n",
       "         7.77777778,   7.97979798,   8.18181818,   8.38383838,\n",
       "         8.58585859,   8.78787879,   8.98989899,   9.19191919,\n",
       "         9.39393939,   9.5959596 ,   9.7979798 ,  10.        ])"
      ]
     },
     "execution_count": 230,
     "metadata": {},
     "output_type": "execute_result"
    }
   ],
   "source": [
    "x"
   ]
  },
  {
   "cell_type": "code",
   "execution_count": 231,
   "id": "86d51be5-e137-45f2-a4ae-139aaa5b0764",
   "metadata": {},
   "outputs": [
    {
     "data": {
      "text/plain": [
       "[<matplotlib.lines.Line2D at 0x21d0e4e29c0>]"
      ]
     },
     "execution_count": 231,
     "metadata": {},
     "output_type": "execute_result"
    },
    {
     "data": {
      "image/png": "[encoded data removed]",
      "text/plain": [
       "<Figure size 640x480 with 1 Axes>"
      ]
     },
     "metadata": {},
     "output_type": "display_data"
    }
   ],
   "source": [
    "import matplotlib.pyplot as plt\n",
    "\n",
    "plt.plot(x,y)"
   ]
  },
  {
   "cell_type": "code",
   "execution_count": 232,
   "id": "58ca7b9e-49bd-46ff-a687-32157eb6db32",
   "metadata": {},
   "outputs": [
    {
     "data": {
      "text/plain": [
       "[<matplotlib.lines.Line2D at 0x21d0f98dc10>]"
      ]
     },
     "execution_count": 232,
     "metadata": {},
     "output_type": "execute_result"
    },
    {
     "data": {
      "image/png": "[encoded data removed]",
      "text/plain": [
       "<Figure size 640x480 with 1 Axes>"
      ]
     },
     "metadata": {},
     "output_type": "display_data"
    }
   ],
   "source": [
    "x = np.linspace(-10,10,100)\n",
    "y = np.sin(x)\n",
    "\n",
    "plt.plot(x,y)"
   ]
  },
  {
   "cell_type": "code",
   "execution_count": 235,
   "id": "68698167-f3e8-426e-8d7f-8a08b35e568a",
   "metadata": {},
   "outputs": [
    {
     "name": "stderr",
     "output_type": "stream",
     "text": [
      "C:\\Users\\pc\\AppData\\Local\\Temp\\ipykernel_10604\\886229100.py:2: RuntimeWarning: invalid value encountered in log\n",
      "  y = x*np.log(x)\n"
     ]
    },
    {
     "data": {
      "text/plain": [
       "[<matplotlib.lines.Line2D at 0x21d0fad4bc0>]"
      ]
     },
     "execution_count": 235,
     "metadata": {},
     "output_type": "execute_result"
    },
    {
     "data": {
      "image/png": "[encoded data removed]",
      "text/plain": [
       "<Figure size 640x480 with 1 Axes>"
      ]
     },
     "metadata": {},
     "output_type": "display_data"
    }
   ],
   "source": [
    "x = np.linspace(-10,10,100)\n",
    "y = x*np.log(x)\n",
    "\n",
    "plt.plot(x,y)"
   ]
  },
  {
   "cell_type": "code",
   "execution_count": 236,
   "id": "e7595744-b200-4931-b049-d10a799cc90e",
   "metadata": {},
   "outputs": [],
   "source": [
    "import numpy as np\n",
    "import matplotlib.pyplot as plt"
   ]
  },
  {
   "cell_type": "markdown",
   "id": "f97ea15a-0f16-4930-a739-1661100625e6",
   "metadata": {},
   "source": [
    "# Meshgrid"
   ]
  },
  {
   "cell_type": "code",
   "execution_count": 237,
   "id": "1934cb55-83f1-4a6e-a641-2ca55ab652ca",
   "metadata": {},
   "outputs": [],
   "source": [
    "x = np.linspace(0,10,100)\n",
    "y = np.linspace(0,10,100)"
   ]
  },
  {
   "cell_type": "code",
   "execution_count": 238,
   "id": "4f10d804-bd2e-465d-a258-289be57d224d",
   "metadata": {},
   "outputs": [],
   "source": [
    "f = x**2+y**2"
   ]
  },
  {
   "cell_type": "code",
   "execution_count": 239,
   "id": "fdfac4ae-ca72-436b-b5e4-93cefefab238",
   "metadata": {},
   "outputs": [
    {
     "data": {
      "image/png": "[encoded data removed]",
      "text/plain": [
       "<Figure size 400x200 with 1 Axes>"
      ]
     },
     "metadata": {},
     "output_type": "display_data"
    }
   ],
   "source": [
    "plt.figure(figsize=(4,2))\n",
    "plt.plot(f)\n",
    "plt.show()"
   ]
  },
  {
   "cell_type": "code",
   "execution_count": 240,
   "id": "7419774a-b356-4a9b-b856-afb79cd6ebef",
   "metadata": {},
   "outputs": [],
   "source": [
    "x = np.arange(3)\n",
    "y = np.arange(3)"
   ]
  },
  {
   "cell_type": "code",
   "execution_count": 241,
   "id": "37be43de-2390-4e69-b2ba-82eae270e703",
   "metadata": {},
   "outputs": [
    {
     "data": {
      "text/plain": [
       "array([0, 1, 2])"
      ]
     },
     "execution_count": 241,
     "metadata": {},
     "output_type": "execute_result"
    }
   ],
   "source": [
    "x"
   ]
  },
  {
   "cell_type": "code",
   "execution_count": 242,
   "id": "ba1b6c7e-54da-4491-b3f3-25897d004b25",
   "metadata": {},
   "outputs": [
    {
     "data": {
      "text/plain": [
       "array([0, 1, 2])"
      ]
     },
     "execution_count": 242,
     "metadata": {},
     "output_type": "execute_result"
    }
   ],
   "source": [
    "y"
   ]
  },
  {
   "cell_type": "code",
   "execution_count": 246,
   "id": "3e063cc2-388b-4c24-adc2-8a60b10ae8a0",
   "metadata": {},
   "outputs": [
    {
     "data": {
      "text/plain": [
       "array([[0, 1, 2],\n",
       "       [0, 1, 2],\n",
       "       [0, 1, 2]])"
      ]
     },
     "execution_count": 246,
     "metadata": {},
     "output_type": "execute_result"
    }
   ],
   "source": [
    "xv  ,yv = np.meshgrid(x,y)\n",
    "xv"
   ]
  },
  {
   "cell_type": "code",
   "execution_count": 247,
   "id": "f15696bf-90f3-4cd6-aaee-5f94e9d46ae7",
   "metadata": {},
   "outputs": [
    {
     "data": {
      "text/plain": [
       "array([[0, 0, 0],\n",
       "       [1, 1, 1],\n",
       "       [2, 2, 2]])"
      ]
     },
     "execution_count": 247,
     "metadata": {},
     "output_type": "execute_result"
    }
   ],
   "source": [
    "yv"
   ]
  },
  {
   "cell_type": "code",
   "execution_count": 248,
   "id": "710034bb-6401-4e3f-99ef-54f4994edc6b",
   "metadata": {},
   "outputs": [
    {
     "data": {
      "text/plain": [
       "array([[0, 0, 0],\n",
       "       [1, 1, 1],\n",
       "       [2, 2, 2]])"
      ]
     },
     "execution_count": 248,
     "metadata": {},
     "output_type": "execute_result"
    }
   ],
   "source": [
    "yv"
   ]
  },
  {
   "cell_type": "code",
   "execution_count": 249,
   "id": "b992c41e-76e3-42e7-81bc-f101745f0a14",
   "metadata": {},
   "outputs": [
    {
     "name": "stdout",
     "output_type": "stream",
     "text": [
      "[-4. -3. -2. -1.  0.  1.  2.  3.  4.]\n",
      "[-5. -4. -3. -2. -1.  0.  1.  2.  3.  4.  5.]\n"
     ]
    }
   ],
   "source": [
    "p = np.linspace(-4,4,9)\n",
    "v = np.linspace(-5,5,11)\n",
    "print(p)\n",
    "print(v)"
   ]
  },
  {
   "cell_type": "code",
   "execution_count": 250,
   "id": "8ac4b905-5c09-4905-95da-a1b5f56057a4",
   "metadata": {},
   "outputs": [
    {
     "name": "stdout",
     "output_type": "stream",
     "text": [
      "[[-4. -3. -2. -1.  0.  1.  2.  3.  4.]\n",
      " [-4. -3. -2. -1.  0.  1.  2.  3.  4.]\n",
      " [-4. -3. -2. -1.  0.  1.  2.  3.  4.]\n",
      " [-4. -3. -2. -1.  0.  1.  2.  3.  4.]\n",
      " [-4. -3. -2. -1.  0.  1.  2.  3.  4.]\n",
      " [-4. -3. -2. -1.  0.  1.  2.  3.  4.]\n",
      " [-4. -3. -2. -1.  0.  1.  2.  3.  4.]\n",
      " [-4. -3. -2. -1.  0.  1.  2.  3.  4.]\n",
      " [-4. -3. -2. -1.  0.  1.  2.  3.  4.]\n",
      " [-4. -3. -2. -1.  0.  1.  2.  3.  4.]\n",
      " [-4. -3. -2. -1.  0.  1.  2.  3.  4.]]\n"
     ]
    }
   ],
   "source": [
    "p_1, v_1 = np.meshgrid(p,v)\n",
    "print(p_1)"
   ]
  },
  {
   "cell_type": "code",
   "execution_count": 251,
   "id": "0defbb26-e732-4f33-ac23-1de63d9599af",
   "metadata": {},
   "outputs": [
    {
     "name": "stdout",
     "output_type": "stream",
     "text": [
      "[[-5. -5. -5. -5. -5. -5. -5. -5. -5.]\n",
      " [-4. -4. -4. -4. -4. -4. -4. -4. -4.]\n",
      " [-3. -3. -3. -3. -3. -3. -3. -3. -3.]\n",
      " [-2. -2. -2. -2. -2. -2. -2. -2. -2.]\n",
      " [-1. -1. -1. -1. -1. -1. -1. -1. -1.]\n",
      " [ 0.  0.  0.  0.  0.  0.  0.  0.  0.]\n",
      " [ 1.  1.  1.  1.  1.  1.  1.  1.  1.]\n",
      " [ 2.  2.  2.  2.  2.  2.  2.  2.  2.]\n",
      " [ 3.  3.  3.  3.  3.  3.  3.  3.  3.]\n",
      " [ 4.  4.  4.  4.  4.  4.  4.  4.  4.]\n",
      " [ 5.  5.  5.  5.  5.  5.  5.  5.  5.]]\n"
     ]
    }
   ],
   "source": [
    "print(v_1)"
   ]
  },
  {
   "cell_type": "markdown",
   "id": "23ec9ccf-d38e-4232-b61a-c64f35a33934",
   "metadata": {},
   "source": [
    "## Numpy Meshgrid Creates Coordinates for grid system"
   ]
  },
  {
   "cell_type": "code",
   "execution_count": 252,
   "id": "279b96fd-7f38-468c-9767-87c442179b6b",
   "metadata": {},
   "outputs": [
    {
     "data": {
      "text/plain": [
       "array([[0, 1, 4],\n",
       "       [1, 2, 5],\n",
       "       [4, 5, 8]])"
      ]
     },
     "execution_count": 252,
     "metadata": {},
     "output_type": "execute_result"
    }
   ],
   "source": [
    "xv**2 + yv**2"
   ]
  },
  {
   "cell_type": "code",
   "execution_count": 253,
   "id": "8d3efab4-663f-470f-b54b-36aeaa84143a",
   "metadata": {},
   "outputs": [],
   "source": [
    "x = np.linspace(-2,2,100)\n",
    "y = np.linspace(-1,1,100)\n",
    "xv,yv = np.meshgrid(x, y)\n",
    "f = np.exp(-xv**2-yv**2)"
   ]
  },
  {
   "cell_type": "code",
   "execution_count": 254,
   "id": "18247d27-1e77-4326-8c41-8e7d8dfa19ff",
   "metadata": {},
   "outputs": [
    {
     "data": {
      "image/png": "[encoded data removed]",
      "text/plain": [
       "<Figure size 600x300 with 2 Axes>"
      ]
     },
     "metadata": {},
     "output_type": "display_data"
    }
   ],
   "source": [
    "plt.figure(figsize=(6, 3))\n",
    "plt.pcolormesh(xv, yv, f, shading='auto')\n",
    "plt.colorbar()\n",
    "plt.grid()\n",
    "plt.show()"
   ]
  },
  {
   "cell_type": "code",
   "execution_count": 256,
   "id": "8bb639df-805b-47f5-8fab-2ace5368321b",
   "metadata": {},
   "outputs": [
    {
     "data": {
      "image/png": "[encoded data removed]",
      "text/plain": [
       "<Figure size 640x480 with 2 Axes>"
      ]
     },
     "metadata": {},
     "output_type": "display_data"
    }
   ],
   "source": [
    "import numpy as np\n",
    "import matplotlib.pyplot as plt\n",
    "def f(x, y):\n",
    "    return np.where((x**2 + y**2 < 1), 1.0, 0.0)\n",
    "    \n",
    "x = np.linspace(-5, 5, 500)\n",
    "y = np.linspace(-5, 5, 500)\n",
    "xv, yv = np.meshgrid(x, y)\n",
    "rectangular_mask = f(xv, yv)\n",
    "\n",
    "\n",
    "plt.pcolormesh(xv, yv, rectangular_mask, shading='auto')\n",
    "plt.colorbar()\n",
    "plt.grid()\n",
    "plt.show()"
   ]
  },
  {
   "cell_type": "code",
   "execution_count": 257,
   "id": "453fe359-191e-42c3-8b55-18eea52e9ef4",
   "metadata": {},
   "outputs": [],
   "source": [
    "x = np.linspace(-4,4,9)"
   ]
  },
  {
   "cell_type": "code",
   "execution_count": 260,
   "id": "da4f62bf-4d5b-4a3b-a0be-32cbadd8dfae",
   "metadata": {},
   "outputs": [],
   "source": [
    "y = np.linspace(-5,5,11)"
   ]
  },
  {
   "cell_type": "code",
   "execution_count": 263,
   "id": "256b3e00-7128-4780-9837-ba71d39883d2",
   "metadata": {},
   "outputs": [],
   "source": [
    "x_1, y_1, = np.meshgrid(x,y)"
   ]
  },
  {
   "cell_type": "code",
   "execution_count": 264,
   "id": "0cb2f89b-6b26-4de9-893d-8bffae59b58d",
   "metadata": {},
   "outputs": [
    {
     "data": {
      "image/png": "[encoded data removed]",
      "text/plain": [
       "<Figure size 640x480 with 2 Axes>"
      ]
     },
     "metadata": {},
     "output_type": "display_data"
    }
   ],
   "source": [
    "random_data = np.random.random((11, 9))\n",
    "plt.contourf(x_1, y_1, random_data, cmap = 'jet')\n",
    "plt.colorbar()\n",
    "plt.show()"
   ]
  },
  {
   "cell_type": "code",
   "execution_count": 265,
   "id": "27c1acac-8ea6-47ba-8a75-719091942d29",
   "metadata": {},
   "outputs": [
    {
     "name": "stderr",
     "output_type": "stream",
     "text": [
      "C:\\Users\\pc\\AppData\\Local\\Temp\\ipykernel_10604\\3927725540.py:1: RuntimeWarning: invalid value encountered in divide\n",
      "  sine = (np.sin(x_1**2 + y_1**2))/(x_1**2 + y_1**2)\n"
     ]
    },
    {
     "data": {
      "image/png": "[encoded data removed]",
      "text/plain": [
       "<Figure size 640x480 with 2 Axes>"
      ]
     },
     "metadata": {},
     "output_type": "display_data"
    }
   ],
   "source": [
    "sine = (np.sin(x_1**2 + y_1**2))/(x_1**2 + y_1**2)\n",
    "plt.contourf(x_1, y_1, sine, cmap = 'jet')\n",
    "plt.colorbar()\n",
    "plt.show()"
   ]
  },
  {
   "cell_type": "code",
   "execution_count": 266,
   "id": "76e232e9-0bfb-4ead-a87d-99a03cd3d6be",
   "metadata": {},
   "outputs": [
    {
     "data": {
      "text/plain": [
       "array([[-4., -3., -2., -1.,  0.,  1.,  2.,  3.,  4.]])"
      ]
     },
     "execution_count": 266,
     "metadata": {},
     "output_type": "execute_result"
    }
   ],
   "source": [
    "x_1, y_1 = np.meshgrid(x, y, sparse = True)\n",
    "x_1"
   ]
  },
  {
   "cell_type": "code",
   "execution_count": 267,
   "id": "9f3a68fc-d7ca-4da5-bbba-a0808dcc5669",
   "metadata": {},
   "outputs": [
    {
     "data": {
      "text/plain": [
       "array([[-5.],\n",
       "       [-4.],\n",
       "       [-3.],\n",
       "       [-2.],\n",
       "       [-1.],\n",
       "       [ 0.],\n",
       "       [ 1.],\n",
       "       [ 2.],\n",
       "       [ 3.],\n",
       "       [ 4.],\n",
       "       [ 5.]])"
      ]
     },
     "execution_count": 267,
     "metadata": {},
     "output_type": "execute_result"
    }
   ],
   "source": [
    "y_1"
   ]
  },
  {
   "cell_type": "markdown",
   "id": "c1a362ed-45fa-466e-bc62-52c724690b9f",
   "metadata": {},
   "source": [
    "# np.sort"
   ]
  },
  {
   "cell_type": "code",
   "execution_count": 268,
   "id": "7bd29d02-9545-4b84-9a8b-285004305cb9",
   "metadata": {},
   "outputs": [
    {
     "data": {
      "text/plain": [
       "array([89, 21, 94, 87, 57, 58, 74, 81, 90, 75, 59, 30, 82, 51, 23])"
      ]
     },
     "execution_count": 268,
     "metadata": {},
     "output_type": "execute_result"
    }
   ],
   "source": [
    "a = np.random.randint(1,100,15)\n",
    "a"
   ]
  },
  {
   "cell_type": "code",
   "execution_count": 269,
   "id": "5920470a-5fb6-4dd8-a6d1-f0c733271e7a",
   "metadata": {},
   "outputs": [
    {
     "data": {
      "text/plain": [
       "array([[15, 10, 22, 91],\n",
       "       [45, 34, 41, 57],\n",
       "       [ 4, 70, 58, 88],\n",
       "       [98,  5, 25, 27],\n",
       "       [83, 83, 25, 51],\n",
       "       [42, 89, 34,  1]])"
      ]
     },
     "execution_count": 269,
     "metadata": {},
     "output_type": "execute_result"
    }
   ],
   "source": [
    "b = np.random.randint(1,100,24).reshape(6,4)\n",
    "b"
   ]
  },
  {
   "cell_type": "code",
   "execution_count": 270,
   "id": "f165dd5e-aed3-460d-944f-31a2d5060967",
   "metadata": {},
   "outputs": [
    {
     "data": {
      "text/plain": [
       "array([21, 23, 30, 51, 57, 58, 59, 74, 75, 81, 82, 87, 89, 90, 94])"
      ]
     },
     "execution_count": 270,
     "metadata": {},
     "output_type": "execute_result"
    }
   ],
   "source": [
    "np.sort(a)"
   ]
  },
  {
   "cell_type": "code",
   "execution_count": 271,
   "id": "1b70526a-ed49-43cf-83b2-3d3989272c30",
   "metadata": {},
   "outputs": [
    {
     "data": {
      "text/plain": [
       "array([94, 90, 89, 87, 82, 81, 75, 74, 59, 58, 57, 51, 30, 23, 21])"
      ]
     },
     "execution_count": 271,
     "metadata": {},
     "output_type": "execute_result"
    }
   ],
   "source": [
    "np.sort(a) [::-1]"
   ]
  },
  {
   "cell_type": "code",
   "execution_count": 272,
   "id": "3a09a58d-5fed-4f27-abb6-a5109c2709a5",
   "metadata": {},
   "outputs": [
    {
     "data": {
      "text/plain": [
       "array([[10, 15, 22, 91],\n",
       "       [34, 41, 45, 57],\n",
       "       [ 4, 58, 70, 88],\n",
       "       [ 5, 25, 27, 98],\n",
       "       [25, 51, 83, 83],\n",
       "       [ 1, 34, 42, 89]])"
      ]
     },
     "execution_count": 272,
     "metadata": {},
     "output_type": "execute_result"
    }
   ],
   "source": [
    "np.sort(b)"
   ]
  },
  {
   "cell_type": "code",
   "execution_count": 273,
   "id": "389a8269-207a-4d74-9109-796a77465a2b",
   "metadata": {},
   "outputs": [
    {
     "data": {
      "text/plain": [
       "array([[ 4,  5, 22,  1],\n",
       "       [15, 10, 25, 27],\n",
       "       [42, 34, 25, 51],\n",
       "       [45, 70, 34, 57],\n",
       "       [83, 83, 41, 88],\n",
       "       [98, 89, 58, 91]])"
      ]
     },
     "execution_count": 273,
     "metadata": {},
     "output_type": "execute_result"
    }
   ],
   "source": [
    "np.sort (b, axis = 0)"
   ]
  },
  {
   "cell_type": "markdown",
   "id": "5ee041f3-8c6d-4bd6-a514-009822c36dfc",
   "metadata": {},
   "source": [
    "# np.append"
   ]
  },
  {
   "cell_type": "code",
   "execution_count": 274,
   "id": "885f478b-57e4-4b70-8600-2d6122ded8df",
   "metadata": {},
   "outputs": [
    {
     "data": {
      "text/plain": [
       "array([89, 21, 94, 87, 57, 58, 74, 81, 90, 75, 59, 30, 82, 51, 23])"
      ]
     },
     "execution_count": 274,
     "metadata": {},
     "output_type": "execute_result"
    }
   ],
   "source": [
    "a"
   ]
  },
  {
   "cell_type": "code",
   "execution_count": 275,
   "id": "af0a7f27-b399-4367-b851-30c15fa9c60b",
   "metadata": {},
   "outputs": [
    {
     "data": {
      "text/plain": [
       "array([ 89,  21,  94,  87,  57,  58,  74,  81,  90,  75,  59,  30,  82,\n",
       "        51,  23, 200])"
      ]
     },
     "execution_count": 275,
     "metadata": {},
     "output_type": "execute_result"
    }
   ],
   "source": [
    "np.append(a,200)"
   ]
  },
  {
   "cell_type": "code",
   "execution_count": 276,
   "id": "94539bb0-3636-491e-98b0-20acf7878049",
   "metadata": {},
   "outputs": [
    {
     "data": {
      "text/plain": [
       "array([[15, 10, 22, 91],\n",
       "       [45, 34, 41, 57],\n",
       "       [ 4, 70, 58, 88],\n",
       "       [98,  5, 25, 27],\n",
       "       [83, 83, 25, 51],\n",
       "       [42, 89, 34,  1]])"
      ]
     },
     "execution_count": 276,
     "metadata": {},
     "output_type": "execute_result"
    }
   ],
   "source": [
    "b"
   ]
  },
  {
   "cell_type": "code",
   "execution_count": 277,
   "id": "ddcf82bf-ed69-495a-ab36-8448dec34c99",
   "metadata": {},
   "outputs": [
    {
     "data": {
      "text/plain": [
       "array([15., 10., 22., 91., 45., 34., 41., 57.,  4., 70., 58., 88., 98.,\n",
       "        5., 25., 27., 83., 83., 25., 51., 42., 89., 34.,  1.,  1.,  1.,\n",
       "        1.,  1.,  1.,  1.])"
      ]
     },
     "execution_count": 277,
     "metadata": {},
     "output_type": "execute_result"
    }
   ],
   "source": [
    "np.append(b, np.ones((b.shape[0],1)))"
   ]
  },
  {
   "cell_type": "code",
   "execution_count": 278,
   "id": "10068ec0-4bcd-45e7-9041-c9968f7c417f",
   "metadata": {},
   "outputs": [
    {
     "data": {
      "text/plain": [
       "array([[15.        , 10.        , 22.        , 91.        ,  0.20771583],\n",
       "       [45.        , 34.        , 41.        , 57.        ,  0.99775576],\n",
       "       [ 4.        , 70.        , 58.        , 88.        ,  0.82783036],\n",
       "       [98.        ,  5.        , 25.        , 27.        ,  0.61711898],\n",
       "       [83.        , 83.        , 25.        , 51.        ,  0.29774893],\n",
       "       [42.        , 89.        , 34.        ,  1.        ,  0.68101215]])"
      ]
     },
     "execution_count": 278,
     "metadata": {},
     "output_type": "execute_result"
    }
   ],
   "source": [
    "np.append(b, np.random.random((b.shape[0],1)),axis=1)"
   ]
  },
  {
   "cell_type": "markdown",
   "id": "7ea2a393-b918-4ec0-92f3-1b95c20a4767",
   "metadata": {},
   "source": [
    "# np.concatenate"
   ]
  },
  {
   "cell_type": "code",
   "execution_count": 279,
   "id": "4584258e-9f7a-4e69-8b25-8aea02228be6",
   "metadata": {},
   "outputs": [],
   "source": [
    "c = np.arange(6).reshape(2,3)\n",
    "d = np.arange(6,12).reshape(2,3)"
   ]
  },
  {
   "cell_type": "code",
   "execution_count": 280,
   "id": "83ae006b-72ba-4ca6-b224-d667c7918522",
   "metadata": {},
   "outputs": [
    {
     "data": {
      "text/plain": [
       "array([[0, 1, 2],\n",
       "       [3, 4, 5]])"
      ]
     },
     "execution_count": 280,
     "metadata": {},
     "output_type": "execute_result"
    }
   ],
   "source": [
    "c"
   ]
  },
  {
   "cell_type": "code",
   "execution_count": 281,
   "id": "3e53c8aa-9c3e-4340-a3c0-3a450e7976d2",
   "metadata": {},
   "outputs": [
    {
     "data": {
      "text/plain": [
       "array([[ 6,  7,  8],\n",
       "       [ 9, 10, 11]])"
      ]
     },
     "execution_count": 281,
     "metadata": {},
     "output_type": "execute_result"
    }
   ],
   "source": [
    "d"
   ]
  },
  {
   "cell_type": "code",
   "execution_count": 282,
   "id": "12e9e9c5-cb2a-4523-a249-56d3e88ba43a",
   "metadata": {},
   "outputs": [
    {
     "data": {
      "text/plain": [
       "array([[ 0,  1,  2,  6,  7,  8],\n",
       "       [ 3,  4,  5,  9, 10, 11]])"
      ]
     },
     "execution_count": 282,
     "metadata": {},
     "output_type": "execute_result"
    }
   ],
   "source": [
    "np.concatenate((c,d),axis=1)"
   ]
  },
  {
   "cell_type": "markdown",
   "id": "4031523d-6a19-44b6-8b47-008ffcc8485d",
   "metadata": {},
   "source": [
    "# np.unique"
   ]
  },
  {
   "cell_type": "code",
   "execution_count": 283,
   "id": "27bebe9e-8ced-4606-91a1-14fdc5866c7a",
   "metadata": {},
   "outputs": [
    {
     "data": {
      "text/plain": [
       "array([1, 1, 2, 2, 3, 3, 4, 4, 5, 5, 6, 6])"
      ]
     },
     "execution_count": 283,
     "metadata": {},
     "output_type": "execute_result"
    }
   ],
   "source": [
    "e = np.array([1,1,2,2,3,3,4,4,5,5,6,6])\n",
    "e"
   ]
  },
  {
   "cell_type": "code",
   "execution_count": 284,
   "id": "3e103b3c-4c2e-4292-9b36-a1d4294bbdbd",
   "metadata": {},
   "outputs": [
    {
     "data": {
      "text/plain": [
       "array([1, 2, 3, 4, 5, 6])"
      ]
     },
     "execution_count": 284,
     "metadata": {},
     "output_type": "execute_result"
    }
   ],
   "source": [
    "np.unique(e)"
   ]
  },
  {
   "cell_type": "markdown",
   "id": "2546e7f2-ba50-4664-b5a9-12e0c19d082f",
   "metadata": {},
   "source": [
    "## np.expand_dlims"
   ]
  },
  {
   "cell_type": "code",
   "execution_count": 285,
   "id": "e2f2e6c3-e266-4f9a-9728-d026a6ce6952",
   "metadata": {},
   "outputs": [
    {
     "data": {
      "text/plain": [
       "array([89, 21, 94, 87, 57, 58, 74, 81, 90, 75, 59, 30, 82, 51, 23])"
      ]
     },
     "execution_count": 285,
     "metadata": {},
     "output_type": "execute_result"
    }
   ],
   "source": [
    "a"
   ]
  },
  {
   "cell_type": "code",
   "execution_count": 286,
   "id": "bedf9c25-6af4-47ba-8c5b-894e92f1d9e1",
   "metadata": {},
   "outputs": [
    {
     "data": {
      "text/plain": [
       "(15,)"
      ]
     },
     "execution_count": 286,
     "metadata": {},
     "output_type": "execute_result"
    }
   ],
   "source": [
    "a.shape"
   ]
  },
  {
   "cell_type": "code",
   "execution_count": 288,
   "id": "e7822114-1621-460b-85d1-a39d6e2acbb4",
   "metadata": {},
   "outputs": [
    {
     "data": {
      "text/plain": [
       "array([[89],\n",
       "       [21],\n",
       "       [94],\n",
       "       [87],\n",
       "       [57],\n",
       "       [58],\n",
       "       [74],\n",
       "       [81],\n",
       "       [90],\n",
       "       [75],\n",
       "       [59],\n",
       "       [30],\n",
       "       [82],\n",
       "       [51],\n",
       "       [23]])"
      ]
     },
     "execution_count": 288,
     "metadata": {},
     "output_type": "execute_result"
    }
   ],
   "source": [
    "np.expand_dims(a,axis = 1)"
   ]
  },
  {
   "cell_type": "code",
   "execution_count": 289,
   "id": "1e1a39cf-6da3-4c4c-8777-fd752996d9a2",
   "metadata": {},
   "outputs": [
    {
     "data": {
      "text/plain": [
       "(15, 1)"
      ]
     },
     "execution_count": 289,
     "metadata": {},
     "output_type": "execute_result"
    }
   ],
   "source": [
    "np.expand_dims(a,axis =1).shape"
   ]
  },
  {
   "cell_type": "markdown",
   "id": "3b05d1bd-25cb-4ca2-8ce8-356cb3b9b052",
   "metadata": {},
   "source": [
    "#np.where"
   ]
  },
  {
   "cell_type": "code",
   "execution_count": 290,
   "id": "c7faf05b-6320-4f92-8454-0954c663bda3",
   "metadata": {},
   "outputs": [
    {
     "data": {
      "text/plain": [
       "array([89, 21, 94, 87, 57, 58, 74, 81, 90, 75, 59, 30, 82, 51, 23])"
      ]
     },
     "execution_count": 290,
     "metadata": {},
     "output_type": "execute_result"
    }
   ],
   "source": [
    "a"
   ]
  },
  {
   "cell_type": "code",
   "execution_count": 291,
   "id": "a372d23a-472b-46cc-8670-8b681746395d",
   "metadata": {},
   "outputs": [
    {
     "data": {
      "text/plain": [
       "(array([ 0,  2,  3,  4,  5,  6,  7,  8,  9, 10, 12, 13], dtype=int64),)"
      ]
     },
     "execution_count": 291,
     "metadata": {},
     "output_type": "execute_result"
    }
   ],
   "source": [
    "np.where(a>50)"
   ]
  },
  {
   "cell_type": "code",
   "execution_count": 292,
   "id": "d2848c94-b350-4385-84db-bc3a4043201f",
   "metadata": {},
   "outputs": [
    {
     "data": {
      "text/plain": [
       "array([ 0, 21,  0,  0,  0,  0,  0,  0,  0,  0,  0, 30,  0,  0, 23])"
      ]
     },
     "execution_count": 292,
     "metadata": {},
     "output_type": "execute_result"
    }
   ],
   "source": [
    "np.where(a>50,0,a)"
   ]
  },
  {
   "cell_type": "code",
   "execution_count": 293,
   "id": "f304b068-81e6-4e3a-953b-3edfff759cc8",
   "metadata": {},
   "outputs": [
    {
     "data": {
      "text/plain": [
       "array([89, 21,  0, 87, 57,  0,  0, 81,  0, 75, 59,  0,  0, 51, 23])"
      ]
     },
     "execution_count": 293,
     "metadata": {},
     "output_type": "execute_result"
    }
   ],
   "source": [
    "np.where(a%2 == 0,0,a)"
   ]
  },
  {
   "cell_type": "markdown",
   "id": "ee637406-48aa-4e2c-a379-d967347dfdef",
   "metadata": {},
   "source": [
    "# np.argmax"
   ]
  },
  {
   "cell_type": "code",
   "execution_count": 294,
   "id": "a4b1656f-f441-4a00-bf23-d8a96a166abe",
   "metadata": {},
   "outputs": [
    {
     "data": {
      "text/plain": [
       "array([89, 21, 94, 87, 57, 58, 74, 81, 90, 75, 59, 30, 82, 51, 23])"
      ]
     },
     "execution_count": 294,
     "metadata": {},
     "output_type": "execute_result"
    }
   ],
   "source": [
    "a"
   ]
  },
  {
   "cell_type": "code",
   "execution_count": 295,
   "id": "bbb1c041-780a-4106-ae3f-44470c1521c1",
   "metadata": {},
   "outputs": [
    {
     "data": {
      "text/plain": [
       "2"
      ]
     },
     "execution_count": 295,
     "metadata": {},
     "output_type": "execute_result"
    }
   ],
   "source": [
    "np.argmax(a)"
   ]
  },
  {
   "cell_type": "code",
   "execution_count": 296,
   "id": "ebaa9527-86dd-40b0-a02c-a6e463a37509",
   "metadata": {},
   "outputs": [
    {
     "data": {
      "text/plain": [
       "array([[15, 10, 22, 91],\n",
       "       [45, 34, 41, 57],\n",
       "       [ 4, 70, 58, 88],\n",
       "       [98,  5, 25, 27],\n",
       "       [83, 83, 25, 51],\n",
       "       [42, 89, 34,  1]])"
      ]
     },
     "execution_count": 296,
     "metadata": {},
     "output_type": "execute_result"
    }
   ],
   "source": [
    "b"
   ]
  },
  {
   "cell_type": "code",
   "execution_count": 297,
   "id": "586c0487-5608-4177-b571-17352a69b241",
   "metadata": {},
   "outputs": [
    {
     "data": {
      "text/plain": [
       "array([3, 5, 2, 0], dtype=int64)"
      ]
     },
     "execution_count": 297,
     "metadata": {},
     "output_type": "execute_result"
    }
   ],
   "source": [
    "np.argmax(b,axis = 0)"
   ]
  },
  {
   "cell_type": "code",
   "execution_count": 298,
   "id": "c6faa0a2-78a3-4efa-b909-7cc73fd3d4f6",
   "metadata": {},
   "outputs": [
    {
     "data": {
      "text/plain": [
       "array([89, 21, 94, 87, 57, 58, 74, 81, 90, 75, 59, 30, 82, 51, 23])"
      ]
     },
     "execution_count": 298,
     "metadata": {},
     "output_type": "execute_result"
    }
   ],
   "source": [
    "a"
   ]
  },
  {
   "cell_type": "code",
   "execution_count": 299,
   "id": "b1e2f93c-6c49-4b69-ac5f-8f50e1d165dd",
   "metadata": {},
   "outputs": [
    {
     "data": {
      "text/plain": [
       "1"
      ]
     },
     "execution_count": 299,
     "metadata": {},
     "output_type": "execute_result"
    }
   ],
   "source": [
    "np.argmin(a)"
   ]
  },
  {
   "cell_type": "markdown",
   "id": "da0238b5-ca9f-4ba3-b1a7-be1f986087f3",
   "metadata": {},
   "source": [
    "# On Statistics"
   ]
  },
  {
   "cell_type": "markdown",
   "id": "aaed41cb-db8f-4690-b211-ca3dcbfe29ae",
   "metadata": {},
   "source": [
    "## np.cumsum"
   ]
  },
  {
   "cell_type": "code",
   "execution_count": 300,
   "id": "a750b53e-f861-4e5d-9fa1-81209faeac11",
   "metadata": {},
   "outputs": [
    {
     "data": {
      "text/plain": [
       "array([89, 21, 94, 87, 57, 58, 74, 81, 90, 75, 59, 30, 82, 51, 23])"
      ]
     },
     "execution_count": 300,
     "metadata": {},
     "output_type": "execute_result"
    }
   ],
   "source": [
    "a"
   ]
  },
  {
   "cell_type": "code",
   "execution_count": 301,
   "id": "4a74e04c-b4aa-4dd7-aad0-dc6ad08080f1",
   "metadata": {},
   "outputs": [
    {
     "data": {
      "text/plain": [
       "array([ 89, 110, 204, 291, 348, 406, 480, 561, 651, 726, 785, 815, 897,\n",
       "       948, 971])"
      ]
     },
     "execution_count": 301,
     "metadata": {},
     "output_type": "execute_result"
    }
   ],
   "source": [
    "np.cumsum(a)"
   ]
  },
  {
   "cell_type": "code",
   "execution_count": 302,
   "id": "922c6b64-f9ab-45de-aca8-0548a5f72dab",
   "metadata": {},
   "outputs": [
    {
     "data": {
      "text/plain": [
       "array([[15, 10, 22, 91],\n",
       "       [45, 34, 41, 57],\n",
       "       [ 4, 70, 58, 88],\n",
       "       [98,  5, 25, 27],\n",
       "       [83, 83, 25, 51],\n",
       "       [42, 89, 34,  1]])"
      ]
     },
     "execution_count": 302,
     "metadata": {},
     "output_type": "execute_result"
    }
   ],
   "source": [
    "b"
   ]
  },
  {
   "cell_type": "code",
   "execution_count": 303,
   "id": "696fe1f2-79fe-46f3-a6cc-178cb77bb363",
   "metadata": {},
   "outputs": [
    {
     "data": {
      "text/plain": [
       "array([  15,   25,   47,  138,  183,  217,  258,  315,  319,  389,  447,\n",
       "        535,  633,  638,  663,  690,  773,  856,  881,  932,  974, 1063,\n",
       "       1097, 1098])"
      ]
     },
     "execution_count": 303,
     "metadata": {},
     "output_type": "execute_result"
    }
   ],
   "source": [
    "np.cumsum(b)"
   ]
  },
  {
   "cell_type": "code",
   "execution_count": 304,
   "id": "3df7dfd5-ba84-4fbf-a101-97e41c2c12bb",
   "metadata": {},
   "outputs": [
    {
     "data": {
      "text/plain": [
       "array([[ 15,  25,  47, 138],\n",
       "       [ 45,  79, 120, 177],\n",
       "       [  4,  74, 132, 220],\n",
       "       [ 98, 103, 128, 155],\n",
       "       [ 83, 166, 191, 242],\n",
       "       [ 42, 131, 165, 166]])"
      ]
     },
     "execution_count": 304,
     "metadata": {},
     "output_type": "execute_result"
    }
   ],
   "source": [
    "np.cumsum(b, axis = 1)"
   ]
  },
  {
   "cell_type": "code",
   "execution_count": 305,
   "id": "f7f637ca-27dd-4f65-9b24-865a7dfe36e5",
   "metadata": {},
   "outputs": [
    {
     "data": {
      "text/plain": [
       "array([[ 15,  10,  22,  91],\n",
       "       [ 60,  44,  63, 148],\n",
       "       [ 64, 114, 121, 236],\n",
       "       [162, 119, 146, 263],\n",
       "       [245, 202, 171, 314],\n",
       "       [287, 291, 205, 315]])"
      ]
     },
     "execution_count": 305,
     "metadata": {},
     "output_type": "execute_result"
    }
   ],
   "source": [
    "np.cumsum(b, axis = 0)"
   ]
  },
  {
   "cell_type": "code",
   "execution_count": 306,
   "id": "00749b06-6463-457b-bb4b-39e4f8c410bc",
   "metadata": {},
   "outputs": [
    {
     "data": {
      "text/plain": [
       "array([89, 21, 94, 87, 57, 58, 74, 81, 90, 75, 59, 30, 82, 51, 23])"
      ]
     },
     "execution_count": 306,
     "metadata": {},
     "output_type": "execute_result"
    }
   ],
   "source": [
    "a"
   ]
  },
  {
   "cell_type": "code",
   "execution_count": 307,
   "id": "116a30b3-11f9-48b3-8d19-855a52051ac4",
   "metadata": {},
   "outputs": [
    {
     "data": {
      "text/plain": [
       "array([         89,        1869,      175686,    15284682,   871226874,\n",
       "       -1008448860, -1610771608, -1623481368,   -84435056, -2037661904,\n",
       "          37031952,  1110958560,   904288704, -1125916352,  -126272320])"
      ]
     },
     "execution_count": 307,
     "metadata": {},
     "output_type": "execute_result"
    }
   ],
   "source": [
    "np.cumprod(a)"
   ]
  },
  {
   "cell_type": "markdown",
   "id": "ca1489be-6811-474f-b931-419f96ec077a",
   "metadata": {},
   "source": [
    "## np.percentile"
   ]
  },
  {
   "cell_type": "code",
   "execution_count": 308,
   "id": "9616f01e-91aa-4440-aea7-c86c3b39ea34",
   "metadata": {},
   "outputs": [
    {
     "data": {
      "text/plain": [
       "array([89, 21, 94, 87, 57, 58, 74, 81, 90, 75, 59, 30, 82, 51, 23])"
      ]
     },
     "execution_count": 308,
     "metadata": {},
     "output_type": "execute_result"
    }
   ],
   "source": [
    "a"
   ]
  },
  {
   "cell_type": "code",
   "execution_count": 309,
   "id": "acaaaa45-1464-4bae-986c-1b895bc00e03",
   "metadata": {},
   "outputs": [
    {
     "data": {
      "text/plain": [
       "94.0"
      ]
     },
     "execution_count": 309,
     "metadata": {},
     "output_type": "execute_result"
    }
   ],
   "source": [
    "np.percentile(a,100)"
   ]
  },
  {
   "cell_type": "code",
   "execution_count": 310,
   "id": "e0fb2b41-782f-4735-ab2d-4b3223e38841",
   "metadata": {},
   "outputs": [
    {
     "data": {
      "text/plain": [
       "74.0"
      ]
     },
     "execution_count": 310,
     "metadata": {},
     "output_type": "execute_result"
    }
   ],
   "source": [
    "np.percentile(a,50)"
   ]
  },
  {
   "cell_type": "code",
   "execution_count": 311,
   "id": "26be3b2e-3a14-4337-a682-c07425ad5e4a",
   "metadata": {},
   "outputs": [
    {
     "data": {
      "text/plain": [
       "74.0"
      ]
     },
     "execution_count": 311,
     "metadata": {},
     "output_type": "execute_result"
    }
   ],
   "source": [
    "np.median(a)"
   ]
  },
  {
   "cell_type": "markdown",
   "id": "367fe2ad-a777-453e-8d64-85a67a103de8",
   "metadata": {},
   "source": [
    "# np.histogram"
   ]
  },
  {
   "cell_type": "code",
   "execution_count": 312,
   "id": "fcc28397-06f6-4942-9bbb-7912ed67da51",
   "metadata": {},
   "outputs": [
    {
     "data": {
      "text/plain": [
       "array([89, 21, 94, 87, 57, 58, 74, 81, 90, 75, 59, 30, 82, 51, 23])"
      ]
     },
     "execution_count": 312,
     "metadata": {},
     "output_type": "execute_result"
    }
   ],
   "source": [
    "a"
   ]
  },
  {
   "cell_type": "code",
   "execution_count": 315,
   "id": "906d1993-13b6-4c45-b06b-801623bba36f",
   "metadata": {},
   "outputs": [
    {
     "data": {
      "text/plain": [
       "(array([0, 2, 1, 0, 4, 0, 2, 4, 2], dtype=int64),\n",
       " array([ 10,  20,  30,  40,  50,  60,  70,  80,  90, 100]))"
      ]
     },
     "execution_count": 315,
     "metadata": {},
     "output_type": "execute_result"
    }
   ],
   "source": [
    "np.histogram(a, bins=[10,20,30,40,50,60,70,80,90,100])"
   ]
  },
  {
   "cell_type": "code",
   "execution_count": 316,
   "id": "b6516195-37d9-429a-88b3-d28c78b340f9",
   "metadata": {},
   "outputs": [
    {
     "data": {
      "text/plain": [
       "(array([ 3, 12], dtype=int64), array([  0,  50, 100]))"
      ]
     },
     "execution_count": 316,
     "metadata": {},
     "output_type": "execute_result"
    }
   ],
   "source": [
    "np.histogram(a, bins = [0,50,100])"
   ]
  },
  {
   "cell_type": "markdown",
   "id": "fa2505bd-b8d2-444d-9d3b-183f291a0c44",
   "metadata": {},
   "source": [
    "# np.corrcoef"
   ]
  },
  {
   "cell_type": "code",
   "execution_count": 317,
   "id": "266deeb2-3ed3-4425-88c5-d1d05b9cf7d8",
   "metadata": {},
   "outputs": [],
   "source": [
    "salary = np.array([20000,40000,25000,35000,60000])\n",
    "experience = np.array([1,3,2,4,2])"
   ]
  },
  {
   "cell_type": "code",
   "execution_count": 318,
   "id": "4b1024f1-dd29-4339-9134-7880c52902d6",
   "metadata": {},
   "outputs": [
    {
     "data": {
      "text/plain": [
       "array([20000, 40000, 25000, 35000, 60000])"
      ]
     },
     "execution_count": 318,
     "metadata": {},
     "output_type": "execute_result"
    }
   ],
   "source": [
    "salary"
   ]
  },
  {
   "cell_type": "code",
   "execution_count": 320,
   "id": "a5edff11-90ed-40d1-96d9-67a0ec49ff7e",
   "metadata": {},
   "outputs": [
    {
     "data": {
      "text/plain": [
       "array([1, 3, 2, 4, 2])"
      ]
     },
     "execution_count": 320,
     "metadata": {},
     "output_type": "execute_result"
    }
   ],
   "source": [
    "experience"
   ]
  },
  {
   "cell_type": "code",
   "execution_count": 321,
   "id": "826e13ca-f17f-4441-9fe8-4834676eb61b",
   "metadata": {},
   "outputs": [
    {
     "data": {
      "text/plain": [
       "array([[1.        , 0.25344572],\n",
       "       [0.25344572, 1.        ]])"
      ]
     },
     "execution_count": 321,
     "metadata": {},
     "output_type": "execute_result"
    }
   ],
   "source": [
    "np.corrcoef(salary,experience)"
   ]
  },
  {
   "cell_type": "markdown",
   "id": "acb11af4-8174-44f4-a2e0-f8458d277ab1",
   "metadata": {},
   "source": [
    "## Utility function"
   ]
  },
  {
   "cell_type": "code",
   "execution_count": 322,
   "id": "a4d2433a-450e-4c1d-b8d8-67f4f68788ca",
   "metadata": {},
   "outputs": [
    {
     "data": {
      "text/plain": [
       "array([89, 21, 94, 87, 57, 58, 74, 81, 90, 75, 59, 30, 82, 51, 23])"
      ]
     },
     "execution_count": 322,
     "metadata": {},
     "output_type": "execute_result"
    }
   ],
   "source": [
    "a"
   ]
  },
  {
   "cell_type": "code",
   "execution_count": 324,
   "id": "644b9b39-c8cf-43d1-9131-9c20c27ab737",
   "metadata": {},
   "outputs": [
    {
     "data": {
      "text/plain": [
       "array([False, False, False, False, False, False, False, False,  True,\n",
       "       False, False,  True, False, False, False])"
      ]
     },
     "execution_count": 324,
     "metadata": {},
     "output_type": "execute_result"
    }
   ],
   "source": [
    "items = [10,20,30,40,50,60,70,80,90,100]\n",
    "np.isin(a,items)"
   ]
  },
  {
   "cell_type": "code",
   "execution_count": 326,
   "id": "a6b99836-4fde-44f4-befe-87880e6cc261",
   "metadata": {},
   "outputs": [
    {
     "data": {
      "text/plain": [
       "array([90, 30])"
      ]
     },
     "execution_count": 326,
     "metadata": {},
     "output_type": "execute_result"
    }
   ],
   "source": [
    "a[np.isin(a,items)]"
   ]
  },
  {
   "cell_type": "markdown",
   "id": "ebb37c5f-f4d1-4a25-adf9-2c8b3eefb308",
   "metadata": {},
   "source": [
    "# np.flip"
   ]
  },
  {
   "cell_type": "code",
   "execution_count": 327,
   "id": "45509ac0-cf3b-4aa5-8b4d-432f031936bb",
   "metadata": {},
   "outputs": [
    {
     "data": {
      "text/plain": [
       "array([89, 21, 94, 87, 57, 58, 74, 81, 90, 75, 59, 30, 82, 51, 23])"
      ]
     },
     "execution_count": 327,
     "metadata": {},
     "output_type": "execute_result"
    }
   ],
   "source": [
    "a"
   ]
  },
  {
   "cell_type": "code",
   "execution_count": 328,
   "id": "76aacc96-1ef9-4cc9-a314-4c42e7b662fa",
   "metadata": {},
   "outputs": [
    {
     "data": {
      "text/plain": [
       "array([23, 51, 82, 30, 59, 75, 90, 81, 74, 58, 57, 87, 94, 21, 89])"
      ]
     },
     "execution_count": 328,
     "metadata": {},
     "output_type": "execute_result"
    }
   ],
   "source": [
    "np.flip(a)"
   ]
  },
  {
   "cell_type": "code",
   "execution_count": 329,
   "id": "fb26bdcf-8819-4d4a-8694-23ddbc84ac16",
   "metadata": {},
   "outputs": [
    {
     "data": {
      "text/plain": [
       "array([[15, 10, 22, 91],\n",
       "       [45, 34, 41, 57],\n",
       "       [ 4, 70, 58, 88],\n",
       "       [98,  5, 25, 27],\n",
       "       [83, 83, 25, 51],\n",
       "       [42, 89, 34,  1]])"
      ]
     },
     "execution_count": 329,
     "metadata": {},
     "output_type": "execute_result"
    }
   ],
   "source": [
    "b"
   ]
  },
  {
   "cell_type": "code",
   "execution_count": 330,
   "id": "b05520cc-45e0-4b73-a7e6-265913789d42",
   "metadata": {},
   "outputs": [
    {
     "data": {
      "text/plain": [
       "array([[ 1, 34, 89, 42],\n",
       "       [51, 25, 83, 83],\n",
       "       [27, 25,  5, 98],\n",
       "       [88, 58, 70,  4],\n",
       "       [57, 41, 34, 45],\n",
       "       [91, 22, 10, 15]])"
      ]
     },
     "execution_count": 330,
     "metadata": {},
     "output_type": "execute_result"
    }
   ],
   "source": [
    "np.flip(b)"
   ]
  },
  {
   "cell_type": "code",
   "execution_count": 331,
   "id": "ecee9fdd-c8a7-46b6-889d-df3ce8de046a",
   "metadata": {},
   "outputs": [
    {
     "data": {
      "text/plain": [
       "array([[91, 22, 10, 15],\n",
       "       [57, 41, 34, 45],\n",
       "       [88, 58, 70,  4],\n",
       "       [27, 25,  5, 98],\n",
       "       [51, 25, 83, 83],\n",
       "       [ 1, 34, 89, 42]])"
      ]
     },
     "execution_count": 331,
     "metadata": {},
     "output_type": "execute_result"
    }
   ],
   "source": [
    "np.flip(b,axis = 1)"
   ]
  },
  {
   "cell_type": "code",
   "execution_count": 332,
   "id": "3d14c539-0cf1-4317-8ff2-d510629b2980",
   "metadata": {},
   "outputs": [
    {
     "data": {
      "text/plain": [
       "array([[42, 89, 34,  1],\n",
       "       [83, 83, 25, 51],\n",
       "       [98,  5, 25, 27],\n",
       "       [ 4, 70, 58, 88],\n",
       "       [45, 34, 41, 57],\n",
       "       [15, 10, 22, 91]])"
      ]
     },
     "execution_count": 332,
     "metadata": {},
     "output_type": "execute_result"
    }
   ],
   "source": [
    "np.flip(b,axis = 0)"
   ]
  },
  {
   "cell_type": "markdown",
   "id": "d724d3f1-1909-474a-92cf-3932f3b71b10",
   "metadata": {},
   "source": [
    "## np.put"
   ]
  },
  {
   "cell_type": "code",
   "execution_count": 333,
   "id": "f413b743-866a-421a-9c82-6ca520e1bf41",
   "metadata": {},
   "outputs": [
    {
     "data": {
      "text/plain": [
       "array([89, 21, 94, 87, 57, 58, 74, 81, 90, 75, 59, 30, 82, 51, 23])"
      ]
     },
     "execution_count": 333,
     "metadata": {},
     "output_type": "execute_result"
    }
   ],
   "source": [
    "a"
   ]
  },
  {
   "cell_type": "code",
   "execution_count": 334,
   "id": "b7120c99-99ee-4108-8e9b-0ebb12bbc4bd",
   "metadata": {},
   "outputs": [],
   "source": [
    "np.put(a,[0,1],[110,530])"
   ]
  },
  {
   "cell_type": "code",
   "execution_count": 335,
   "id": "36a90c9a-9772-4680-b609-0909dfc5a473",
   "metadata": {},
   "outputs": [
    {
     "data": {
      "text/plain": [
       "array([110, 530,  94,  87,  57,  58,  74,  81,  90,  75,  59,  30,  82,\n",
       "        51,  23])"
      ]
     },
     "execution_count": 335,
     "metadata": {},
     "output_type": "execute_result"
    }
   ],
   "source": [
    "a"
   ]
  },
  {
   "cell_type": "markdown",
   "id": "09221b9f-a7d1-4d4b-98a2-10adbc187230",
   "metadata": {},
   "source": [
    "# np.delete"
   ]
  },
  {
   "cell_type": "code",
   "execution_count": 336,
   "id": "fb8fc489-1ca8-4179-a476-6be6c8d351f9",
   "metadata": {},
   "outputs": [
    {
     "data": {
      "text/plain": [
       "array([110, 530,  94,  87,  57,  58,  74,  81,  90,  75,  59,  30,  82,\n",
       "        51,  23])"
      ]
     },
     "execution_count": 336,
     "metadata": {},
     "output_type": "execute_result"
    }
   ],
   "source": [
    "a"
   ]
  },
  {
   "cell_type": "code",
   "execution_count": 337,
   "id": "fab3afe8-58d8-4ea0-bb52-c1088b570b02",
   "metadata": {},
   "outputs": [
    {
     "data": {
      "text/plain": [
       "array([530,  94,  87,  57,  58,  74,  81,  90,  75,  59,  30,  82,  51,\n",
       "        23])"
      ]
     },
     "execution_count": 337,
     "metadata": {},
     "output_type": "execute_result"
    }
   ],
   "source": [
    "np.delete(a,0)"
   ]
  },
  {
   "cell_type": "code",
   "execution_count": 338,
   "id": "ea890854-7b20-47f1-aefc-548bbed5e6c4",
   "metadata": {},
   "outputs": [
    {
     "data": {
      "text/plain": [
       "array([530,  87,  58,  74,  81,  90,  75,  59,  30,  82,  51,  23])"
      ]
     },
     "execution_count": 338,
     "metadata": {},
     "output_type": "execute_result"
    }
   ],
   "source": [
    "np.delete(a,[0,2,4])"
   ]
  },
  {
   "cell_type": "markdown",
   "id": "e67b538c-ddf4-4921-a421-0f1be005af86",
   "metadata": {},
   "source": [
    "#### set function"
   ]
  },
  {
   "cell_type": "code",
   "execution_count": 339,
   "id": "0e52e61f-53a9-455b-a9d6-58f8311b38e0",
   "metadata": {},
   "outputs": [],
   "source": [
    "m = np.array([1,2,3,4,5])\n",
    "n = np.array([3,4,5,6,7])"
   ]
  },
  {
   "cell_type": "code",
   "execution_count": 340,
   "id": "16a27513-c551-45fe-ad8e-70c95e90cc44",
   "metadata": {},
   "outputs": [
    {
     "data": {
      "text/plain": [
       "array([1, 2, 3, 4, 5, 6, 7])"
      ]
     },
     "execution_count": 340,
     "metadata": {},
     "output_type": "execute_result"
    }
   ],
   "source": [
    "np.union1d(m,n)"
   ]
  },
  {
   "cell_type": "code",
   "execution_count": 341,
   "id": "0fa429b1-1d86-478e-b205-5e9070642fa7",
   "metadata": {},
   "outputs": [
    {
     "data": {
      "text/plain": [
       "array([3, 4, 5])"
      ]
     },
     "execution_count": 341,
     "metadata": {},
     "output_type": "execute_result"
    }
   ],
   "source": [
    "np.intersect1d(m,n)"
   ]
  },
  {
   "cell_type": "code",
   "execution_count": 342,
   "id": "f59e75ae-e96f-410a-a833-124f963bc41d",
   "metadata": {},
   "outputs": [
    {
     "data": {
      "text/plain": [
       "array([1, 2])"
      ]
     },
     "execution_count": 342,
     "metadata": {},
     "output_type": "execute_result"
    }
   ],
   "source": [
    "np.setdiff1d(m,n)"
   ]
  },
  {
   "cell_type": "code",
   "execution_count": 343,
   "id": "1039ff56-1fc9-4927-9f34-7b3a34e76854",
   "metadata": {},
   "outputs": [
    {
     "data": {
      "text/plain": [
       "array([6, 7])"
      ]
     },
     "execution_count": 343,
     "metadata": {},
     "output_type": "execute_result"
    }
   ],
   "source": [
    "np.setdiff1d(n,m)"
   ]
  },
  {
   "cell_type": "code",
   "execution_count": 344,
   "id": "75dbd305-fe28-458c-87f5-e7b0eafde663",
   "metadata": {},
   "outputs": [
    {
     "data": {
      "text/plain": [
       "array([1, 2, 6, 7])"
      ]
     },
     "execution_count": 344,
     "metadata": {},
     "output_type": "execute_result"
    }
   ],
   "source": [
    "np.setxor1d(m,n)"
   ]
  },
  {
   "cell_type": "code",
   "execution_count": 345,
   "id": "b129cd52-8dd6-4bbb-b825-1d3685a24bb4",
   "metadata": {},
   "outputs": [
    {
     "data": {
      "text/plain": [
       "array([ True, False, False, False, False])"
      ]
     },
     "execution_count": 345,
     "metadata": {},
     "output_type": "execute_result"
    }
   ],
   "source": [
    "np.in1d(m,1)"
   ]
  },
  {
   "cell_type": "code",
   "execution_count": 347,
   "id": "89cb6af2-3352-4a07-9bd5-1124111f1279",
   "metadata": {},
   "outputs": [
    {
     "data": {
      "text/plain": [
       "array([False, False, False, False, False])"
      ]
     },
     "execution_count": 347,
     "metadata": {},
     "output_type": "execute_result"
    }
   ],
   "source": [
    "np.in1d(m,10)"
   ]
  },
  {
   "cell_type": "markdown",
   "id": "ad37e807-796d-412d-9a0a-3a0ad941514f",
   "metadata": {},
   "source": [
    "#### np.clip"
   ]
  },
  {
   "cell_type": "code",
   "execution_count": 348,
   "id": "f2305ca3-ede5-4ee2-a6c8-aa9010e98fdc",
   "metadata": {},
   "outputs": [
    {
     "data": {
      "text/plain": [
       "array([110, 530,  94,  87,  57,  58,  74,  81,  90,  75,  59,  30,  82,\n",
       "        51,  23])"
      ]
     },
     "execution_count": 348,
     "metadata": {},
     "output_type": "execute_result"
    }
   ],
   "source": [
    "a"
   ]
  },
  {
   "cell_type": "code",
   "execution_count": 349,
   "id": "eb47fc02-e9a2-4c58-b659-915109af2cda",
   "metadata": {},
   "outputs": [
    {
     "data": {
      "text/plain": [
       "array([50, 50, 50, 50, 50, 50, 50, 50, 50, 50, 50, 30, 50, 50, 23])"
      ]
     },
     "execution_count": 349,
     "metadata": {},
     "output_type": "execute_result"
    }
   ],
   "source": [
    "np.clip(a, a_min=15, a_max = 50)"
   ]
  },
  {
   "cell_type": "markdown",
   "id": "93dd7929-e4ef-4360-9828-d7b442bf3018",
   "metadata": {},
   "source": [
    "## np.swapaxes"
   ]
  },
  {
   "cell_type": "code",
   "execution_count": 352,
   "id": "f5f109cd-8fc8-401f-9c53-d03a17bcabce",
   "metadata": {},
   "outputs": [],
   "source": [
    "arr = np.array(([[1,2,3],[4,5,6]]))\n",
    "swapped_arr = np.swapaxes(arr,0,1)"
   ]
  },
  {
   "cell_type": "code",
   "execution_count": 353,
   "id": "78466f02-6938-4f79-8379-01b8d9bb2781",
   "metadata": {},
   "outputs": [
    {
     "data": {
      "text/plain": [
       "array([[1, 2, 3],\n",
       "       [4, 5, 6]])"
      ]
     },
     "execution_count": 353,
     "metadata": {},
     "output_type": "execute_result"
    }
   ],
   "source": [
    "arr"
   ]
  },
  {
   "cell_type": "code",
   "execution_count": 354,
   "id": "4bc1f961-bd99-48f5-8851-64f249481858",
   "metadata": {},
   "outputs": [
    {
     "data": {
      "text/plain": [
       "array([[1, 4],\n",
       "       [2, 5],\n",
       "       [3, 6]])"
      ]
     },
     "execution_count": 354,
     "metadata": {},
     "output_type": "execute_result"
    }
   ],
   "source": [
    "swapped_arr"
   ]
  },
  {
   "cell_type": "code",
   "execution_count": 355,
   "id": "57d69265-aa94-4a26-b10d-5e74ef45881e",
   "metadata": {},
   "outputs": [
    {
     "name": "stdout",
     "output_type": "stream",
     "text": [
      "Original array:\n",
      "[[1 2 3]\n",
      " [4 5 6]]\n"
     ]
    }
   ],
   "source": [
    "print (\"Original array:\")\n",
    "print(arr)"
   ]
  },
  {
   "cell_type": "code",
   "execution_count": 356,
   "id": "22db8f2c-17e3-42a7-af8d-b39138c011a3",
   "metadata": {},
   "outputs": [
    {
     "name": "stdout",
     "output_type": "stream",
     "text": [
      "swapped array:\n",
      "[[1 4]\n",
      " [2 5]\n",
      " [3 6]]\n"
     ]
    }
   ],
   "source": [
    "print(\"swapped array:\")\n",
    "print(swapped_arr)"
   ]
  },
  {
   "cell_type": "code",
   "execution_count": null,
   "id": "84770c6f-f0e9-43e1-aaa9-2f916afbe098",
   "metadata": {},
   "outputs": [],
   "source": []
  },
  {
   "cell_type": "code",
   "execution_count": null,
   "id": "c2045fd5-8b66-4334-a0c6-979cf2df0a2c",
   "metadata": {},
   "outputs": [],
   "source": []
  },
  {
   "cell_type": "code",
   "execution_count": null,
   "id": "79f16a5d-f840-4510-8013-7cb2a7ada38e",
   "metadata": {},
   "outputs": [],
   "source": []
  },
  {
   "cell_type": "code",
   "execution_count": null,
   "id": "61e285a6-bca5-40f4-9987-1f96d7a98b0f",
   "metadata": {},
   "outputs": [],
   "source": []
  },
  {
   "cell_type": "code",
   "execution_count": null,
   "id": "86ac0d26-3b3f-4272-b34b-1d7d29f1715a",
   "metadata": {},
   "outputs": [],
   "source": []
  },
  {
   "cell_type": "code",
   "execution_count": null,
   "id": "ae361c8f-d0ce-4bb1-bdac-b9e563579f39",
   "metadata": {},
   "outputs": [],
   "source": []
  },
  {
   "cell_type": "code",
   "execution_count": null,
   "id": "6bab1386-4a24-4182-93b0-f6cbe0b8b69a",
   "metadata": {},
   "outputs": [],
   "source": []
  },
  {
   "cell_type": "code",
   "execution_count": null,
   "id": "7a37ecc1-7957-4f8a-bc25-96f9bd651e95",
   "metadata": {},
   "outputs": [],
   "source": []
  },
  {
   "cell_type": "code",
   "execution_count": null,
   "id": "5b5cf47d-9d47-476d-b0dd-91397ae6a13b",
   "metadata": {},
   "outputs": [],
   "source": []
  },
  {
   "cell_type": "code",
   "execution_count": null,
   "id": "096e92cc-910a-4e5b-958e-c6045be89691",
   "metadata": {},
   "outputs": [],
   "source": []
  }
 ],
 "metadata": {
  "kernelspec": {
   "display_name": "Python [conda env:base] *",
   "language": "python",
   "name": "conda-base-py"
  },
  "language_info": {
   "codemirror_mode": {
    "name": "ipython",
    "version": 3
   },
   "file_extension": ".py",
   "mimetype": "text/x-python",
   "name": "python",
   "nbconvert_exporter": "python",
   "pygments_lexer": "ipython3",
   "version": "3.12.7"
  }
 },
 "nbformat": 4,
 "nbformat_minor": 5
}

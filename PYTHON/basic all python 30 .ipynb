{
 "cells": [
  {
   "cell_type": "code",
   "execution_count": 1,
   "id": "3951b400-2828-49db-af3f-6c6f4be1ec66",
   "metadata": {},
   "outputs": [
    {
     "data": {
      "text/plain": [
       "'3.12.7 | packaged by Anaconda, Inc. | (main, Oct  4 2024, 13:17:27) [MSC v.1929 64 bit (AMD64)]'"
      ]
     },
     "execution_count": 1,
     "metadata": {},
     "output_type": "execute_result"
    }
   ],
   "source": [
    "import sys\n",
    "sys.version"
   ]
  },
  {
   "cell_type": "code",
   "execution_count": 2,
   "id": "cf8d58d9-ca64-4fc3-baf1-b74ac01aa812",
   "metadata": {},
   "outputs": [
    {
     "data": {
      "text/plain": [
       "3"
      ]
     },
     "execution_count": 2,
     "metadata": {},
     "output_type": "execute_result"
    }
   ],
   "source": [
    "x = 3\n",
    "x"
   ]
  },
  {
   "cell_type": "code",
   "execution_count": 4,
   "id": "7b823b97-730d-4477-8821-d709d738cff8",
   "metadata": {},
   "outputs": [
    {
     "data": {
      "text/plain": [
       "4"
      ]
     },
     "execution_count": 4,
     "metadata": {},
     "output_type": "execute_result"
    }
   ],
   "source": [
    "x = 4\n",
    "x"
   ]
  },
  {
   "cell_type": "code",
   "execution_count": 5,
   "id": "499b4845-2cba-459e-afc7-46294a38ee81",
   "metadata": {},
   "outputs": [
    {
     "data": {
      "text/plain": [
       "3"
      ]
     },
     "execution_count": 5,
     "metadata": {},
     "output_type": "execute_result"
    }
   ],
   "source": [
    "y = 3\n",
    "y"
   ]
  },
  {
   "cell_type": "code",
   "execution_count": 6,
   "id": "2d51387c-7c82-42f7-91d4-bbf1783a67d7",
   "metadata": {},
   "outputs": [
    {
     "data": {
      "text/plain": [
       "(4, 3)"
      ]
     },
     "execution_count": 6,
     "metadata": {},
     "output_type": "execute_result"
    }
   ],
   "source": [
    "x,y"
   ]
  },
  {
   "cell_type": "code",
   "execution_count": 7,
   "id": "d80eadc3-51ef-4b5e-a9aa-76425f7528f5",
   "metadata": {},
   "outputs": [
    {
     "ename": "TypeError",
     "evalue": "cannot unpack non-iterable int object",
     "output_type": "error",
     "traceback": [
      "\u001b[1;31m---------------------------------------------------------------------------\u001b[0m",
      "\u001b[1;31mTypeError\u001b[0m                                 Traceback (most recent call last)",
      "Cell \u001b[1;32mIn[7], line 1\u001b[0m\n\u001b[1;32m----> 1\u001b[0m x,y \u001b[38;5;241m=\u001b[39m \u001b[38;5;241m3\u001b[39m\n",
      "\u001b[1;31mTypeError\u001b[0m: cannot unpack non-iterable int object"
     ]
    }
   ],
   "source": [
    "x,y = 3"
   ]
  },
  {
   "cell_type": "code",
   "execution_count": 8,
   "id": "3d5c5f60-cb60-42c3-8a78-9b2ee6c59eea",
   "metadata": {},
   "outputs": [
    {
     "data": {
      "text/plain": [
       "int"
      ]
     },
     "execution_count": 8,
     "metadata": {},
     "output_type": "execute_result"
    }
   ],
   "source": [
    "type(x)"
   ]
  },
  {
   "cell_type": "code",
   "execution_count": 9,
   "id": "3e57ba57-b559-4b26-9f9b-18ffd735fb1a",
   "metadata": {},
   "outputs": [
    {
     "data": {
      "text/plain": [
       "3"
      ]
     },
     "execution_count": 9,
     "metadata": {},
     "output_type": "execute_result"
    }
   ],
   "source": [
    "y"
   ]
  },
  {
   "cell_type": "code",
   "execution_count": 10,
   "id": "bdf3718c-62e4-438a-b322-c08cf44ca764",
   "metadata": {},
   "outputs": [
    {
     "data": {
      "text/plain": [
       "int"
      ]
     },
     "execution_count": 10,
     "metadata": {},
     "output_type": "execute_result"
    }
   ],
   "source": [
    "x1 = 4\n",
    "x1\n",
    "type(x1)"
   ]
  },
  {
   "cell_type": "code",
   "execution_count": 11,
   "id": "0d796862-7f0d-480e-9587-557390b544f5",
   "metadata": {},
   "outputs": [
    {
     "data": {
      "text/plain": [
       "(4, 4)"
      ]
     },
     "execution_count": 11,
     "metadata": {},
     "output_type": "execute_result"
    }
   ],
   "source": [
    "x,x1"
   ]
  },
  {
   "cell_type": "code",
   "execution_count": 12,
   "id": "ab1fd22a-dec6-41bf-9d5e-d3619955d600",
   "metadata": {},
   "outputs": [
    {
     "data": {
      "text/plain": [
       "140713621793304"
      ]
     },
     "execution_count": 12,
     "metadata": {},
     "output_type": "execute_result"
    }
   ],
   "source": [
    "y = 3\n",
    "id (x1)"
   ]
  },
  {
   "cell_type": "code",
   "execution_count": 13,
   "id": "c9a04575-f88e-478e-acdf-81d6ba25e5ee",
   "metadata": {},
   "outputs": [
    {
     "data": {
      "text/plain": [
       "140713621793304"
      ]
     },
     "execution_count": 13,
     "metadata": {},
     "output_type": "execute_result"
    }
   ],
   "source": [
    "x1 = 4\n",
    "id(x1)"
   ]
  },
  {
   "cell_type": "code",
   "execution_count": 16,
   "id": "625a38aa-3349-490a-a85c-ab4e62ccbc92",
   "metadata": {},
   "outputs": [
    {
     "data": {
      "text/plain": [
       "bool"
      ]
     },
     "execution_count": 16,
     "metadata": {},
     "output_type": "execute_result"
    }
   ],
   "source": [
    "y = False\n",
    "type(y)"
   ]
  },
  {
   "cell_type": "code",
   "execution_count": 17,
   "id": "7a921b57-e774-43c8-aa1f-8ec68519984a",
   "metadata": {},
   "outputs": [
    {
     "data": {
      "text/plain": [
       "(4, False)"
      ]
     },
     "execution_count": 17,
     "metadata": {},
     "output_type": "execute_result"
    }
   ],
   "source": [
    "x,y"
   ]
  },
  {
   "cell_type": "code",
   "execution_count": 18,
   "id": "eb3163bf-33d8-4266-aedc-da2c170e1907",
   "metadata": {},
   "outputs": [
    {
     "data": {
      "text/plain": [
       "'3.12.7 | packaged by Anaconda, Inc. | (main, Oct  4 2024, 13:17:27) [MSC v.1929 64 bit (AMD64)]'"
      ]
     },
     "execution_count": 18,
     "metadata": {},
     "output_type": "execute_result"
    }
   ],
   "source": [
    "import sys\n",
    "sys.version"
   ]
  },
  {
   "cell_type": "code",
   "execution_count": 19,
   "id": "8a54e543-7918-4a3d-9be1-bb31f14e0b11",
   "metadata": {},
   "outputs": [
    {
     "data": {
      "text/plain": [
       "'3.12.7 | packaged by Anaconda, Inc. | (main, Oct  4 2024, 13:17:27) [MSC v.1929 64 bit (AMD64)]'"
      ]
     },
     "execution_count": 19,
     "metadata": {},
     "output_type": "execute_result"
    }
   ],
   "source": [
    "import sys\n",
    "sys.version"
   ]
  },
  {
   "cell_type": "code",
   "execution_count": 20,
   "id": "3c9ba6ba-04f1-4d1f-ac83-8c0da97ffc2d",
   "metadata": {},
   "outputs": [
    {
     "name": "stdout",
     "output_type": "stream",
     "text": [
      "5\n"
     ]
    },
    {
     "data": {
      "text/plain": [
       "int"
      ]
     },
     "execution_count": 20,
     "metadata": {},
     "output_type": "execute_result"
    }
   ],
   "source": [
    "a = 5\n",
    "print(a)\n",
    "type(a)"
   ]
  },
  {
   "cell_type": "code",
   "execution_count": 21,
   "id": "48e554a2-9ffe-426b-b108-9bb5fccba5ae",
   "metadata": {},
   "outputs": [
    {
     "ename": "SyntaxError",
     "evalue": "invalid syntax (385768347.py, line 1)",
     "output_type": "error",
     "traceback": [
      "\u001b[1;36m  Cell \u001b[1;32mIn[21], line 1\u001b[1;36m\u001b[0m\n\u001b[1;33m    a@ = 6\u001b[0m\n\u001b[1;37m       ^\u001b[0m\n\u001b[1;31mSyntaxError\u001b[0m\u001b[1;31m:\u001b[0m invalid syntax\n"
     ]
    }
   ],
   "source": [
    "a@ = 6\n",
    "a@"
   ]
  },
  {
   "cell_type": "code",
   "execution_count": 22,
   "id": "710395c4-40dd-4e3f-8649-afdf0ac34e04",
   "metadata": {},
   "outputs": [
    {
     "ename": "SyntaxError",
     "evalue": "cannot assign to literal here. Maybe you meant '==' instead of '='? (1218098064.py, line 1)",
     "output_type": "error",
     "traceback": [
      "\u001b[1;36m  Cell \u001b[1;32mIn[22], line 1\u001b[1;36m\u001b[0m\n\u001b[1;33m    6 = b\u001b[0m\n\u001b[1;37m    ^\u001b[0m\n\u001b[1;31mSyntaxError\u001b[0m\u001b[1;31m:\u001b[0m cannot assign to literal here. Maybe you meant '==' instead of '='?\n"
     ]
    }
   ],
   "source": [
    "6 = b"
   ]
  },
  {
   "cell_type": "code",
   "execution_count": 23,
   "id": "398d2009-541d-4b7f-aa73-ad57da1a981e",
   "metadata": {},
   "outputs": [
    {
     "data": {
      "text/plain": [
       "5"
      ]
     },
     "execution_count": 23,
     "metadata": {},
     "output_type": "execute_result"
    }
   ],
   "source": [
    "a = 5\n",
    "a"
   ]
  },
  {
   "cell_type": "code",
   "execution_count": 24,
   "id": "1766cb81-3e44-4ff3-b29a-0b99af10afd5",
   "metadata": {},
   "outputs": [
    {
     "data": {
      "text/plain": [
       "int"
      ]
     },
     "execution_count": 24,
     "metadata": {},
     "output_type": "execute_result"
    }
   ],
   "source": [
    "type(a)"
   ]
  },
  {
   "cell_type": "code",
   "execution_count": 25,
   "id": "e177e7d4-04e0-4c77-9336-5b8d3d70b769",
   "metadata": {},
   "outputs": [
    {
     "data": {
      "text/plain": [
       "5.5"
      ]
     },
     "execution_count": 25,
     "metadata": {},
     "output_type": "execute_result"
    }
   ],
   "source": [
    "b = 5.5\n",
    "b"
   ]
  },
  {
   "cell_type": "code",
   "execution_count": 26,
   "id": "e303b05a-3606-4305-abfa-38b7e78f7105",
   "metadata": {},
   "outputs": [
    {
     "data": {
      "text/plain": [
       "float"
      ]
     },
     "execution_count": 26,
     "metadata": {},
     "output_type": "execute_result"
    }
   ],
   "source": [
    "type(b)"
   ]
  },
  {
   "cell_type": "code",
   "execution_count": 27,
   "id": "d3e85816-0ed1-4287-8742-b3a33a9e21bd",
   "metadata": {},
   "outputs": [
    {
     "data": {
      "text/plain": [
       "'hi'"
      ]
     },
     "execution_count": 27,
     "metadata": {},
     "output_type": "execute_result"
    }
   ],
   "source": [
    "c = 'hi'\n",
    "c"
   ]
  },
  {
   "cell_type": "code",
   "execution_count": 28,
   "id": "bae0fc15-37f3-46ba-a858-c7afec6cc0d9",
   "metadata": {},
   "outputs": [
    {
     "data": {
      "text/plain": [
       "2"
      ]
     },
     "execution_count": 28,
     "metadata": {},
     "output_type": "execute_result"
    }
   ],
   "source": [
    "x = 2\n",
    "x"
   ]
  },
  {
   "cell_type": "code",
   "execution_count": 29,
   "id": "cf031bbe-6311-4737-8876-c9d349a3a75d",
   "metadata": {},
   "outputs": [
    {
     "ename": "SyntaxError",
     "evalue": "invalid syntax (3028986276.py, line 1)",
     "output_type": "error",
     "traceback": [
      "\u001b[1;36m  Cell \u001b[1;32mIn[29], line 1\u001b[1;36m\u001b[0m\n\u001b[1;33m    x@ = 3\u001b[0m\n\u001b[1;37m       ^\u001b[0m\n\u001b[1;31mSyntaxError\u001b[0m\u001b[1;31m:\u001b[0m invalid syntax\n"
     ]
    }
   ],
   "source": [
    "x@ = 3\n",
    "x@"
   ]
  },
  {
   "cell_type": "code",
   "execution_count": 30,
   "id": "bde6ca54-7d9c-4e82-89b8-cb39fa41bc03",
   "metadata": {},
   "outputs": [
    {
     "data": {
      "text/plain": [
       "int"
      ]
     },
     "execution_count": 30,
     "metadata": {},
     "output_type": "execute_result"
    }
   ],
   "source": [
    "a = 2\n",
    "type(a)"
   ]
  },
  {
   "cell_type": "code",
   "execution_count": 31,
   "id": "9eb7f698-f340-4d40-b3a9-809377042dd1",
   "metadata": {},
   "outputs": [
    {
     "name": "stdout",
     "output_type": "stream",
     "text": [
      "9223372089\n"
     ]
    }
   ],
   "source": [
    "b = 9223372089\n",
    "print (b)"
   ]
  },
  {
   "cell_type": "code",
   "execution_count": 32,
   "id": "247bc035-088a-438e-9826-9e7c2a39b3ff",
   "metadata": {},
   "outputs": [
    {
     "name": "stdout",
     "output_type": "stream",
     "text": [
      "3.17\n"
     ]
    }
   ],
   "source": [
    "pi = 3.17\n",
    "print(pi)"
   ]
  },
  {
   "cell_type": "code",
   "execution_count": 33,
   "id": "4afd1517-6055-4006-b9a2-7425943ea11e",
   "metadata": {},
   "outputs": [
    {
     "data": {
      "text/plain": [
       "float"
      ]
     },
     "execution_count": 33,
     "metadata": {},
     "output_type": "execute_result"
    }
   ],
   "source": [
    "type(pi)"
   ]
  },
  {
   "cell_type": "code",
   "execution_count": 34,
   "id": "c5a7574a-83c1-40fe-a828-bba269f22fb0",
   "metadata": {},
   "outputs": [
    {
     "name": "stdout",
     "output_type": "stream",
     "text": [
      "A\n"
     ]
    }
   ],
   "source": [
    "c = 'A'\n",
    "print(c)"
   ]
  },
  {
   "cell_type": "code",
   "execution_count": 35,
   "id": "2f948922-5906-40e3-8f78-045e0da7937e",
   "metadata": {},
   "outputs": [
    {
     "data": {
      "text/plain": [
       "str"
      ]
     },
     "execution_count": 35,
     "metadata": {},
     "output_type": "execute_result"
    }
   ],
   "source": [
    "type(c)"
   ]
  },
  {
   "cell_type": "code",
   "execution_count": 36,
   "id": "ba925a88-9641-45dc-b441-30ebb4344e17",
   "metadata": {},
   "outputs": [
    {
     "name": "stdout",
     "output_type": "stream",
     "text": [
      "john doe\n"
     ]
    },
    {
     "data": {
      "text/plain": [
       "str"
      ]
     },
     "execution_count": 36,
     "metadata": {},
     "output_type": "execute_result"
    }
   ],
   "source": [
    "name = 'john doe'\n",
    "print(name)\n",
    "type(name)"
   ]
  },
  {
   "cell_type": "code",
   "execution_count": 37,
   "id": "3cb36eb9-9b4c-4bd6-8192-196b99458101",
   "metadata": {},
   "outputs": [
    {
     "name": "stdout",
     "output_type": "stream",
     "text": [
      "True\n"
     ]
    }
   ],
   "source": [
    "q = True\n",
    "print(q)"
   ]
  },
  {
   "cell_type": "code",
   "execution_count": 38,
   "id": "2719c4e6-4aa5-4117-8d92-680a5f38670e",
   "metadata": {},
   "outputs": [
    {
     "name": "stdout",
     "output_type": "stream",
     "text": [
      "None\n"
     ]
    }
   ],
   "source": [
    "x = None\n",
    "print(x)"
   ]
  },
  {
   "cell_type": "code",
   "execution_count": 39,
   "id": "6416fd46-1e13-482e-b35c-6f527e8c6b4c",
   "metadata": {},
   "outputs": [
    {
     "ename": "SyntaxError",
     "evalue": "cannot assign to literal here. Maybe you meant '==' instead of '='? (1182432656.py, line 1)",
     "output_type": "error",
     "traceback": [
      "\u001b[1;36m  Cell \u001b[1;32mIn[39], line 1\u001b[1;36m\u001b[0m\n\u001b[1;33m    5 = x\u001b[0m\n\u001b[1;37m    ^\u001b[0m\n\u001b[1;31mSyntaxError\u001b[0m\u001b[1;31m:\u001b[0m cannot assign to literal here. Maybe you meant '==' instead of '='?\n"
     ]
    }
   ],
   "source": [
    "5 = x"
   ]
  },
  {
   "cell_type": "code",
   "execution_count": 40,
   "id": "a56f36d9-8ed9-48c1-b67d-8be610c59156",
   "metadata": {},
   "outputs": [
    {
     "data": {
      "text/plain": [
       "5"
      ]
     },
     "execution_count": 40,
     "metadata": {},
     "output_type": "execute_result"
    }
   ],
   "source": [
    "x = 5\n",
    "x"
   ]
  },
  {
   "cell_type": "markdown",
   "id": "a27aaac6-36ab-47a9-96d3-6d28f697285a",
   "metadata": {},
   "source": [
    " #  variable"
   ]
  },
  {
   "cell_type": "code",
   "execution_count": 41,
   "id": "3f9965aa-231a-4cc5-85d0-ae49d346f3f4",
   "metadata": {},
   "outputs": [
    {
     "data": {
      "text/plain": [
       "50"
      ]
     },
     "execution_count": 41,
     "metadata": {},
     "output_type": "execute_result"
    }
   ],
   "source": [
    "ABC = 50\n",
    "ABC"
   ]
  },
  {
   "cell_type": "code",
   "execution_count": 42,
   "id": "3e453951-c913-402e-aeb0-23002cd58946",
   "metadata": {},
   "outputs": [
    {
     "ename": "NameError",
     "evalue": "name 'ABCD' is not defined",
     "output_type": "error",
     "traceback": [
      "\u001b[1;31m---------------------------------------------------------------------------\u001b[0m",
      "\u001b[1;31mNameError\u001b[0m                                 Traceback (most recent call last)",
      "Cell \u001b[1;32mIn[42], line 2\u001b[0m\n\u001b[0;32m      1\u001b[0m abc \u001b[38;5;241m=\u001b[39m \u001b[38;5;241m70\u001b[39m\n\u001b[1;32m----> 2\u001b[0m ABCD\n",
      "\u001b[1;31mNameError\u001b[0m: name 'ABCD' is not defined"
     ]
    }
   ],
   "source": [
    "abc = 70\n",
    "ABCD"
   ]
  },
  {
   "cell_type": "code",
   "execution_count": 43,
   "id": "403477d2-ceee-4c19-890f-3e685313096b",
   "metadata": {},
   "outputs": [
    {
     "data": {
      "text/plain": [
       "20000"
      ]
     },
     "execution_count": 43,
     "metadata": {},
     "output_type": "execute_result"
    }
   ],
   "source": [
    "xyz = 20000\n",
    "xyz"
   ]
  },
  {
   "cell_type": "code",
   "execution_count": 44,
   "id": "a67859bc-df76-4caa-945e-999cd3706b5c",
   "metadata": {},
   "outputs": [
    {
     "data": {
      "text/plain": [
       "70"
      ]
     },
     "execution_count": 44,
     "metadata": {},
     "output_type": "execute_result"
    }
   ],
   "source": [
    "ABCD = 70\n",
    "ABCD "
   ]
  },
  {
   "cell_type": "code",
   "execution_count": 45,
   "id": "b7a18db8-3868-4b73-ae24-5fde73a027b8",
   "metadata": {},
   "outputs": [
    {
     "ename": "NameError",
     "evalue": "name 'nit1' is not defined",
     "output_type": "error",
     "traceback": [
      "\u001b[1;31m---------------------------------------------------------------------------\u001b[0m",
      "\u001b[1;31mNameError\u001b[0m                                 Traceback (most recent call last)",
      "Cell \u001b[1;32mIn[45], line 2\u001b[0m\n\u001b[0;32m      1\u001b[0m NIT \u001b[38;5;241m=\u001b[39m \u001b[38;5;241m15000\u001b[39m\n\u001b[1;32m----> 2\u001b[0m nit1\n",
      "\u001b[1;31mNameError\u001b[0m: name 'nit1' is not defined"
     ]
    }
   ],
   "source": [
    "NIT = 15000\n",
    "nit1"
   ]
  },
  {
   "cell_type": "code",
   "execution_count": 46,
   "id": "874a5e51-75f3-4679-9854-5eb18e1dc75d",
   "metadata": {},
   "outputs": [
    {
     "data": {
      "text/plain": [
       "20"
      ]
     },
     "execution_count": 46,
     "metadata": {},
     "output_type": "execute_result"
    }
   ],
   "source": [
    "nIT = 20\n",
    "nIT"
   ]
  },
  {
   "cell_type": "code",
   "execution_count": 47,
   "id": "13473d8c-bfa0-4d25-8919-153c0e4a9ebd",
   "metadata": {},
   "outputs": [
    {
     "ename": "NameError",
     "evalue": "name 'montycorP' is not defined",
     "output_type": "error",
     "traceback": [
      "\u001b[1;31m---------------------------------------------------------------------------\u001b[0m",
      "\u001b[1;31mNameError\u001b[0m                                 Traceback (most recent call last)",
      "Cell \u001b[1;32mIn[47], line 2\u001b[0m\n\u001b[0;32m      1\u001b[0m montycorps \u001b[38;5;241m=\u001b[39m \u001b[38;5;241m78\u001b[39m\n\u001b[1;32m----> 2\u001b[0m montycorP\n",
      "\u001b[1;31mNameError\u001b[0m: name 'montycorP' is not defined"
     ]
    }
   ],
   "source": [
    "montycorps = 78\n",
    "montycorP"
   ]
  },
  {
   "cell_type": "code",
   "execution_count": 48,
   "id": "bb4baf0a-f4e4-4c10-b4c6-52e326d2ac4d",
   "metadata": {},
   "outputs": [
    {
     "data": {
      "text/plain": [
       "10"
      ]
     },
     "execution_count": 48,
     "metadata": {},
     "output_type": "execute_result"
    }
   ],
   "source": [
    "cash123 = 10\n",
    "cash123"
   ]
  },
  {
   "cell_type": "code",
   "execution_count": 1,
   "id": "a9f96d9e-ae13-4343-8d0b-a1f1e6915d01",
   "metadata": {},
   "outputs": [
    {
     "data": {
      "text/plain": [
       "20000"
      ]
     },
     "execution_count": 1,
     "metadata": {},
     "output_type": "execute_result"
    }
   ],
   "source": [
    "xyz = 20000\n",
    "xyz"
   ]
  },
  {
   "cell_type": "code",
   "execution_count": 2,
   "id": "747a7735-1d6b-4a4a-850d-6baa35149c2b",
   "metadata": {},
   "outputs": [
    {
     "data": {
      "text/plain": [
       "70"
      ]
     },
     "execution_count": 2,
     "metadata": {},
     "output_type": "execute_result"
    }
   ],
   "source": [
    "ABCD = 70\n",
    "ABCD"
   ]
  },
  {
   "cell_type": "code",
   "execution_count": 3,
   "id": "8012a8e8-80cc-4b59-90b5-1ad57339cebd",
   "metadata": {},
   "outputs": [
    {
     "ename": "NameError",
     "evalue": "name 'nit1' is not defined",
     "output_type": "error",
     "traceback": [
      "\u001b[1;31m---------------------------------------------------------------------------\u001b[0m",
      "\u001b[1;31mNameError\u001b[0m                                 Traceback (most recent call last)",
      "Cell \u001b[1;32mIn[3], line 2\u001b[0m\n\u001b[0;32m      1\u001b[0m NIT \u001b[38;5;241m=\u001b[39m \u001b[38;5;241m15000\u001b[39m\n\u001b[1;32m----> 2\u001b[0m nit1\n",
      "\u001b[1;31mNameError\u001b[0m: name 'nit1' is not defined"
     ]
    }
   ],
   "source": [
    "NIT = 15000\n",
    "nit1"
   ]
  },
  {
   "cell_type": "code",
   "execution_count": 4,
   "id": "370bc054-89a4-41c1-a312-25e14cb36f7a",
   "metadata": {},
   "outputs": [
    {
     "data": {
      "text/plain": [
       "20"
      ]
     },
     "execution_count": 4,
     "metadata": {},
     "output_type": "execute_result"
    }
   ],
   "source": [
    "nIT = 20\n",
    "nIT"
   ]
  },
  {
   "cell_type": "code",
   "execution_count": 5,
   "id": "f4312e3f-f17f-4390-b2e6-fab1643018b7",
   "metadata": {},
   "outputs": [
    {
     "ename": "NameError",
     "evalue": "name 'MONTCORp' is not defined",
     "output_type": "error",
     "traceback": [
      "\u001b[1;31m---------------------------------------------------------------------------\u001b[0m",
      "\u001b[1;31mNameError\u001b[0m                                 Traceback (most recent call last)",
      "Cell \u001b[1;32mIn[5], line 2\u001b[0m\n\u001b[0;32m      1\u001b[0m MONTYCORPS \u001b[38;5;241m=\u001b[39m \u001b[38;5;241m78\u001b[39m\n\u001b[1;32m----> 2\u001b[0m MONTCORp\n",
      "\u001b[1;31mNameError\u001b[0m: name 'MONTCORp' is not defined"
     ]
    }
   ],
   "source": [
    "MONTYCORPS = 78\n",
    "MONTCORp"
   ]
  },
  {
   "cell_type": "code",
   "execution_count": 6,
   "id": "04bd5475-7cf3-46ec-8905-65aab92e4f94",
   "metadata": {},
   "outputs": [
    {
     "data": {
      "text/plain": [
       "10"
      ]
     },
     "execution_count": 6,
     "metadata": {},
     "output_type": "execute_result"
    }
   ],
   "source": [
    "cash123 = 10\n",
    "cash123"
   ]
  },
  {
   "cell_type": "code",
   "execution_count": 7,
   "id": "86bf06a4-71c2-48ed-b580-d19b2e3f7937",
   "metadata": {},
   "outputs": [
    {
     "ename": "SyntaxError",
     "evalue": "invalid decimal literal (2794601236.py, line 1)",
     "output_type": "error",
     "traceback": [
      "\u001b[1;36m  Cell \u001b[1;32mIn[7], line 1\u001b[1;36m\u001b[0m\n\u001b[1;33m    123cash = 20\u001b[0m\n\u001b[1;37m      ^\u001b[0m\n\u001b[1;31mSyntaxError\u001b[0m\u001b[1;31m:\u001b[0m invalid decimal literal\n"
     ]
    }
   ],
   "source": [
    "123cash = 20\n",
    "123cash"
   ]
  },
  {
   "cell_type": "code",
   "execution_count": 8,
   "id": "be8bbf3f-df4e-4c26-8e71-ed88efb85676",
   "metadata": {},
   "outputs": [
    {
     "ename": "SyntaxError",
     "evalue": "invalid decimal literal (113075527.py, line 1)",
     "output_type": "error",
     "traceback": [
      "\u001b[1;36m  Cell \u001b[1;32mIn[8], line 1\u001b[1;36m\u001b[0m\n\u001b[1;33m    1A = 5\u001b[0m\n\u001b[1;37m    ^\u001b[0m\n\u001b[1;31mSyntaxError\u001b[0m\u001b[1;31m:\u001b[0m invalid decimal literal\n"
     ]
    }
   ],
   "source": [
    "1A = 5"
   ]
  },
  {
   "cell_type": "code",
   "execution_count": 9,
   "id": "ad0d11ff-b032-48b5-a45b-9deb3e488a74",
   "metadata": {},
   "outputs": [
    {
     "data": {
      "text/plain": [
       "5"
      ]
     },
     "execution_count": 9,
     "metadata": {},
     "output_type": "execute_result"
    }
   ],
   "source": [
    "A1 = 5\n",
    "A1"
   ]
  },
  {
   "cell_type": "code",
   "execution_count": 10,
   "id": "94683760-a6c8-4192-8e27-17e6b318c342",
   "metadata": {},
   "outputs": [
    {
     "data": {
      "text/plain": [
       "10"
      ]
     },
     "execution_count": 10,
     "metadata": {},
     "output_type": "execute_result"
    }
   ],
   "source": [
    "#x = 10 # x is the variable & 10 is thealue\n",
    "cash = 10 # Identifier ruls alphabet\n",
    "#ca$h = 10 # $ - symbole is not allowed in python identifier but in java is allowed\n",
    "#ca$h\n",
    "cash"
   ]
  },
  {
   "cell_type": "code",
   "execution_count": 11,
   "id": "49745b23-67aa-4918-8ef6-9b93073e3885",
   "metadata": {},
   "outputs": [
    {
     "ename": "SyntaxError",
     "evalue": "invalid syntax (1112431759.py, line 1)",
     "output_type": "error",
     "traceback": [
      "\u001b[1;36m  Cell \u001b[1;32mIn[11], line 1\u001b[1;36m\u001b[0m\n\u001b[1;33m    ca$h = 20\u001b[0m\n\u001b[1;37m      ^\u001b[0m\n\u001b[1;31mSyntaxError\u001b[0m\u001b[1;31m:\u001b[0m invalid syntax\n"
     ]
    }
   ],
   "source": [
    "ca$h = 20\n",
    "ca$h"
   ]
  },
  {
   "cell_type": "code",
   "execution_count": 12,
   "id": "feda8854-4ae5-4320-a551-30caad1d8c2c",
   "metadata": {},
   "outputs": [
    {
     "ename": "SyntaxError",
     "evalue": "cannot assign to expression here. Maybe you meant '==' instead of '='? (3805698226.py, line 1)",
     "output_type": "error",
     "traceback": [
      "\u001b[1;36m  Cell \u001b[1;32mIn[12], line 1\u001b[1;36m\u001b[0m\n\u001b[1;33m    ca*h = 20\u001b[0m\n\u001b[1;37m    ^\u001b[0m\n\u001b[1;31mSyntaxError\u001b[0m\u001b[1;31m:\u001b[0m cannot assign to expression here. Maybe you meant '==' instead of '='?\n"
     ]
    }
   ],
   "source": [
    "ca*h = 20\n",
    "ca*h"
   ]
  },
  {
   "cell_type": "code",
   "execution_count": 13,
   "id": "c682b728-5e44-4ae3-8c2a-9be0b92fcf3b",
   "metadata": {},
   "outputs": [
    {
     "data": {
      "text/plain": [
       "20"
      ]
     },
     "execution_count": 13,
     "metadata": {},
     "output_type": "execute_result"
    }
   ],
   "source": [
    "CASH = 20 \n",
    "# Cash \n",
    "CASH"
   ]
  },
  {
   "cell_type": "code",
   "execution_count": 15,
   "id": "849f306f-dfce-4f3d-94c5-17dfa7955df2",
   "metadata": {},
   "outputs": [
    {
     "data": {
      "text/plain": [
       "30"
      ]
     },
     "execution_count": 15,
     "metadata": {},
     "output_type": "execute_result"
    }
   ],
   "source": [
    "CASH1 = 30\n",
    "# Cash1\n",
    "CASH1"
   ]
  },
  {
   "cell_type": "code",
   "execution_count": 17,
   "id": "54da73da-ebd8-423f-9d23-7edbd2c647fe",
   "metadata": {},
   "outputs": [
    {
     "ename": "SyntaxError",
     "evalue": "invalid decimal literal (2414502611.py, line 3)",
     "output_type": "error",
     "traceback": [
      "\u001b[1;36m  Cell \u001b[1;32mIn[17], line 3\u001b[1;36m\u001b[0m\n\u001b[1;33m    123total = 30\u001b[0m\n\u001b[1;37m      ^\u001b[0m\n\u001b[1;31mSyntaxError\u001b[0m\u001b[1;31m:\u001b[0m invalid decimal literal\n"
     ]
    }
   ],
   "source": [
    "   # <2> Identifiers should not starts with dight ====\n",
    "#sum123 = 20 # Digit rules identifier\n",
    "123total = 30\n",
    "123total\n",
    "#sum123"
   ]
  },
  {
   "cell_type": "code",
   "execution_count": 18,
   "id": "8e41c73d-a016-4720-853b-6be1f2483045",
   "metadata": {},
   "outputs": [
    {
     "data": {
      "text/plain": [
       "int"
      ]
     },
     "execution_count": 18,
     "metadata": {},
     "output_type": "execute_result"
    }
   ],
   "source": [
    "# <3> Identifiers are case sensitive\n",
    "#total = 10 # Python are case sensitive\n",
    "Abcde = 20\n",
    "#total\n",
    "type(Abcde)"
   ]
  },
  {
   "cell_type": "code",
   "execution_count": 19,
   "id": "27f8790d-41cf-4292-8686-013b8bf71a65",
   "metadata": {},
   "outputs": [
    {
     "ename": "NameError",
     "evalue": "name 'NEW' is not defined",
     "output_type": "error",
     "traceback": [
      "\u001b[1;31m---------------------------------------------------------------------------\u001b[0m",
      "\u001b[1;31mNameError\u001b[0m                                 Traceback (most recent call last)",
      "Cell \u001b[1;32mIn[19], line 2\u001b[0m\n\u001b[0;32m      1\u001b[0m nwe \u001b[38;5;241m=\u001b[39m \u001b[38;5;241m30\u001b[39m\n\u001b[1;32m----> 2\u001b[0m NEW\n",
      "\u001b[1;31mNameError\u001b[0m: name 'NEW' is not defined"
     ]
    }
   ],
   "source": [
    "nwe = 30\n",
    "NEW"
   ]
  },
  {
   "cell_type": "code",
   "execution_count": null,
   "id": "a5057b30-c5e2-484d-9148-4e77a3e0aa31",
   "metadata": {},
   "outputs": [],
   "source": [
    "Total5 = 30\n",
    "#TOTAL\n",
    "Total5"
   ]
  },
  {
   "cell_type": "code",
   "execution_count": 1,
   "id": "b1f10742-dcc2-4615-886e-b393e6702509",
   "metadata": {},
   "outputs": [
    {
     "ename": "SyntaxError",
     "evalue": "invalid syntax (1737738290.py, line 1)",
     "output_type": "error",
     "traceback": [
      "\u001b[1;36m  Cell \u001b[1;32mIn[1], line 1\u001b[1;36m\u001b[0m\n\u001b[1;33m    def = 4.6\u001b[0m\n\u001b[1;37m        ^\u001b[0m\n\u001b[1;31mSyntaxError\u001b[0m\u001b[1;31m:\u001b[0m invalid syntax\n"
     ]
    }
   ],
   "source": [
    "def = 4.6\n",
    "def"
   ]
  },
  {
   "cell_type": "code",
   "execution_count": 2,
   "id": "79ca193c-1889-48f3-8837-9da0c4908a53",
   "metadata": {},
   "outputs": [
    {
     "ename": "SyntaxError",
     "evalue": "invalid syntax (3568866929.py, line 1)",
     "output_type": "error",
     "traceback": [
      "\u001b[1;36m  Cell \u001b[1;32mIn[2], line 1\u001b[1;36m\u001b[0m\n\u001b[1;33m    del = 9\u001b[0m\n\u001b[1;37m        ^\u001b[0m\n\u001b[1;31mSyntaxError\u001b[0m\u001b[1;31m:\u001b[0m invalid syntax\n"
     ]
    }
   ],
   "source": [
    "del = 9"
   ]
  },
  {
   "cell_type": "code",
   "execution_count": 3,
   "id": "6b9cb51d-942d-40be-ba0f-7938ba8697a9",
   "metadata": {},
   "outputs": [
    {
     "data": {
      "text/plain": [
       "['False',\n",
       " 'None',\n",
       " 'True',\n",
       " 'and',\n",
       " 'as',\n",
       " 'assert',\n",
       " 'async',\n",
       " 'await',\n",
       " 'break',\n",
       " 'class',\n",
       " 'continue',\n",
       " 'def',\n",
       " 'del',\n",
       " 'elif',\n",
       " 'else',\n",
       " 'except',\n",
       " 'finally',\n",
       " 'for',\n",
       " 'from',\n",
       " 'global',\n",
       " 'if',\n",
       " 'import',\n",
       " 'in',\n",
       " 'is',\n",
       " 'lambda',\n",
       " 'nonlocal',\n",
       " 'not',\n",
       " 'or',\n",
       " 'pass',\n",
       " 'raise',\n",
       " 'return',\n",
       " 'try',\n",
       " 'while',\n",
       " 'with',\n",
       " 'yield']"
      ]
     },
     "execution_count": 3,
     "metadata": {},
     "output_type": "execute_result"
    }
   ],
   "source": [
    "import keyword\n",
    "keyword.kwlist"
   ]
  },
  {
   "cell_type": "code",
   "execution_count": 4,
   "id": "d9759455-34cf-4bdc-9026-60aaf73624ec",
   "metadata": {},
   "outputs": [
    {
     "data": {
      "text/plain": [
       "35"
      ]
     },
     "execution_count": 4,
     "metadata": {},
     "output_type": "execute_result"
    }
   ],
   "source": [
    "len(keyword.kwlist)"
   ]
  },
  {
   "cell_type": "code",
   "execution_count": 5,
   "id": "8110801b-53f8-46f1-8f65-976d4132631a",
   "metadata": {},
   "outputs": [
    {
     "data": {
      "text/plain": [
       "4"
      ]
     },
     "execution_count": 5,
     "metadata": {},
     "output_type": "execute_result"
    }
   ],
   "source": [
    "DEF = 4\n",
    "DEF"
   ]
  },
  {
   "cell_type": "code",
   "execution_count": 7,
   "id": "86d3a02f-634a-4076-a5d5-b6d5d2a41df6",
   "metadata": {},
   "outputs": [
    {
     "ename": "SyntaxError",
     "evalue": "invalid syntax (1979711427.py, line 1)",
     "output_type": "error",
     "traceback": [
      "\u001b[1;36m  Cell \u001b[1;32mIn[7], line 1\u001b[1;36m\u001b[0m\n\u001b[1;33m    if = 780\u001b[0m\n\u001b[1;37m       ^\u001b[0m\n\u001b[1;31mSyntaxError\u001b[0m\u001b[1;31m:\u001b[0m invalid syntax\n"
     ]
    }
   ],
   "source": [
    "if = 780\n",
    "if"
   ]
  },
  {
   "cell_type": "code",
   "execution_count": 8,
   "id": "e49fb5b1-f3af-4bd9-83ad-96120d8d51b2",
   "metadata": {},
   "outputs": [
    {
     "data": {
      "text/plain": [
       "780"
      ]
     },
     "execution_count": 8,
     "metadata": {},
     "output_type": "execute_result"
    }
   ],
   "source": [
    "IF = 780\n",
    "IF"
   ]
  },
  {
   "cell_type": "code",
   "execution_count": 9,
   "id": "7a37f72e-5d7d-47cf-8bfe-48eb0c81073b",
   "metadata": {},
   "outputs": [
    {
     "data": {
      "text/plain": [
       "5.6"
      ]
     },
     "execution_count": 9,
     "metadata": {},
     "output_type": "execute_result"
    }
   ],
   "source": [
    "DEF = 5.6\n",
    "DEF"
   ]
  },
  {
   "cell_type": "code",
   "execution_count": 10,
   "id": "37e9119b-cb02-4432-85f9-cc42ade194cb",
   "metadata": {},
   "outputs": [
    {
     "ename": "SyntaxError",
     "evalue": "invalid syntax (1075677671.py, line 1)",
     "output_type": "error",
     "traceback": [
      "\u001b[1;36m  Cell \u001b[1;32mIn[10], line 1\u001b[1;36m\u001b[0m\n\u001b[1;33m    def = 7\u001b[0m\n\u001b[1;37m        ^\u001b[0m\n\u001b[1;31mSyntaxError\u001b[0m\u001b[1;31m:\u001b[0m invalid syntax\n"
     ]
    }
   ],
   "source": [
    "def = 7\n",
    "def"
   ]
  },
  {
   "cell_type": "code",
   "execution_count": 11,
   "id": "821d9b48-ee75-4712-af94-f1a110882e20",
   "metadata": {},
   "outputs": [
    {
     "data": {
      "text/plain": [
       "['False',\n",
       " 'None',\n",
       " 'True',\n",
       " 'and',\n",
       " 'as',\n",
       " 'assert',\n",
       " 'async',\n",
       " 'await',\n",
       " 'break',\n",
       " 'class',\n",
       " 'continue',\n",
       " 'def',\n",
       " 'del',\n",
       " 'elif',\n",
       " 'else',\n",
       " 'except',\n",
       " 'finally',\n",
       " 'for',\n",
       " 'from',\n",
       " 'global',\n",
       " 'if',\n",
       " 'import',\n",
       " 'in',\n",
       " 'is',\n",
       " 'lambda',\n",
       " 'nonlocal',\n",
       " 'not',\n",
       " 'or',\n",
       " 'pass',\n",
       " 'raise',\n",
       " 'return',\n",
       " 'try',\n",
       " 'while',\n",
       " 'with',\n",
       " 'yield']"
      ]
     },
     "execution_count": 11,
     "metadata": {},
     "output_type": "execute_result"
    }
   ],
   "source": [
    "import keyword\n",
    "keyword.kwlist"
   ]
  },
  {
   "cell_type": "code",
   "execution_count": 12,
   "id": "c79bcc17-7e26-46eb-8536-76dd0ba34f7d",
   "metadata": {},
   "outputs": [
    {
     "data": {
      "text/plain": [
       "35"
      ]
     },
     "execution_count": 12,
     "metadata": {},
     "output_type": "execute_result"
    }
   ],
   "source": [
    "len(keyword.kwlist)"
   ]
  },
  {
   "cell_type": "code",
   "execution_count": 13,
   "id": "07c9f4ca-9e3f-40ba-aec1-d6e729c49a76",
   "metadata": {},
   "outputs": [
    {
     "ename": "SyntaxError",
     "evalue": "invalid syntax (1973013949.py, line 4)",
     "output_type": "error",
     "traceback": [
      "\u001b[1;36m  Cell \u001b[1;32mIn[13], line 4\u001b[1;36m\u001b[0m\n\u001b[1;33m    for = 50\u001b[0m\n\u001b[1;37m        ^\u001b[0m\n\u001b[1;31mSyntaxError\u001b[0m\u001b[1;31m:\u001b[0m invalid syntax\n"
     ]
    }
   ],
   "source": [
    " #<4> Keywords can not be assigned as identifier\n",
    "#if = 10   # if is keyword\n",
    "#DEF = 20  # def is keyword\n",
    "for = 50\n",
    "#DEF\n",
    "#if\n",
    "for"
   ]
  },
  {
   "cell_type": "code",
   "execution_count": 14,
   "id": "f3a6fc27-69f5-4d06-a4dc-7ec9ea0b0f38",
   "metadata": {},
   "outputs": [
    {
     "data": {
      "text/plain": [
       "58"
      ]
     },
     "execution_count": 14,
     "metadata": {},
     "output_type": "execute_result"
    }
   ],
   "source": [
    "FOR = 58\n",
    "FOR"
   ]
  },
  {
   "cell_type": "code",
   "execution_count": 15,
   "id": "6b793a34-5b14-4214-aae4-440e2f4d36ab",
   "metadata": {},
   "outputs": [
    {
     "ename": "SyntaxError",
     "evalue": "invalid syntax (2010559268.py, line 1)",
     "output_type": "error",
     "traceback": [
      "\u001b[1;36m  Cell \u001b[1;32mIn[15], line 1\u001b[1;36m\u001b[0m\n\u001b[1;33m    def = 30\u001b[0m\n\u001b[1;37m        ^\u001b[0m\n\u001b[1;31mSyntaxError\u001b[0m\u001b[1;31m:\u001b[0m invalid syntax\n"
     ]
    }
   ],
   "source": [
    "def = 30\n",
    "def"
   ]
  },
  {
   "cell_type": "code",
   "execution_count": 16,
   "id": "3624bd17-4161-465a-96ff-8c7ccb945ae0",
   "metadata": {},
   "outputs": [
    {
     "data": {
      "text/plain": [
       "20"
      ]
     },
     "execution_count": 16,
     "metadata": {},
     "output_type": "execute_result"
    }
   ],
   "source": [
    "_abc_def_gef = 20\n",
    "_abc_def_gef"
   ]
  },
  {
   "cell_type": "code",
   "execution_count": 18,
   "id": "1ba634ac-6e47-4894-9a89-77765961c2ab",
   "metadata": {},
   "outputs": [
    {
     "data": {
      "text/plain": [
       "80"
      ]
     },
     "execution_count": 18,
     "metadata": {},
     "output_type": "execute_result"
    }
   ],
   "source": [
    "x_train = 80\n",
    "x_train"
   ]
  },
  {
   "cell_type": "code",
   "execution_count": 19,
   "id": "fe2769ac-c7a7-484d-83f0-cfe2222e291a",
   "metadata": {},
   "outputs": [
    {
     "name": "stdout",
     "output_type": "stream",
     "text": [
      "hello\n"
     ]
    }
   ],
   "source": [
    "print('hello')"
   ]
  },
  {
   "cell_type": "code",
   "execution_count": 20,
   "id": "a7884274-8a35-4a6b-ad71-2c1fe2af0256",
   "metadata": {},
   "outputs": [
    {
     "data": {
      "text/plain": [
       "'hello'"
      ]
     },
     "execution_count": 20,
     "metadata": {},
     "output_type": "execute_result"
    }
   ],
   "source": [
    "'hello' ##"
   ]
  },
  {
   "cell_type": "code",
   "execution_count": 21,
   "id": "b506ca87-1351-4c9b-bdca-fd9f8e53082c",
   "metadata": {},
   "outputs": [
    {
     "data": {
      "text/plain": [
       "['False',\n",
       " 'None',\n",
       " 'True',\n",
       " 'and',\n",
       " 'as',\n",
       " 'assert',\n",
       " 'async',\n",
       " 'await',\n",
       " 'break',\n",
       " 'class',\n",
       " 'continue',\n",
       " 'def',\n",
       " 'del',\n",
       " 'elif',\n",
       " 'else',\n",
       " 'except',\n",
       " 'finally',\n",
       " 'for',\n",
       " 'from',\n",
       " 'global',\n",
       " 'if',\n",
       " 'import',\n",
       " 'in',\n",
       " 'is',\n",
       " 'lambda',\n",
       " 'nonlocal',\n",
       " 'not',\n",
       " 'or',\n",
       " 'pass',\n",
       " 'raise',\n",
       " 'return',\n",
       " 'try',\n",
       " 'while',\n",
       " 'with',\n",
       " 'yield']"
      ]
     },
     "execution_count": 21,
     "metadata": {},
     "output_type": "execute_result"
    }
   ],
   "source": [
    "import keyword\n",
    "len(keyword.kwlist)\n",
    "keyword.kwlist"
   ]
  },
  {
   "cell_type": "code",
   "execution_count": 22,
   "id": "a1a094de-0e4a-49c8-bacd-4c92bce5245e",
   "metadata": {},
   "outputs": [
    {
     "data": {
      "text/plain": [
       "True"
      ]
     },
     "execution_count": 22,
     "metadata": {},
     "output_type": "execute_result"
    }
   ],
   "source": [
    "#a = true # hash is usd for comment\n",
    "a = True\n",
    "a"
   ]
  },
  {
   "cell_type": "code",
   "execution_count": 23,
   "id": "49d09fa2-b20a-4278-99c7-0661691b9f3a",
   "metadata": {},
   "outputs": [
    {
     "ename": "NameError",
     "evalue": "name 'true' is not defined",
     "output_type": "error",
     "traceback": [
      "\u001b[1;31m---------------------------------------------------------------------------\u001b[0m",
      "\u001b[1;31mNameError\u001b[0m                                 Traceback (most recent call last)",
      "Cell \u001b[1;32mIn[23], line 1\u001b[0m\n\u001b[1;32m----> 1\u001b[0m a1 \u001b[38;5;241m=\u001b[39m true\n\u001b[0;32m      2\u001b[0m a1\n",
      "\u001b[1;31mNameError\u001b[0m: name 'true' is not defined"
     ]
    }
   ],
   "source": [
    "a1 = true\n",
    "a1"
   ]
  },
  {
   "cell_type": "code",
   "execution_count": 25,
   "id": "0bdd37e2-89b8-408c-82f8-b9e5c5d9104b",
   "metadata": {},
   "outputs": [
    {
     "ename": "SyntaxError",
     "evalue": "cannot assign to True (3945973857.py, line 1)",
     "output_type": "error",
     "traceback": [
      "\u001b[1;36m  Cell \u001b[1;32mIn[25], line 1\u001b[1;36m\u001b[0m\n\u001b[1;33m    True = a\u001b[0m\n\u001b[1;37m    ^\u001b[0m\n\u001b[1;31mSyntaxError\u001b[0m\u001b[1;31m:\u001b[0m cannot assign to True\n"
     ]
    }
   ],
   "source": [
    "True = a"
   ]
  },
  {
   "cell_type": "code",
   "execution_count": 27,
   "id": "96f0e3fb-a637-4516-8b6b-a225aa3c4c5a",
   "metadata": {},
   "outputs": [],
   "source": [
    "b = None\n",
    "# b = none\n",
    "b"
   ]
  },
  {
   "cell_type": "code",
   "execution_count": 28,
   "id": "facccfcf-e584-46fb-a837-8f281fc3a5b1",
   "metadata": {},
   "outputs": [
    {
     "ename": "NameError",
     "evalue": "name 'none' is not defined",
     "output_type": "error",
     "traceback": [
      "\u001b[1;31m---------------------------------------------------------------------------\u001b[0m",
      "\u001b[1;31mNameError\u001b[0m                                 Traceback (most recent call last)",
      "Cell \u001b[1;32mIn[28], line 1\u001b[0m\n\u001b[1;32m----> 1\u001b[0m b \u001b[38;5;241m=\u001b[39m none\n\u001b[0;32m      2\u001b[0m b\n",
      "\u001b[1;31mNameError\u001b[0m: name 'none' is not defined"
     ]
    }
   ],
   "source": [
    "b = none\n",
    "b"
   ]
  },
  {
   "cell_type": "code",
   "execution_count": 29,
   "id": "440f692d-6da1-465f-a006-2de68fb7d56e",
   "metadata": {},
   "outputs": [
    {
     "ename": "NameError",
     "evalue": "name 'none' is not defined",
     "output_type": "error",
     "traceback": [
      "\u001b[1;31m---------------------------------------------------------------------------\u001b[0m",
      "\u001b[1;31mNameError\u001b[0m                                 Traceback (most recent call last)",
      "Cell \u001b[1;32mIn[29], line 1\u001b[0m\n\u001b[1;32m----> 1\u001b[0m c \u001b[38;5;241m=\u001b[39m none \u001b[38;5;66;03m# c = false\u001b[39;00m\n\u001b[0;32m      2\u001b[0m c\n",
      "\u001b[1;31mNameError\u001b[0m: name 'none' is not defined"
     ]
    }
   ],
   "source": [
    "c = none # c = false\n",
    "c"
   ]
  },
  {
   "cell_type": "code",
   "execution_count": 30,
   "id": "f0ea0efa-201e-4ce9-af38-b6cfa77c8005",
   "metadata": {},
   "outputs": [
    {
     "ename": "NameError",
     "evalue": "name 'true' is not defined",
     "output_type": "error",
     "traceback": [
      "\u001b[1;31m---------------------------------------------------------------------------\u001b[0m",
      "\u001b[1;31mNameError\u001b[0m                                 Traceback (most recent call last)",
      "Cell \u001b[1;32mIn[30], line 1\u001b[0m\n\u001b[1;32m----> 1\u001b[0m true\u001b[38;5;241m+\u001b[39mtrue\n",
      "\u001b[1;31mNameError\u001b[0m: name 'true' is not defined"
     ]
    }
   ],
   "source": [
    "true+true"
   ]
  },
  {
   "cell_type": "code",
   "execution_count": 31,
   "id": "c54c118f-2d32-4ac1-b9a6-a0449d5406cd",
   "metadata": {},
   "outputs": [
    {
     "data": {
      "text/plain": [
       "2"
      ]
     },
     "execution_count": 31,
     "metadata": {},
     "output_type": "execute_result"
    }
   ],
   "source": [
    "True+True"
   ]
  },
  {
   "cell_type": "code",
   "execution_count": 32,
   "id": "87a6bc4b-a8bf-4673-a592-334abce3a3db",
   "metadata": {},
   "outputs": [
    {
     "data": {
      "text/plain": [
       "1"
      ]
     },
     "execution_count": 32,
     "metadata": {},
     "output_type": "execute_result"
    }
   ],
   "source": [
    "True*True"
   ]
  },
  {
   "cell_type": "code",
   "execution_count": 33,
   "id": "8930ea6c-818a-4b4f-b1f0-f211fb0a1a80",
   "metadata": {},
   "outputs": [
    {
     "data": {
      "text/plain": [
       "1.0"
      ]
     },
     "execution_count": 33,
     "metadata": {},
     "output_type": "execute_result"
    }
   ],
   "source": [
    "True/True"
   ]
  },
  {
   "cell_type": "code",
   "execution_count": 34,
   "id": "4ff22e01-ed24-4870-b864-5bd78e879134",
   "metadata": {},
   "outputs": [
    {
     "data": {
      "text/plain": [
       "1"
      ]
     },
     "execution_count": 34,
     "metadata": {},
     "output_type": "execute_result"
    }
   ],
   "source": [
    "True// True"
   ]
  },
  {
   "cell_type": "code",
   "execution_count": 36,
   "id": "ed975c21-9792-4648-ac43-ce86becae4e0",
   "metadata": {},
   "outputs": [
    {
     "data": {
      "text/plain": [
       "0.0"
      ]
     },
     "execution_count": 36,
     "metadata": {},
     "output_type": "execute_result"
    }
   ],
   "source": [
    "False/True"
   ]
  },
  {
   "cell_type": "code",
   "execution_count": 38,
   "id": "082146ab-b8ac-4829-8ee0-625b15f7a269",
   "metadata": {},
   "outputs": [
    {
     "ename": "ZeroDivisionError",
     "evalue": "division by zero",
     "output_type": "error",
     "traceback": [
      "\u001b[1;31m---------------------------------------------------------------------------\u001b[0m",
      "\u001b[1;31mZeroDivisionError\u001b[0m                         Traceback (most recent call last)",
      "Cell \u001b[1;32mIn[38], line 1\u001b[0m\n\u001b[1;32m----> 1\u001b[0m \u001b[38;5;28;01mTrue\u001b[39;00m\u001b[38;5;241m/\u001b[39m\u001b[38;5;28;01mFalse\u001b[39;00m\n",
      "\u001b[1;31mZeroDivisionError\u001b[0m: division by zero"
     ]
    }
   ],
   "source": [
    "True/False"
   ]
  },
  {
   "cell_type": "code",
   "execution_count": 39,
   "id": "ad232190-f729-4447-a639-2245e77b3906",
   "metadata": {},
   "outputs": [
    {
     "data": {
      "text/plain": [
       "(3, 14)"
      ]
     },
     "execution_count": 39,
     "metadata": {},
     "output_type": "execute_result"
    }
   ],
   "source": [
    "pi = 3,14\n",
    "pi"
   ]
  },
  {
   "cell_type": "code",
   "execution_count": 40,
   "id": "97a60055-d260-4f5a-af58-d957a55404ef",
   "metadata": {},
   "outputs": [
    {
     "data": {
      "text/plain": [
       "3.17"
      ]
     },
     "execution_count": 40,
     "metadata": {},
     "output_type": "execute_result"
    }
   ],
   "source": [
    "pi = 3.17\n",
    "pi"
   ]
  },
  {
   "cell_type": "code",
   "execution_count": 41,
   "id": "c2a96fd9-26e5-4abf-a793-a47aea386254",
   "metadata": {},
   "outputs": [
    {
     "data": {
      "text/plain": [
       "['False',\n",
       " 'None',\n",
       " 'True',\n",
       " 'and',\n",
       " 'as',\n",
       " 'assert',\n",
       " 'async',\n",
       " 'await',\n",
       " 'break',\n",
       " 'class',\n",
       " 'continue',\n",
       " 'def',\n",
       " 'del',\n",
       " 'elif',\n",
       " 'else',\n",
       " 'except',\n",
       " 'finally',\n",
       " 'for',\n",
       " 'from',\n",
       " 'global',\n",
       " 'if',\n",
       " 'import',\n",
       " 'in',\n",
       " 'is',\n",
       " 'lambda',\n",
       " 'nonlocal',\n",
       " 'not',\n",
       " 'or',\n",
       " 'pass',\n",
       " 'raise',\n",
       " 'return',\n",
       " 'try',\n",
       " 'while',\n",
       " 'with',\n",
       " 'yield']"
      ]
     },
     "execution_count": 41,
     "metadata": {},
     "output_type": "execute_result"
    }
   ],
   "source": [
    "import keyword\n",
    "keyword.kwlist"
   ]
  },
  {
   "cell_type": "code",
   "execution_count": 42,
   "id": "8bd0d4e6-6fe8-4a02-837f-ac45b9b87200",
   "metadata": {},
   "outputs": [
    {
     "data": {
      "text/plain": [
       "['False',\n",
       " 'None',\n",
       " 'True',\n",
       " 'and',\n",
       " 'as',\n",
       " 'assert',\n",
       " 'async',\n",
       " 'await',\n",
       " 'break',\n",
       " 'class',\n",
       " 'continue',\n",
       " 'def',\n",
       " 'del',\n",
       " 'elif',\n",
       " 'else',\n",
       " 'except',\n",
       " 'finally',\n",
       " 'for',\n",
       " 'from',\n",
       " 'global',\n",
       " 'if',\n",
       " 'import',\n",
       " 'in',\n",
       " 'is',\n",
       " 'lambda',\n",
       " 'nonlocal',\n",
       " 'not',\n",
       " 'or',\n",
       " 'pass',\n",
       " 'raise',\n",
       " 'return',\n",
       " 'try',\n",
       " 'while',\n",
       " 'with',\n",
       " 'yield']"
      ]
     },
     "execution_count": 42,
     "metadata": {},
     "output_type": "execute_result"
    }
   ],
   "source": [
    "kw = keyword.kwlist\n",
    "kw"
   ]
  },
  {
   "cell_type": "code",
   "execution_count": 44,
   "id": "418b4524-9c31-4d92-898b-5551d9b965b1",
   "metadata": {},
   "outputs": [
    {
     "data": {
      "text/html": [
       "<div>\n",
       "<style scoped>\n",
       "    .dataframe tbody tr th:only-of-type {\n",
       "        vertical-align: middle;\n",
       "    }\n",
       "\n",
       "    .dataframe tbody tr th {\n",
       "        vertical-align: top;\n",
       "    }\n",
       "\n",
       "    .dataframe thead th {\n",
       "        text-align: right;\n",
       "    }\n",
       "</style>\n",
       "<table border=\"1\" class=\"dataframe\">\n",
       "  <thead>\n",
       "    <tr style=\"text-align: right;\">\n",
       "      <th></th>\n",
       "      <th>0</th>\n",
       "    </tr>\n",
       "  </thead>\n",
       "  <tbody>\n",
       "    <tr>\n",
       "      <th>0</th>\n",
       "      <td>False</td>\n",
       "    </tr>\n",
       "    <tr>\n",
       "      <th>1</th>\n",
       "      <td>None</td>\n",
       "    </tr>\n",
       "    <tr>\n",
       "      <th>2</th>\n",
       "      <td>True</td>\n",
       "    </tr>\n",
       "    <tr>\n",
       "      <th>3</th>\n",
       "      <td>and</td>\n",
       "    </tr>\n",
       "    <tr>\n",
       "      <th>4</th>\n",
       "      <td>as</td>\n",
       "    </tr>\n",
       "    <tr>\n",
       "      <th>5</th>\n",
       "      <td>assert</td>\n",
       "    </tr>\n",
       "    <tr>\n",
       "      <th>6</th>\n",
       "      <td>async</td>\n",
       "    </tr>\n",
       "    <tr>\n",
       "      <th>7</th>\n",
       "      <td>await</td>\n",
       "    </tr>\n",
       "    <tr>\n",
       "      <th>8</th>\n",
       "      <td>break</td>\n",
       "    </tr>\n",
       "    <tr>\n",
       "      <th>9</th>\n",
       "      <td>class</td>\n",
       "    </tr>\n",
       "    <tr>\n",
       "      <th>10</th>\n",
       "      <td>continue</td>\n",
       "    </tr>\n",
       "    <tr>\n",
       "      <th>11</th>\n",
       "      <td>def</td>\n",
       "    </tr>\n",
       "    <tr>\n",
       "      <th>12</th>\n",
       "      <td>del</td>\n",
       "    </tr>\n",
       "    <tr>\n",
       "      <th>13</th>\n",
       "      <td>elif</td>\n",
       "    </tr>\n",
       "    <tr>\n",
       "      <th>14</th>\n",
       "      <td>else</td>\n",
       "    </tr>\n",
       "    <tr>\n",
       "      <th>15</th>\n",
       "      <td>except</td>\n",
       "    </tr>\n",
       "    <tr>\n",
       "      <th>16</th>\n",
       "      <td>finally</td>\n",
       "    </tr>\n",
       "    <tr>\n",
       "      <th>17</th>\n",
       "      <td>for</td>\n",
       "    </tr>\n",
       "    <tr>\n",
       "      <th>18</th>\n",
       "      <td>from</td>\n",
       "    </tr>\n",
       "    <tr>\n",
       "      <th>19</th>\n",
       "      <td>global</td>\n",
       "    </tr>\n",
       "    <tr>\n",
       "      <th>20</th>\n",
       "      <td>if</td>\n",
       "    </tr>\n",
       "    <tr>\n",
       "      <th>21</th>\n",
       "      <td>import</td>\n",
       "    </tr>\n",
       "    <tr>\n",
       "      <th>22</th>\n",
       "      <td>in</td>\n",
       "    </tr>\n",
       "    <tr>\n",
       "      <th>23</th>\n",
       "      <td>is</td>\n",
       "    </tr>\n",
       "    <tr>\n",
       "      <th>24</th>\n",
       "      <td>lambda</td>\n",
       "    </tr>\n",
       "    <tr>\n",
       "      <th>25</th>\n",
       "      <td>nonlocal</td>\n",
       "    </tr>\n",
       "    <tr>\n",
       "      <th>26</th>\n",
       "      <td>not</td>\n",
       "    </tr>\n",
       "    <tr>\n",
       "      <th>27</th>\n",
       "      <td>or</td>\n",
       "    </tr>\n",
       "    <tr>\n",
       "      <th>28</th>\n",
       "      <td>pass</td>\n",
       "    </tr>\n",
       "    <tr>\n",
       "      <th>29</th>\n",
       "      <td>raise</td>\n",
       "    </tr>\n",
       "    <tr>\n",
       "      <th>30</th>\n",
       "      <td>return</td>\n",
       "    </tr>\n",
       "    <tr>\n",
       "      <th>31</th>\n",
       "      <td>try</td>\n",
       "    </tr>\n",
       "    <tr>\n",
       "      <th>32</th>\n",
       "      <td>while</td>\n",
       "    </tr>\n",
       "    <tr>\n",
       "      <th>33</th>\n",
       "      <td>with</td>\n",
       "    </tr>\n",
       "    <tr>\n",
       "      <th>34</th>\n",
       "      <td>yield</td>\n",
       "    </tr>\n",
       "  </tbody>\n",
       "</table>\n",
       "</div>"
      ],
      "text/plain": [
       "           0\n",
       "0      False\n",
       "1       None\n",
       "2       True\n",
       "3        and\n",
       "4         as\n",
       "5     assert\n",
       "6      async\n",
       "7      await\n",
       "8      break\n",
       "9      class\n",
       "10  continue\n",
       "11       def\n",
       "12       del\n",
       "13      elif\n",
       "14      else\n",
       "15    except\n",
       "16   finally\n",
       "17       for\n",
       "18      from\n",
       "19    global\n",
       "20        if\n",
       "21    import\n",
       "22        in\n",
       "23        is\n",
       "24    lambda\n",
       "25  nonlocal\n",
       "26       not\n",
       "27        or\n",
       "28      pass\n",
       "29     raise\n",
       "30    return\n",
       "31       try\n",
       "32     while\n",
       "33      with\n",
       "34     yield"
      ]
     },
     "execution_count": 44,
     "metadata": {},
     "output_type": "execute_result"
    }
   ],
   "source": [
    "import pandas as pd\n",
    "df = pd.DataFrame(keyword.kwlist)\n",
    "df"
   ]
  },
  {
   "cell_type": "code",
   "execution_count": 45,
   "id": "75e91641-d166-4b14-82d9-975318a4738c",
   "metadata": {},
   "outputs": [
    {
     "data": {
      "text/plain": [
       "140713920703192"
      ]
     },
     "execution_count": 45,
     "metadata": {},
     "output_type": "execute_result"
    }
   ],
   "source": [
    "a = 10\n",
    "id(a)"
   ]
  },
  {
   "cell_type": "code",
   "execution_count": 46,
   "id": "ec0d6878-edba-49ae-85c9-876f1a5f0037",
   "metadata": {},
   "outputs": [
    {
     "data": {
      "text/plain": [
       "140713920703192"
      ]
     },
     "execution_count": 46,
     "metadata": {},
     "output_type": "execute_result"
    }
   ],
   "source": [
    "b=10\n",
    "id(b)"
   ]
  },
  {
   "cell_type": "code",
   "execution_count": 47,
   "id": "75c0c551-a546-42e8-a9ff-81d3429544b7",
   "metadata": {},
   "outputs": [
    {
     "data": {
      "text/plain": [
       "140713920703192"
      ]
     },
     "execution_count": 47,
     "metadata": {},
     "output_type": "execute_result"
    }
   ],
   "source": [
    "id(a)"
   ]
  },
  {
   "cell_type": "code",
   "execution_count": 48,
   "id": "fc58ea48-7e54-43ab-8256-8ebd3bc84035",
   "metadata": {},
   "outputs": [
    {
     "data": {
      "text/plain": [
       "140713920703192"
      ]
     },
     "execution_count": 48,
     "metadata": {},
     "output_type": "execute_result"
    }
   ],
   "source": [
    "b = 10\n",
    "id(b)"
   ]
  },
  {
   "cell_type": "code",
   "execution_count": 49,
   "id": "4d6b17bb-8879-4a89-bc65-9a86973fcde8",
   "metadata": {},
   "outputs": [
    {
     "data": {
      "text/plain": [
       "140713920703512"
      ]
     },
     "execution_count": 49,
     "metadata": {},
     "output_type": "execute_result"
    }
   ],
   "source": [
    "c = 20\n",
    "id(c)"
   ]
  },
  {
   "cell_type": "code",
   "execution_count": 50,
   "id": "115b915c-920f-4dbb-b819-4d0b69cb9e78",
   "metadata": {},
   "outputs": [
    {
     "data": {
      "text/plain": [
       "140713920703192"
      ]
     },
     "execution_count": 50,
     "metadata": {},
     "output_type": "execute_result"
    }
   ],
   "source": [
    "a = 10\n",
    "b = 10\n",
    "id(a)"
   ]
  },
  {
   "cell_type": "code",
   "execution_count": 51,
   "id": "738fa9ab-084a-4b46-ba6e-84851353bc71",
   "metadata": {},
   "outputs": [
    {
     "data": {
      "text/plain": [
       "140713920703192"
      ]
     },
     "execution_count": 51,
     "metadata": {},
     "output_type": "execute_result"
    }
   ],
   "source": [
    "a = 10\n",
    "a\n",
    "id(a)"
   ]
  },
  {
   "cell_type": "code",
   "execution_count": 52,
   "id": "80a33093-d678-4953-aeee-8c13034e2bc3",
   "metadata": {},
   "outputs": [
    {
     "data": {
      "text/plain": [
       "1111"
      ]
     },
     "execution_count": 52,
     "metadata": {},
     "output_type": "execute_result"
    }
   ],
   "source": [
    "a = 1111\n",
    "a"
   ]
  },
  {
   "cell_type": "code",
   "execution_count": 53,
   "id": "4e8e5996-8fb4-4b73-95d4-66edbc1c0439",
   "metadata": {},
   "outputs": [
    {
     "data": {
      "text/plain": [
       "int"
      ]
     },
     "execution_count": 53,
     "metadata": {},
     "output_type": "execute_result"
    }
   ],
   "source": [
    "type(a)"
   ]
  },
  {
   "cell_type": "code",
   "execution_count": 54,
   "id": "41166253-7b47-4f31-9910-bcefd4fd69c5",
   "metadata": {},
   "outputs": [
    {
     "data": {
      "text/plain": [
       "1778761935312"
      ]
     },
     "execution_count": 54,
     "metadata": {},
     "output_type": "execute_result"
    }
   ],
   "source": [
    "id(a)"
   ]
  },
  {
   "cell_type": "code",
   "execution_count": 55,
   "id": "02d571f1-e805-4ebc-a675-1a050c3413e1",
   "metadata": {},
   "outputs": [
    {
     "data": {
      "text/plain": [
       "'0b1111'"
      ]
     },
     "execution_count": 55,
     "metadata": {},
     "output_type": "execute_result"
    }
   ],
   "source": [
    "bin(15)"
   ]
  },
  {
   "cell_type": "code",
   "execution_count": 56,
   "id": "26fa0753-878b-49f3-8042-73bbfff4c6bd",
   "metadata": {},
   "outputs": [
    {
     "data": {
      "text/plain": [
       "3"
      ]
     },
     "execution_count": 56,
     "metadata": {},
     "output_type": "execute_result"
    }
   ],
   "source": [
    "b_1 =0b11\n",
    "b_1"
   ]
  },
  {
   "cell_type": "code",
   "execution_count": 57,
   "id": "8228912f-e136-4fe4-820c-ba37a5bc40d8",
   "metadata": {},
   "outputs": [
    {
     "data": {
      "text/plain": [
       "'0b11'"
      ]
     },
     "execution_count": 57,
     "metadata": {},
     "output_type": "execute_result"
    }
   ],
   "source": [
    "bin(b_1)"
   ]
  },
  {
   "cell_type": "code",
   "execution_count": 58,
   "id": "99b29f3b-c501-4e09-902c-e78a936a783e",
   "metadata": {},
   "outputs": [
    {
     "data": {
      "text/plain": [
       "1"
      ]
     },
     "execution_count": 58,
     "metadata": {},
     "output_type": "execute_result"
    }
   ],
   "source": [
    "b_ =0b1\n",
    "b_"
   ]
  },
  {
   "cell_type": "code",
   "execution_count": 59,
   "id": "f418161a-6aaf-4c75-bce1-4c05e1a522ee",
   "metadata": {},
   "outputs": [
    {
     "ename": "SyntaxError",
     "evalue": "invalid digit '2' in binary literal (3245495910.py, line 1)",
     "output_type": "error",
     "traceback": [
      "\u001b[1;36m  Cell \u001b[1;32mIn[59], line 1\u001b[1;36m\u001b[0m\n\u001b[1;33m    b2 = 0b22\u001b[0m\n\u001b[1;37m           ^\u001b[0m\n\u001b[1;31mSyntaxError\u001b[0m\u001b[1;31m:\u001b[0m invalid digit '2' in binary literal\n"
     ]
    }
   ],
   "source": [
    "b2 = 0b22\n",
    "b2"
   ]
  },
  {
   "cell_type": "code",
   "execution_count": 60,
   "id": "2ce1ed0d-4632-4267-9fd5-0f26abe9f9dc",
   "metadata": {},
   "outputs": [
    {
     "data": {
      "text/plain": [
       "111"
      ]
     },
     "execution_count": 60,
     "metadata": {},
     "output_type": "execute_result"
    }
   ],
   "source": [
    "b1 = 111\n",
    "b1"
   ]
  },
  {
   "cell_type": "code",
   "execution_count": 61,
   "id": "b0b39b22-4ec0-461a-b4d6-4590e64a791f",
   "metadata": {},
   "outputs": [
    {
     "data": {
      "text/plain": [
       "7"
      ]
     },
     "execution_count": 61,
     "metadata": {},
     "output_type": "execute_result"
    }
   ],
   "source": [
    "c = 0b111\n",
    "c"
   ]
  },
  {
   "cell_type": "code",
   "execution_count": 62,
   "id": "81ded146-5170-48ec-8a2c-1a8a10faa5f0",
   "metadata": {},
   "outputs": [
    {
     "ename": "SyntaxError",
     "evalue": "invalid digit '2' in binary literal (707794346.py, line 1)",
     "output_type": "error",
     "traceback": [
      "\u001b[1;36m  Cell \u001b[1;32mIn[62], line 1\u001b[1;36m\u001b[0m\n\u001b[1;33m    b3 = 0b2\u001b[0m\n\u001b[1;37m           ^\u001b[0m\n\u001b[1;31mSyntaxError\u001b[0m\u001b[1;31m:\u001b[0m invalid digit '2' in binary literal\n"
     ]
    }
   ],
   "source": [
    "b3 = 0b2\n",
    "b3"
   ]
  },
  {
   "cell_type": "code",
   "execution_count": 63,
   "id": "e31da3f1-2f32-403a-9957-3c3a0cde4449",
   "metadata": {},
   "outputs": [
    {
     "ename": "ZeroDivisionError",
     "evalue": "division by zero",
     "output_type": "error",
     "traceback": [
      "\u001b[1;31m---------------------------------------------------------------------------\u001b[0m",
      "\u001b[1;31mZeroDivisionError\u001b[0m                         Traceback (most recent call last)",
      "Cell \u001b[1;32mIn[63], line 1\u001b[0m\n\u001b[1;32m----> 1\u001b[0m \u001b[38;5;28;01mTrue\u001b[39;00m\u001b[38;5;241m/\u001b[39m\u001b[38;5;28;01mFalse\u001b[39;00m\n",
      "\u001b[1;31mZeroDivisionError\u001b[0m: division by zero"
     ]
    }
   ],
   "source": [
    "True/False"
   ]
  },
  {
   "cell_type": "code",
   "execution_count": 64,
   "id": "5e307a67-ec0a-4c61-b179-1106e048216d",
   "metadata": {},
   "outputs": [
    {
     "data": {
      "text/plain": [
       "2"
      ]
     },
     "execution_count": 64,
     "metadata": {},
     "output_type": "execute_result"
    }
   ],
   "source": [
    "b = 0b10\n",
    "b"
   ]
  },
  {
   "cell_type": "code",
   "execution_count": 1,
   "id": "f887410d-b347-44f8-b589-52867810aa08",
   "metadata": {},
   "outputs": [
    {
     "data": {
      "text/plain": [
       "4"
      ]
     },
     "execution_count": 1,
     "metadata": {},
     "output_type": "execute_result"
    }
   ],
   "source": [
    "c = 0b100\n",
    "c"
   ]
  },
  {
   "cell_type": "code",
   "execution_count": 2,
   "id": "988c47b2-82ca-47ba-a646-7652462f041c",
   "metadata": {},
   "outputs": [
    {
     "data": {
      "text/plain": [
       "9"
      ]
     },
     "execution_count": 2,
     "metadata": {},
     "output_type": "execute_result"
    }
   ],
   "source": [
    "#3. Octal form(Base 8)\n",
    "#a = 111 # Value is declared\n",
    "b1 = 0o11 # Now pvm covert value to octal value\n",
    "b1\n",
    "#a"
   ]
  },
  {
   "cell_type": "code",
   "execution_count": 3,
   "id": "9a68e63c-d641-42c6-93ef-8f023969bbee",
   "metadata": {},
   "outputs": [
    {
     "ename": "SyntaxError",
     "evalue": "invalid digit '2' in binary literal (736842652.py, line 1)",
     "output_type": "error",
     "traceback": [
      "\u001b[1;36m  Cell \u001b[1;32mIn[3], line 1\u001b[1;36m\u001b[0m\n\u001b[1;33m    i = 0b22\u001b[0m\n\u001b[1;37m          ^\u001b[0m\n\u001b[1;31mSyntaxError\u001b[0m\u001b[1;31m:\u001b[0m invalid digit '2' in binary literal\n"
     ]
    }
   ],
   "source": [
    "i = 0b22"
   ]
  },
  {
   "cell_type": "code",
   "execution_count": 4,
   "id": "c9afe150-ae4f-48f6-ac60-5b6747ed965f",
   "metadata": {},
   "outputs": [
    {
     "data": {
      "text/plain": [
       "18"
      ]
     },
     "execution_count": 4,
     "metadata": {},
     "output_type": "execute_result"
    }
   ],
   "source": [
    "i1 = 0o22\n",
    "i1"
   ]
  },
  {
   "cell_type": "code",
   "execution_count": 5,
   "id": "038e5c6c-6441-4258-9737-c8b8389d4973",
   "metadata": {},
   "outputs": [
    {
     "data": {
      "text/plain": [
       "23"
      ]
     },
     "execution_count": 5,
     "metadata": {},
     "output_type": "execute_result"
    }
   ],
   "source": [
    "b2 = 0o27\n",
    "b2"
   ]
  },
  {
   "cell_type": "code",
   "execution_count": 6,
   "id": "7ed6889d-5b70-4a94-b91d-64cfd1de8694",
   "metadata": {},
   "outputs": [
    {
     "data": {
      "text/plain": [
       "64"
      ]
     },
     "execution_count": 6,
     "metadata": {},
     "output_type": "execute_result"
    }
   ],
   "source": [
    "# final summary of INTEGRAL DATATYPES \n",
    "a = 10\n",
    "b = 0b10\n",
    "c = 0o100\n",
    "a\n",
    "b\n",
    "c"
   ]
  },
  {
   "cell_type": "code",
   "execution_count": 7,
   "id": "3725f8e2-9a06-41f7-a55d-f386a8863874",
   "metadata": {},
   "outputs": [
    {
     "data": {
      "text/plain": [
       "27"
      ]
     },
     "execution_count": 7,
     "metadata": {},
     "output_type": "execute_result"
    }
   ],
   "source": [
    "c1 = 0o33\n",
    "c1"
   ]
  },
  {
   "cell_type": "code",
   "execution_count": 8,
   "id": "3bf82ed2-835e-4ace-8d87-287362f56c2d",
   "metadata": {},
   "outputs": [
    {
     "data": {
      "text/plain": [
       "2"
      ]
     },
     "execution_count": 8,
     "metadata": {},
     "output_type": "execute_result"
    }
   ],
   "source": [
    "b"
   ]
  },
  {
   "cell_type": "code",
   "execution_count": 9,
   "id": "2931c847-d3ba-43b9-bc2f-2250b258ed3c",
   "metadata": {},
   "outputs": [
    {
     "data": {
      "text/plain": [
       "64"
      ]
     },
     "execution_count": 9,
     "metadata": {},
     "output_type": "execute_result"
    }
   ],
   "source": [
    "c"
   ]
  },
  {
   "cell_type": "code",
   "execution_count": 10,
   "id": "33fff7a1-dc4e-4478-8b71-3197b349caf6",
   "metadata": {},
   "outputs": [
    {
     "data": {
      "text/plain": [
       "int"
      ]
     },
     "execution_count": 10,
     "metadata": {},
     "output_type": "execute_result"
    }
   ],
   "source": [
    "A = 78\n",
    "type(A)"
   ]
  },
  {
   "cell_type": "code",
   "execution_count": 11,
   "id": "e70ad84e-0c78-4ad1-9947-50cc9fe3865f",
   "metadata": {},
   "outputs": [
    {
     "name": "stdout",
     "output_type": "stream",
     "text": [
      "67.9\n"
     ]
    }
   ],
   "source": [
    "b = 67.9\n",
    "print(b)"
   ]
  },
  {
   "cell_type": "code",
   "execution_count": 12,
   "id": "7720d15e-3d30-47df-babf-eedf0353b749",
   "metadata": {},
   "outputs": [
    {
     "data": {
      "text/plain": [
       "float"
      ]
     },
     "execution_count": 12,
     "metadata": {},
     "output_type": "execute_result"
    }
   ],
   "source": [
    "type(b)"
   ]
  },
  {
   "cell_type": "code",
   "execution_count": 13,
   "id": "f90e17bd-bfdf-4c80-ae30-c9cc411d9b56",
   "metadata": {},
   "outputs": [
    {
     "ename": "SyntaxError",
     "evalue": "invalid syntax (808406421.py, line 1)",
     "output_type": "error",
     "traceback": [
      "\u001b[1;36m  Cell \u001b[1;32mIn[13], line 1\u001b[1;36m\u001b[0m\n\u001b[1;33m    b1 = 0b1.1\u001b[0m\n\u001b[1;37m            ^\u001b[0m\n\u001b[1;31mSyntaxError\u001b[0m\u001b[1;31m:\u001b[0m invalid syntax\n"
     ]
    }
   ],
   "source": [
    "b1 = 0b1.1\n",
    "b1"
   ]
  },
  {
   "cell_type": "code",
   "execution_count": 14,
   "id": "ac963af1-d0c9-441e-8d16-c5f7b59df64f",
   "metadata": {},
   "outputs": [
    {
     "data": {
      "text/plain": [
       "float"
      ]
     },
     "execution_count": 14,
     "metadata": {},
     "output_type": "execute_result"
    }
   ],
   "source": [
    "type(b)"
   ]
  },
  {
   "cell_type": "code",
   "execution_count": 15,
   "id": "72282d30-f66a-47b0-8601-ebf9615f637d",
   "metadata": {},
   "outputs": [
    {
     "ename": "SyntaxError",
     "evalue": "invalid syntax (808406421.py, line 1)",
     "output_type": "error",
     "traceback": [
      "\u001b[1;36m  Cell \u001b[1;32mIn[15], line 1\u001b[1;36m\u001b[0m\n\u001b[1;33m    b1 = 0b1.1\u001b[0m\n\u001b[1;37m            ^\u001b[0m\n\u001b[1;31mSyntaxError\u001b[0m\u001b[1;31m:\u001b[0m invalid syntax\n"
     ]
    }
   ],
   "source": [
    "b1 = 0b1.1\n",
    "b1"
   ]
  },
  {
   "cell_type": "code",
   "execution_count": 16,
   "id": "8caaad96-61cc-4d04-8eeb-648de6ac4ad3",
   "metadata": {},
   "outputs": [
    {
     "ename": "SyntaxError",
     "evalue": "invalid syntax (308814338.py, line 1)",
     "output_type": "error",
     "traceback": [
      "\u001b[1;36m  Cell \u001b[1;32mIn[16], line 1\u001b[1;36m\u001b[0m\n\u001b[1;33m    c =  0o11.6\u001b[0m\n\u001b[1;37m             ^\u001b[0m\n\u001b[1;31mSyntaxError\u001b[0m\u001b[1;31m:\u001b[0m invalid syntax\n"
     ]
    }
   ],
   "source": [
    "c =  0o11.6\n",
    "c"
   ]
  },
  {
   "cell_type": "code",
   "execution_count": 17,
   "id": "a20490b1-e69a-462a-b194-bb7e2afeec34",
   "metadata": {},
   "outputs": [
    {
     "ename": "SyntaxError",
     "evalue": "invalid syntax (2124913177.py, line 7)",
     "output_type": "error",
     "traceback": [
      "\u001b[1;36m  Cell \u001b[1;32mIn[17], line 7\u001b[1;36m\u001b[0m\n\u001b[1;33m    d = 0o4567.67 # This is octal\u001b[0m\n\u001b[1;37m              ^\u001b[0m\n\u001b[1;31mSyntaxError\u001b[0m\u001b[1;31m:\u001b[0m invalid syntax\n"
     ]
    }
   ],
   "source": [
    "# float datatypes - \n",
    "#b2 = 0b1111.22\n",
    "#b2\n",
    "#print(type(b))\n",
    "#type(b2) \n",
    "#b\n",
    "d = 0o4567.67 # This is octal\n",
    "#e = 0o456789 # This is binary\n",
    "d\n",
    "#e\n",
    "#b"
   ]
  },
  {
   "cell_type": "code",
   "execution_count": 18,
   "id": "b19e334d-1ac7-41bb-8e5a-31cd95c5e096",
   "metadata": {},
   "outputs": [
    {
     "data": {
      "text/plain": [
       "float"
      ]
     },
     "execution_count": 18,
     "metadata": {},
     "output_type": "execute_result"
    }
   ],
   "source": [
    "f1 = 1e4\n",
    "f1\n",
    "type(f1)"
   ]
  },
  {
   "cell_type": "code",
   "execution_count": 24,
   "id": "6ef6421a-2a4b-441b-8455-8ee0d236093a",
   "metadata": {},
   "outputs": [
    {
     "data": {
      "text/plain": [
       "1000.0"
      ]
     },
     "execution_count": 24,
     "metadata": {},
     "output_type": "execute_result"
    }
   ],
   "source": [
    "f= 1e3\n",
    "\n",
    "f"
   ]
  },
  {
   "cell_type": "code",
   "execution_count": 25,
   "id": "f17a59ee-34a6-405f-984b-9b738c5e845d",
   "metadata": {},
   "outputs": [
    {
     "data": {
      "text/plain": [
       "23000.0"
      ]
     },
     "execution_count": 25,
     "metadata": {},
     "output_type": "execute_result"
    }
   ],
   "source": [
    "g1 = 23e3\n",
    "g1"
   ]
  },
  {
   "cell_type": "code",
   "execution_count": null,
   "id": "662ba0b6-0557-4e51-b38a-2019526c8168",
   "metadata": {},
   "outputs": [],
   "source": []
  },
  {
   "cell_type": "code",
   "execution_count": null,
   "id": "2860fe24-9939-4dfc-8dec-7c28321c60a2",
   "metadata": {},
   "outputs": [],
   "source": []
  },
  {
   "cell_type": "code",
   "execution_count": 26,
   "id": "cd86cf80-c304-445d-805b-8f7f300ccd19",
   "metadata": {},
   "outputs": [
    {
     "data": {
      "text/plain": [
       "5000.0"
      ]
     },
     "execution_count": 26,
     "metadata": {},
     "output_type": "execute_result"
    }
   ],
   "source": [
    "e = 5.e3\n",
    "e"
   ]
  },
  {
   "cell_type": "code",
   "execution_count": 27,
   "id": "e6ca16e1-f4ca-4464-b0bd-c6b8640e71bd",
   "metadata": {},
   "outputs": [
    {
     "data": {
      "text/plain": [
       "70"
      ]
     },
     "execution_count": 27,
     "metadata": {},
     "output_type": "execute_result"
    }
   ],
   "source": [
    "x = 30+40\n",
    "x"
   ]
  },
  {
   "cell_type": "code",
   "execution_count": 28,
   "id": "ee167715-ab97-41dc-bde1-5c90b74bad96",
   "metadata": {},
   "outputs": [
    {
     "data": {
      "text/plain": [
       "int"
      ]
     },
     "execution_count": 28,
     "metadata": {},
     "output_type": "execute_result"
    }
   ],
   "source": [
    "type (x)"
   ]
  },
  {
   "cell_type": "code",
   "execution_count": 29,
   "id": "37a646e7-a4d1-42e0-b93e-ca64d029051b",
   "metadata": {},
   "outputs": [
    {
     "data": {
      "text/plain": [
       "(0.5384615384615384+0.30769230769230776j)"
      ]
     },
     "execution_count": 29,
     "metadata": {},
     "output_type": "execute_result"
    }
   ],
   "source": [
    "y = 1+2j #assigned float value in real part & imaginary part\n",
    "z = 3+2j  #assigned float value in real part & real value in imaginary part\n",
    "y + z\n",
    "y-z\n",
    "y*z\n",
    "y/z"
   ]
  },
  {
   "cell_type": "code",
   "execution_count": 30,
   "id": "54d262f6-b310-40db-8cbd-7c3bb1d88f28",
   "metadata": {},
   "outputs": [
    {
     "data": {
      "text/plain": [
       "(-2+0j)"
      ]
     },
     "execution_count": 30,
     "metadata": {},
     "output_type": "execute_result"
    }
   ],
   "source": [
    "y-z"
   ]
  },
  {
   "cell_type": "code",
   "execution_count": 31,
   "id": "0068d306-9232-453e-a0cf-2cff82539593",
   "metadata": {},
   "outputs": [
    {
     "data": {
      "text/plain": [
       "(-1+8j)"
      ]
     },
     "execution_count": 31,
     "metadata": {},
     "output_type": "execute_result"
    }
   ],
   "source": [
    "y*z"
   ]
  },
  {
   "cell_type": "code",
   "execution_count": 32,
   "id": "6c43f425-878a-44e1-b9a3-0c70b779c25d",
   "metadata": {},
   "outputs": [
    {
     "data": {
      "text/plain": [
       "(0.5384615384615384+0.30769230769230776j)"
      ]
     },
     "execution_count": 32,
     "metadata": {},
     "output_type": "execute_result"
    }
   ],
   "source": [
    "y/z"
   ]
  },
  {
   "cell_type": "code",
   "execution_count": 36,
   "id": "f2c5d603-d043-4db4-8026-3bd26f1f8f0e",
   "metadata": {},
   "outputs": [
    {
     "ename": "SyntaxError",
     "evalue": "invalid binary literal (2166187284.py, line 1)",
     "output_type": "error",
     "traceback": [
      "\u001b[1;36m  Cell \u001b[1;32mIn[36], line 1\u001b[1;36m\u001b[0m\n\u001b[1;33m    c = 15+0b111j # Imaginary part cannot be binary,octal\u001b[0m\n\u001b[1;37m               ^\u001b[0m\n\u001b[1;31mSyntaxError\u001b[0m\u001b[1;31m:\u001b[0m invalid binary literal\n"
     ]
    }
   ],
   "source": [
    "c = 15+0b111j # Imaginary part cannot be binary,octal\n",
    "#d = 0b11+15j # Real part can be binary,octal\n",
    "c\n",
    "#d"
   ]
  },
  {
   "cell_type": "code",
   "execution_count": 37,
   "id": "5b06e068-3506-4bb9-b273-0ac5db79b2cf",
   "metadata": {},
   "outputs": [
    {
     "ename": "SyntaxError",
     "evalue": "invalid binary literal (2162613930.py, line 1)",
     "output_type": "error",
     "traceback": [
      "\u001b[1;36m  Cell \u001b[1;32mIn[37], line 1\u001b[1;36m\u001b[0m\n\u001b[1;33m    c= 1+0b10j\u001b[0m\n\u001b[1;37m            ^\u001b[0m\n\u001b[1;31mSyntaxError\u001b[0m\u001b[1;31m:\u001b[0m invalid binary literal\n"
     ]
    }
   ],
   "source": [
    "c= 1+0b10j\n",
    "c"
   ]
  },
  {
   "cell_type": "code",
   "execution_count": 1,
   "id": "51290caf-972d-4380-83b3-c2495f6e794c",
   "metadata": {},
   "outputs": [
    {
     "data": {
      "text/plain": [
       "(7+15j)"
      ]
     },
     "execution_count": 1,
     "metadata": {},
     "output_type": "execute_result"
    }
   ],
   "source": [
    "d2 = 0b111+15j\n",
    "d2"
   ]
  },
  {
   "cell_type": "code",
   "execution_count": 2,
   "id": "e8af2bdf-34cf-406f-81f4-c274d8f03ded",
   "metadata": {},
   "outputs": [
    {
     "data": {
      "text/plain": [
       "(4+15j)"
      ]
     },
     "execution_count": 2,
     "metadata": {},
     "output_type": "execute_result"
    }
   ],
   "source": [
    "e1 = 4 + 15j\n",
    "e1"
   ]
  },
  {
   "cell_type": "code",
   "execution_count": 4,
   "id": "e7b48a65-1489-4830-bf12-15efcbe961c3",
   "metadata": {},
   "outputs": [
    {
     "data": {
      "text/plain": [
       "(0.5555555555555556+0j)"
      ]
     },
     "execution_count": 4,
     "metadata": {},
     "output_type": "execute_result"
    }
   ],
   "source": [
    "a1 = 20j+30j\n",
    "b1 = 40j+50j\n",
    "a1+b1\n",
    "a1-b1\n",
    "a1*b1\n",
    "a1/b1"
   ]
  },
  {
   "cell_type": "code",
   "execution_count": 5,
   "id": "f4a0536d-0c70-4221-936e-3c0d99818eb8",
   "metadata": {},
   "outputs": [
    {
     "data": {
      "text/plain": [
       "(0.5609756097560976+0.04878048780487805j)"
      ]
     },
     "execution_count": 5,
     "metadata": {},
     "output_type": "execute_result"
    }
   ],
   "source": [
    " a1 = 20+30j\n",
    "b1 = 40+50j\n",
    "a1+b1\n",
    "a1-b1\n",
    "a1*b1\n",
    "a1/b1"
   ]
  },
  {
   "cell_type": "code",
   "execution_count": 6,
   "id": "d97cb47d-62c3-4f06-8c5f-e6ae77949b13",
   "metadata": {},
   "outputs": [
    {
     "data": {
      "text/plain": [
       "(-700+2200j)"
      ]
     },
     "execution_count": 6,
     "metadata": {},
     "output_type": "execute_result"
    }
   ],
   "source": [
    "a1 * b1"
   ]
  },
  {
   "cell_type": "code",
   "execution_count": 7,
   "id": "7613d2f4-440f-4566-abbf-ee3488658aed",
   "metadata": {},
   "outputs": [
    {
     "data": {
      "text/plain": [
       "800"
      ]
     },
     "execution_count": 7,
     "metadata": {},
     "output_type": "execute_result"
    }
   ],
   "source": [
    "20*40"
   ]
  },
  {
   "cell_type": "code",
   "execution_count": 8,
   "id": "bfdca596-4138-48f8-a90f-966a3e24e422",
   "metadata": {},
   "outputs": [
    {
     "data": {
      "text/plain": [
       "complex"
      ]
     },
     "execution_count": 8,
     "metadata": {},
     "output_type": "execute_result"
    }
   ],
   "source": [
    "a = 2+3j\n",
    "type(a)"
   ]
  },
  {
   "cell_type": "code",
   "execution_count": 11,
   "id": "82cc6deb-64f4-4b1f-82fc-9af0262a4d7e",
   "metadata": {},
   "outputs": [
    {
     "data": {
      "text/plain": [
       "20.0"
      ]
     },
     "execution_count": 11,
     "metadata": {},
     "output_type": "execute_result"
    }
   ],
   "source": [
    "a1 = 10+20j  # I want to know what the value of real part & imaginary part\n",
    "             # complex data type will use in mathmetic concept not that required for programming language\n",
    "             #a1.imaginar\n",
    "a1.real\n",
    "a1.imag"
   ]
  },
  {
   "cell_type": "code",
   "execution_count": 12,
   "id": "c879a5df-f7e7-4494-a374-2a7b7b64a2f5",
   "metadata": {},
   "outputs": [
    {
     "data": {
      "text/plain": [
       "10.0"
      ]
     },
     "execution_count": 12,
     "metadata": {},
     "output_type": "execute_result"
    }
   ],
   "source": [
    "a1.real"
   ]
  },
  {
   "cell_type": "code",
   "execution_count": 14,
   "id": "201b909b-6a5a-4df3-b123-002aa9db1121",
   "metadata": {},
   "outputs": [
    {
     "data": {
      "text/plain": [
       "complex"
      ]
     },
     "execution_count": 14,
     "metadata": {},
     "output_type": "execute_result"
    }
   ],
   "source": [
    "com = 10+15j\n",
    "type(com)"
   ]
  },
  {
   "cell_type": "code",
   "execution_count": 15,
   "id": "fa3c7f16-1d54-47ba-b0f7-830ccdac8cc4",
   "metadata": {},
   "outputs": [
    {
     "data": {
      "text/plain": [
       "15.0"
      ]
     },
     "execution_count": 15,
     "metadata": {},
     "output_type": "execute_result"
    }
   ],
   "source": [
    "com.imag"
   ]
  },
  {
   "cell_type": "markdown",
   "id": "05119e0b-4d05-498c-a76b-a7cca17d4169",
   "metadata": {},
   "source": [
    " # bool datatype"
   ]
  },
  {
   "cell_type": "code",
   "execution_count": 16,
   "id": "a6afc63e-5c27-4009-b99a-3f741bfa4a4d",
   "metadata": {},
   "outputs": [
    {
     "data": {
      "text/plain": [
       "False"
      ]
     },
     "execution_count": 16,
     "metadata": {},
     "output_type": "execute_result"
    }
   ],
   "source": [
    "a = 10\n",
    "b = 20\n",
    "c = a>b\n",
    "c"
   ]
  },
  {
   "cell_type": "code",
   "execution_count": 17,
   "id": "eccecefe-01ac-4390-b6cf-ca3dab10d47c",
   "metadata": {},
   "outputs": [
    {
     "data": {
      "text/plain": [
       "bool"
      ]
     },
     "execution_count": 17,
     "metadata": {},
     "output_type": "execute_result"
    }
   ],
   "source": [
    "type(c) # type (a)\n"
   ]
  },
  {
   "cell_type": "code",
   "execution_count": 20,
   "id": "277be905-7031-4087-a376-47e1b9a662f6",
   "metadata": {},
   "outputs": [
    {
     "ename": "ZeroDivisionError",
     "evalue": "division by zero",
     "output_type": "error",
     "traceback": [
      "\u001b[1;31m---------------------------------------------------------------------------\u001b[0m",
      "\u001b[1;31mZeroDivisionError\u001b[0m                         Traceback (most recent call last)",
      "Cell \u001b[1;32mIn[20], line 8\u001b[0m\n\u001b[0;32m      6\u001b[0m \u001b[38;5;28;01mFalse\u001b[39;00m\u001b[38;5;241m+\u001b[39m\u001b[38;5;28;01mFalse\u001b[39;00m\n\u001b[0;32m      7\u001b[0m \u001b[38;5;28;01mFalse\u001b[39;00m\u001b[38;5;241m+\u001b[39m\u001b[38;5;28;01mTrue\u001b[39;00m\n\u001b[1;32m----> 8\u001b[0m \u001b[38;5;28;01mTrue\u001b[39;00m\u001b[38;5;241m/\u001b[39m\u001b[38;5;28;01mFalse\u001b[39;00m\n",
      "\u001b[1;31mZeroDivisionError\u001b[0m: division by zero"
     ]
    }
   ],
   "source": [
    "True+True\n",
    "True*True\n",
    "True-True\n",
    "True/True\n",
    "True//True\n",
    "False+False\n",
    "False+True\n",
    "True/False"
   ]
  },
  {
   "cell_type": "code",
   "execution_count": 21,
   "id": "22c78ed5-a9e1-406d-bc08-a6429d19e1a3",
   "metadata": {},
   "outputs": [
    {
     "data": {
      "text/plain": [
       "1.0"
      ]
     },
     "execution_count": 21,
     "metadata": {},
     "output_type": "execute_result"
    }
   ],
   "source": [
    "True/True"
   ]
  },
  {
   "cell_type": "code",
   "execution_count": 22,
   "id": "053669d1-05cf-4c44-a5bb-61303aeab1f6",
   "metadata": {},
   "outputs": [
    {
     "ename": "ZeroDivisionError",
     "evalue": "division by zero",
     "output_type": "error",
     "traceback": [
      "\u001b[1;31m---------------------------------------------------------------------------\u001b[0m",
      "\u001b[1;31mZeroDivisionError\u001b[0m                         Traceback (most recent call last)",
      "Cell \u001b[1;32mIn[22], line 1\u001b[0m\n\u001b[1;32m----> 1\u001b[0m \u001b[38;5;28;01mTrue\u001b[39;00m\u001b[38;5;241m/\u001b[39m\u001b[38;5;28;01mFalse\u001b[39;00m\n",
      "\u001b[1;31mZeroDivisionError\u001b[0m: division by zero"
     ]
    }
   ],
   "source": [
    "True/False"
   ]
  },
  {
   "cell_type": "code",
   "execution_count": 23,
   "id": "8d4328b5-5f5b-4d3e-a0d3-cc3931527e56",
   "metadata": {},
   "outputs": [
    {
     "data": {
      "text/plain": [
       "float"
      ]
     },
     "execution_count": 23,
     "metadata": {},
     "output_type": "execute_result"
    }
   ],
   "source": [
    "pi = 3.14\n",
    "pi\n",
    "type(pi)"
   ]
  },
  {
   "cell_type": "markdown",
   "id": "ce28cb79-0210-495b-a54b-30f8cfda7a41",
   "metadata": {},
   "source": [
    " # str datatype"
   ]
  },
  {
   "cell_type": "code",
   "execution_count": 25,
   "id": "f6aa62b0-75be-4e97-ba67-133565940892",
   "metadata": {},
   "outputs": [
    {
     "data": {
      "text/plain": [
       "' good for datascience'"
      ]
     },
     "execution_count": 25,
     "metadata": {},
     "output_type": "execute_result"
    }
   ],
   "source": [
    "ABC = ''' good for datascience'''\n",
    "ABC"
   ]
  },
  {
   "cell_type": "code",
   "execution_count": 26,
   "id": "9ea132e8-fada-4d0e-9775-e86ff915f74b",
   "metadata": {},
   "outputs": [
    {
     "data": {
      "text/plain": [
       "str"
      ]
     },
     "execution_count": 26,
     "metadata": {},
     "output_type": "execute_result"
    }
   ],
   "source": [
    "type (ABC)"
   ]
  },
  {
   "cell_type": "code",
   "execution_count": 27,
   "id": "404bd4d3-7cf9-4411-85ab-ff74e5989220",
   "metadata": {},
   "outputs": [
    {
     "data": {
      "text/plain": [
       "str"
      ]
     },
     "execution_count": 27,
     "metadata": {},
     "output_type": "execute_result"
    }
   ],
   "source": [
    "DEF = '''good for datascience'''\n",
    "# type (careerera) # 'single quotes\n",
    "DEF\n",
    "type (DEF)"
   ]
  },
  {
   "cell_type": "code",
   "execution_count": 29,
   "id": "a1299dd7-aa91-4cae-9262-7aaec42271e2",
   "metadata": {},
   "outputs": [
    {
     "data": {
      "text/plain": [
       "'good\\n             for datascience'"
      ]
     },
     "execution_count": 29,
     "metadata": {},
     "output_type": "execute_result"
    }
   ],
   "source": [
    "w = '''good\n",
    "             for datascience'''\n",
    "# type (careerera)'single quotes'\n",
    "w\n",
    "# type (naresh)"
   ]
  },
  {
   "cell_type": "code",
   "execution_count": 31,
   "id": "aab19545-411a-4a95-852d-1f2bbbac0319",
   "metadata": {},
   "outputs": [
    {
     "ename": "SyntaxError",
     "evalue": "invalid syntax (1873235208.py, line 1)",
     "output_type": "error",
     "traceback": [
      "\u001b[1;36m  Cell \u001b[1;32mIn[31], line 1\u001b[1;36m\u001b[0m\n\u001b[1;33m    ts = = '''The most common cause of the Python SyntaxError:\u001b[0m\n\u001b[1;37m         ^\u001b[0m\n\u001b[1;31mSyntaxError\u001b[0m\u001b[1;31m:\u001b[0m invalid syntax\n"
     ]
    }
   ],
   "source": [
    "ts = = '''The most common cause of the Python SyntaxError: \n",
    "    EOL while scanning string literal is due to missing quotes at the end of a string. \n",
    "    This refers to a string being opened by using either \n",
    "    ' , \" , or \"\"\" and not closing the string properly.'''"
   ]
  },
  {
   "cell_type": "code",
   "execution_count": 30,
   "id": "147a09b2-b1cf-4912-8c7d-223d397798cb",
   "metadata": {},
   "outputs": [
    {
     "ename": "NameError",
     "evalue": "name 'ts' is not defined",
     "output_type": "error",
     "traceback": [
      "\u001b[1;31m---------------------------------------------------------------------------\u001b[0m",
      "\u001b[1;31mNameError\u001b[0m                                 Traceback (most recent call last)",
      "Cell \u001b[1;32mIn[30], line 1\u001b[0m\n\u001b[1;32m----> 1\u001b[0m ts\n",
      "\u001b[1;31mNameError\u001b[0m: name 'ts' is not defined"
     ]
    }
   ],
   "source": [
    "ts"
   ]
  },
  {
   "cell_type": "code",
   "execution_count": 32,
   "id": "ef55da09-1ff5-4e09-94b5-aae8cd34a852",
   "metadata": {},
   "outputs": [
    {
     "data": {
      "text/plain": [
       "'good for datascience'"
      ]
     },
     "execution_count": 32,
     "metadata": {},
     "output_type": "execute_result"
    }
   ],
   "source": [
    "y = '''good for datascience'''\n",
    "# type (careerera) # ' single quotes'\n",
    "y\n",
    "# type (naresh)"
   ]
  },
  {
   "cell_type": "code",
   "execution_count": 34,
   "id": "3b359d5c-4364-4dd5-9694-1cf5352f59d2",
   "metadata": {},
   "outputs": [
    {
     "data": {
      "text/plain": [
       "'good for\\n datascience'"
      ]
     },
     "execution_count": 34,
     "metadata": {},
     "output_type": "execute_result"
    }
   ],
   "source": [
    "y = '''good for\n",
    " datascience'''\n",
    "# type(naresh1)\n",
    "y"
   ]
  },
  {
   "cell_type": "code",
   "execution_count": 35,
   "id": "0c9879a9-70ea-4fef-8b86-f4a4cbecbdfd",
   "metadata": {},
   "outputs": [
    {
     "data": {
      "text/plain": [
       "'hallo\\nhow\\nare\\nyou'"
      ]
     },
     "execution_count": 35,
     "metadata": {},
     "output_type": "execute_result"
    }
   ],
   "source": [
    "a = '''hallo\n",
    "how\n",
    "are\n",
    "you'''\n",
    "a # type (a) # single & double quotes are equal"
   ]
  },
  {
   "cell_type": "code",
   "execution_count": 37,
   "id": "9a460ce9-44e7-4402-859a-faee10c6905d",
   "metadata": {},
   "outputs": [
    {
     "data": {
      "text/plain": [
       "'hello \\n     hi'"
      ]
     },
     "execution_count": 37,
     "metadata": {},
     "output_type": "execute_result"
    }
   ],
   "source": [
    "b = '''hello \n",
    "     hi'''\n",
    "b"
   ]
  },
  {
   "cell_type": "code",
   "execution_count": null,
   "id": "1e802e2f-deb2-48f4-b4fd-06e3ba305fff",
   "metadata": {},
   "outputs": [],
   "source": [
    "  # single quote & double both are equl\n",
    "# ''' multiline comment'''"
   ]
  },
  {
   "cell_type": "code",
   "execution_count": 41,
   "id": "861ce9d7-8b47-40ce-b6ba-ef3f6afe4102",
   "metadata": {},
   "outputs": [
    {
     "data": {
      "text/plain": [
       "\"('hallo' \\n 'how'\\n   'are you')\""
      ]
     },
     "execution_count": 41,
     "metadata": {},
     "output_type": "execute_result"
    }
   ],
   "source": [
    " b = '''('hallo' \n",
    "  'how'\n",
    "    'are you')'''\n",
    " b # triple quotes are used for multiline comments \n",
    "      # is for commenting"
   ]
  },
  {
   "cell_type": "code",
   "execution_count": 44,
   "id": "a89157cf-2054-4c03-b442-718744e5bb93",
   "metadata": {},
   "outputs": [],
   "source": [
    "x,y,z,m,n = 10,True, 10.9,1+10j,'hi'"
   ]
  },
  {
   "cell_type": "code",
   "execution_count": 45,
   "id": "b1b86671-7d36-4573-a8c0-57ab8b8be086",
   "metadata": {},
   "outputs": [
    {
     "data": {
      "text/plain": [
       "str"
      ]
     },
     "execution_count": 45,
     "metadata": {},
     "output_type": "execute_result"
    }
   ],
   "source": [
    "type(n)"
   ]
  },
  {
   "cell_type": "code",
   "execution_count": 46,
   "id": "a45429fd-86f2-4646-bf96-ebddb27be365",
   "metadata": {},
   "outputs": [
    {
     "data": {
      "text/plain": [
       "complex"
      ]
     },
     "execution_count": 46,
     "metadata": {},
     "output_type": "execute_result"
    }
   ],
   "source": [
    "type(m)"
   ]
  },
  {
   "cell_type": "code",
   "execution_count": 47,
   "id": "559e61f9-fcba-4124-abaa-8a3d20a8d24a",
   "metadata": {},
   "outputs": [
    {
     "data": {
      "text/plain": [
       "True"
      ]
     },
     "execution_count": 47,
     "metadata": {},
     "output_type": "execute_result"
    }
   ],
   "source": [
    "y"
   ]
  },
  {
   "cell_type": "code",
   "execution_count": 48,
   "id": "c55680d9-7872-46ca-ac8c-1d3e618567ec",
   "metadata": {},
   "outputs": [
    {
     "data": {
      "text/plain": [
       "10.9"
      ]
     },
     "execution_count": 48,
     "metadata": {},
     "output_type": "execute_result"
    }
   ],
   "source": [
    "z"
   ]
  },
  {
   "cell_type": "markdown",
   "id": "edb8fa5e-b46f-45e1-8a0c-e386c8c19a78",
   "metadata": {},
   "source": [
    "# Type casting or type conversion"
   ]
  },
  {
   "cell_type": "code",
   "execution_count": 49,
   "id": "2dd9af79-1cf8-41c3-a3b9-2ad11b125993",
   "metadata": {},
   "outputs": [
    {
     "data": {
      "text/plain": [
       "10"
      ]
     },
     "execution_count": 49,
     "metadata": {},
     "output_type": "execute_result"
    }
   ],
   "source": [
    "# int() you can convert from type to int type expect complex\n",
    "int(10.123) # float to int\n",
    "# int (10+20j) # cannot convert from complex to int\n",
    "int(True) #bool to int\n",
    "int(False) # bool to int \n",
    "int('10')\n",
    "# int ('ten') #amx is character"
   ]
  },
  {
   "cell_type": "code",
   "execution_count": 50,
   "id": "8dac8cfc-4d50-4f68-a7b1-bf46f02eb9cb",
   "metadata": {},
   "outputs": [
    {
     "data": {
      "text/plain": [
       "11.0"
      ]
     },
     "execution_count": 50,
     "metadata": {},
     "output_type": "execute_result"
    }
   ],
   "source": [
    "# float(): -- convert from any type to float except complex\n",
    "float(10)      # int to float\n",
    "#float(10+20j)  # cannot convert complex to float\n",
    "float(False)     # boolean to float\n",
    "float('11')    # string to float"
   ]
  },
  {
   "cell_type": "code",
   "execution_count": 51,
   "id": "95adc0b8-5903-4104-8bb7-3b7262107ea5",
   "metadata": {},
   "outputs": [
    {
     "ename": "TypeError",
     "evalue": "float expected at most 1 argument, got 2",
     "output_type": "error",
     "traceback": [
      "\u001b[1;31m---------------------------------------------------------------------------\u001b[0m",
      "\u001b[1;31mTypeError\u001b[0m                                 Traceback (most recent call last)",
      "Cell \u001b[1;32mIn[51], line 1\u001b[0m\n\u001b[1;32m----> 1\u001b[0m \u001b[38;5;28mfloat\u001b[39m(\u001b[38;5;241m10\u001b[39m,\u001b[38;5;241m20\u001b[39m)\n",
      "\u001b[1;31mTypeError\u001b[0m: float expected at most 1 argument, got 2"
     ]
    }
   ],
   "source": [
    "float(10,20)"
   ]
  },
  {
   "cell_type": "code",
   "execution_count": 52,
   "id": "34fcb853-9af5-40fa-a638-adf1b086b9e3",
   "metadata": {},
   "outputs": [
    {
     "data": {
      "text/plain": [
       "(10+0j)"
      ]
     },
     "execution_count": 52,
     "metadata": {},
     "output_type": "execute_result"
    }
   ],
   "source": [
    "  #complex(): -- covert any other type to complex type\n",
    "# --- this only for 1 argument ------\n",
    "complex(10)     # int to complex\n",
    "complex(10.5)  # float to complex\n",
    "complex(True)  # Bool to complex\n",
    "complex(False) # Bool to complex\n",
    "complex('10')  # string to complex \n",
    "\n",
    "# ----- Now we will check for 2 arguments ------\n",
    "complex(10,20)   # int to complex\n",
    "complex(10,20.5) # float to complex\n",
    "complex('10')    # string to complex, you cannot assign 2 argument"
   ]
  },
  {
   "cell_type": "code",
   "execution_count": 53,
   "id": "26f6bbd0-b0f0-438b-bb61-cf631b39c5be",
   "metadata": {},
   "outputs": [
    {
     "data": {
      "text/plain": [
       "True"
      ]
     },
     "execution_count": 53,
     "metadata": {},
     "output_type": "execute_result"
    }
   ],
   "source": [
    "# Bool()  - (0 means false // 1 means non zero)\n",
    "\n",
    "bool(0)      # int to bool\n",
    "bool(-10)     # int to bool\n",
    "bool(0.0)    # float to bool\n",
    "bool(0.01)   # float to bool \n",
    "bool(10+20j) # complext to bool\n",
    "bool(0+1j)   # complex to bool\n",
    "bool(\" \")      # string to bool(if argument is empty string then false)\n",
    "bool('abc')# string to bool(if argument is not empty string then true)\n",
    "bool(' ')    # space is also treated as character so non empty string"
   ]
  },
  {
   "cell_type": "code",
   "execution_count": 54,
   "id": "21ddd4a8-54d1-4105-b975-a2f4b8907e69",
   "metadata": {},
   "outputs": [
    {
     "data": {
      "text/plain": [
       "True"
      ]
     },
     "execution_count": 54,
     "metadata": {},
     "output_type": "execute_result"
    }
   ],
   "source": [
    "bool(-10)"
   ]
  },
  {
   "cell_type": "code",
   "execution_count": 55,
   "id": "8f450dc0-c32c-412e-ae98-8257a9daf3da",
   "metadata": {},
   "outputs": [
    {
     "data": {
      "text/plain": [
       "True"
      ]
     },
     "execution_count": 55,
     "metadata": {},
     "output_type": "execute_result"
    }
   ],
   "source": [
    "bool(0+1j)"
   ]
  },
  {
   "cell_type": "code",
   "execution_count": 56,
   "id": "72ff1a4e-ee6d-4787-a911-39ebf6646bee",
   "metadata": {},
   "outputs": [
    {
     "data": {
      "text/plain": [
       "'(10+20j)'"
      ]
     },
     "execution_count": 56,
     "metadata": {},
     "output_type": "execute_result"
    }
   ],
   "source": [
    " #str(): --- any type is possible in string \n",
    "\n",
    "str(10)     # int to string\n",
    "str(10.50)  # float to string\n",
    "str(True)   # bool to string\n",
    "str(10+20j) # complex to string"
   ]
  },
  {
   "cell_type": "markdown",
   "id": "9ce13349-b48a-494f-ab07-4df88553156d",
   "metadata": {},
   "source": [
    "# Fundamental datatypes vs Immutability__"
   ]
  },
  {
   "cell_type": "code",
   "execution_count": 3,
   "id": "5c09425e-de30-4880-a065-f0d8a3bfef44",
   "metadata": {},
   "outputs": [
    {
     "name": "stdout",
     "output_type": "stream",
     "text": [
      "140714566429400\n",
      "140714566429400\n",
      "140714566429720\n"
     ]
    }
   ],
   "source": [
    "x2 = 10\n",
    "y2 = 10\n",
    "z2 =20\n",
    "print(id(x2))\n",
    "print(id(y2))\n",
    "print(id(z2))"
   ]
  },
  {
   "cell_type": "code",
   "execution_count": 4,
   "id": "193179b8-390b-4bea-aae0-ebffaee66537",
   "metadata": {},
   "outputs": [
    {
     "name": "stdout",
     "output_type": "stream",
     "text": [
      "140714566429400\n",
      "140714566429400\n"
     ]
    }
   ],
   "source": [
    "x = 10 # id - address of the meomary location\n",
    "y = 10\n",
    "print(id(x))\n",
    "print(id(y))"
   ]
  },
  {
   "cell_type": "code",
   "execution_count": 5,
   "id": "17ca4a01-2aaf-4d20-a77a-b70089cbdf94",
   "metadata": {},
   "outputs": [
    {
     "data": {
      "text/plain": [
       "140714566429400"
      ]
     },
     "execution_count": 5,
     "metadata": {},
     "output_type": "execute_result"
    }
   ],
   "source": [
    "id(y)"
   ]
  },
  {
   "cell_type": "code",
   "execution_count": 6,
   "id": "f7c0e5dc-0eec-4f66-a49d-9fa34da7658d",
   "metadata": {},
   "outputs": [
    {
     "data": {
      "text/plain": [
       "True"
      ]
     },
     "execution_count": 6,
     "metadata": {},
     "output_type": "execute_result"
    }
   ],
   "source": [
    "# is operator\n",
    "x = 20 #x,y = 20\n",
    "y = 20\n",
    "x is y\n",
    "y is x"
   ]
  },
  {
   "cell_type": "code",
   "execution_count": 7,
   "id": "dee29260-15c0-4acd-bc98-406d99269b21",
   "metadata": {},
   "outputs": [
    {
     "data": {
      "text/plain": [
       "False"
      ]
     },
     "execution_count": 7,
     "metadata": {},
     "output_type": "execute_result"
    }
   ],
   "source": [
    "x = True\n",
    "y = True\n",
    "z = False\n",
    "x is y\n",
    "y is z\n",
    "z is x\n",
    "z is y"
   ]
  },
  {
   "cell_type": "code",
   "execution_count": 4,
   "id": "8585ccfe-dd86-474e-91a6-7729cb91840f",
   "metadata": {},
   "outputs": [
    {
     "data": {
      "text/plain": [
       "list"
      ]
     },
     "execution_count": 4,
     "metadata": {},
     "output_type": "execute_result"
    }
   ],
   "source": [
    "l = []\n",
    "type(l)\n",
    "#print(type(1))"
   ]
  },
  {
   "cell_type": "code",
   "execution_count": 5,
   "id": "5e284ea4-47f4-4f6f-8760-07b14ed01a2b",
   "metadata": {},
   "outputs": [
    {
     "data": {
      "text/plain": [
       "[]"
      ]
     },
     "execution_count": 5,
     "metadata": {},
     "output_type": "execute_result"
    }
   ],
   "source": [
    "l"
   ]
  },
  {
   "cell_type": "code",
   "execution_count": 6,
   "id": "8d4855d2-8c10-468b-b89c-7032706b5d3e",
   "metadata": {},
   "outputs": [
    {
     "data": {
      "text/plain": [
       "[10, 20, 30, 10]"
      ]
     },
     "execution_count": 6,
     "metadata": {},
     "output_type": "execute_result"
    }
   ],
   "source": [
    "# now i want to an object\n",
    "l.append(10)\n",
    "l.append(20)\n",
    "l.append(30)\n",
    "l.append(10)\n",
    "l"
   ]
  },
  {
   "cell_type": "code",
   "execution_count": 7,
   "id": "2e597f4a-7d21-4a79-8907-d01950dca085",
   "metadata": {},
   "outputs": [
    {
     "ename": "AttributeError",
     "evalue": "'list' object has no attribute 'add'",
     "output_type": "error",
     "traceback": [
      "\u001b[1;31m---------------------------------------------------------------------------\u001b[0m",
      "\u001b[1;31mAttributeError\u001b[0m                            Traceback (most recent call last)",
      "Cell \u001b[1;32mIn[7], line 1\u001b[0m\n\u001b[1;32m----> 1\u001b[0m l\u001b[38;5;241m.\u001b[39madd(\u001b[38;5;241m50\u001b[39m)\n",
      "\u001b[1;31mAttributeError\u001b[0m: 'list' object has no attribute 'add'"
     ]
    }
   ],
   "source": [
    "l.add(50)"
   ]
  },
  {
   "cell_type": "code",
   "execution_count": 8,
   "id": "765ddc6e-9b31-49ad-8705-cd439fc61934",
   "metadata": {},
   "outputs": [
    {
     "data": {
      "text/plain": [
       "[10, 20, 30, 10]"
      ]
     },
     "execution_count": 8,
     "metadata": {},
     "output_type": "execute_result"
    }
   ],
   "source": [
    "l"
   ]
  },
  {
   "cell_type": "code",
   "execution_count": 9,
   "id": "f0cbb3d1-c175-4ee6-a093-6956e8b951a6",
   "metadata": {},
   "outputs": [
    {
     "name": "stdout",
     "output_type": "stream",
     "text": [
      "[10, 20, 30, 10]\n"
     ]
    }
   ],
   "source": [
    "print(l)"
   ]
  },
  {
   "cell_type": "code",
   "execution_count": 10,
   "id": "2a020333-06fb-439c-84ab-fa559aaac25c",
   "metadata": {},
   "outputs": [
    {
     "data": {
      "text/plain": [
       "[10, 20, 30, 10, 'amx', 8.0, None, (1+2j), True]"
      ]
     },
     "execution_count": 10,
     "metadata": {},
     "output_type": "execute_result"
    }
   ],
   "source": [
    "l.append('amx')\n",
    "l.append(8.0)\n",
    "l.append(None)\n",
    "l.append(1+2j)\n",
    "l.append(True)\n",
    "l"
   ]
  },
  {
   "cell_type": "code",
   "execution_count": 11,
   "id": "2df6805d-4a87-4c42-b195-1963302fc5e0",
   "metadata": {},
   "outputs": [],
   "source": [
    "l.remove('amx') # delete the object from list"
   ]
  },
  {
   "cell_type": "code",
   "execution_count": 3,
   "id": "d6469ec7-0692-4bfd-bff4-cd6725860434",
   "metadata": {},
   "outputs": [
    {
     "ename": "NameError",
     "evalue": "name 'l' is not defined",
     "output_type": "error",
     "traceback": [
      "\u001b[1;31m---------------------------------------------------------------------------\u001b[0m",
      "\u001b[1;31mNameError\u001b[0m                                 Traceback (most recent call last)",
      "Cell \u001b[1;32mIn[3], line 1\u001b[0m\n\u001b[1;32m----> 1\u001b[0m l\n",
      "\u001b[1;31mNameError\u001b[0m: name 'l' is not defined"
     ]
    }
   ],
   "source": [
    "l"
   ]
  },
  {
   "cell_type": "code",
   "execution_count": 15,
   "id": "b9c1fc61-fb5d-4904-9d7b-68b833828ade",
   "metadata": {},
   "outputs": [
    {
     "data": {
      "text/plain": [
       "10"
      ]
     },
     "execution_count": 15,
     "metadata": {},
     "output_type": "execute_result"
    }
   ],
   "source": [
    "l[-4]"
   ]
  },
  {
   "cell_type": "code",
   "execution_count": 17,
   "id": "42c04436-c2bc-4a0b-93bc-6962d8d1d5f7",
   "metadata": {},
   "outputs": [
    {
     "ename": "IndexError",
     "evalue": "list index out of range",
     "output_type": "error",
     "traceback": [
      "\u001b[1;31m---------------------------------------------------------------------------\u001b[0m",
      "\u001b[1;31mIndexError\u001b[0m                                Traceback (most recent call last)",
      "Cell \u001b[1;32mIn[17], line 1\u001b[0m\n\u001b[1;32m----> 1\u001b[0m l[\u001b[38;5;241m-\u001b[39m\u001b[38;5;241m7\u001b[39m]\n",
      "\u001b[1;31mIndexError\u001b[0m: list index out of range"
     ]
    }
   ],
   "source": [
    "l[-7]"
   ]
  },
  {
   "cell_type": "code",
   "execution_count": 18,
   "id": "8e0474e0-6835-41ac-b28d-f918a1d8036b",
   "metadata": {},
   "outputs": [
    {
     "data": {
      "text/plain": [
       "[10, 20, 30, 10]"
      ]
     },
     "execution_count": 18,
     "metadata": {},
     "output_type": "execute_result"
    }
   ],
   "source": [
    "l"
   ]
  },
  {
   "cell_type": "code",
   "execution_count": 12,
   "id": "864d8077-ffb3-4867-acd2-affbc3f1f1d9",
   "metadata": {},
   "outputs": [
    {
     "data": {
      "text/plain": [
       "8.0"
      ]
     },
     "execution_count": 12,
     "metadata": {},
     "output_type": "execute_result"
    }
   ],
   "source": [
    "l[4]"
   ]
  },
  {
   "cell_type": "code",
   "execution_count": 13,
   "id": "57b28a65-70f6-488a-80e6-d5a82380ad36",
   "metadata": {},
   "outputs": [
    {
     "data": {
      "text/plain": [
       "[10, 20, 30, 10, 8.0, None, (1+2j), True]"
      ]
     },
     "execution_count": 13,
     "metadata": {},
     "output_type": "execute_result"
    }
   ],
   "source": [
    "l"
   ]
  },
  {
   "cell_type": "code",
   "execution_count": 14,
   "id": "169fe35c-7c69-4281-a5f7-5895f2384925",
   "metadata": {},
   "outputs": [
    {
     "data": {
      "text/plain": [
       "(1+2j)"
      ]
     },
     "execution_count": 14,
     "metadata": {},
     "output_type": "execute_result"
    }
   ],
   "source": [
    "l[6]"
   ]
  },
  {
   "cell_type": "code",
   "execution_count": 15,
   "id": "c12797a4-7ea3-4220-b42e-2835427dc33e",
   "metadata": {},
   "outputs": [
    {
     "name": "stderr",
     "output_type": "stream",
     "text": [
      "<>:1: SyntaxWarning: 'int' object is not subscriptable; perhaps you missed a comma?\n",
      "<>:1: SyntaxWarning: 'int' object is not subscriptable; perhaps you missed a comma?\n",
      "C:\\Users\\pc\\AppData\\Local\\Temp\\ipykernel_3660\\3169568586.py:1: SyntaxWarning: 'int' object is not subscriptable; perhaps you missed a comma?\n",
      "  1[7]\n",
      "C:\\Users\\pc\\AppData\\Local\\Temp\\ipykernel_3660\\3169568586.py:1: SyntaxWarning: 'int' object is not subscriptable; perhaps you missed a comma?\n",
      "  1[7]\n",
      "C:\\Users\\pc\\AppData\\Local\\Temp\\ipykernel_3660\\3169568586.py:1: SyntaxWarning: 'int' object is not subscriptable; perhaps you missed a comma?\n",
      "  1[7]\n",
      "C:\\Users\\pc\\AppData\\Local\\Temp\\ipykernel_3660\\3169568586.py:1: SyntaxWarning: 'int' object is not subscriptable; perhaps you missed a comma?\n",
      "  1[7]\n",
      "C:\\Users\\pc\\AppData\\Local\\Temp\\ipykernel_3660\\3169568586.py:1: SyntaxWarning: 'int' object is not subscriptable; perhaps you missed a comma?\n",
      "  1[7]\n"
     ]
    },
    {
     "ename": "TypeError",
     "evalue": "'int' object is not subscriptable",
     "output_type": "error",
     "traceback": [
      "\u001b[1;31m---------------------------------------------------------------------------\u001b[0m",
      "\u001b[1;31mTypeError\u001b[0m                                 Traceback (most recent call last)",
      "Cell \u001b[1;32mIn[15], line 1\u001b[0m\n\u001b[1;32m----> 1\u001b[0m \u001b[38;5;241m1\u001b[39m[\u001b[38;5;241m7\u001b[39m]\n",
      "\u001b[1;31mTypeError\u001b[0m: 'int' object is not subscriptable"
     ]
    }
   ],
   "source": [
    "1[7]"
   ]
  },
  {
   "cell_type": "code",
   "execution_count": 16,
   "id": "943924f9-182b-463a-a570-59af6f3b0f97",
   "metadata": {},
   "outputs": [
    {
     "ename": "IndexError",
     "evalue": "list index out of range",
     "output_type": "error",
     "traceback": [
      "\u001b[1;31m---------------------------------------------------------------------------\u001b[0m",
      "\u001b[1;31mIndexError\u001b[0m                                Traceback (most recent call last)",
      "Cell \u001b[1;32mIn[16], line 1\u001b[0m\n\u001b[1;32m----> 1\u001b[0m l[\u001b[38;5;241m12\u001b[39m]\n",
      "\u001b[1;31mIndexError\u001b[0m: list index out of range"
     ]
    }
   ],
   "source": [
    "l[12]"
   ]
  },
  {
   "cell_type": "code",
   "execution_count": 17,
   "id": "beb3f832-63d1-4622-b4d3-792e361f3784",
   "metadata": {},
   "outputs": [
    {
     "data": {
      "text/plain": [
       "[10, 20, 30, 10, 8.0, None, (1+2j), True]"
      ]
     },
     "execution_count": 17,
     "metadata": {},
     "output_type": "execute_result"
    }
   ],
   "source": [
    "l"
   ]
  },
  {
   "cell_type": "code",
   "execution_count": 18,
   "id": "0a7b5ed0-4f9f-4e2e-aecd-ce7bf138db76",
   "metadata": {},
   "outputs": [],
   "source": [
    "l[5]"
   ]
  },
  {
   "cell_type": "code",
   "execution_count": 19,
   "id": "1a00ab3b-0266-4380-a2fe-5179bb24575b",
   "metadata": {},
   "outputs": [
    {
     "data": {
      "text/plain": [
       "10"
      ]
     },
     "execution_count": 19,
     "metadata": {},
     "output_type": "execute_result"
    }
   ],
   "source": [
    "l[3]"
   ]
  },
  {
   "cell_type": "code",
   "execution_count": 20,
   "id": "dbccabb1-4d8a-429f-b605-b9554dc06d69",
   "metadata": {},
   "outputs": [
    {
     "data": {
      "text/plain": [
       "[10, 20, 30, 10, 8.0, None, (1+2j), True]"
      ]
     },
     "execution_count": 20,
     "metadata": {},
     "output_type": "execute_result"
    }
   ],
   "source": [
    "l"
   ]
  },
  {
   "cell_type": "code",
   "execution_count": 21,
   "id": "2fa6260e-0237-43ba-bc3e-3d488634167a",
   "metadata": {},
   "outputs": [
    {
     "ename": "IndexError",
     "evalue": "list index out of range",
     "output_type": "error",
     "traceback": [
      "\u001b[1;31m---------------------------------------------------------------------------\u001b[0m",
      "\u001b[1;31mIndexError\u001b[0m                                Traceback (most recent call last)",
      "Cell \u001b[1;32mIn[21], line 1\u001b[0m\n\u001b[1;32m----> 1\u001b[0m l[\u001b[38;5;241m8\u001b[39m]\n",
      "\u001b[1;31mIndexError\u001b[0m: list index out of range"
     ]
    }
   ],
   "source": [
    "l[8]"
   ]
  },
  {
   "cell_type": "code",
   "execution_count": 22,
   "id": "f3e7e337-20ba-4d1c-ad2c-8d9776f420bd",
   "metadata": {},
   "outputs": [
    {
     "data": {
      "text/plain": [
       "True"
      ]
     },
     "execution_count": 22,
     "metadata": {},
     "output_type": "execute_result"
    }
   ],
   "source": [
    "l[-1]"
   ]
  },
  {
   "cell_type": "code",
   "execution_count": 23,
   "id": "e335526a-bddf-4b1a-ab93-4c032bb0bd35",
   "metadata": {},
   "outputs": [
    {
     "data": {
      "text/plain": [
       "(1+2j)"
      ]
     },
     "execution_count": 23,
     "metadata": {},
     "output_type": "execute_result"
    }
   ],
   "source": [
    "l[-2]"
   ]
  },
  {
   "cell_type": "code",
   "execution_count": 24,
   "id": "8c1017b1-2a67-4c3a-b1df-207185f894b3",
   "metadata": {},
   "outputs": [
    {
     "data": {
      "text/plain": [
       "[10, 20, 30, 10, 8.0, None, (1+2j), True]"
      ]
     },
     "execution_count": 24,
     "metadata": {},
     "output_type": "execute_result"
    }
   ],
   "source": [
    "l"
   ]
  },
  {
   "cell_type": "code",
   "execution_count": 25,
   "id": "a86fa18c-46bb-4632-a8ea-243585fcadc0",
   "metadata": {},
   "outputs": [
    {
     "data": {
      "text/plain": [
       "[10, 20, 30, 10, 8.0, None, (1+2j), True]"
      ]
     },
     "execution_count": 25,
     "metadata": {},
     "output_type": "execute_result"
    }
   ],
   "source": [
    "# let me introduce to slicing operator\n",
    "l[:]"
   ]
  },
  {
   "cell_type": "code",
   "execution_count": 42,
   "id": "69e1b317-ab5a-49d8-90b0-e08dbcda80c8",
   "metadata": {},
   "outputs": [
    {
     "data": {
      "text/plain": [
       "[30, 10]"
      ]
     },
     "execution_count": 42,
     "metadata": {},
     "output_type": "execute_result"
    }
   ],
   "source": [
    "l[2:4]"
   ]
  },
  {
   "cell_type": "code",
   "execution_count": 26,
   "id": "96801858-99ff-46ea-9782-ce8543fd0add",
   "metadata": {},
   "outputs": [
    {
     "data": {
      "text/plain": [
       "[10, 20, 30, 10, 8.0, None, (1+2j), True]"
      ]
     },
     "execution_count": 26,
     "metadata": {},
     "output_type": "execute_result"
    }
   ],
   "source": [
    "l"
   ]
  },
  {
   "cell_type": "code",
   "execution_count": 27,
   "id": "57adddf1-3e76-43d6-a64f-ab5aab26a2b7",
   "metadata": {},
   "outputs": [
    {
     "data": {
      "text/plain": [
       "[10, 8.0]"
      ]
     },
     "execution_count": 27,
     "metadata": {},
     "output_type": "execute_result"
    }
   ],
   "source": [
    "l[3:5]"
   ]
  },
  {
   "cell_type": "code",
   "execution_count": 28,
   "id": "26e1d403-54f1-4f79-bdd2-45c6a5a03111",
   "metadata": {},
   "outputs": [
    {
     "data": {
      "text/plain": [
       "[10, 20, 30, 10, 8.0, None, (1+2j), True]"
      ]
     },
     "execution_count": 28,
     "metadata": {},
     "output_type": "execute_result"
    }
   ],
   "source": [
    "l"
   ]
  },
  {
   "cell_type": "code",
   "execution_count": 29,
   "id": "3050fd74-0347-4a24-a277-305d9e5d448d",
   "metadata": {},
   "outputs": [
    {
     "data": {
      "text/plain": [
       "[30, 10]"
      ]
     },
     "execution_count": 29,
     "metadata": {},
     "output_type": "execute_result"
    }
   ],
   "source": [
    "l[2:4]"
   ]
  },
  {
   "cell_type": "code",
   "execution_count": 30,
   "id": "94066181-6689-47ce-b1d3-e7b479a1ac36",
   "metadata": {},
   "outputs": [
    {
     "data": {
      "text/plain": [
       "[10, 20, 30, 10, 8.0, None, (1+2j), True]"
      ]
     },
     "execution_count": 30,
     "metadata": {},
     "output_type": "execute_result"
    }
   ],
   "source": [
    "l"
   ]
  },
  {
   "cell_type": "code",
   "execution_count": 31,
   "id": "6c9745e1-51d7-41bc-89a3-cb2d3b0bed32",
   "metadata": {},
   "outputs": [
    {
     "data": {
      "text/plain": [
       "10"
      ]
     },
     "execution_count": 31,
     "metadata": {},
     "output_type": "execute_result"
    }
   ],
   "source": [
    "l[0]"
   ]
  },
  {
   "cell_type": "code",
   "execution_count": 32,
   "id": "04058e23-4126-4b39-8d3b-b6a202b830dc",
   "metadata": {},
   "outputs": [
    {
     "data": {
      "text/plain": [
       "20"
      ]
     },
     "execution_count": 32,
     "metadata": {},
     "output_type": "execute_result"
    }
   ],
   "source": [
    "l[1]"
   ]
  },
  {
   "cell_type": "code",
   "execution_count": 33,
   "id": "a2597489-4196-4ed0-9193-b97cee7eb221",
   "metadata": {},
   "outputs": [
    {
     "data": {
      "text/plain": [
       "10"
      ]
     },
     "execution_count": 33,
     "metadata": {},
     "output_type": "execute_result"
    }
   ],
   "source": [
    "l[0]"
   ]
  },
  {
   "cell_type": "code",
   "execution_count": 34,
   "id": "9806d13d-a4b1-4019-ba60-d3a848e8bf62",
   "metadata": {},
   "outputs": [
    {
     "data": {
      "text/plain": [
       "[10, 20, 30, 10, 8.0, None, (1+2j), True]"
      ]
     },
     "execution_count": 34,
     "metadata": {},
     "output_type": "execute_result"
    }
   ],
   "source": [
    "l"
   ]
  },
  {
   "cell_type": "code",
   "execution_count": 36,
   "id": "241da4ea-db16-4042-ad41-591e9cdc30ce",
   "metadata": {},
   "outputs": [],
   "source": [
    "l[1] = 'NIT'"
   ]
  },
  {
   "cell_type": "code",
   "execution_count": 37,
   "id": "5aa1a19d-b21d-4549-90ac-0b12ca37ff05",
   "metadata": {},
   "outputs": [
    {
     "data": {
      "text/plain": [
       "[10, 'NIT', 30, 10, 8.0, None, (1+2j), True]"
      ]
     },
     "execution_count": 37,
     "metadata": {},
     "output_type": "execute_result"
    }
   ],
   "source": [
    "l[:]"
   ]
  },
  {
   "cell_type": "code",
   "execution_count": 38,
   "id": "41572e34-30d0-4c3f-9583-1a297ed7876d",
   "metadata": {},
   "outputs": [
    {
     "data": {
      "text/plain": [
       "[10, 'NIT', 30, 10, 8.0, None, (1+2j), True]"
      ]
     },
     "execution_count": 38,
     "metadata": {},
     "output_type": "execute_result"
    }
   ],
   "source": [
    "l[:]"
   ]
  },
  {
   "cell_type": "code",
   "execution_count": 39,
   "id": "502a51c3-94e6-4c17-a23d-4ef0097e25f4",
   "metadata": {},
   "outputs": [
    {
     "data": {
      "text/plain": [
       "[10, 'NIT', 30, 10, 8.0, None, (1+2j), True]"
      ]
     },
     "execution_count": 39,
     "metadata": {},
     "output_type": "execute_result"
    }
   ],
   "source": [
    "l"
   ]
  },
  {
   "cell_type": "code",
   "execution_count": 40,
   "id": "f265bd36-294c-4c5b-ab00-13d8a6ad3c37",
   "metadata": {},
   "outputs": [
    {
     "data": {
      "text/plain": [
       "10"
      ]
     },
     "execution_count": 40,
     "metadata": {},
     "output_type": "execute_result"
    }
   ],
   "source": [
    "l[0]"
   ]
  },
  {
   "cell_type": "code",
   "execution_count": 41,
   "id": "f31a3bd6-d2c7-4f1b-b22f-59571bf6654c",
   "metadata": {},
   "outputs": [],
   "source": [
    "l[0] = 1000"
   ]
  },
  {
   "cell_type": "code",
   "execution_count": 42,
   "id": "d76ee50f-46d8-4646-9912-cf9efc1b6499",
   "metadata": {},
   "outputs": [
    {
     "data": {
      "text/plain": [
       "[1000, 'NIT', 30, 10, 8.0, None, (1+2j), True]"
      ]
     },
     "execution_count": 42,
     "metadata": {},
     "output_type": "execute_result"
    }
   ],
   "source": [
    "l"
   ]
  },
  {
   "cell_type": "code",
   "execution_count": 43,
   "id": "9b5c58b4-6eab-4173-b4cb-15337b47efbd",
   "metadata": {},
   "outputs": [],
   "source": [
    "l[1] = 'AMX'"
   ]
  },
  {
   "cell_type": "code",
   "execution_count": 44,
   "id": "06417224-1d31-4ad0-889f-a17ad14d2772",
   "metadata": {},
   "outputs": [],
   "source": [
    "l[-2] = 'monty'"
   ]
  },
  {
   "cell_type": "code",
   "execution_count": 45,
   "id": "3f0e8694-1380-40e8-9b58-a80c5523edab",
   "metadata": {},
   "outputs": [
    {
     "data": {
      "text/plain": [
       "[1000, 'AMX', 30, 10, 8.0, None, 'monty', True]"
      ]
     },
     "execution_count": 45,
     "metadata": {},
     "output_type": "execute_result"
    }
   ],
   "source": [
    "l"
   ]
  },
  {
   "cell_type": "code",
   "execution_count": 46,
   "id": "29ce08d3-f5bd-42af-9f7a-f7d88053086c",
   "metadata": {},
   "outputs": [
    {
     "data": {
      "text/plain": [
       "[1000, 'AMX', 30, 10, 8.0, None, 'monty', True]"
      ]
     },
     "execution_count": 46,
     "metadata": {},
     "output_type": "execute_result"
    }
   ],
   "source": [
    "l[:]"
   ]
  },
  {
   "cell_type": "code",
   "execution_count": 47,
   "id": "7c0e1abb-42fa-4cf1-b436-103db7dc4188",
   "metadata": {},
   "outputs": [
    {
     "data": {
      "text/plain": [
       "30"
      ]
     },
     "execution_count": 47,
     "metadata": {},
     "output_type": "execute_result"
    }
   ],
   "source": [
    "l[2]"
   ]
  },
  {
   "cell_type": "code",
   "execution_count": 48,
   "id": "248f3553-0dda-4e4c-b21d-3e13c2477d48",
   "metadata": {},
   "outputs": [
    {
     "data": {
      "text/plain": [
       "[30, 10, 8.0]"
      ]
     },
     "execution_count": 48,
     "metadata": {},
     "output_type": "execute_result"
    }
   ],
   "source": [
    "l[2:5] # n-1 formula "
   ]
  },
  {
   "cell_type": "code",
   "execution_count": 49,
   "id": "46b9d767-8386-4c74-9fc8-69f5fdd43d72",
   "metadata": {},
   "outputs": [
    {
     "data": {
      "text/plain": [
       "[1000, 'AMX', 30, 10, 8.0, None, 'monty', True]"
      ]
     },
     "execution_count": 49,
     "metadata": {},
     "output_type": "execute_result"
    }
   ],
   "source": [
    "l"
   ]
  },
  {
   "cell_type": "code",
   "execution_count": 50,
   "id": "4f5590e4-1c17-4051-9b86-3ead0e6bddcf",
   "metadata": {},
   "outputs": [
    {
     "data": {
      "text/plain": [
       "8.0"
      ]
     },
     "execution_count": 50,
     "metadata": {},
     "output_type": "execute_result"
    }
   ],
   "source": [
    "l[4]"
   ]
  },
  {
   "cell_type": "code",
   "execution_count": 51,
   "id": "d0673a75-b34a-4ed3-9818-ec5debefbc67",
   "metadata": {},
   "outputs": [
    {
     "data": {
      "text/plain": [
       "[1000, 'AMX', 30, 10, 8.0, None, 'monty', True]"
      ]
     },
     "execution_count": 51,
     "metadata": {},
     "output_type": "execute_result"
    }
   ],
   "source": [
    "l"
   ]
  },
  {
   "cell_type": "code",
   "execution_count": 52,
   "id": "9245d6dd-21d3-45d5-9d39-cc459a66a85a",
   "metadata": {},
   "outputs": [
    {
     "data": {
      "text/plain": [
       "[8.0, None, 'monty', True]"
      ]
     },
     "execution_count": 52,
     "metadata": {},
     "output_type": "execute_result"
    }
   ],
   "source": [
    "l[4:] # print the element from 4th index"
   ]
  },
  {
   "cell_type": "code",
   "execution_count": 53,
   "id": "39544ef1-da4e-450f-b154-cf384195d5e6",
   "metadata": {},
   "outputs": [
    {
     "data": {
      "text/plain": [
       "[1000, 'AMX', 30, 10, 8.0, None, 'monty', True]"
      ]
     },
     "execution_count": 53,
     "metadata": {},
     "output_type": "execute_result"
    }
   ],
   "source": [
    "l"
   ]
  },
  {
   "cell_type": "code",
   "execution_count": 54,
   "id": "3d0c74e6-df4d-4633-87f1-aae0caa7d2d1",
   "metadata": {},
   "outputs": [
    {
     "data": {
      "text/plain": [
       "[1000, 'AMX', 30, 10]"
      ]
     },
     "execution_count": 54,
     "metadata": {},
     "output_type": "execute_result"
    }
   ],
   "source": [
    "l[:4]"
   ]
  },
  {
   "cell_type": "code",
   "execution_count": 55,
   "id": "133f5356-8e7e-4f94-9581-32ab3cf604c7",
   "metadata": {},
   "outputs": [
    {
     "data": {
      "text/plain": [
       "[1000, 'AMX', 30, 10, 8.0, None, 'monty', True]"
      ]
     },
     "execution_count": 55,
     "metadata": {},
     "output_type": "execute_result"
    }
   ],
   "source": [
    "l"
   ]
  },
  {
   "cell_type": "code",
   "execution_count": 56,
   "id": "6815a79e-7a67-499b-947f-533209fbaf41",
   "metadata": {},
   "outputs": [
    {
     "data": {
      "text/plain": [
       "30"
      ]
     },
     "execution_count": 56,
     "metadata": {},
     "output_type": "execute_result"
    }
   ],
   "source": [
    "l[2]"
   ]
  },
  {
   "cell_type": "code",
   "execution_count": 57,
   "id": "bc2badd8-2ac8-4bd9-93e6-4a82bff035aa",
   "metadata": {},
   "outputs": [],
   "source": [
    "l[2] = 'hi'"
   ]
  },
  {
   "cell_type": "code",
   "execution_count": 58,
   "id": "516d426b-3e1d-46f8-8e16-ab199d5cfc7f",
   "metadata": {},
   "outputs": [
    {
     "data": {
      "text/plain": [
       "[1000, 'AMX', 'hi', 10, 8.0, None, 'monty', True]"
      ]
     },
     "execution_count": 58,
     "metadata": {},
     "output_type": "execute_result"
    }
   ],
   "source": [
    "l"
   ]
  },
  {
   "cell_type": "code",
   "execution_count": 60,
   "id": "73aa6197-d305-4536-b443-9c2a94d8ce9f",
   "metadata": {},
   "outputs": [
    {
     "data": {
      "text/plain": [
       "['hi', 10, 8.0, None]"
      ]
     },
     "execution_count": 60,
     "metadata": {},
     "output_type": "execute_result"
    }
   ],
   "source": [
    "l[2:-2]"
   ]
  },
  {
   "cell_type": "code",
   "execution_count": 61,
   "id": "93b7d0a3-2a53-4210-9038-7243a2b1ce4b",
   "metadata": {},
   "outputs": [
    {
     "data": {
      "text/plain": [
       "[1000, 'AMX', 'hi', 10, 8.0, None, 'monty', True]"
      ]
     },
     "execution_count": 61,
     "metadata": {},
     "output_type": "execute_result"
    }
   ],
   "source": [
    "l"
   ]
  },
  {
   "cell_type": "code",
   "execution_count": 62,
   "id": "55222219-72e3-41f8-b932-e6361f0ae7d0",
   "metadata": {},
   "outputs": [
    {
     "data": {
      "text/plain": [
       "[1000, 'AMX', 'hi', 10, 8.0, None, 'monty']"
      ]
     },
     "execution_count": 62,
     "metadata": {},
     "output_type": "execute_result"
    }
   ],
   "source": [
    "l[0:-1]"
   ]
  },
  {
   "cell_type": "code",
   "execution_count": 63,
   "id": "50112a74-c768-4d6a-82a2-36b7cfc103ea",
   "metadata": {},
   "outputs": [
    {
     "data": {
      "text/plain": [
       "[1000, 'AMX', 'hi', 10, 8.0, None, 'monty', True]"
      ]
     },
     "execution_count": 63,
     "metadata": {},
     "output_type": "execute_result"
    }
   ],
   "source": [
    "l[:]"
   ]
  },
  {
   "cell_type": "code",
   "execution_count": 64,
   "id": "288b0c87-a395-4e96-bded-cce7cbad1b15",
   "metadata": {},
   "outputs": [
    {
     "data": {
      "text/plain": [
       "[1000, 'AMX', 'hi', 10, 8.0, None, 'monty', True]"
      ]
     },
     "execution_count": 64,
     "metadata": {},
     "output_type": "execute_result"
    }
   ],
   "source": [
    "l"
   ]
  },
  {
   "cell_type": "code",
   "execution_count": 66,
   "id": "1541a267-8cee-46b2-b7f2-575608f2ca93",
   "metadata": {},
   "outputs": [
    {
     "data": {
      "text/plain": [
       "'AMX'"
      ]
     },
     "execution_count": 66,
     "metadata": {},
     "output_type": "execute_result"
    }
   ],
   "source": [
    "l[1]"
   ]
  },
  {
   "cell_type": "code",
   "execution_count": 67,
   "id": "5242b507-4358-4fbd-879f-595ce8ba4be6",
   "metadata": {},
   "outputs": [
    {
     "data": {
      "text/plain": [
       "[1000, 'AMX', 'hi', 10, 8.0, None, 'monty', True]"
      ]
     },
     "execution_count": 67,
     "metadata": {},
     "output_type": "execute_result"
    }
   ],
   "source": [
    "l[:]"
   ]
  },
  {
   "cell_type": "code",
   "execution_count": 68,
   "id": "10869e16-aacb-4328-bc32-2c63cb82b06d",
   "metadata": {},
   "outputs": [
    {
     "data": {
      "text/plain": [
       "True"
      ]
     },
     "execution_count": 68,
     "metadata": {},
     "output_type": "execute_result"
    }
   ],
   "source": [
    "l[-1]"
   ]
  },
  {
   "cell_type": "code",
   "execution_count": 69,
   "id": "a29ed47a-bdba-4fcf-8c38-5bc82961119e",
   "metadata": {},
   "outputs": [
    {
     "data": {
      "text/plain": [
       "1"
      ]
     },
     "execution_count": 69,
     "metadata": {},
     "output_type": "execute_result"
    }
   ],
   "source": [
    "int (True)"
   ]
  },
  {
   "cell_type": "code",
   "execution_count": 70,
   "id": "32085553-b84f-4a12-8fdf-27d1b82fb6d7",
   "metadata": {},
   "outputs": [
    {
     "data": {
      "text/plain": [
       "'monty'"
      ]
     },
     "execution_count": 70,
     "metadata": {},
     "output_type": "execute_result"
    }
   ],
   "source": [
    "l[-2]"
   ]
  },
  {
   "cell_type": "code",
   "execution_count": 71,
   "id": "db70a3cb-a170-419a-b89a-20a9224d852b",
   "metadata": {},
   "outputs": [
    {
     "data": {
      "text/plain": [
       "[1000, 'AMX', 'hi', 10, 8.0, None, 'monty', True]"
      ]
     },
     "execution_count": 71,
     "metadata": {},
     "output_type": "execute_result"
    }
   ],
   "source": [
    "l"
   ]
  },
  {
   "cell_type": "code",
   "execution_count": 72,
   "id": "92ba1a38-f280-4014-b383-d52b2b684d80",
   "metadata": {},
   "outputs": [
    {
     "data": {
      "text/plain": [
       "[1000, 'AMX', 'hi', 10, 8.0, None, 'monty', True]"
      ]
     },
     "execution_count": 72,
     "metadata": {},
     "output_type": "execute_result"
    }
   ],
   "source": [
    "l[:] # this will give us total values we passed in the object"
   ]
  },
  {
   "cell_type": "code",
   "execution_count": 73,
   "id": "f54f94d4-31b6-4e03-8491-adcea1ea73c8",
   "metadata": {},
   "outputs": [
    {
     "data": {
      "text/plain": [
       "[1000, 'AMX', 'hi', 10, 8.0, None, 'monty', True]"
      ]
     },
     "execution_count": 73,
     "metadata": {},
     "output_type": "execute_result"
    }
   ],
   "source": [
    "l"
   ]
  },
  {
   "cell_type": "code",
   "execution_count": 74,
   "id": "b1393006-b43d-46fb-8eae-8fead471658b",
   "metadata": {},
   "outputs": [
    {
     "data": {
      "text/plain": [
       "'monty'"
      ]
     },
     "execution_count": 74,
     "metadata": {},
     "output_type": "execute_result"
    }
   ],
   "source": [
    "l.pop(6)"
   ]
  },
  {
   "cell_type": "code",
   "execution_count": 75,
   "id": "e578f62e-975a-4d28-ad6d-a2b5ddad849a",
   "metadata": {},
   "outputs": [
    {
     "data": {
      "text/plain": [
       "[1000, 'AMX', 'hi', 10, 8.0, None, True]"
      ]
     },
     "execution_count": 75,
     "metadata": {},
     "output_type": "execute_result"
    }
   ],
   "source": [
    "l"
   ]
  },
  {
   "cell_type": "code",
   "execution_count": 76,
   "id": "b6f6b662-e7da-49fb-ab26-83df4df027cb",
   "metadata": {},
   "outputs": [],
   "source": [
    "del l[-2]"
   ]
  },
  {
   "cell_type": "code",
   "execution_count": 77,
   "id": "396280de-c509-4430-99eb-999af3bae403",
   "metadata": {},
   "outputs": [
    {
     "data": {
      "text/plain": [
       "[1000, 'AMX', 'hi', 10, 8.0, True]"
      ]
     },
     "execution_count": 77,
     "metadata": {},
     "output_type": "execute_result"
    }
   ],
   "source": [
    "l"
   ]
  },
  {
   "cell_type": "code",
   "execution_count": 78,
   "id": "a7ec4d4b-04b8-4ab7-8f7f-cc33320ccaec",
   "metadata": {},
   "outputs": [
    {
     "data": {
      "text/plain": [
       "[1000, 'AMX', 'hi', 10, 8.0, True]"
      ]
     },
     "execution_count": 78,
     "metadata": {},
     "output_type": "execute_result"
    }
   ],
   "source": [
    "l"
   ]
  },
  {
   "cell_type": "code",
   "execution_count": 79,
   "id": "cc2039fc-cd9d-4c70-be15-86fec1b03685",
   "metadata": {},
   "outputs": [
    {
     "data": {
      "text/plain": [
       "[1000, 'AMX', 'hi', 10, 8.0]"
      ]
     },
     "execution_count": 79,
     "metadata": {},
     "output_type": "execute_result"
    }
   ],
   "source": [
    "l[:-1]"
   ]
  },
  {
   "cell_type": "code",
   "execution_count": 80,
   "id": "c400f662-ada6-49a4-b692-2ca37e196b43",
   "metadata": {},
   "outputs": [
    {
     "data": {
      "text/plain": [
       "[1000, 'AMX', 'hi', 10, 8.0, True]"
      ]
     },
     "execution_count": 80,
     "metadata": {},
     "output_type": "execute_result"
    }
   ],
   "source": [
    "l"
   ]
  },
  {
   "cell_type": "code",
   "execution_count": 81,
   "id": "2ef8a6b9-b9bb-455e-9826-10afc99d6dd9",
   "metadata": {},
   "outputs": [],
   "source": [
    "a,b,c = [1, 'nit',[1,2,3]]"
   ]
  },
  {
   "cell_type": "code",
   "execution_count": 82,
   "id": "8c0c8918-c443-4b9d-b92a-cbb17ddfb663",
   "metadata": {},
   "outputs": [
    {
     "data": {
      "text/plain": [
       "1"
      ]
     },
     "execution_count": 82,
     "metadata": {},
     "output_type": "execute_result"
    }
   ],
   "source": [
    "a"
   ]
  },
  {
   "cell_type": "code",
   "execution_count": 83,
   "id": "bfd25539-f7fd-49d7-9c3d-23425dfacd11",
   "metadata": {},
   "outputs": [
    {
     "data": {
      "text/plain": [
       "'nit'"
      ]
     },
     "execution_count": 83,
     "metadata": {},
     "output_type": "execute_result"
    }
   ],
   "source": [
    "b"
   ]
  },
  {
   "cell_type": "code",
   "execution_count": 84,
   "id": "87f74173-52a1-4aa8-af54-76128258cabe",
   "metadata": {},
   "outputs": [
    {
     "data": {
      "text/plain": [
       "[1, 2, 3]"
      ]
     },
     "execution_count": 84,
     "metadata": {},
     "output_type": "execute_result"
    }
   ],
   "source": [
    "c"
   ]
  },
  {
   "cell_type": "code",
   "execution_count": 85,
   "id": "53429785-e8dd-41a7-97fc-7b8929a69d09",
   "metadata": {},
   "outputs": [],
   "source": [
    "a1, b1, c1 = [1, 'nit',[1,2,3]]"
   ]
  },
  {
   "cell_type": "code",
   "execution_count": 86,
   "id": "5aaa6328-81e9-414f-83a9-9239c88397f1",
   "metadata": {},
   "outputs": [
    {
     "data": {
      "text/plain": [
       "1"
      ]
     },
     "execution_count": 86,
     "metadata": {},
     "output_type": "execute_result"
    }
   ],
   "source": [
    "a1"
   ]
  },
  {
   "cell_type": "code",
   "execution_count": 87,
   "id": "ab32d139-856e-41af-8f30-4771c6df6518",
   "metadata": {},
   "outputs": [
    {
     "data": {
      "text/plain": [
       "'nit'"
      ]
     },
     "execution_count": 87,
     "metadata": {},
     "output_type": "execute_result"
    }
   ],
   "source": [
    "b1"
   ]
  },
  {
   "cell_type": "code",
   "execution_count": 88,
   "id": "63a530d2-fffe-429c-ac94-b20796e73f9a",
   "metadata": {},
   "outputs": [],
   "source": [
    "l2 = [a1,b1,c1]"
   ]
  },
  {
   "cell_type": "code",
   "execution_count": 89,
   "id": "c5689b30-7b2a-4022-89a4-c1afa77ed0e3",
   "metadata": {},
   "outputs": [
    {
     "data": {
      "text/plain": [
       "[1, 'nit', [1, 2, 3]]"
      ]
     },
     "execution_count": 89,
     "metadata": {},
     "output_type": "execute_result"
    }
   ],
   "source": [
    "l2"
   ]
  },
  {
   "cell_type": "code",
   "execution_count": 90,
   "id": "2595c068-41c4-49fc-9f35-47c4ebf4292b",
   "metadata": {},
   "outputs": [
    {
     "data": {
      "text/plain": [
       "[1000, 'AMX', 'hi', 10, 8.0, True]"
      ]
     },
     "execution_count": 90,
     "metadata": {},
     "output_type": "execute_result"
    }
   ],
   "source": [
    "l"
   ]
  },
  {
   "cell_type": "code",
   "execution_count": 91,
   "id": "cbd1a6a5-936e-4edf-bf04-af5321d26f6c",
   "metadata": {},
   "outputs": [
    {
     "data": {
      "text/plain": [
       "[True, 8.0, 10, 'hi', 'AMX', 1000]"
      ]
     },
     "execution_count": 91,
     "metadata": {},
     "output_type": "execute_result"
    }
   ],
   "source": [
    "l[::-1] # reverse order"
   ]
  },
  {
   "cell_type": "code",
   "execution_count": 92,
   "id": "28dde71f-5f83-465d-869a-cc80e9da3e63",
   "metadata": {},
   "outputs": [
    {
     "data": {
      "text/plain": [
       "[1000, 'AMX', 'hi', 10, 8.0, True]"
      ]
     },
     "execution_count": 92,
     "metadata": {},
     "output_type": "execute_result"
    }
   ],
   "source": [
    "l"
   ]
  },
  {
   "cell_type": "code",
   "execution_count": 93,
   "id": "a8408b12-2b28-48a8-99ed-f6235b64d05e",
   "metadata": {},
   "outputs": [
    {
     "data": {
      "text/plain": [
       "[1000, 'AMX', 'hi', 10, 8.0, True]"
      ]
     },
     "execution_count": 93,
     "metadata": {},
     "output_type": "execute_result"
    }
   ],
   "source": [
    "l"
   ]
  },
  {
   "cell_type": "code",
   "execution_count": 94,
   "id": "935a114f-d319-4faf-a1b6-04889ec4d872",
   "metadata": {},
   "outputs": [
    {
     "data": {
      "text/plain": [
       "[True, 10, 'AMX']"
      ]
     },
     "execution_count": 94,
     "metadata": {},
     "output_type": "execute_result"
    }
   ],
   "source": [
    "l[::-2]"
   ]
  },
  {
   "cell_type": "code",
   "execution_count": 95,
   "id": "59d0cb6a-f68a-4471-af11-343994ac0aad",
   "metadata": {},
   "outputs": [
    {
     "data": {
      "text/plain": [
       "[1000, 'AMX', 'hi', 10, 8.0, True]"
      ]
     },
     "execution_count": 95,
     "metadata": {},
     "output_type": "execute_result"
    }
   ],
   "source": [
    "l"
   ]
  },
  {
   "cell_type": "code",
   "execution_count": 96,
   "id": "f24823cd-1383-4e35-810a-6a4f2582c4ca",
   "metadata": {},
   "outputs": [
    {
     "data": {
      "text/plain": [
       "[1000, 'AMX', 'hi', 10, 8.0, True]"
      ]
     },
     "execution_count": 96,
     "metadata": {},
     "output_type": "execute_result"
    }
   ],
   "source": [
    "l"
   ]
  },
  {
   "cell_type": "code",
   "execution_count": 97,
   "id": "38fa9fd0-228f-49ba-ad18-02666c7a8aa6",
   "metadata": {},
   "outputs": [
    {
     "data": {
      "text/plain": [
       "[True, 'hi']"
      ]
     },
     "execution_count": 97,
     "metadata": {},
     "output_type": "execute_result"
    }
   ],
   "source": [
    "l[:: -3]"
   ]
  },
  {
   "cell_type": "code",
   "execution_count": 98,
   "id": "28ef902f-3bdd-4bd9-ae01-5ca49c7a1c1a",
   "metadata": {},
   "outputs": [
    {
     "data": {
      "text/plain": [
       "[1000, 'AMX', 'hi', 10, 8.0, True]"
      ]
     },
     "execution_count": 98,
     "metadata": {},
     "output_type": "execute_result"
    }
   ],
   "source": [
    "l"
   ]
  },
  {
   "cell_type": "code",
   "execution_count": 99,
   "id": "6eac0ac2-f7b7-4fbd-adb9-d6f4a7262d93",
   "metadata": {},
   "outputs": [
    {
     "data": {
      "text/plain": [
       "[1000, 'AMX', 'hi', 10, 8.0, True]"
      ]
     },
     "execution_count": 99,
     "metadata": {},
     "output_type": "execute_result"
    }
   ],
   "source": [
    "l"
   ]
  },
  {
   "cell_type": "code",
   "execution_count": 100,
   "id": "953b2280-f511-440d-b12f-c63c9150f243",
   "metadata": {},
   "outputs": [
    {
     "data": {
      "text/plain": [
       "[1000, 'AMX', 'hi', 10]"
      ]
     },
     "execution_count": 100,
     "metadata": {},
     "output_type": "execute_result"
    }
   ],
   "source": [
    "l[:-2]"
   ]
  },
  {
   "cell_type": "code",
   "execution_count": 101,
   "id": "bb7c84e5-efc8-4d02-9928-1c852fd95d70",
   "metadata": {},
   "outputs": [
    {
     "data": {
      "text/plain": [
       "[1000, 'AMX', 'hi', 10, 8.0, True]"
      ]
     },
     "execution_count": 101,
     "metadata": {},
     "output_type": "execute_result"
    }
   ],
   "source": [
    "l"
   ]
  },
  {
   "cell_type": "code",
   "execution_count": 103,
   "id": "2332c6f5-dcc7-4c79-829b-4d4ecbfeaedd",
   "metadata": {},
   "outputs": [
    {
     "data": {
      "text/plain": [
       "[1000, 'AMX', 'hi', 10, True]"
      ]
     },
     "execution_count": 103,
     "metadata": {},
     "output_type": "execute_result"
    }
   ],
   "source": [
    "l.remove(8.0)\n",
    "l"
   ]
  },
  {
   "cell_type": "code",
   "execution_count": 104,
   "id": "8b1f643c-b2af-4eaa-826d-64ed1a29a1c3",
   "metadata": {},
   "outputs": [
    {
     "data": {
      "text/plain": [
       "[1000, 'AMX', 'hi', 10, True]"
      ]
     },
     "execution_count": 104,
     "metadata": {},
     "output_type": "execute_result"
    }
   ],
   "source": [
    "l"
   ]
  },
  {
   "cell_type": "code",
   "execution_count": 105,
   "id": "d2569b9c-6bf1-4a35-bceb-38cc5ebd36ed",
   "metadata": {},
   "outputs": [
    {
     "ename": "ValueError",
     "evalue": "list.remove(x): x not in list",
     "output_type": "error",
     "traceback": [
      "\u001b[1;31m---------------------------------------------------------------------------\u001b[0m",
      "\u001b[1;31mValueError\u001b[0m                                Traceback (most recent call last)",
      "Cell \u001b[1;32mIn[105], line 1\u001b[0m\n\u001b[1;32m----> 1\u001b[0m l\u001b[38;5;241m.\u001b[39mremove(\u001b[38;5;124m'\u001b[39m\u001b[38;5;124m7\u001b[39m\u001b[38;5;124m'\u001b[39m)\n\u001b[0;32m      2\u001b[0m l\n",
      "\u001b[1;31mValueError\u001b[0m: list.remove(x): x not in list"
     ]
    }
   ],
   "source": [
    "l.remove('7')\n",
    "l"
   ]
  },
  {
   "cell_type": "code",
   "execution_count": 107,
   "id": "bb1a3415-de4f-4fed-9f3f-505d78bec0cb",
   "metadata": {},
   "outputs": [
    {
     "data": {
      "text/plain": [
       "[1000, 'AMX', 'hi', 10, True]"
      ]
     },
     "execution_count": 107,
     "metadata": {},
     "output_type": "execute_result"
    }
   ],
   "source": [
    "l[-1]\n",
    "l"
   ]
  },
  {
   "cell_type": "code",
   "execution_count": 108,
   "id": "8b8648bc-608a-4f4f-abdc-4a88da6900c4",
   "metadata": {},
   "outputs": [
    {
     "data": {
      "text/plain": [
       "[1000, 'AMX', 'hi', 10, True]"
      ]
     },
     "execution_count": 108,
     "metadata": {},
     "output_type": "execute_result"
    }
   ],
   "source": [
    "l"
   ]
  },
  {
   "cell_type": "code",
   "execution_count": 109,
   "id": "04b2fa4a-be35-4def-b7a7-664de0a4380a",
   "metadata": {},
   "outputs": [
    {
     "data": {
      "text/plain": [
       "[1000, 'AMX']"
      ]
     },
     "execution_count": 109,
     "metadata": {},
     "output_type": "execute_result"
    }
   ],
   "source": [
    "l[:-3]"
   ]
  },
  {
   "cell_type": "code",
   "execution_count": 110,
   "id": "d70084cd-ae3b-4e0b-bc1a-4a6d22650b20",
   "metadata": {},
   "outputs": [
    {
     "data": {
      "text/plain": [
       "[1000, 'AMX', 'hi', 10, True]"
      ]
     },
     "execution_count": 110,
     "metadata": {},
     "output_type": "execute_result"
    }
   ],
   "source": [
    "l"
   ]
  },
  {
   "cell_type": "code",
   "execution_count": 111,
   "id": "db0ac862-2d66-44f3-bcab-c84adc7234fe",
   "metadata": {},
   "outputs": [
    {
     "data": {
      "text/plain": [
       "'hi'"
      ]
     },
     "execution_count": 111,
     "metadata": {},
     "output_type": "execute_result"
    }
   ],
   "source": [
    "l[2]"
   ]
  },
  {
   "cell_type": "code",
   "execution_count": 112,
   "id": "7ef94983-3ba9-4fbf-b6ca-11b4d0237702",
   "metadata": {},
   "outputs": [
    {
     "data": {
      "text/plain": [
       "[1000, 'AMX', 'hi', 10, True]"
      ]
     },
     "execution_count": 112,
     "metadata": {},
     "output_type": "execute_result"
    }
   ],
   "source": [
    "l"
   ]
  },
  {
   "cell_type": "code",
   "execution_count": 114,
   "id": "aafbbd36-17a5-41a2-92fc-26ffeb439baf",
   "metadata": {},
   "outputs": [
    {
     "data": {
      "text/plain": [
       "[1000, 'AMX', 'hi', 10]"
      ]
     },
     "execution_count": 114,
     "metadata": {},
     "output_type": "execute_result"
    }
   ],
   "source": [
    "l[:-1]"
   ]
  },
  {
   "cell_type": "markdown",
   "id": "4fd77179-8cb5-417d-9ab5-0ea6a5fc940b",
   "metadata": {},
   "source": [
    "# TUPLE"
   ]
  },
  {
   "cell_type": "markdown",
   "id": "41050ba5-4597-45b7-805d-7840e246b621",
   "metadata": {},
   "source": [
    "# LIST DATATYPE"
   ]
  },
  {
   "cell_type": "code",
   "execution_count": 115,
   "id": "be1e18a1-caee-48b9-b291-3dc59889eb1e",
   "metadata": {},
   "outputs": [],
   "source": [
    "l = [10,20,30,40] # list datastructure\n",
    "t = (10,20,30,40) # tuple datastructure"
   ]
  },
  {
   "cell_type": "code",
   "execution_count": 116,
   "id": "32434adf-f780-4469-bb46-891d5dd0e8af",
   "metadata": {},
   "outputs": [
    {
     "data": {
      "text/plain": [
       "int"
      ]
     },
     "execution_count": 116,
     "metadata": {},
     "output_type": "execute_result"
    }
   ],
   "source": [
    "type(1)"
   ]
  },
  {
   "cell_type": "code",
   "execution_count": 117,
   "id": "a77872c8-d8c9-43aa-9467-d2f9a1b30bf7",
   "metadata": {},
   "outputs": [
    {
     "data": {
      "text/plain": [
       "tuple"
      ]
     },
     "execution_count": 117,
     "metadata": {},
     "output_type": "execute_result"
    }
   ],
   "source": [
    "type(t)"
   ]
  },
  {
   "cell_type": "code",
   "execution_count": 118,
   "id": "535d6a36-6165-4449-9d8a-1e9ee956cf80",
   "metadata": {},
   "outputs": [
    {
     "data": {
      "text/plain": [
       "[10, 20, 30, 40]"
      ]
     },
     "execution_count": 118,
     "metadata": {},
     "output_type": "execute_result"
    }
   ],
   "source": [
    "l"
   ]
  },
  {
   "cell_type": "code",
   "execution_count": 119,
   "id": "62fe66bc-bcec-4b7b-a81f-0bf3ee9df590",
   "metadata": {},
   "outputs": [
    {
     "data": {
      "text/plain": [
       "(10, 20, 30, 40)"
      ]
     },
     "execution_count": 119,
     "metadata": {},
     "output_type": "execute_result"
    }
   ],
   "source": [
    "t"
   ]
  },
  {
   "cell_type": "code",
   "execution_count": 120,
   "id": "21f15a56-72fa-4c38-9c4a-98bc20ffe76c",
   "metadata": {},
   "outputs": [
    {
     "data": {
      "text/plain": [
       "[10, 20, 30, 40]"
      ]
     },
     "execution_count": 120,
     "metadata": {},
     "output_type": "execute_result"
    }
   ],
   "source": [
    "l[:]"
   ]
  },
  {
   "cell_type": "code",
   "execution_count": 121,
   "id": "bd8209d4-8627-4d2d-b9f0-1ec3912cf470",
   "metadata": {},
   "outputs": [
    {
     "data": {
      "text/plain": [
       "(10, 20, 30, 40)"
      ]
     },
     "execution_count": 121,
     "metadata": {},
     "output_type": "execute_result"
    }
   ],
   "source": [
    "t[:]"
   ]
  },
  {
   "cell_type": "code",
   "execution_count": 1,
   "id": "db0f321b-e225-4655-bc67-4f8bcfa4c0fa",
   "metadata": {},
   "outputs": [
    {
     "data": {
      "text/plain": [
       "(10, 'swati', True, 5.8, 10)"
      ]
     },
     "execution_count": 1,
     "metadata": {},
     "output_type": "execute_result"
    }
   ],
   "source": [
    "t1 = (10,'swati',True,5.8, 10)\n",
    "t1"
   ]
  },
  {
   "cell_type": "code",
   "execution_count": 2,
   "id": "bb17394a-9535-462b-bf36-cbd00d8338ae",
   "metadata": {},
   "outputs": [
    {
     "data": {
      "text/plain": [
       "10"
      ]
     },
     "execution_count": 2,
     "metadata": {},
     "output_type": "execute_result"
    }
   ],
   "source": [
    "t1[0]"
   ]
  },
  {
   "cell_type": "code",
   "execution_count": 4,
   "id": "5cf7e83b-6f31-458c-8550-fb75450615ac",
   "metadata": {},
   "outputs": [
    {
     "ename": "TypeError",
     "evalue": "'tuple' object does not support item assignment",
     "output_type": "error",
     "traceback": [
      "\u001b[1;31m---------------------------------------------------------------------------\u001b[0m",
      "\u001b[1;31mTypeError\u001b[0m                                 Traceback (most recent call last)",
      "Cell \u001b[1;32mIn[4], line 1\u001b[0m\n\u001b[1;32m----> 1\u001b[0m t1[\u001b[38;5;241m0\u001b[39m] \u001b[38;5;241m=\u001b[39m \u001b[38;5;241m100\u001b[39m\n",
      "\u001b[1;31mTypeError\u001b[0m: 'tuple' object does not support item assignment"
     ]
    }
   ],
   "source": [
    "t1[0] = 100"
   ]
  },
  {
   "cell_type": "code",
   "execution_count": 5,
   "id": "d56755ad-3332-4786-ae8e-0b084c64cabc",
   "metadata": {},
   "outputs": [
    {
     "data": {
      "text/plain": [
       "tuple"
      ]
     },
     "execution_count": 5,
     "metadata": {},
     "output_type": "execute_result"
    }
   ],
   "source": [
    "icici = (1234,'abc34r',37,20000)\n",
    "type(icici)"
   ]
  },
  {
   "cell_type": "code",
   "execution_count": 6,
   "id": "a36dd997-949d-4e1c-87ec-ba124c3e6edb",
   "metadata": {},
   "outputs": [
    {
     "ename": "TypeError",
     "evalue": "'tuple' object does not support item assignment",
     "output_type": "error",
     "traceback": [
      "\u001b[1;31m---------------------------------------------------------------------------\u001b[0m",
      "\u001b[1;31mTypeError\u001b[0m                                 Traceback (most recent call last)",
      "Cell \u001b[1;32mIn[6], line 1\u001b[0m\n\u001b[1;32m----> 1\u001b[0m icici[\u001b[38;5;241m1234\u001b[39m]\u001b[38;5;241m=\u001b[39m\u001b[38;5;241m2345\u001b[39m\n",
      "\u001b[1;31mTypeError\u001b[0m: 'tuple' object does not support item assignment"
     ]
    }
   ],
   "source": [
    "icici[1234]=2345"
   ]
  },
  {
   "cell_type": "code",
   "execution_count": 7,
   "id": "bccd3e5b-f35f-4eb3-bd7b-99e9302b31b7",
   "metadata": {},
   "outputs": [
    {
     "ename": "AttributeError",
     "evalue": "'tuple' object has no attribute 'append'",
     "output_type": "error",
     "traceback": [
      "\u001b[1;31m---------------------------------------------------------------------------\u001b[0m",
      "\u001b[1;31mAttributeError\u001b[0m                            Traceback (most recent call last)",
      "Cell \u001b[1;32mIn[7], line 1\u001b[0m\n\u001b[1;32m----> 1\u001b[0m icici\u001b[38;5;241m.\u001b[39mappend(\u001b[38;5;241m45\u001b[39m)\n",
      "\u001b[1;31mAttributeError\u001b[0m: 'tuple' object has no attribute 'append'"
     ]
    }
   ],
   "source": [
    "icici.append(45)"
   ]
  },
  {
   "cell_type": "code",
   "execution_count": 8,
   "id": "c4e3b6a3-176c-4a78-a412-a4f32e0b401d",
   "metadata": {},
   "outputs": [
    {
     "data": {
      "text/plain": [
       "(1234, 'abc34r', 37, 20000)"
      ]
     },
     "execution_count": 8,
     "metadata": {},
     "output_type": "execute_result"
    }
   ],
   "source": [
    "icici"
   ]
  },
  {
   "cell_type": "code",
   "execution_count": 9,
   "id": "770760ca-1dbc-43a7-90b5-044d744dbac2",
   "metadata": {},
   "outputs": [
    {
     "ename": "AttributeError",
     "evalue": "'tuple' object has no attribute 'remove'",
     "output_type": "error",
     "traceback": [
      "\u001b[1;31m---------------------------------------------------------------------------\u001b[0m",
      "\u001b[1;31mAttributeError\u001b[0m                            Traceback (most recent call last)",
      "Cell \u001b[1;32mIn[9], line 1\u001b[0m\n\u001b[1;32m----> 1\u001b[0m icici\u001b[38;5;241m.\u001b[39mremove(\u001b[38;5;241m1234\u001b[39m)\n",
      "\u001b[1;31mAttributeError\u001b[0m: 'tuple' object has no attribute 'remove'"
     ]
    }
   ],
   "source": [
    "icici.remove(1234)"
   ]
  },
  {
   "cell_type": "code",
   "execution_count": 10,
   "id": "d1e289ba-6290-4aad-b760-afcef66b9e17",
   "metadata": {},
   "outputs": [
    {
     "data": {
      "text/plain": [
       "4"
      ]
     },
     "execution_count": 10,
     "metadata": {},
     "output_type": "execute_result"
    }
   ],
   "source": [
    "len(icici)"
   ]
  },
  {
   "cell_type": "code",
   "execution_count": 11,
   "id": "d7b2c845-e4c0-4a56-a8f8-9f9f77cddfaa",
   "metadata": {},
   "outputs": [
    {
     "data": {
      "text/plain": [
       "(10, 'swati', True, 5.8, 10)"
      ]
     },
     "execution_count": 11,
     "metadata": {},
     "output_type": "execute_result"
    }
   ],
   "source": [
    "len(t1)\n",
    "t1"
   ]
  },
  {
   "cell_type": "code",
   "execution_count": 12,
   "id": "1be38741-6fcf-4728-891b-0cecb2fe41b1",
   "metadata": {},
   "outputs": [
    {
     "data": {
      "text/plain": [
       "10"
      ]
     },
     "execution_count": 12,
     "metadata": {},
     "output_type": "execute_result"
    }
   ],
   "source": [
    "t1[0]"
   ]
  },
  {
   "cell_type": "code",
   "execution_count": 13,
   "id": "6e27644f-7852-4bf0-a080-eaa33146b9a6",
   "metadata": {},
   "outputs": [
    {
     "data": {
      "text/plain": [
       "tuple"
      ]
     },
     "execution_count": 13,
     "metadata": {},
     "output_type": "execute_result"
    }
   ],
   "source": [
    "type(t1)"
   ]
  },
  {
   "cell_type": "code",
   "execution_count": 14,
   "id": "adae34f7-eb52-406f-bfce-2399d09fd734",
   "metadata": {},
   "outputs": [
    {
     "data": {
      "text/plain": [
       "(10, 'swati', True, 5.8, 10)"
      ]
     },
     "execution_count": 14,
     "metadata": {},
     "output_type": "execute_result"
    }
   ],
   "source": [
    "t1"
   ]
  },
  {
   "cell_type": "code",
   "execution_count": 15,
   "id": "a84a8739-8cb3-4f12-a1c9-febe3be74844",
   "metadata": {},
   "outputs": [
    {
     "data": {
      "text/plain": [
       "10"
      ]
     },
     "execution_count": 15,
     "metadata": {},
     "output_type": "execute_result"
    }
   ],
   "source": [
    "t1[0]"
   ]
  },
  {
   "cell_type": "code",
   "execution_count": 16,
   "id": "e6788a87-6fa3-441a-9d55-083caa5f5466",
   "metadata": {},
   "outputs": [
    {
     "data": {
      "text/plain": [
       "tuple"
      ]
     },
     "execution_count": 16,
     "metadata": {},
     "output_type": "execute_result"
    }
   ],
   "source": [
    "type(t1)"
   ]
  },
  {
   "cell_type": "code",
   "execution_count": 17,
   "id": "3bdb2a03-d16b-4201-a540-d4545b62cff9",
   "metadata": {},
   "outputs": [
    {
     "data": {
      "text/plain": [
       "(10, 'swati', True, 5.8, 10)"
      ]
     },
     "execution_count": 17,
     "metadata": {},
     "output_type": "execute_result"
    }
   ],
   "source": [
    "t1"
   ]
  },
  {
   "cell_type": "code",
   "execution_count": 18,
   "id": "47768540-e294-4e20-ad8a-8ad891a58237",
   "metadata": {},
   "outputs": [
    {
     "data": {
      "text/plain": [
       "(10, 'swati', True, 5.8, 10)"
      ]
     },
     "execution_count": 18,
     "metadata": {},
     "output_type": "execute_result"
    }
   ],
   "source": [
    "t1"
   ]
  },
  {
   "cell_type": "code",
   "execution_count": 19,
   "id": "310b8e23-9917-4512-b242-3700845386ea",
   "metadata": {},
   "outputs": [
    {
     "ename": "TypeError",
     "evalue": "'tuple' object does not support item assignment",
     "output_type": "error",
     "traceback": [
      "\u001b[1;31m---------------------------------------------------------------------------\u001b[0m",
      "\u001b[1;31mTypeError\u001b[0m                                 Traceback (most recent call last)",
      "Cell \u001b[1;32mIn[19], line 1\u001b[0m\n\u001b[1;32m----> 1\u001b[0m t1[\u001b[38;5;241m0\u001b[39m]\u001b[38;5;241m=\u001b[39m \u001b[38;5;241m20\u001b[39m\n",
      "\u001b[1;31mTypeError\u001b[0m: 'tuple' object does not support item assignment"
     ]
    }
   ],
   "source": [
    "t1[0]= 20 # tuple is immutable"
   ]
  },
  {
   "cell_type": "code",
   "execution_count": 20,
   "id": "c400bd49-33b0-4de0-80ae-75e10080c730",
   "metadata": {},
   "outputs": [
    {
     "data": {
      "text/plain": [
       "(10, 'swati', True, 5.8, 10)"
      ]
     },
     "execution_count": 20,
     "metadata": {},
     "output_type": "execute_result"
    }
   ],
   "source": [
    "t1"
   ]
  },
  {
   "cell_type": "code",
   "execution_count": 21,
   "id": "a9923738-8e0f-41e6-9f9b-d692371a9f46",
   "metadata": {},
   "outputs": [
    {
     "ename": "TypeError",
     "evalue": "'tuple' object does not support item assignment",
     "output_type": "error",
     "traceback": [
      "\u001b[1;31m---------------------------------------------------------------------------\u001b[0m",
      "\u001b[1;31mTypeError\u001b[0m                                 Traceback (most recent call last)",
      "Cell \u001b[1;32mIn[21], line 1\u001b[0m\n\u001b[1;32m----> 1\u001b[0m t1[\u001b[38;5;241m1\u001b[39m] \u001b[38;5;241m=\u001b[39m \u001b[38;5;241m20\u001b[39m\n",
      "\u001b[1;31mTypeError\u001b[0m: 'tuple' object does not support item assignment"
     ]
    }
   ],
   "source": [
    "t1[1] = 20 "
   ]
  },
  {
   "cell_type": "code",
   "execution_count": 22,
   "id": "d79a7004-7c9b-4980-9ac7-d99b2ba1b21e",
   "metadata": {},
   "outputs": [
    {
     "data": {
      "text/plain": [
       "(10, 'swati', True, 5.8, 10)"
      ]
     },
     "execution_count": 22,
     "metadata": {},
     "output_type": "execute_result"
    }
   ],
   "source": [
    "t1"
   ]
  },
  {
   "cell_type": "code",
   "execution_count": 24,
   "id": "50e3c02b-1cad-434b-a6f6-171674568397",
   "metadata": {},
   "outputs": [
    {
     "data": {
      "text/plain": [
       "(10, 'swati', True)"
      ]
     },
     "execution_count": 24,
     "metadata": {},
     "output_type": "execute_result"
    }
   ],
   "source": [
    "t1[0:3]\n"
   ]
  },
  {
   "cell_type": "code",
   "execution_count": 25,
   "id": "da988922-2336-4a20-afed-3bc416ac5a90",
   "metadata": {},
   "outputs": [
    {
     "data": {
      "text/plain": [
       "(10, 'swati', True, 5.8, 10)"
      ]
     },
     "execution_count": 25,
     "metadata": {},
     "output_type": "execute_result"
    }
   ],
   "source": [
    "t1"
   ]
  },
  {
   "cell_type": "code",
   "execution_count": 26,
   "id": "893d5684-55eb-4ce0-9c83-4143bd997c4e",
   "metadata": {},
   "outputs": [
    {
     "ename": "NameError",
     "evalue": "name 't' is not defined",
     "output_type": "error",
     "traceback": [
      "\u001b[1;31m---------------------------------------------------------------------------\u001b[0m",
      "\u001b[1;31mNameError\u001b[0m                                 Traceback (most recent call last)",
      "Cell \u001b[1;32mIn[26], line 1\u001b[0m\n\u001b[1;32m----> 1\u001b[0m t\n",
      "\u001b[1;31mNameError\u001b[0m: name 't' is not defined"
     ]
    }
   ],
   "source": [
    "t"
   ]
  },
  {
   "cell_type": "code",
   "execution_count": 27,
   "id": "19e1fa0e-d328-4a08-8a7f-8aba2189059b",
   "metadata": {},
   "outputs": [
    {
     "ename": "NameError",
     "evalue": "name 't' is not defined",
     "output_type": "error",
     "traceback": [
      "\u001b[1;31m---------------------------------------------------------------------------\u001b[0m",
      "\u001b[1;31mNameError\u001b[0m                                 Traceback (most recent call last)",
      "Cell \u001b[1;32mIn[27], line 1\u001b[0m\n\u001b[1;32m----> 1\u001b[0m t[\u001b[38;5;241m0\u001b[39m]\n",
      "\u001b[1;31mNameError\u001b[0m: name 't' is not defined"
     ]
    }
   ],
   "source": [
    "t[0]"
   ]
  },
  {
   "cell_type": "code",
   "execution_count": 28,
   "id": "39db78ef-806f-4598-bb4c-610fdbb09ec8",
   "metadata": {},
   "outputs": [
    {
     "ename": "NameError",
     "evalue": "name 't' is not defined",
     "output_type": "error",
     "traceback": [
      "\u001b[1;31m---------------------------------------------------------------------------\u001b[0m",
      "\u001b[1;31mNameError\u001b[0m                                 Traceback (most recent call last)",
      "Cell \u001b[1;32mIn[28], line 1\u001b[0m\n\u001b[1;32m----> 1\u001b[0m t\u001b[38;5;241m.\u001b[39mappend(\u001b[38;5;241m50\u001b[39m)\n",
      "\u001b[1;31mNameError\u001b[0m: name 't' is not defined"
     ]
    }
   ],
   "source": [
    "t.append(50)"
   ]
  },
  {
   "cell_type": "code",
   "execution_count": 29,
   "id": "af241f16-13b6-4614-9e2d-e162b50e925c",
   "metadata": {},
   "outputs": [
    {
     "ename": "NameError",
     "evalue": "name 't' is not defined",
     "output_type": "error",
     "traceback": [
      "\u001b[1;31m---------------------------------------------------------------------------\u001b[0m",
      "\u001b[1;31mNameError\u001b[0m                                 Traceback (most recent call last)",
      "Cell \u001b[1;32mIn[29], line 1\u001b[0m\n\u001b[1;32m----> 1\u001b[0m t\u001b[38;5;241m.\u001b[39madd(\u001b[38;5;241m50\u001b[39m)\n",
      "\u001b[1;31mNameError\u001b[0m: name 't' is not defined"
     ]
    }
   ],
   "source": [
    "t.add(50)"
   ]
  },
  {
   "cell_type": "markdown",
   "id": "d9b38e5c-cb5a-4ce2-a8a3-9d48d5c64e5a",
   "metadata": {},
   "source": [
    "### t = t*3\n",
    "t"
   ]
  },
  {
   "cell_type": "code",
   "execution_count": 31,
   "id": "821809bb-a7dc-4f95-b1f3-0e9c5d44e544",
   "metadata": {},
   "outputs": [],
   "source": [
    "t3 = (10,20,(2,6))   #is this valid one & u can declare list inside the tuple"
   ]
  },
  {
   "cell_type": "code",
   "execution_count": 32,
   "id": "3dfc30c0-07f2-457c-935f-c0a1106c0e8c",
   "metadata": {},
   "outputs": [
    {
     "data": {
      "text/plain": [
       "tuple"
      ]
     },
     "execution_count": 32,
     "metadata": {},
     "output_type": "execute_result"
    }
   ],
   "source": [
    "t3\n",
    "type(t3)"
   ]
  },
  {
   "cell_type": "code",
   "execution_count": 33,
   "id": "a0c53bfe-bb8e-4d30-8d4d-50992363d3c0",
   "metadata": {},
   "outputs": [
    {
     "data": {
      "text/plain": [
       "('red', 'green', 'blue')"
      ]
     },
     "execution_count": 33,
     "metadata": {},
     "output_type": "execute_result"
    }
   ],
   "source": [
    "colors = \"red\", \"green\", \"blue\"\n",
    "colors"
   ]
  },
  {
   "cell_type": "code",
   "execution_count": 34,
   "id": "850851f9-5df3-4c9e-a468-2069c03e0218",
   "metadata": {},
   "outputs": [
    {
     "data": {
      "text/plain": [
       "('blue', 'green', 'red')"
      ]
     },
     "execution_count": 34,
     "metadata": {},
     "output_type": "execute_result"
    }
   ],
   "source": [
    "colors = \"red\", \"green\", \"blue\"\n",
    "colors\n",
    "rev = colors[::-1] \n",
    "rev "
   ]
  },
  {
   "cell_type": "code",
   "execution_count": 35,
   "id": "de993214-5bae-4ca2-aecf-aecf9c60d822",
   "metadata": {},
   "outputs": [
    {
     "data": {
      "text/plain": [
       "('red', 'green')"
      ]
     },
     "execution_count": 35,
     "metadata": {},
     "output_type": "execute_result"
    }
   ],
   "source": [
    "rev = colors[:-1]\n",
    "rev"
   ]
  },
  {
   "cell_type": "code",
   "execution_count": 36,
   "id": "02ef66dc-2563-4971-ab77-4a35af45bff7",
   "metadata": {},
   "outputs": [
    {
     "data": {
      "text/plain": [
       "('red', 'green')"
      ]
     },
     "execution_count": 36,
     "metadata": {},
     "output_type": "execute_result"
    }
   ],
   "source": [
    "rev"
   ]
  },
  {
   "cell_type": "code",
   "execution_count": 37,
   "id": "fe301ed4-edd9-43a6-a809-87cacccefa93",
   "metadata": {},
   "outputs": [
    {
     "data": {
      "text/plain": [
       "('red', 'green', 'blue')"
      ]
     },
     "execution_count": 37,
     "metadata": {},
     "output_type": "execute_result"
    }
   ],
   "source": [
    "colors"
   ]
  },
  {
   "cell_type": "code",
   "execution_count": 38,
   "id": "91bf5bbd-ae35-4230-8b9a-307f0fbbde96",
   "metadata": {},
   "outputs": [
    {
     "data": {
      "text/plain": [
       "('blue', 'red')"
      ]
     },
     "execution_count": 38,
     "metadata": {},
     "output_type": "execute_result"
    }
   ],
   "source": [
    "rev1 = colors[::-2]\n",
    "rev1"
   ]
  },
  {
   "cell_type": "code",
   "execution_count": 39,
   "id": "3b0ef1a3-cf69-4c58-ac32-e251268761d3",
   "metadata": {},
   "outputs": [
    {
     "data": {
      "text/plain": [
       "('red', 'green')"
      ]
     },
     "execution_count": 39,
     "metadata": {},
     "output_type": "execute_result"
    }
   ],
   "source": [
    "colors = \"red\", \"green\", \"blue\"\n",
    "colors\n",
    "rev = colors[:-1] \n",
    "rev "
   ]
  },
  {
   "cell_type": "code",
   "execution_count": 40,
   "id": "21dc353c-6f00-4d38-8292-4f4721a86412",
   "metadata": {},
   "outputs": [
    {
     "data": {
      "text/plain": [
       "('red',)"
      ]
     },
     "execution_count": 40,
     "metadata": {},
     "output_type": "execute_result"
    }
   ],
   "source": [
    "colors = \"red\", \"green\", \"blue\"\n",
    "colors\n",
    "rev = colors[:-2] \n",
    "rev\n"
   ]
  },
  {
   "cell_type": "code",
   "execution_count": 41,
   "id": "1ebc2810-f80c-42e7-b74c-5b95ff50df7d",
   "metadata": {},
   "outputs": [
    {
     "data": {
      "text/plain": [
       "('red', 'green', 'blue')"
      ]
     },
     "execution_count": 41,
     "metadata": {},
     "output_type": "execute_result"
    }
   ],
   "source": [
    "colors"
   ]
  },
  {
   "cell_type": "code",
   "execution_count": 42,
   "id": "85252e29-04d0-4aac-85b0-5c3046383bc7",
   "metadata": {},
   "outputs": [
    {
     "data": {
      "text/plain": [
       "'blue'"
      ]
     },
     "execution_count": 42,
     "metadata": {},
     "output_type": "execute_result"
    }
   ],
   "source": [
    "colors[-1]"
   ]
  },
  {
   "cell_type": "code",
   "execution_count": 43,
   "id": "76161945-af69-4d7e-85b4-163c9651caf5",
   "metadata": {},
   "outputs": [
    {
     "data": {
      "text/plain": [
       "('red', 'green', 'blue')"
      ]
     },
     "execution_count": 43,
     "metadata": {},
     "output_type": "execute_result"
    }
   ],
   "source": [
    "colors"
   ]
  },
  {
   "cell_type": "code",
   "execution_count": 44,
   "id": "7515e3f9-5a97-42d7-943e-aa20ce43c969",
   "metadata": {},
   "outputs": [
    {
     "data": {
      "text/plain": [
       "('blue', 'green', 'red')"
      ]
     },
     "execution_count": 44,
     "metadata": {},
     "output_type": "execute_result"
    }
   ],
   "source": [
    "rev = colors[::-1]\n",
    "rev"
   ]
  },
  {
   "cell_type": "code",
   "execution_count": 45,
   "id": "f22cd7f1-5999-4a90-bc6d-30f6bc41dddb",
   "metadata": {},
   "outputs": [
    {
     "data": {
      "text/plain": [
       "tuple"
      ]
     },
     "execution_count": 45,
     "metadata": {},
     "output_type": "execute_result"
    }
   ],
   "source": [
    "type(colors)"
   ]
  },
  {
   "cell_type": "code",
   "execution_count": 46,
   "id": "933bf3e1-91f5-43a9-8e30-e0204752ad30",
   "metadata": {},
   "outputs": [
    {
     "data": {
      "text/plain": [
       "('red', 'green')"
      ]
     },
     "execution_count": 46,
     "metadata": {},
     "output_type": "execute_result"
    }
   ],
   "source": [
    "rev1 = colors[:-1]\n",
    "rev1"
   ]
  },
  {
   "cell_type": "code",
   "execution_count": 47,
   "id": "4bfbb298-5ecb-4b70-9fb6-bd680b7e530f",
   "metadata": {},
   "outputs": [
    {
     "data": {
      "text/plain": [
       "('blue', 'green', 'red')"
      ]
     },
     "execution_count": 47,
     "metadata": {},
     "output_type": "execute_result"
    }
   ],
   "source": [
    "rev = colors[::-1] # reversing order is allowed\n",
    "rev"
   ]
  },
  {
   "cell_type": "code",
   "execution_count": 48,
   "id": "3a39ebc3-a19b-4839-bcbd-3cb8dfb8ede7",
   "metadata": {},
   "outputs": [
    {
     "data": {
      "text/plain": [
       "('red', 'green', 'blue')"
      ]
     },
     "execution_count": 48,
     "metadata": {},
     "output_type": "execute_result"
    }
   ],
   "source": [
    "colors"
   ]
  },
  {
   "cell_type": "code",
   "execution_count": 50,
   "id": "a89eeb7b-8e0e-4c31-8a55-425455ae377c",
   "metadata": {},
   "outputs": [
    {
     "data": {
      "text/plain": [
       "('blue', 'green', 'red')"
      ]
     },
     "execution_count": 50,
     "metadata": {},
     "output_type": "execute_result"
    }
   ],
   "source": [
    "rev2 = colors[::-2] # reversing order is allowed\n",
    "rev"
   ]
  },
  {
   "cell_type": "markdown",
   "id": "654c8314-27b3-48ef-a683-1b09b2b821ee",
   "metadata": {},
   "source": [
    "# range"
   ]
  },
  {
   "cell_type": "code",
   "execution_count": 51,
   "id": "4cca93ed-0108-406e-ad08-b24828dd59b9",
   "metadata": {},
   "outputs": [
    {
     "data": {
      "text/plain": [
       "range(0, 5)"
      ]
     },
     "execution_count": 51,
     "metadata": {},
     "output_type": "execute_result"
    }
   ],
   "source": [
    "r = range(5) # 1 arg\n",
    "r"
   ]
  },
  {
   "cell_type": "code",
   "execution_count": 52,
   "id": "48921a29-245f-4c36-ab50-bd9fc6340b6e",
   "metadata": {},
   "outputs": [
    {
     "data": {
      "text/plain": [
       "range(0, 10)"
      ]
     },
     "execution_count": 52,
     "metadata": {},
     "output_type": "execute_result"
    }
   ],
   "source": [
    "r1 = range(10)\n",
    "r1"
   ]
  },
  {
   "cell_type": "code",
   "execution_count": 53,
   "id": "216a4d44-c65b-40fd-b1fa-81776b3184dd",
   "metadata": {},
   "outputs": [
    {
     "data": {
      "text/plain": [
       "range(10, 20)"
      ]
     },
     "execution_count": 53,
     "metadata": {},
     "output_type": "execute_result"
    }
   ],
   "source": [
    "range(10,20)"
   ]
  },
  {
   "cell_type": "code",
   "execution_count": 54,
   "id": "aedbc0d7-017d-4675-b8c7-027ed69e8b2e",
   "metadata": {},
   "outputs": [
    {
     "data": {
      "text/plain": [
       "[0, 1, 2]"
      ]
     },
     "execution_count": 54,
     "metadata": {},
     "output_type": "execute_result"
    }
   ],
   "source": [
    "r2 = list(range(10)) # we declare 1 arg\n",
    "r2\n",
    "r_= list(range(3))\n",
    "r_"
   ]
  },
  {
   "cell_type": "code",
   "execution_count": 55,
   "id": "47756657-a279-412a-950a-bcab0f338ce0",
   "metadata": {},
   "outputs": [
    {
     "data": {
      "text/plain": [
       "[5, 6, 7, 8, 9, 10, 11, 12, 13, 14, 15, 16, 17, 18, 19]"
      ]
     },
     "execution_count": 55,
     "metadata": {},
     "output_type": "execute_result"
    }
   ],
   "source": [
    "list(range(5,20))"
   ]
  },
  {
   "cell_type": "code",
   "execution_count": 56,
   "id": "19c4454c-8cff-4f4e-9701-e5972477eb9a",
   "metadata": {},
   "outputs": [
    {
     "data": {
      "text/plain": [
       "[10, 20, 30, 40, 50, 60, 70, 80, 90]"
      ]
     },
     "execution_count": 56,
     "metadata": {},
     "output_type": "execute_result"
    }
   ],
   "source": [
    "list(range(10,100,10))"
   ]
  },
  {
   "cell_type": "code",
   "execution_count": 57,
   "id": "c1aeb964-f6bc-436e-87b8-9bf72aebebcb",
   "metadata": {},
   "outputs": [
    {
     "data": {
      "text/plain": [
       "[10, 15, 20, 25, 30, 35, 40, 45, 50, 55, 60, 65, 70, 75, 80, 85, 90, 95]"
      ]
     },
     "execution_count": 57,
     "metadata": {},
     "output_type": "execute_result"
    }
   ],
   "source": [
    "list(range(10,100,5))"
   ]
  },
  {
   "cell_type": "code",
   "execution_count": 59,
   "id": "5f2c37a4-de40-4c23-b650-f3cb9a74f19d",
   "metadata": {},
   "outputs": [
    {
     "ename": "TypeError",
     "evalue": "range expected at most 3 arguments, got 4",
     "output_type": "error",
     "traceback": [
      "\u001b[1;31m---------------------------------------------------------------------------\u001b[0m",
      "\u001b[1;31mTypeError\u001b[0m                                 Traceback (most recent call last)",
      "Cell \u001b[1;32mIn[59], line 1\u001b[0m\n\u001b[1;32m----> 1\u001b[0m \u001b[38;5;28mlist\u001b[39m(\u001b[38;5;28mrange\u001b[39m(\u001b[38;5;241m5\u001b[39m,\u001b[38;5;241m20\u001b[39m,\u001b[38;5;241m5\u001b[39m,\u001b[38;5;241m2\u001b[39m))\n",
      "\u001b[1;31mTypeError\u001b[0m: range expected at most 3 arguments, got 4"
     ]
    }
   ],
   "source": [
    "list(range(5,20,5,2))"
   ]
  },
  {
   "cell_type": "code",
   "execution_count": 60,
   "id": "ecfeb637-dc2a-4f69-8255-0714acbfbf60",
   "metadata": {},
   "outputs": [
    {
     "data": {
      "text/plain": [
       "range(0, 10)"
      ]
     },
     "execution_count": 60,
     "metadata": {},
     "output_type": "execute_result"
    }
   ],
   "source": [
    "# FROM 1 range(10) -- reoresents values from 0 to 9 (python index start from 0\n",
    "r = range(10)\n",
    "# type(r)\n",
    "r"
   ]
  },
  {
   "cell_type": "code",
   "execution_count": 61,
   "id": "b2aba474-97f3-4527-a9ba-2ab6c6342eb5",
   "metadata": {},
   "outputs": [
    {
     "data": {
      "text/plain": [
       "[0, 1, 2, 3, 4, 5, 6, 7, 8, 9]"
      ]
     },
     "execution_count": 61,
     "metadata": {},
     "output_type": "execute_result"
    }
   ],
   "source": [
    "list(r)"
   ]
  },
  {
   "cell_type": "code",
   "execution_count": 62,
   "id": "8f7fe16e-00c7-45d5-ad5c-fd5cf4792810",
   "metadata": {},
   "outputs": [
    {
     "name": "stdout",
     "output_type": "stream",
     "text": [
      "yes\n",
      "0\n",
      "yes\n",
      "1\n",
      "yes\n",
      "2\n",
      "yes\n",
      "3\n",
      "yes\n",
      "4\n",
      "yes\n",
      "5\n",
      "yes\n",
      "6\n",
      "yes\n",
      "7\n",
      "yes\n",
      "8\n",
      "yes\n",
      "9\n"
     ]
    }
   ],
   "source": [
    "for i in r:\n",
    "    print('yes')\n",
    "    print(i)"
   ]
  },
  {
   "cell_type": "code",
   "execution_count": 63,
   "id": "508602ee-b26f-49d2-913a-c23f5db6234d",
   "metadata": {},
   "outputs": [
    {
     "data": {
      "text/plain": [
       "range(0, 10)"
      ]
     },
     "execution_count": 63,
     "metadata": {},
     "output_type": "execute_result"
    }
   ],
   "source": [
    "r"
   ]
  },
  {
   "cell_type": "code",
   "execution_count": 64,
   "id": "776d95be-41a6-4b6c-ad48-8252c3e24656",
   "metadata": {},
   "outputs": [
    {
     "ename": "TypeError",
     "evalue": "'float' object cannot be interpreted as an integer",
     "output_type": "error",
     "traceback": [
      "\u001b[1;31m---------------------------------------------------------------------------\u001b[0m",
      "\u001b[1;31mTypeError\u001b[0m                                 Traceback (most recent call last)",
      "Cell \u001b[1;32mIn[64], line 1\u001b[0m\n\u001b[1;32m----> 1\u001b[0m \u001b[38;5;28mrange\u001b[39m(\u001b[38;5;241m10.0\u001b[39m,\u001b[38;5;241m11.5\u001b[39m)\n",
      "\u001b[1;31mTypeError\u001b[0m: 'float' object cannot be interpreted as an integer"
     ]
    }
   ],
   "source": [
    "range(10.0,11.5) # you cannot declare float arg"
   ]
  },
  {
   "cell_type": "code",
   "execution_count": 65,
   "id": "a71680c5-4291-40ba-8bb9-1bc694e8c6c7",
   "metadata": {},
   "outputs": [
    {
     "data": {
      "text/plain": [
       "range(10, 20)"
      ]
     },
     "execution_count": 65,
     "metadata": {},
     "output_type": "execute_result"
    }
   ],
   "source": [
    "w1 = range(10,20)\n",
    "w1"
   ]
  },
  {
   "cell_type": "code",
   "execution_count": 66,
   "id": "334493e7-a94e-4df8-970a-c418d956d388",
   "metadata": {},
   "outputs": [
    {
     "name": "stdout",
     "output_type": "stream",
     "text": [
      "10\n",
      "11\n",
      "12\n",
      "13\n",
      "14\n",
      "15\n",
      "16\n",
      "17\n",
      "18\n",
      "19\n"
     ]
    }
   ],
   "source": [
    "for i in w1:\n",
    "    print(i)"
   ]
  },
  {
   "cell_type": "code",
   "execution_count": 67,
   "id": "f57806dc-88c4-4a93-83b7-88965c8a7eb8",
   "metadata": {},
   "outputs": [
    {
     "data": {
      "text/plain": [
       "range(0, 10)"
      ]
     },
     "execution_count": 67,
     "metadata": {},
     "output_type": "execute_result"
    }
   ],
   "source": [
    "r"
   ]
  },
  {
   "cell_type": "code",
   "execution_count": 68,
   "id": "35bebffa-1993-4538-a4a4-15cad8a3a79d",
   "metadata": {},
   "outputs": [
    {
     "data": {
      "text/plain": [
       "4"
      ]
     },
     "execution_count": 68,
     "metadata": {},
     "output_type": "execute_result"
    }
   ],
   "source": [
    "r[4]"
   ]
  },
  {
   "cell_type": "code",
   "execution_count": 69,
   "id": "3ed588ab-249d-416f-972a-018ab667d53c",
   "metadata": {},
   "outputs": [
    {
     "data": {
      "text/plain": [
       "0"
      ]
     },
     "execution_count": 69,
     "metadata": {},
     "output_type": "execute_result"
    }
   ],
   "source": [
    "r[0]"
   ]
  },
  {
   "cell_type": "code",
   "execution_count": 70,
   "id": "cc23c272-7c2c-4731-bf6f-0bae457d7119",
   "metadata": {},
   "outputs": [
    {
     "data": {
      "text/plain": [
       "5"
      ]
     },
     "execution_count": 70,
     "metadata": {},
     "output_type": "execute_result"
    }
   ],
   "source": [
    "r[5]"
   ]
  },
  {
   "cell_type": "code",
   "execution_count": 71,
   "id": "2b95fc7d-35fa-4408-9d8d-cab626a31d57",
   "metadata": {},
   "outputs": [
    {
     "data": {
      "text/plain": [
       "range(0, 3)"
      ]
     },
     "execution_count": 71,
     "metadata": {},
     "output_type": "execute_result"
    }
   ],
   "source": [
    "r[0:3]"
   ]
  },
  {
   "cell_type": "code",
   "execution_count": 72,
   "id": "4de8a245-e494-4124-89f9-e042e9ca0216",
   "metadata": {},
   "outputs": [],
   "source": [
    "# FROM 1 concept we passed only one argument"
   ]
  },
  {
   "cell_type": "markdown",
   "id": "0a356a3c-8284-4c7b-bf26-11da5c3dd00f",
   "metadata": {},
   "source": [
    "# ** FROM:2 (if we passed 2 arg) "
   ]
  },
  {
   "cell_type": "code",
   "execution_count": 73,
   "id": "1e735495-1446-4755-8f80-2cfe6dada48e",
   "metadata": {},
   "outputs": [],
   "source": [
    "# i want to generate a sequence of no fro 0 to 99"
   ]
  },
  {
   "cell_type": "code",
   "execution_count": 74,
   "id": "97d75116-664f-49a3-9d21-458cd050580a",
   "metadata": {},
   "outputs": [
    {
     "data": {
      "text/plain": [
       "range(0, 100)"
      ]
     },
     "execution_count": 74,
     "metadata": {},
     "output_type": "execute_result"
    }
   ],
   "source": [
    "range(100)"
   ]
  },
  {
   "cell_type": "code",
   "execution_count": 75,
   "id": "de5d1af5-c120-49ef-95f1-341e433df30a",
   "metadata": {},
   "outputs": [
    {
     "data": {
      "text/plain": [
       "range(10, 30)"
      ]
     },
     "execution_count": 75,
     "metadata": {},
     "output_type": "execute_result"
    }
   ],
   "source": [
    "#  i want to represent number from 10 to 29 then we should not use above one\n",
    "\n",
    "range(10,30) # repreent no. from 10 to 29 but not 100 & we passed 2 arguments\n"
   ]
  },
  {
   "cell_type": "markdown",
   "id": "46aa557c-11cd-4947-9ade-85fcff9f2980",
   "metadata": {},
   "source": [
    "## From:3(if we passed 3 arg)"
   ]
  },
  {
   "cell_type": "code",
   "execution_count": 76,
   "id": "9da41348-88c4-4f11-8793-065b56642003",
   "metadata": {},
   "outputs": [
    {
     "data": {
      "text/plain": [
       "range(0, 50)"
      ]
     },
     "execution_count": 76,
     "metadata": {},
     "output_type": "execute_result"
    }
   ],
   "source": [
    "range(50)"
   ]
  },
  {
   "cell_type": "code",
   "execution_count": 77,
   "id": "f2235bb1-6e50-4f5c-b216-b9e9949bcba5",
   "metadata": {},
   "outputs": [
    {
     "data": {
      "text/plain": [
       "range(10, 50)"
      ]
     },
     "execution_count": 77,
     "metadata": {},
     "output_type": "execute_result"
    }
   ],
   "source": [
    "range(10,50) # 5 state from 10 to 50 print the output with 5 step"
   ]
  },
  {
   "cell_type": "code",
   "execution_count": 78,
   "id": "cdc2faf3-952d-4669-9a28-66c904e0cc1a",
   "metadata": {},
   "outputs": [
    {
     "data": {
      "text/plain": [
       "range(10, 50, 5)"
      ]
     },
     "execution_count": 78,
     "metadata": {},
     "output_type": "execute_result"
    }
   ],
   "source": [
    "range(10,50,5) # 5 state from 10 to 50 print the output with 5 steps"
   ]
  },
  {
   "cell_type": "code",
   "execution_count": 79,
   "id": "f81ece62-c8ac-4a90-a84f-ebb3628d357d",
   "metadata": {},
   "outputs": [
    {
     "ename": "TypeError",
     "evalue": "'float' object cannot be interpreted as an integer",
     "output_type": "error",
     "traceback": [
      "\u001b[1;31m---------------------------------------------------------------------------\u001b[0m",
      "\u001b[1;31mTypeError\u001b[0m                                 Traceback (most recent call last)",
      "Cell \u001b[1;32mIn[79], line 1\u001b[0m\n\u001b[1;32m----> 1\u001b[0m \u001b[38;5;28mrange\u001b[39m(\u001b[38;5;241m10\u001b[39m,\u001b[38;5;241m100\u001b[39m,\u001b[38;5;241m10.56\u001b[39m)\n",
      "\u001b[1;31mTypeError\u001b[0m: 'float' object cannot be interpreted as an integer"
     ]
    }
   ],
   "source": [
    "range(10,100,10.56)"
   ]
  },
  {
   "cell_type": "code",
   "execution_count": 80,
   "id": "d2b72fe2-40a4-4009-ad30-fb22ebd2a099",
   "metadata": {},
   "outputs": [
    {
     "name": "stdout",
     "output_type": "stream",
     "text": [
      "0\n",
      "1\n",
      "2\n",
      "3\n",
      "4\n",
      "5\n",
      "6\n",
      "7\n",
      "8\n",
      "9\n"
     ]
    }
   ],
   "source": [
    "for i in range (10):\n",
    "    print(i)"
   ]
  },
  {
   "cell_type": "code",
   "execution_count": 82,
   "id": "5c2e6756-0fb9-442a-a0fb-a55d1006f380",
   "metadata": {},
   "outputs": [
    {
     "name": "stdout",
     "output_type": "stream",
     "text": [
      "10\n",
      "11\n",
      "12\n",
      "13\n",
      "14\n",
      "15\n",
      "16\n",
      "17\n",
      "18\n",
      "19\n"
     ]
    }
   ],
   "source": [
    "for i in range(10,20):\n",
    "    print(i)"
   ]
  },
  {
   "cell_type": "code",
   "execution_count": 83,
   "id": "f40e305a-1d8b-4785-8481-25cb017c665c",
   "metadata": {},
   "outputs": [
    {
     "name": "stdout",
     "output_type": "stream",
     "text": [
      "10\n",
      "20\n",
      "30\n",
      "40\n",
      "50\n",
      "60\n",
      "70\n",
      "80\n",
      "90\n"
     ]
    }
   ],
   "source": [
    "for i in range(10,100,10):\n",
    "    print(i)"
   ]
  },
  {
   "cell_type": "code",
   "execution_count": 84,
   "id": "0ed39b67-65eb-467f-b8a7-e543f2116a8a",
   "metadata": {},
   "outputs": [
    {
     "ename": "TypeError",
     "evalue": "range expected at most 3 arguments, got 4",
     "output_type": "error",
     "traceback": [
      "\u001b[1;31m---------------------------------------------------------------------------\u001b[0m",
      "\u001b[1;31mTypeError\u001b[0m                                 Traceback (most recent call last)",
      "Cell \u001b[1;32mIn[84], line 1\u001b[0m\n\u001b[1;32m----> 1\u001b[0m \u001b[38;5;28mrange\u001b[39m(\u001b[38;5;241m10\u001b[39m,\u001b[38;5;241m20\u001b[39m,\u001b[38;5;241m5\u001b[39m,\u001b[38;5;241m6\u001b[39m)\n",
      "\u001b[1;31mTypeError\u001b[0m: range expected at most 3 arguments, got 4"
     ]
    }
   ],
   "source": [
    "range(10,20,5,6) # you cannot declare 4 arg once because max you can assign 3 parametr 3arg"
   ]
  },
  {
   "cell_type": "markdown",
   "id": "bf07ba60-3fdb-4e6b-ad0b-eb7dad826a77",
   "metadata": {},
   "source": [
    "# set datatype"
   ]
  },
  {
   "cell_type": "code",
   "execution_count": 85,
   "id": "c15b42fb-8412-48a3-8ce1-e638a2be946e",
   "metadata": {},
   "outputs": [],
   "source": [
    "s = {10,20,30,10,20,30} # is it  allowed or nor we will check "
   ]
  },
  {
   "cell_type": "code",
   "execution_count": 86,
   "id": "ca27b341-0597-4af5-ab46-5c920e37fd63",
   "metadata": {},
   "outputs": [
    {
     "data": {
      "text/plain": [
       "{10, 20, 30}"
      ]
     },
     "execution_count": 86,
     "metadata": {},
     "output_type": "execute_result"
    }
   ],
   "source": [
    "s # duplicates are not allowed"
   ]
  },
  {
   "cell_type": "code",
   "execution_count": 87,
   "id": "d3a0baff-ceb4-40b0-81f9-28f36dc34e0d",
   "metadata": {},
   "outputs": [
    {
     "data": {
      "text/plain": [
       "set"
      ]
     },
     "execution_count": 87,
     "metadata": {},
     "output_type": "execute_result"
    }
   ],
   "source": [
    "type(s)"
   ]
  },
  {
   "cell_type": "code",
   "execution_count": 91,
   "id": "c6568eda-f59b-4a12-b227-9801f6d82427",
   "metadata": {},
   "outputs": [
    {
     "data": {
      "text/plain": [
       "{30, 56, 75, 109}"
      ]
     },
     "execution_count": 91,
     "metadata": {},
     "output_type": "execute_result"
    }
   ],
   "source": [
    "s_ = {56,30,75,109}\n",
    "s_"
   ]
  },
  {
   "cell_type": "code",
   "execution_count": 93,
   "id": "9886434b-0123-41d3-9c3c-ea606ddae6cd",
   "metadata": {},
   "outputs": [
    {
     "data": {
      "text/plain": [
       "{10, 20, 30, 5.0, True, 'abc'}"
      ]
     },
     "execution_count": 93,
     "metadata": {},
     "output_type": "execute_result"
    }
   ],
   "source": [
    "s1 = {30,10,20,10,'abc',5.0,True}\n",
    "s1"
   ]
  },
  {
   "cell_type": "code",
   "execution_count": 94,
   "id": "b24d0921-0dfd-4829-b6c5-4b05a332f2cd",
   "metadata": {},
   "outputs": [
    {
     "ename": "TypeError",
     "evalue": "'set' object is not subscriptable",
     "output_type": "error",
     "traceback": [
      "\u001b[1;31m---------------------------------------------------------------------------\u001b[0m",
      "\u001b[1;31mTypeError\u001b[0m                                 Traceback (most recent call last)",
      "Cell \u001b[1;32mIn[94], line 1\u001b[0m\n\u001b[1;32m----> 1\u001b[0m s1[\u001b[38;5;241m0\u001b[39m]\n",
      "\u001b[1;31mTypeError\u001b[0m: 'set' object is not subscriptable"
     ]
    }
   ],
   "source": [
    "s1[0]"
   ]
  },
  {
   "cell_type": "code",
   "execution_count": 95,
   "id": "d64a293e-a8e5-4ab2-bd00-7da1ff29ca45",
   "metadata": {},
   "outputs": [
    {
     "ename": "TypeError",
     "evalue": "'set' object is not subscriptable",
     "output_type": "error",
     "traceback": [
      "\u001b[1;31m---------------------------------------------------------------------------\u001b[0m",
      "\u001b[1;31mTypeError\u001b[0m                                 Traceback (most recent call last)",
      "Cell \u001b[1;32mIn[95], line 1\u001b[0m\n\u001b[1;32m----> 1\u001b[0m s1[\u001b[38;5;241m1\u001b[39m:\u001b[38;5;241m4\u001b[39m]\n",
      "\u001b[1;31mTypeError\u001b[0m: 'set' object is not subscriptable"
     ]
    }
   ],
   "source": [
    "s1[1:4]"
   ]
  },
  {
   "cell_type": "code",
   "execution_count": 96,
   "id": "a133feca-59a0-4db9-8915-46f13af4327c",
   "metadata": {},
   "outputs": [
    {
     "data": {
      "text/plain": [
       "{10, 20, 30}"
      ]
     },
     "execution_count": 96,
     "metadata": {},
     "output_type": "execute_result"
    }
   ],
   "source": [
    "s"
   ]
  },
  {
   "cell_type": "code",
   "execution_count": 97,
   "id": "04ef7273-4b4d-4d06-b037-9f3583fa70eb",
   "metadata": {},
   "outputs": [
    {
     "ename": "TypeError",
     "evalue": "'set' object is not subscriptable",
     "output_type": "error",
     "traceback": [
      "\u001b[1;31m---------------------------------------------------------------------------\u001b[0m",
      "\u001b[1;31mTypeError\u001b[0m                                 Traceback (most recent call last)",
      "Cell \u001b[1;32mIn[97], line 1\u001b[0m\n\u001b[1;32m----> 1\u001b[0m s[:]\n",
      "\u001b[1;31mTypeError\u001b[0m: 'set' object is not subscriptable"
     ]
    }
   ],
   "source": [
    "s[:]"
   ]
  },
  {
   "cell_type": "code",
   "execution_count": 98,
   "id": "5852de80-be9b-4f3b-9f05-887934ecf66a",
   "metadata": {},
   "outputs": [
    {
     "data": {
      "text/plain": [
       "{10, 20, 30}"
      ]
     },
     "execution_count": 98,
     "metadata": {},
     "output_type": "execute_result"
    }
   ],
   "source": [
    "s"
   ]
  },
  {
   "cell_type": "code",
   "execution_count": 99,
   "id": "6c7c10f7-dcd1-417d-9d3f-ee6b54128ea3",
   "metadata": {},
   "outputs": [
    {
     "ename": "TypeError",
     "evalue": "'set' object is not subscriptable",
     "output_type": "error",
     "traceback": [
      "\u001b[1;31m---------------------------------------------------------------------------\u001b[0m",
      "\u001b[1;31mTypeError\u001b[0m                                 Traceback (most recent call last)",
      "Cell \u001b[1;32mIn[99], line 1\u001b[0m\n\u001b[1;32m----> 1\u001b[0m s[\u001b[38;5;241m1\u001b[39m:]\n",
      "\u001b[1;31mTypeError\u001b[0m: 'set' object is not subscriptable"
     ]
    }
   ],
   "source": [
    "s[1:]"
   ]
  },
  {
   "cell_type": "code",
   "execution_count": 100,
   "id": "97708705-88bf-4462-b7e4-884b1cef3cdb",
   "metadata": {},
   "outputs": [
    {
     "data": {
      "text/plain": [
       "{10, 20, 30}"
      ]
     },
     "execution_count": 100,
     "metadata": {},
     "output_type": "execute_result"
    }
   ],
   "source": [
    "s"
   ]
  },
  {
   "cell_type": "code",
   "execution_count": 101,
   "id": "c65da648-667f-4e4d-b0e3-2392cde72ed4",
   "metadata": {},
   "outputs": [
    {
     "ename": "AttributeError",
     "evalue": "'set' object has no attribute 'append'",
     "output_type": "error",
     "traceback": [
      "\u001b[1;31m---------------------------------------------------------------------------\u001b[0m",
      "\u001b[1;31mAttributeError\u001b[0m                            Traceback (most recent call last)",
      "Cell \u001b[1;32mIn[101], line 1\u001b[0m\n\u001b[1;32m----> 1\u001b[0m s\u001b[38;5;241m.\u001b[39mappend(\u001b[38;5;28;01mTrue\u001b[39;00m) \u001b[38;5;66;03m#mutable\u001b[39;00m\n\u001b[0;32m      2\u001b[0m s\n",
      "\u001b[1;31mAttributeError\u001b[0m: 'set' object has no attribute 'append'"
     ]
    }
   ],
   "source": [
    "s.append(True) #mutable\n",
    "s"
   ]
  },
  {
   "cell_type": "code",
   "execution_count": 103,
   "id": "70f128e7-4777-4ea3-8ede-835983ebb4b4",
   "metadata": {},
   "outputs": [
    {
     "data": {
      "text/plain": [
       "{True, 10, 20, 30}"
      ]
     },
     "execution_count": 103,
     "metadata": {},
     "output_type": "execute_result"
    }
   ],
   "source": [
    "s.add(True)\n",
    "s"
   ]
  },
  {
   "cell_type": "code",
   "execution_count": 109,
   "id": "64f9b01c-0e62-47c1-bec6-290dd078b2ec",
   "metadata": {},
   "outputs": [
    {
     "data": {
      "text/plain": [
       "{10, 20, 30, 300, True, 'c'}"
      ]
     },
     "execution_count": 109,
     "metadata": {},
     "output_type": "execute_result"
    }
   ],
   "source": [
    "s.add(300)\n",
    "s"
   ]
  },
  {
   "cell_type": "code",
   "execution_count": 110,
   "id": "054f0f69-d6b0-4fc8-8271-185ec87b509b",
   "metadata": {},
   "outputs": [],
   "source": [
    "s.add('c')"
   ]
  },
  {
   "cell_type": "code",
   "execution_count": 111,
   "id": "18ac97b1-3e81-4cb0-a90b-403da14bf72c",
   "metadata": {},
   "outputs": [
    {
     "ename": "TypeError",
     "evalue": "set.add() takes exactly one argument (3 given)",
     "output_type": "error",
     "traceback": [
      "\u001b[1;31m---------------------------------------------------------------------------\u001b[0m",
      "\u001b[1;31mTypeError\u001b[0m                                 Traceback (most recent call last)",
      "Cell \u001b[1;32mIn[111], line 1\u001b[0m\n\u001b[1;32m----> 1\u001b[0m s\u001b[38;5;241m.\u001b[39madd(\u001b[38;5;124m'\u001b[39m\u001b[38;5;124mc\u001b[39m\u001b[38;5;124m'\u001b[39m,\u001b[38;5;124m'\u001b[39m\u001b[38;5;124md\u001b[39m\u001b[38;5;124m'\u001b[39m,\u001b[38;5;124m'\u001b[39m\u001b[38;5;124md\u001b[39m\u001b[38;5;124m'\u001b[39m)\n\u001b[0;32m      2\u001b[0m s\n",
      "\u001b[1;31mTypeError\u001b[0m: set.add() takes exactly one argument (3 given)"
     ]
    }
   ],
   "source": [
    "s.add('c','d','d')\n",
    "s"
   ]
  },
  {
   "cell_type": "code",
   "execution_count": 112,
   "id": "1341c4d3-629e-4614-84ac-6ec69b8d76d9",
   "metadata": {},
   "outputs": [
    {
     "ename": "TypeError",
     "evalue": "'set' object is not subscriptable",
     "output_type": "error",
     "traceback": [
      "\u001b[1;31m---------------------------------------------------------------------------\u001b[0m",
      "\u001b[1;31mTypeError\u001b[0m                                 Traceback (most recent call last)",
      "Cell \u001b[1;32mIn[112], line 1\u001b[0m\n\u001b[1;32m----> 1\u001b[0m s[\u001b[38;5;241m1\u001b[39m]\n",
      "\u001b[1;31mTypeError\u001b[0m: 'set' object is not subscriptable"
     ]
    }
   ],
   "source": [
    "s[1]"
   ]
  },
  {
   "cell_type": "code",
   "execution_count": 113,
   "id": "7a41c1bf-bc2e-435f-aa08-6e3d58a566fd",
   "metadata": {},
   "outputs": [],
   "source": [
    "s.remove(300)"
   ]
  },
  {
   "cell_type": "code",
   "execution_count": 114,
   "id": "20ee6fa4-f91f-45f8-a3d8-50aa1f18c742",
   "metadata": {},
   "outputs": [
    {
     "data": {
      "text/plain": [
       "{10, 20, 30, True, 'c'}"
      ]
     },
     "execution_count": 114,
     "metadata": {},
     "output_type": "execute_result"
    }
   ],
   "source": [
    "s"
   ]
  },
  {
   "cell_type": "code",
   "execution_count": 115,
   "id": "f3bfa194-99ac-4da8-ae33-d30286f6f446",
   "metadata": {},
   "outputs": [],
   "source": [
    "s.add('d')"
   ]
  },
  {
   "cell_type": "code",
   "execution_count": 118,
   "id": "10438f2a-401a-4faf-afad-0d267fb26312",
   "metadata": {},
   "outputs": [
    {
     "data": {
      "text/plain": [
       "{10, 20, 30, True, 'c', 'd'}"
      ]
     },
     "execution_count": 118,
     "metadata": {},
     "output_type": "execute_result"
    }
   ],
   "source": [
    "s"
   ]
  },
  {
   "cell_type": "code",
   "execution_count": 119,
   "id": "c63093e2-5c9b-437e-9bf7-41cd4af9e0cc",
   "metadata": {},
   "outputs": [
    {
     "ename": "TypeError",
     "evalue": "unhashable type: 'list'",
     "output_type": "error",
     "traceback": [
      "\u001b[1;31m---------------------------------------------------------------------------\u001b[0m",
      "\u001b[1;31mTypeError\u001b[0m                                 Traceback (most recent call last)",
      "Cell \u001b[1;32mIn[119], line 1\u001b[0m\n\u001b[1;32m----> 1\u001b[0m s3 \u001b[38;5;241m=\u001b[39m {[\u001b[38;5;241m10\u001b[39m,\u001b[38;5;241m20\u001b[39m,\u001b[38;5;241m30\u001b[39m],\u001b[38;5;241m40\u001b[39m,\u001b[38;5;28;01mTrue\u001b[39;00m}\n\u001b[0;32m      2\u001b[0m s3\n",
      "\u001b[1;31mTypeError\u001b[0m: unhashable type: 'list'"
     ]
    }
   ],
   "source": [
    "s3 = {[10,20,30],40,True}\n",
    "s3"
   ]
  },
  {
   "cell_type": "code",
   "execution_count": 120,
   "id": "2ced4f97-59c3-4222-9254-ffd237241fc3",
   "metadata": {},
   "outputs": [
    {
     "data": {
      "text/plain": [
       "{10, 20, 30, 5.0, True, 'abc'}"
      ]
     },
     "execution_count": 120,
     "metadata": {},
     "output_type": "execute_result"
    }
   ],
   "source": [
    "s1"
   ]
  },
  {
   "cell_type": "code",
   "execution_count": 121,
   "id": "5d07608f-42ea-4ed8-bd77-9878e60510bd",
   "metadata": {},
   "outputs": [
    {
     "ename": "TypeError",
     "evalue": "'set' object does not support item assignment",
     "output_type": "error",
     "traceback": [
      "\u001b[1;31m---------------------------------------------------------------------------\u001b[0m",
      "\u001b[1;31mTypeError\u001b[0m                                 Traceback (most recent call last)",
      "Cell \u001b[1;32mIn[121], line 1\u001b[0m\n\u001b[1;32m----> 1\u001b[0m s[\u001b[38;5;241m0\u001b[39m] \u001b[38;5;241m=\u001b[39m \u001b[38;5;241m50\u001b[39m\n",
      "\u001b[1;31mTypeError\u001b[0m: 'set' object does not support item assignment"
     ]
    }
   ],
   "source": [
    "s[0] = 50"
   ]
  },
  {
   "cell_type": "code",
   "execution_count": 1,
   "id": "4940c9b8-a056-420d-9758-85f91d884783",
   "metadata": {},
   "outputs": [
    {
     "name": "stdout",
     "output_type": "stream",
     "text": [
      "four\n",
      "seven\n",
      "two\n",
      "one\n",
      "eight\n",
      "five\n",
      "six\n",
      "three\n"
     ]
    }
   ],
   "source": [
    "myset = {'one', 'two', 'three', 'four', 'five', 'six', 'seven', 'eight'}\n",
    "\n",
    "for i in myset:\n",
    "    print(i)  "
   ]
  },
  {
   "cell_type": "code",
   "execution_count": 3,
   "id": "1bc8d577-c81d-42ff-8be9-3c1f4eb4b0ff",
   "metadata": {},
   "outputs": [
    {
     "data": {
      "text/plain": [
       "{'eight', 'five', 'four', 'nine', 'one', 'seven', 'six', 'three', 'two'}"
      ]
     },
     "execution_count": 3,
     "metadata": {},
     "output_type": "execute_result"
    }
   ],
   "source": [
    "myset.add('nine')\n",
    "myset          "
   ]
  },
  {
   "cell_type": "code",
   "execution_count": 4,
   "id": "ada7d52e-8ba4-4900-b19c-bb2b64572450",
   "metadata": {},
   "outputs": [
    {
     "name": "stdout",
     "output_type": "stream",
     "text": [
      "(0, 'four')\n",
      "(1, 'nine')\n",
      "(2, 'seven')\n",
      "(3, 'two')\n",
      "(4, 'one')\n",
      "(5, 'eight')\n",
      "(6, 'five')\n",
      "(7, 'six')\n",
      "(8, 'three')\n"
     ]
    }
   ],
   "source": [
    "for i in enumerate(myset):\n",
    "    print(i)"
   ]
  },
  {
   "cell_type": "code",
   "execution_count": 5,
   "id": "45a10019-6511-4709-b9c3-7a6b7d8155b6",
   "metadata": {},
   "outputs": [
    {
     "data": {
      "text/plain": [
       "True"
      ]
     },
     "execution_count": 5,
     "metadata": {},
     "output_type": "execute_result"
    }
   ],
   "source": [
    "'nine' in myset"
   ]
  },
  {
   "cell_type": "code",
   "execution_count": 6,
   "id": "cd32dc25-945a-4db2-aac1-c208c41c72f7",
   "metadata": {},
   "outputs": [
    {
     "ename": "TypeError",
     "evalue": "unhashable type: 'list'",
     "output_type": "error",
     "traceback": [
      "\u001b[1;31m---------------------------------------------------------------------------\u001b[0m",
      "\u001b[1;31mTypeError\u001b[0m                                 Traceback (most recent call last)",
      "Cell \u001b[1;32mIn[6], line 1\u001b[0m\n\u001b[1;32m----> 1\u001b[0m myset\u001b[38;5;241m.\u001b[39madd([\u001b[38;5;241m10\u001b[39m,\u001b[38;5;241m20\u001b[39m])\n",
      "\u001b[1;31mTypeError\u001b[0m: unhashable type: 'list'"
     ]
    }
   ],
   "source": [
    "myset.add([10,20])"
   ]
  },
  {
   "cell_type": "code",
   "execution_count": 7,
   "id": "376fcd19-aed9-4cea-a79b-91303437ab39",
   "metadata": {},
   "outputs": [
    {
     "ename": "TypeError",
     "evalue": "unhashable type: 'list'",
     "output_type": "error",
     "traceback": [
      "\u001b[1;31m---------------------------------------------------------------------------\u001b[0m",
      "\u001b[1;31mTypeError\u001b[0m                                 Traceback (most recent call last)",
      "Cell \u001b[1;32mIn[7], line 2\u001b[0m\n\u001b[0;32m      1\u001b[0m myset\u001b[38;5;241m.\u001b[39madd((\u001b[38;5;241m30\u001b[39m,\u001b[38;5;241m40\u001b[39m,\u001b[38;5;241m50\u001b[39m,\u001b[38;5;241m50\u001b[39m))\n\u001b[1;32m----> 2\u001b[0m myset\u001b[38;5;241m.\u001b[39mupdate((\u001b[38;5;124m'\u001b[39m\u001b[38;5;124mab\u001b[39m\u001b[38;5;124m'\u001b[39m,\u001b[38;5;241m56\u001b[39m,[\u001b[38;5;241m1\u001b[39m,\u001b[38;5;241m2\u001b[39m,\u001b[38;5;241m3\u001b[39m]))\n",
      "\u001b[1;31mTypeError\u001b[0m: unhashable type: 'list'"
     ]
    }
   ],
   "source": [
    "myset.add((30,40,50,50))\n",
    "myset.update(('ab',56,[1,2,3]))"
   ]
  },
  {
   "cell_type": "code",
   "execution_count": 8,
   "id": "9cd260ef-f195-43fe-8e9b-3fc1658f3e26",
   "metadata": {},
   "outputs": [
    {
     "data": {
      "text/plain": [
       "{(30, 40, 50, 50),\n",
       " 56,\n",
       " 'ab',\n",
       " 'eight',\n",
       " 'five',\n",
       " 'four',\n",
       " 'nine',\n",
       " 'one',\n",
       " 'seven',\n",
       " 'six',\n",
       " 'three',\n",
       " 'two'}"
      ]
     },
     "execution_count": 8,
     "metadata": {},
     "output_type": "execute_result"
    }
   ],
   "source": [
    "myset"
   ]
  },
  {
   "cell_type": "code",
   "execution_count": 12,
   "id": "bbe905f2-31f3-4d2b-9625-85def4760d67",
   "metadata": {},
   "outputs": [
    {
     "data": {
      "text/plain": [
       "{(30, 40, 50, 50),\n",
       " 56,\n",
       " 'ab',\n",
       " 'eight',\n",
       " 'five',\n",
       " 'four',\n",
       " 'one',\n",
       " 'seven',\n",
       " 'six',\n",
       " 'three',\n",
       " 'two'}"
      ]
     },
     "execution_count": 12,
     "metadata": {},
     "output_type": "execute_result"
    }
   ],
   "source": [
    "myset.discard('nine')\n",
    "myset"
   ]
  },
  {
   "cell_type": "code",
   "execution_count": 13,
   "id": "8b632e8a-6121-456a-b943-519dc2993adf",
   "metadata": {},
   "outputs": [],
   "source": [
    "A = {1,2,3,4,5}\n",
    "B = {4,5,6,7,8}\n",
    "C = {8,9,10}"
   ]
  },
  {
   "cell_type": "code",
   "execution_count": 14,
   "id": "9e045ea9-5dfd-406e-8fb5-526d5f7bd346",
   "metadata": {},
   "outputs": [
    {
     "data": {
      "text/plain": [
       "{1, 2, 3, 4, 5, 6, 7, 8}"
      ]
     },
     "execution_count": 14,
     "metadata": {},
     "output_type": "execute_result"
    }
   ],
   "source": [
    "A|B"
   ]
  },
  {
   "cell_type": "code",
   "execution_count": 15,
   "id": "9086ca2e-6c53-4b87-911c-a972827d2abb",
   "metadata": {},
   "outputs": [
    {
     "data": {
      "text/plain": [
       "{1, 2, 3, 4, 5, 6, 7, 8}"
      ]
     },
     "execution_count": 15,
     "metadata": {},
     "output_type": "execute_result"
    }
   ],
   "source": [
    "A.union(B)"
   ]
  },
  {
   "cell_type": "code",
   "execution_count": 16,
   "id": "bde57b65-0428-465b-9b14-f82c86f2d1cd",
   "metadata": {},
   "outputs": [
    {
     "data": {
      "text/plain": [
       "{1, 2, 3, 4, 5, 8, 9, 10}"
      ]
     },
     "execution_count": 16,
     "metadata": {},
     "output_type": "execute_result"
    }
   ],
   "source": [
    "A.union(C)"
   ]
  },
  {
   "cell_type": "code",
   "execution_count": 17,
   "id": "53c176d4-a55c-4643-95d0-9d4fbc6a5ca2",
   "metadata": {},
   "outputs": [
    {
     "data": {
      "text/plain": [
       "{1, 2, 3, 4, 5, 6, 7, 8, 9, 10}"
      ]
     },
     "execution_count": 17,
     "metadata": {},
     "output_type": "execute_result"
    }
   ],
   "source": [
    "A|C|B"
   ]
  },
  {
   "cell_type": "code",
   "execution_count": 18,
   "id": "9200552e-43fd-480c-977a-dc111887eefe",
   "metadata": {},
   "outputs": [
    {
     "data": {
      "text/plain": [
       "({1, 2, 3, 4, 5}, {4, 5, 6, 7, 8}, {8, 9, 10})"
      ]
     },
     "execution_count": 18,
     "metadata": {},
     "output_type": "execute_result"
    }
   ],
   "source": [
    "A,B,C"
   ]
  },
  {
   "cell_type": "code",
   "execution_count": 19,
   "id": "4e66bf02-7c41-4ef7-9c01-f209c1be6979",
   "metadata": {},
   "outputs": [
    {
     "data": {
      "text/plain": [
       "{4, 5}"
      ]
     },
     "execution_count": 19,
     "metadata": {},
     "output_type": "execute_result"
    }
   ],
   "source": [
    "A&B"
   ]
  },
  {
   "cell_type": "code",
   "execution_count": 20,
   "id": "9f5ed2f2-3e9c-4db1-913e-dcd9ff3686e4",
   "metadata": {},
   "outputs": [
    {
     "data": {
      "text/plain": [
       "set()"
      ]
     },
     "execution_count": 20,
     "metadata": {},
     "output_type": "execute_result"
    }
   ],
   "source": [
    "A&C"
   ]
  },
  {
   "cell_type": "code",
   "execution_count": 21,
   "id": "ccf5ce0f-b775-4af0-8c68-f112c06d140b",
   "metadata": {},
   "outputs": [
    {
     "data": {
      "text/plain": [
       "{8}"
      ]
     },
     "execution_count": 21,
     "metadata": {},
     "output_type": "execute_result"
    }
   ],
   "source": [
    "B&C"
   ]
  },
  {
   "cell_type": "code",
   "execution_count": 22,
   "id": "2d9bccd3-2ffc-49d5-af3b-d3f67aa2c1ec",
   "metadata": {},
   "outputs": [
    {
     "data": {
      "text/plain": [
       "{4, 5}"
      ]
     },
     "execution_count": 22,
     "metadata": {},
     "output_type": "execute_result"
    }
   ],
   "source": [
    "A.intersection(B)"
   ]
  },
  {
   "cell_type": "code",
   "execution_count": 23,
   "id": "a3a18bd3-b763-4c59-972f-5fb4f3773115",
   "metadata": {},
   "outputs": [],
   "source": [
    "A.intersection_update(B)"
   ]
  },
  {
   "cell_type": "code",
   "execution_count": 24,
   "id": "5cc13d65-3289-490b-b61d-8de378275aa7",
   "metadata": {},
   "outputs": [
    {
     "data": {
      "text/plain": [
       "{4, 5}"
      ]
     },
     "execution_count": 24,
     "metadata": {},
     "output_type": "execute_result"
    }
   ],
   "source": [
    "A"
   ]
  },
  {
   "cell_type": "code",
   "execution_count": 25,
   "id": "1a4e7e36-59f7-4ee5-a355-a578a3fec55a",
   "metadata": {},
   "outputs": [
    {
     "data": {
      "text/plain": [
       "{4, 5, 6, 7, 8}"
      ]
     },
     "execution_count": 25,
     "metadata": {},
     "output_type": "execute_result"
    }
   ],
   "source": [
    "B"
   ]
  },
  {
   "cell_type": "code",
   "execution_count": 26,
   "id": "575e1eb0-5c0b-46da-bdb4-8eedfeb1a83e",
   "metadata": {},
   "outputs": [
    {
     "data": {
      "text/plain": [
       "6"
      ]
     },
     "execution_count": 26,
     "metadata": {},
     "output_type": "execute_result"
    }
   ],
   "source": [
    "D = {10,11,12,13,14,15}\n",
    "len(D)"
   ]
  },
  {
   "cell_type": "code",
   "execution_count": 27,
   "id": "0a117e09-3376-45ca-be60-263d5e82ef8b",
   "metadata": {},
   "outputs": [
    {
     "data": {
      "text/plain": [
       "set()"
      ]
     },
     "execution_count": 27,
     "metadata": {},
     "output_type": "execute_result"
    }
   ],
   "source": [
    "A-B"
   ]
  },
  {
   "cell_type": "code",
   "execution_count": 28,
   "id": "3af265b7-7ddc-4177-af18-5b370113826b",
   "metadata": {},
   "outputs": [
    {
     "data": {
      "text/plain": [
       "6"
      ]
     },
     "execution_count": 28,
     "metadata": {},
     "output_type": "execute_result"
    }
   ],
   "source": [
    "len(D)"
   ]
  },
  {
   "cell_type": "code",
   "execution_count": 29,
   "id": "3d0f122d-e102-463f-861e-56aef6d08a54",
   "metadata": {},
   "outputs": [
    {
     "data": {
      "text/plain": [
       "{4, 5, 10, 11, 12, 13, 14, 15}"
      ]
     },
     "execution_count": 29,
     "metadata": {},
     "output_type": "execute_result"
    }
   ],
   "source": [
    "A|D"
   ]
  },
  {
   "cell_type": "code",
   "execution_count": 30,
   "id": "93b43c2c-f722-4355-8566-36b35b32e391",
   "metadata": {},
   "outputs": [
    {
     "data": {
      "text/plain": [
       "set()"
      ]
     },
     "execution_count": 30,
     "metadata": {},
     "output_type": "execute_result"
    }
   ],
   "source": [
    "A&D"
   ]
  },
  {
   "cell_type": "code",
   "execution_count": 31,
   "id": "faee2731-45ef-4f5b-b4dd-a222dc36d1a0",
   "metadata": {},
   "outputs": [
    {
     "data": {
      "text/plain": [
       "{4, 5}"
      ]
     },
     "execution_count": 31,
     "metadata": {},
     "output_type": "execute_result"
    }
   ],
   "source": [
    "A-D"
   ]
  },
  {
   "cell_type": "code",
   "execution_count": 32,
   "id": "72312c59-f04b-4226-a6dc-8ffab2e0e329",
   "metadata": {},
   "outputs": [
    {
     "ename": "NameError",
     "evalue": "name 'c' is not defined",
     "output_type": "error",
     "traceback": [
      "\u001b[1;31m---------------------------------------------------------------------------\u001b[0m",
      "\u001b[1;31mNameError\u001b[0m                                 Traceback (most recent call last)",
      "Cell \u001b[1;32mIn[32], line 1\u001b[0m\n\u001b[1;32m----> 1\u001b[0m c\u001b[38;5;241m|\u001b[39mA\n",
      "\u001b[1;31mNameError\u001b[0m: name 'c' is not defined"
     ]
    }
   ],
   "source": [
    "c|A"
   ]
  },
  {
   "cell_type": "code",
   "execution_count": 33,
   "id": "aac4521a-bac1-47c3-9da5-1d60534d6ad9",
   "metadata": {},
   "outputs": [
    {
     "data": {
      "text/plain": [
       "{(30, 40, 50, 50),\n",
       " 56,\n",
       " 'ab',\n",
       " 'eight',\n",
       " 'five',\n",
       " 'four',\n",
       " 'one',\n",
       " 'seven',\n",
       " 'six',\n",
       " 'three',\n",
       " 'two'}"
      ]
     },
     "execution_count": 33,
     "metadata": {},
     "output_type": "execute_result"
    }
   ],
   "source": [
    "myset"
   ]
  },
  {
   "cell_type": "code",
   "execution_count": 35,
   "id": "4d9940f9-aeb9-414a-97b0-971026845589",
   "metadata": {},
   "outputs": [
    {
     "ename": "KeyError",
     "evalue": "'eleven'",
     "output_type": "error",
     "traceback": [
      "\u001b[1;31m---------------------------------------------------------------------------\u001b[0m",
      "\u001b[1;31mKeyError\u001b[0m                                  Traceback (most recent call last)",
      "Cell \u001b[1;32mIn[35], line 1\u001b[0m\n\u001b[1;32m----> 1\u001b[0m myset\u001b[38;5;241m.\u001b[39mremove(\u001b[38;5;124m'\u001b[39m\u001b[38;5;124meleven\u001b[39m\u001b[38;5;124m'\u001b[39m)\n",
      "\u001b[1;31mKeyError\u001b[0m: 'eleven'"
     ]
    }
   ],
   "source": [
    "myset.remove('eleven')"
   ]
  },
  {
   "cell_type": "code",
   "execution_count": 36,
   "id": "c92b575c-e232-41f1-8d2c-f7df800d045e",
   "metadata": {},
   "outputs": [],
   "source": [
    "myset1 = myset.copy()"
   ]
  },
  {
   "cell_type": "code",
   "execution_count": 37,
   "id": "b6d392bc-c37f-42dd-814f-4c94f975b58a",
   "metadata": {},
   "outputs": [
    {
     "data": {
      "text/plain": [
       "{(30, 40, 50, 50),\n",
       " 56,\n",
       " 'ab',\n",
       " 'eight',\n",
       " 'five',\n",
       " 'four',\n",
       " 'one',\n",
       " 'seven',\n",
       " 'six',\n",
       " 'three',\n",
       " 'two'}"
      ]
     },
     "execution_count": 37,
     "metadata": {},
     "output_type": "execute_result"
    }
   ],
   "source": [
    "myset1"
   ]
  },
  {
   "cell_type": "code",
   "execution_count": 39,
   "id": "6cc24516-6e43-4d9d-add5-163155b1676e",
   "metadata": {},
   "outputs": [
    {
     "data": {
      "text/plain": [
       "{(30, 40, 50, 50),\n",
       " 56,\n",
       " 'ab',\n",
       " 'eight',\n",
       " 'five',\n",
       " 'four',\n",
       " 'one',\n",
       " 'seven',\n",
       " 'six',\n",
       " 'three',\n",
       " 'two'}"
      ]
     },
     "execution_count": 39,
     "metadata": {},
     "output_type": "execute_result"
    }
   ],
   "source": [
    "myset"
   ]
  },
  {
   "cell_type": "code",
   "execution_count": 40,
   "id": "c1bdd9c6-4ab1-4c28-8166-12515a046be4",
   "metadata": {},
   "outputs": [],
   "source": [
    "myset.clear()"
   ]
  },
  {
   "cell_type": "code",
   "execution_count": 41,
   "id": "1051a66f-7b3d-4390-a06b-0d18dbb85faf",
   "metadata": {},
   "outputs": [
    {
     "data": {
      "text/plain": [
       "set()"
      ]
     },
     "execution_count": 41,
     "metadata": {},
     "output_type": "execute_result"
    }
   ],
   "source": [
    "myset"
   ]
  },
  {
   "cell_type": "code",
   "execution_count": 42,
   "id": "2cb6b2b8-3125-4c52-b2b4-7d4b8d0ec97f",
   "metadata": {},
   "outputs": [
    {
     "data": {
      "text/plain": [
       "{(30, 40, 50, 50),\n",
       " 56,\n",
       " 'ab',\n",
       " 'eight',\n",
       " 'five',\n",
       " 'four',\n",
       " 'one',\n",
       " 'seven',\n",
       " 'six',\n",
       " 'three',\n",
       " 'two'}"
      ]
     },
     "execution_count": 42,
     "metadata": {},
     "output_type": "execute_result"
    }
   ],
   "source": [
    "myset1"
   ]
  },
  {
   "cell_type": "code",
   "execution_count": null,
   "id": "d64c4c12-2a3f-49de-8c16-8320347133e2",
   "metadata": {},
   "outputs": [],
   "source": []
  }
 ],
 "metadata": {
  "kernelspec": {
   "display_name": "Python [conda env:base] *",
   "language": "python",
   "name": "conda-base-py"
  },
  "language_info": {
   "codemirror_mode": {
    "name": "ipython",
    "version": 3
   },
   "file_extension": ".py",
   "mimetype": "text/x-python",
   "name": "python",
   "nbconvert_exporter": "python",
   "pygments_lexer": "ipython3",
   "version": "3.12.7"
  }
 },
 "nbformat": 4,
 "nbformat_minor": 5
}

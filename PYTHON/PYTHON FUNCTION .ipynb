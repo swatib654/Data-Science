{
 "cells": [
  {
   "cell_type": "markdown",
   "id": "9c58e527-8ae5-499d-9d6f-3730da98fe21",
   "metadata": {},
   "source": [
    "# Python Function"
   ]
  },
  {
   "cell_type": "code",
   "execution_count": 1,
   "id": "b4c2ed45-507f-4559-9b3c-a696733bc698",
   "metadata": {},
   "outputs": [],
   "source": [
    "def greet():\n",
    "    print('hello')\n",
    "    print('good morning team')"
   ]
  },
  {
   "cell_type": "code",
   "execution_count": 2,
   "id": "d6a73f0e-0a46-4bba-b63b-263f8e01936a",
   "metadata": {},
   "outputs": [
    {
     "name": "stdout",
     "output_type": "stream",
     "text": [
      "hello\n",
      "good morning team\n"
     ]
    }
   ],
   "source": [
    "def greet():\n",
    "    print('hello')\n",
    "    print('good morning team')\n",
    "greet()"
   ]
  },
  {
   "cell_type": "code",
   "execution_count": 3,
   "id": "00d4949a-a6a8-45e8-afd4-70adce03b051",
   "metadata": {},
   "outputs": [
    {
     "name": "stdout",
     "output_type": "stream",
     "text": [
      "hello\n",
      "good morning team\n",
      "hello\n",
      "good morning team\n"
     ]
    }
   ],
   "source": [
    "def greet():\n",
    "    print('hello')\n",
    "    print('good morning team')\n",
    "greet()\n",
    "\n",
    "def greet():\n",
    "    print('hello')\n",
    "    print('good morning team')\n",
    "greet()"
   ]
  },
  {
   "cell_type": "code",
   "execution_count": 4,
   "id": "dc3e4285-77b0-46f3-9634-bbaf3764931b",
   "metadata": {},
   "outputs": [
    {
     "name": "stdout",
     "output_type": "stream",
     "text": [
      "hello\n",
      "good morning team\n",
      "\n",
      "hello\n",
      "good morning team\n"
     ]
    }
   ],
   "source": [
    "def greet():\n",
    "    print('hello')\n",
    "    print('good morning team')\n",
    "greet()\n",
    "\n",
    "print()\n",
    "\n",
    "def greet():\n",
    "    print('hello')\n",
    "    print('good morning team')\n",
    "greet()"
   ]
  },
  {
   "cell_type": "code",
   "execution_count": 5,
   "id": "83e91dd9-a0ff-4998-afe9-5c276459f1fa",
   "metadata": {},
   "outputs": [
    {
     "name": "stdout",
     "output_type": "stream",
     "text": [
      "hello\n",
      "good morning team\n",
      "\n",
      "hello\n",
      "good morning team\n",
      "\n",
      "hello\n",
      "good morning team\n"
     ]
    }
   ],
   "source": [
    "def greet():\n",
    "    print('hello')\n",
    "    print('good morning team')\n",
    "greet()\n",
    "\n",
    "print()\n",
    "\n",
    "def greet():\n",
    "    print('hello')\n",
    "    print('good morning team')\n",
    "greet()\n",
    "\n",
    "print()\n",
    "\n",
    "def greet():\n",
    "    print('hello')\n",
    "    print('good morning team')\n",
    "greet()\n"
   ]
  },
  {
   "cell_type": "code",
   "execution_count": 6,
   "id": "41be87ea-87e8-4295-9254-a86af2e83465",
   "metadata": {},
   "outputs": [
    {
     "name": "stdout",
     "output_type": "stream",
     "text": [
      "hello\n",
      "good morning team\n",
      "*************\n",
      "hello\n",
      "good morning team\n",
      "*************\n",
      "hello\n",
      "good morning team\n"
     ]
    }
   ],
   "source": [
    "def greet(): # declere function without argument\n",
    "    print('hello')\n",
    "    print('good morning team')\n",
    "greet()\n",
    "print('*************')\n",
    "greet()\n",
    "print('*************')\n",
    "greet() # function calling with out argument"
   ]
  },
  {
   "cell_type": "code",
   "execution_count": 7,
   "id": "5cbe30b3-30c2-48d1-ba05-7a21763086c5",
   "metadata": {},
   "outputs": [
    {
     "name": "stdout",
     "output_type": "stream",
     "text": [
      "hello\n",
      "good morning team\n"
     ]
    }
   ],
   "source": [
    "# function without argument\n",
    "\n",
    "def greet():\n",
    "    print('hello')\n",
    "    print('good morning team')\n",
    "greet()"
   ]
  },
  {
   "cell_type": "code",
   "execution_count": 8,
   "id": "669567df-adfc-41d2-8fb4-19f04fb32974",
   "metadata": {},
   "outputs": [
    {
     "name": "stdout",
     "output_type": "stream",
     "text": [
      "11\n"
     ]
    }
   ],
   "source": [
    "# function with argument\n",
    "def add(x,y):\n",
    "    c= x+y\n",
    "    print(c)\n",
    "\n",
    "add(5,6)"
   ]
  },
  {
   "cell_type": "code",
   "execution_count": 9,
   "id": "da2cd90f-1b44-4178-a53b-923459f613d2",
   "metadata": {},
   "outputs": [
    {
     "data": {
      "text/plain": [
       "11"
      ]
     },
     "execution_count": 9,
     "metadata": {},
     "output_type": "execute_result"
    }
   ],
   "source": [
    "# function with argument\n",
    "def add(x,y):\n",
    "    c= x+y\n",
    "    return(c)\n",
    "\n",
    "add(5,6)"
   ]
  },
  {
   "cell_type": "code",
   "execution_count": 10,
   "id": "3caf695c-54fa-434d-820f-009c90f8cfcc",
   "metadata": {},
   "outputs": [
    {
     "ename": "TypeError",
     "evalue": "add() missing 1 required positional argument: 'y'",
     "output_type": "error",
     "traceback": [
      "\u001b[1;31m---------------------------------------------------------------------------\u001b[0m",
      "\u001b[1;31mTypeError\u001b[0m                                 Traceback (most recent call last)",
      "Cell \u001b[1;32mIn[10], line 6\u001b[0m\n\u001b[0;32m      3\u001b[0m     c\u001b[38;5;241m=\u001b[39m x\u001b[38;5;241m+\u001b[39my\n\u001b[0;32m      4\u001b[0m     \u001b[38;5;28mprint\u001b[39m(c)\n\u001b[1;32m----> 6\u001b[0m add(\u001b[38;5;241m5\u001b[39m)\n",
      "\u001b[1;31mTypeError\u001b[0m: add() missing 1 required positional argument: 'y'"
     ]
    }
   ],
   "source": [
    "# function with argument\n",
    "def add(x,y):\n",
    "    c= x+y\n",
    "    print(c)\n",
    "\n",
    "add(5)"
   ]
  },
  {
   "cell_type": "code",
   "execution_count": null,
   "id": "0cf0f7b1-4520-482c-bc07-a2fdf9645e2d",
   "metadata": {},
   "outputs": [],
   "source": [
    "# function with argument\n",
    "def add(x,y):\n",
    "    c= x+y\n",
    "    print(c)\n",
    "\n",
    "add(5,6,7)"
   ]
  },
  {
   "cell_type": "code",
   "execution_count": null,
   "id": "540496f7-8cda-4f9d-a94b-2d0c0403926c",
   "metadata": {},
   "outputs": [],
   "source": [
    "# function with argument\n",
    "def add(x,y,z):\n",
    "    c= x+y+z\n",
    "    print(c)\n",
    "\n",
    "add(5,6,7)"
   ]
  },
  {
   "cell_type": "code",
   "execution_count": null,
   "id": "eb6649c6-0127-4e8e-91a2-f6fadbe8e1e0",
   "metadata": {},
   "outputs": [],
   "source": [
    "# function with argument\n",
    "def add(x,y,z):\n",
    "    c= x+y+z+m\n",
    "    print(c)\n",
    "\n",
    "add(5,6,7)"
   ]
  },
  {
   "cell_type": "code",
   "execution_count": null,
   "id": "10133f58-2e2e-40eb-8d10-305e643b9ff5",
   "metadata": {},
   "outputs": [],
   "source": [
    "# function with argument\n",
    "def add(x,y,z,n):\n",
    "    c= x+y+z+m\n",
    "    print(c)\n",
    "\n",
    "add(5,6,7,8)"
   ]
  },
  {
   "cell_type": "code",
   "execution_count": null,
   "id": "da2fb419-5709-48dc-a549-d91e23988189",
   "metadata": {},
   "outputs": [],
   "source": [
    "# function with argument\n",
    "def add(x,y,z,n):\n",
    "    c= x+y+z+n\n",
    "    print(c)\n",
    "\n",
    "add(5,6,7,8)"
   ]
  },
  {
   "cell_type": "code",
   "execution_count": null,
   "id": "b38660e4-e2a3-421b-9307-e80471983b7f",
   "metadata": {},
   "outputs": [],
   "source": [
    "def greet():\n",
    "    print('hello')\n",
    "    print('good morning team')\n",
    "\n",
    "greet()\n",
    "\n",
    "def add(x,y):\n",
    "    c= x+y\n",
    "    print(c)\n",
    "\n",
    "add(5,6)"
   ]
  },
  {
   "cell_type": "code",
   "execution_count": null,
   "id": "50d7501d-d5ca-4f2d-b086-6ef80f4048d1",
   "metadata": {},
   "outputs": [],
   "source": [
    "def greet():\n",
    "    print('hello')\n",
    "    print('good morning team')\n",
    "\n",
    "def add(x,y):\n",
    "    c = x-y\n",
    "    return c\n",
    "\n",
    "def sub(x,y):\n",
    "    d = x-y\n",
    "    return d\n",
    "\n",
    "greet()\n",
    "print(add(5,6))\n",
    "print(sub(5,6))"
   ]
  },
  {
   "cell_type": "code",
   "execution_count": null,
   "id": "36f25c67-c01d-4044-abc9-20d406aa326f",
   "metadata": {},
   "outputs": [],
   "source": [
    "def add_sub(x,y):\n",
    "    c = x+y\n",
    "    d = x-y\n",
    "    return c,d\n",
    "\n",
    "result =  add_sub(4,5)\n",
    "print(result)\n",
    "print(type(result))"
   ]
  },
  {
   "cell_type": "code",
   "execution_count": null,
   "id": "0ddbfe9d-639f-4742-b7d3-34752289a50c",
   "metadata": {},
   "outputs": [],
   "source": [
    "def add_sub(x,y):\n",
    "    c = x+y\n",
    "    d = x-y\n",
    "    return c,d\n",
    "\n",
    "result, result1 = add_sub(4,5)\n",
    "\n",
    "print(result)\n",
    "print(result1)\n",
    "print(type(result))"
   ]
  },
  {
   "cell_type": "code",
   "execution_count": null,
   "id": "4a5caa1b-022e-42f3-9cb8-59ff9df856bb",
   "metadata": {},
   "outputs": [],
   "source": [
    "def add_sub_mul(x,y):\n",
    "    c=x+y\n",
    "    d=x-y\n",
    "    e=x*y\n",
    "    return c, d, e,\n",
    "\n",
    "add, sub, mul, = add_sub_mul(4,5)\n",
    "add\n",
    "sub\n",
    "mul"
   ]
  },
  {
   "cell_type": "markdown",
   "id": "7e396c03-1aa2-4952-869a-11fa58783cbe",
   "metadata": {},
   "source": [
    "# Update"
   ]
  },
  {
   "cell_type": "code",
   "execution_count": null,
   "id": "9fac9c6e-8379-4fac-a192-417c343dc357",
   "metadata": {},
   "outputs": [],
   "source": [
    "def update():\n",
    "    x = 8\n",
    "    print(x)\n",
    "\n",
    "update()"
   ]
  },
  {
   "cell_type": "code",
   "execution_count": null,
   "id": "8d993666-b99a-4e10-af5e-692e931a3a6e",
   "metadata": {},
   "outputs": [],
   "source": [
    "def update(): # update function take the value from the user\n",
    "    x = 8\n",
    "    print(x)\n",
    "\n",
    "update(8)"
   ]
  },
  {
   "cell_type": "code",
   "execution_count": null,
   "id": "930bec0c-053b-40af-99a2-3d993091dd28",
   "metadata": {},
   "outputs": [],
   "source": [
    "def update():\n",
    "    x = 8\n",
    "    print(x)\n",
    "\n",
    "update()"
   ]
  },
  {
   "cell_type": "code",
   "execution_count": null,
   "id": "b44ce039-c216-4fa5-93a3-d9bc69a58676",
   "metadata": {},
   "outputs": [],
   "source": []
  },
  {
   "cell_type": "code",
   "execution_count": null,
   "id": "77a789df-e990-47c4-9e8c-852c762ab66a",
   "metadata": {},
   "outputs": [],
   "source": []
  },
  {
   "cell_type": "code",
   "execution_count": null,
   "id": "67ee6f68-6e16-41fc-a2d7-b9c2424c0f8a",
   "metadata": {},
   "outputs": [],
   "source": []
  },
  {
   "cell_type": "code",
   "execution_count": null,
   "id": "30be61a8-b2e5-4cee-9f62-4584a909e92e",
   "metadata": {},
   "outputs": [],
   "source": []
  },
  {
   "cell_type": "code",
   "execution_count": null,
   "id": "51e35ac9-a04c-418e-9e1e-524ae4559697",
   "metadata": {},
   "outputs": [],
   "source": []
  },
  {
   "cell_type": "code",
   "execution_count": null,
   "id": "b7c9eabf-f0b2-4eea-a951-448a112cb5fd",
   "metadata": {},
   "outputs": [],
   "source": []
  },
  {
   "cell_type": "code",
   "execution_count": null,
   "id": "1b830deb-9a06-454d-a039-9c26762a700b",
   "metadata": {},
   "outputs": [],
   "source": []
  }
 ],
 "metadata": {
  "kernelspec": {
   "display_name": "Python [conda env:base] *",
   "language": "python",
   "name": "conda-base-py"
  },
  "language_info": {
   "codemirror_mode": {
    "name": "ipython",
    "version": 3
   },
   "file_extension": ".py",
   "mimetype": "text/x-python",
   "name": "python",
   "nbconvert_exporter": "python",
   "pygments_lexer": "ipython3",
   "version": "3.12.7"
  }
 },
 "nbformat": 4,
 "nbformat_minor": 5
}

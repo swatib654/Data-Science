{
 "cells": [
  {
   "cell_type": "markdown",
   "id": "d85dce9a-f91c-4105-b1bc-ee7a2fe71cfc",
   "metadata": {},
   "source": [
    "# 1.RIGHT ANGLE TRIANGLE PATTERN"
   ]
  },
  {
   "cell_type": "code",
   "execution_count": 25,
   "id": "c0bde0e0-b686-4f51-b46e-7b6b6d00a854",
   "metadata": {},
   "outputs": [
    {
     "name": "stdout",
     "output_type": "stream",
     "text": [
      " A \n",
      " A  A \n",
      " A  A  A \n",
      " A  A  A  A \n",
      " A  A  A  A  A \n"
     ]
    }
   ],
   "source": [
    "for i in range (1,6):\n",
    "    print(' A ' *i)"
   ]
  },
  {
   "cell_type": "markdown",
   "id": "58c682fd-3eb0-45ef-afd6-9b163b40badd",
   "metadata": {},
   "source": [
    "# Inverted Right Angle Triangle Pattern"
   ]
  },
  {
   "cell_type": "code",
   "execution_count": 2,
   "id": "3dbf2d40-783e-47bb-b4ae-2fb8ab002a11",
   "metadata": {},
   "outputs": [
    {
     "name": "stdout",
     "output_type": "stream",
     "text": [
      " sonu  sonu  sonu  sonu  sonu \n",
      " sonu  sonu  sonu  sonu \n",
      " sonu  sonu  sonu \n",
      " sonu  sonu \n",
      " sonu \n"
     ]
    }
   ],
   "source": [
    "for i in range(5,0,-1):\n",
    "    print(' sonu ' *i)"
   ]
  },
  {
   "cell_type": "markdown",
   "id": "44349006-b698-48e7-ad66-e7bfeea2d68a",
   "metadata": {},
   "source": [
    "# Pyramid pattern"
   ]
  },
  {
   "cell_type": "code",
   "execution_count": 3,
   "id": "99bf59d6-8c79-4cf1-baef-b94db3ad221f",
   "metadata": {},
   "outputs": [
    {
     "name": "stdout",
     "output_type": "stream",
     "text": [
      " * \n",
      " *  *  * \n",
      " *  *  *  *  * \n",
      " *  *  *  *  *  *  * \n",
      " *  *  *  *  *  *  *  *  * \n"
     ]
    }
   ],
   "source": [
    "for i in range (1,6):\n",
    "    print (''*(5-i)+' * '*(2*i-1))"
   ]
  },
  {
   "cell_type": "markdown",
   "id": "4e07607f-ae53-48b9-9615-74b8e81b85e2",
   "metadata": {},
   "source": [
    "# Inverted Pyramid Pattern"
   ]
  },
  {
   "cell_type": "code",
   "execution_count": 4,
   "id": "5d45f634-13dd-47e5-b312-1d76c6b8fb59",
   "metadata": {},
   "outputs": [
    {
     "name": "stdout",
     "output_type": "stream",
     "text": [
      " *  *  *  *  *  *  *  *  * \n",
      " *  *  *  *  *  *  * \n",
      " *  *  *  *  * \n",
      " *  *  * \n",
      " * \n"
     ]
    }
   ],
   "source": [
    "for i in range (5,0,-1):\n",
    "    print(''*(5-i)+' * ' *(2*i-1))"
   ]
  },
  {
   "cell_type": "markdown",
   "id": "6f68d4cc-59ad-44ec-8d29-662431c6ea05",
   "metadata": {},
   "source": [
    "# 5 Diamond PATTERN"
   ]
  },
  {
   "cell_type": "code",
   "execution_count": 5,
   "id": "0afbab31-b9eb-4d0e-afe4-c5c20ec86566",
   "metadata": {},
   "outputs": [
    {
     "name": "stdout",
     "output_type": "stream",
     "text": [
      " * \n",
      " *  *  * \n",
      " *  *  *  *  * \n",
      " *  *  *  *  *  *  * \n",
      " *  *  *  *  *  *  *  *  * \n",
      " *  *  *  *  *  *  * \n",
      " *  *  *  *  * \n",
      " *  *  * \n",
      " * \n"
     ]
    }
   ],
   "source": [
    "for i in range (1,6):\n",
    "    print(''*(5-i)+' * '*(2*i-1))\n",
    "for i in range (4,0,-1):\n",
    "    print(''*(5-i)+' * '*(2*i-1))"
   ]
  },
  {
   "cell_type": "markdown",
   "id": "cde3e48b-1954-4d87-99e7-4ca0a937f20f",
   "metadata": {},
   "source": [
    "# Hallow Squre Pattern"
   ]
  },
  {
   "cell_type": "code",
   "execution_count": 6,
   "id": "55136490-c88a-457a-ab91-776ee5b0eab0",
   "metadata": {},
   "outputs": [
    {
     "name": "stdout",
     "output_type": "stream",
     "text": [
      "* * * * * \n",
      "*       * \n",
      "*       * \n",
      "*       * \n",
      "* * * * * \n"
     ]
    }
   ],
   "source": [
    "for i in range(5):\n",
    "    for j in range(5):\n",
    "        if i==0 or i==4 or j==0 or j==4:\n",
    "            print('*',end=' ')\n",
    "        else:\n",
    "             print(' ', end=' ')\n",
    "    print()"
   ]
  },
  {
   "cell_type": "markdown",
   "id": "4c4358f9-0a04-4258-bc2c-836d3a4aa97a",
   "metadata": {},
   "source": [
    "# Full square pattern"
   ]
  },
  {
   "cell_type": "code",
   "execution_count": 7,
   "id": "203ad1f5-424f-4a03-b736-cf513bdaf9b7",
   "metadata": {},
   "outputs": [
    {
     "name": "stdout",
     "output_type": "stream",
     "text": [
      " *  *  *  *  * \n",
      " *  *  *  *  * \n",
      " *  *  *  *  * \n",
      " *  *  *  *  * \n",
      " *  *  *  *  * \n"
     ]
    }
   ],
   "source": [
    "for i in range(5):\n",
    "    print(' * ' *5)"
   ]
  },
  {
   "cell_type": "markdown",
   "id": "9a3a68be-9fe0-4683-9c6b-a5c14fa186c7",
   "metadata": {},
   "source": [
    "# Right Angle triangle (Number Pattren)"
   ]
  },
  {
   "cell_type": "code",
   "execution_count": 8,
   "id": "12f2f979-4b43-4ff4-a403-2474b71df247",
   "metadata": {},
   "outputs": [
    {
     "name": "stdout",
     "output_type": "stream",
     "text": [
      "1\n",
      "1 2\n",
      "1 2 3\n",
      "1 2 3 4\n",
      "1 2 3 4 5\n"
     ]
    }
   ],
   "source": [
    "for i in range (1, 6):\n",
    "    print(' '.join(str(x) for x in range(1, i + 1)))"
   ]
  },
  {
   "cell_type": "markdown",
   "id": "3afaed99-3ad3-409f-a148-4167b4a52a2f",
   "metadata": {},
   "source": [
    "# Inverted Right angle triangle (number pattern)"
   ]
  },
  {
   "cell_type": "code",
   "execution_count": 9,
   "id": "f209145c-69f1-4690-90fa-51499815409c",
   "metadata": {},
   "outputs": [
    {
     "name": "stdout",
     "output_type": "stream",
     "text": [
      "1 2 3 4 5\n",
      "1 2 3 4\n",
      "1 2 3\n",
      "1 2\n",
      "1\n"
     ]
    }
   ],
   "source": [
    "for i in range(5,0,-1):\n",
    "    print(' '.join(str(x)for x in range(1,i+1)))"
   ]
  },
  {
   "cell_type": "markdown",
   "id": "40f419c8-9c5e-4026-a8d6-61cf522f64b5",
   "metadata": {},
   "source": [
    "# Floyd's triangle"
   ]
  },
  {
   "cell_type": "code",
   "execution_count": 10,
   "id": "99d0e50e-9ce4-43c6-95d4-66d7fd7c8257",
   "metadata": {},
   "outputs": [
    {
     "name": "stdout",
     "output_type": "stream",
     "text": [
      "1 \n",
      "2 3 \n",
      "4 5 6 \n",
      "7 8 9 10 \n",
      "11 12 13 14 15 \n"
     ]
    }
   ],
   "source": [
    "num=1\n",
    "for i in range(1,6):\n",
    "    for j in range(1,i+1):\n",
    "        print(num,end=' ')\n",
    "        num+=1\n",
    "    print()"
   ]
  },
  {
   "cell_type": "markdown",
   "id": "9cb9e451-8ba8-4e04-bf30-5a3462b79e42",
   "metadata": {},
   "source": [
    "# Hallow Right Angle Triangle"
   ]
  },
  {
   "cell_type": "code",
   "execution_count": 11,
   "id": "5e01801d-def2-485f-9a25-bebe61e43c6c",
   "metadata": {},
   "outputs": [
    {
     "name": "stdout",
     "output_type": "stream",
     "text": [
      "* \n",
      "* * \n",
      "*   * \n",
      "*     * \n",
      "* * * * * \n"
     ]
    }
   ],
   "source": [
    "for i in range(1,6):\n",
    "    for j in range(1,i+1):\n",
    "        if j==1 or j==i or i==5:\n",
    "            print('*',end=' ')\n",
    "        else:\n",
    "            print(' ',end= ' ' )\n",
    "    print()"
   ]
  },
  {
   "cell_type": "markdown",
   "id": "793add18-4597-4902-9339-c87bd0984f8a",
   "metadata": {},
   "source": [
    "# Hallow Pyramid Pattern Pattern"
   ]
  },
  {
   "cell_type": "code",
   "execution_count": 12,
   "id": "c09f4ca9-416c-4d4a-be4b-4a13aa10e91b",
   "metadata": {},
   "outputs": [
    {
     "name": "stdout",
     "output_type": "stream",
     "text": [
      "        * \n",
      "      *   * \n",
      "    *       * \n",
      "  *           * \n",
      "* * * * * * * * * \n"
     ]
    }
   ],
   "source": [
    "for i in range(1, 6):\n",
    "    for j in range(5 - i):\n",
    "        print(' ', end=' ')\n",
    "    for j in range(2 * i - 1):\n",
    "        if j == 0 or j == 2 * i - 2 or i == 5:\n",
    "            print('*',end=' ')\n",
    "        else:\n",
    "            print(' ', end=' ')\n",
    "    print()"
   ]
  },
  {
   "cell_type": "markdown",
   "id": "82651169-2f65-4ce5-a716-743872ec3c20",
   "metadata": {},
   "source": [
    "# 14 Hallow Diamond (number pattern)"
   ]
  },
  {
   "cell_type": "code",
   "execution_count": 13,
   "id": "c2b84b6f-c98b-4ddf-bcd5-c71006941b15",
   "metadata": {},
   "outputs": [
    {
     "name": "stdout",
     "output_type": "stream",
     "text": [
      "        1 \n",
      "      2   2 \n",
      "    3       3 \n",
      "  4           4 \n",
      "5               5 \n",
      "  4           4 \n",
      "    3       3 \n",
      "      2   2 \n",
      "        1 \n"
     ]
    }
   ],
   "source": [
    "n = 5\n",
    "for i in range(1, n + 1):\n",
    "    for j in range(n - i):\n",
    "        print(' ', end=' ')\n",
    "    for j in range(2 * i - 1):\n",
    "        if j == 0 or j == 2 * i - 2:\n",
    "            print(i, end=' ')\n",
    "        else:\n",
    "            print(' ', end=' ')\n",
    "    print()\n",
    "\n",
    "for i in range(n - 1, 0, -1):\n",
    "    for j in range(n - i):\n",
    "        print(' ', end=' ')\n",
    "    for j in range(2 * i - 1):\n",
    "        if j == 0 or j == 2 * i - 2:\n",
    "            print(i, end=' ')\n",
    "        else:\n",
    "            print(' ', end=' ')\n",
    "    print()"
   ]
  },
  {
   "cell_type": "code",
   "execution_count": 14,
   "id": "8c017c1b-ed17-4d79-9f95-5b5104355e07",
   "metadata": {},
   "outputs": [
    {
     "name": "stdout",
     "output_type": "stream",
     "text": [
      "        * \n",
      "      *   * \n",
      "    *       * \n",
      "  *           * \n",
      "*               * \n",
      "  *           * \n",
      "    *       * \n",
      "      *   * \n",
      "        * \n"
     ]
    }
   ],
   "source": [
    "n = 5\n",
    "for i in range(1, n + 1):\n",
    "    for j in range(n - i):\n",
    "        print(' ', end=' ')\n",
    "    for j in range(2 * i - 1):\n",
    "        if j == 0 or j == 2 * i - 2:\n",
    "            print('*', end=' ')\n",
    "        else:\n",
    "            print(' ', end=' ')\n",
    "    print()\n",
    "\n",
    "for i in range(n - 1, 0, -1):\n",
    "    for j in range(n - i):\n",
    "        print(' ', end=' ')\n",
    "    for j in range(2 * i - 1):\n",
    "        if j == 0 or j == 2 * i - 2:\n",
    "            print('*', end=' ')\n",
    "        else:\n",
    "            print(' ', end=' ')\n",
    "    print()"
   ]
  },
  {
   "cell_type": "markdown",
   "id": "8da98532-d86b-43a6-adb7-4c9ea795485b",
   "metadata": {},
   "source": [
    "# 15 Butterfly Pattern"
   ]
  },
  {
   "cell_type": "code",
   "execution_count": 15,
   "id": "05ad298f-8b96-40b3-a6f5-5e0601e4cce9",
   "metadata": {},
   "outputs": [
    {
     "name": "stdout",
     "output_type": "stream",
     "text": [
      "1                 1 \n",
      "1 2             1 2 \n",
      "1 2 3         1 2 3 \n",
      "1 2 3 4     1 2 3 4 \n",
      "1 2 3 4 5 1 2 3 4 5 \n",
      "1 2 3 4 5 1 2 3 4 5 \n",
      "1 2 3 4     1 2 3 4 \n",
      "1 2 3         1 2 3 \n",
      "1 2             1 2 \n",
      "1                 1 \n"
     ]
    }
   ],
   "source": [
    "n = 5\n",
    "for i in range(1, n + 1):\n",
    "    for j in range(1, i + 1):\n",
    "        print(j, end=' ')\n",
    "    for j in range(2 * (n - i)):\n",
    "        print(' ', end=' ')\n",
    "    for j in range(1, i + 1):\n",
    "        print(j, end=' ')\n",
    "    print()\n",
    "for i in range(n, 0, -1):\n",
    "    for j in range(1, i + 1):\n",
    "        print(j, end=' ')\n",
    "    for j in range(2 * (n - i)):\n",
    "        print(' ', end=' ')\n",
    "    for j in range(1, i + 1):\n",
    "        print(j, end=' ')\n",
    "    print()"
   ]
  },
  {
   "cell_type": "code",
   "execution_count": 16,
   "id": "d1777425-965b-4439-a394-6e7c3a6c4c50",
   "metadata": {},
   "outputs": [
    {
     "name": "stdout",
     "output_type": "stream",
     "text": [
      "*                 * \n",
      "* *             * * \n",
      "* * *         * * * \n",
      "* * * *     * * * * \n",
      "* * * * * * * * * * \n",
      "* * * * * * * * * * \n",
      "* * * *     * * * * \n",
      "* * *         * * * \n",
      "* *             * * \n",
      "*                 * \n"
     ]
    }
   ],
   "source": [
    "n = 5\n",
    "for i in range(1, n + 1):\n",
    "    for j in range(1, i + 1):\n",
    "        print('*', end=' ')\n",
    "    for j in range(2 * (n - i)):\n",
    "        print(' ', end=' ')\n",
    "    for j in range(1, i + 1):\n",
    "        print('*', end=' ')\n",
    "    print()\n",
    "for i in range(n, 0, -1):\n",
    "    for j in range(1, i + 1):\n",
    "        print('*', end=' ')\n",
    "    for j in range(2 * (n - i)):\n",
    "        print(' ', end=' ')\n",
    "    for j in range(1, i + 1):\n",
    "        print('*', end=' ')\n",
    "    print()"
   ]
  },
  {
   "cell_type": "code",
   "execution_count": 17,
   "id": "04e062af-75fe-4857-a919-3ab80b3dea92",
   "metadata": {},
   "outputs": [
    {
     "name": "stdout",
     "output_type": "stream",
     "text": [
      "*                 * \n",
      "* *             * * \n",
      "* * *         * * * \n",
      "* * * *     * * * * \n",
      "* * * * * * * * * * \n",
      "* * * * * * * * * * \n",
      "* * * *     * * * * \n",
      "* * *         * * * \n",
      "* *             * * \n",
      "*                 * \n",
      "1                 1 \n",
      "1 2             1 2 \n",
      "1 2 3         1 2 3 \n",
      "1 2 3 4     1 2 3 4 \n",
      "1 2 3 4 5 1 2 3 4 5 \n",
      "1 2 3 4 5 1 2 3 4 5 \n",
      "1 2 3 4     1 2 3 4 \n",
      "1 2 3         1 2 3 \n",
      "1 2             1 2 \n",
      "1                 1 \n"
     ]
    }
   ],
   "source": [
    "n = 5\n",
    "for i in range(1, n + 1):\n",
    "    for j in range(1, i + 1):\n",
    "        print('*', end=' ')\n",
    "    for j in range(2 * (n - i)):\n",
    "        print(' ', end=' ')\n",
    "    for j in range(1, i + 1):\n",
    "        print('*', end=' ')\n",
    "    print()\n",
    "for i in range(n, 0, -1):\n",
    "    for j in range(1, i + 1):\n",
    "        print('*', end=' ')\n",
    "    for j in range(2 * (n - i)):\n",
    "        print(' ', end=' ')\n",
    "    for j in range(1, i + 1):\n",
    "        print('*', end=' ')\n",
    "    print()\n",
    "\n",
    "n = 5\n",
    "for i in range(1, n + 1):\n",
    "    for j in range(1, i + 1):\n",
    "        print(j, end=' ')\n",
    "    for j in range(2 * (n - i)):\n",
    "        print(' ', end=' ')\n",
    "    for j in range(1, i + 1):\n",
    "        print(j, end=' ')\n",
    "    print()\n",
    "for i in range(n, 0, -1):\n",
    "    for j in range(1, i + 1):\n",
    "        print(j, end=' ')\n",
    "    for j in range(2 * (n - i)):\n",
    "        print(' ', end=' ')\n",
    "    for j in range(1, i + 1):\n",
    "        print(j, end=' ')\n",
    "    print()"
   ]
  },
  {
   "cell_type": "markdown",
   "id": "8f686ad1-3078-4d04-bd44-a18b9b9d07f6",
   "metadata": {},
   "source": [
    "# PARAMID"
   ]
  },
  {
   "cell_type": "markdown",
   "id": "42bbda77-c74f-4819-9e2e-2cbae8aaa446",
   "metadata": {},
   "source": [
    "# Hallow Number Pyramid"
   ]
  },
  {
   "cell_type": "code",
   "execution_count": 18,
   "id": "ea1ddf94-0ccb-43b0-abda-94205057996d",
   "metadata": {},
   "outputs": [
    {
     "name": "stdout",
     "output_type": "stream",
     "text": [
      "        1 \n",
      "      2   2 \n",
      "    3       3 \n",
      "  4           4 \n",
      "5 5 5 5 5 5 5 5 5 \n"
     ]
    }
   ],
   "source": [
    "n = 5\n",
    "for i in range(1, n + 1):\n",
    "    for j in range(n - i):\n",
    "        print(' ', end=' ')\n",
    "\n",
    "\n",
    "    for j in range(1, 2 * i):\n",
    "        if j == 1 or j == 2 * i - 1 or i == n:\n",
    "            print(i, end=' ')\n",
    "        else:\n",
    "            print(' ', end=' ')\n",
    "    print()"
   ]
  },
  {
   "cell_type": "code",
   "execution_count": 19,
   "id": "f7497799-5f4c-4c15-9c99-c717560c5171",
   "metadata": {},
   "outputs": [
    {
     "name": "stdout",
     "output_type": "stream",
     "text": [
      "        1 \n",
      "      2   2 \n",
      "    3       3 \n",
      "  4           4 \n",
      "5 5 5 5 5 5 5 5 5 \n"
     ]
    }
   ],
   "source": [
    "n = 5\n",
    "for i in range(1, n + 1):\n",
    "    for j in range(n - i):\n",
    "        print(' ', end=' ')\n",
    "\n",
    "    for j in range(1, 2 * i):\n",
    "        if j == 1 or j == 2 * i - 1 or i == n:\n",
    "            print(i, end=' ')\n",
    "        else:\n",
    "            print(' ', end=' ')\n",
    "    \n",
    "    print()  # move this outside the inner loop\n"
   ]
  },
  {
   "cell_type": "markdown",
   "id": "8e645d16-a7e0-41c4-873c-76c3ea9f32c7",
   "metadata": {},
   "source": [
    "# Full Star Pyramid"
   ]
  },
  {
   "cell_type": "code",
   "execution_count": 20,
   "id": "aae0e7b1-2c58-449d-afc8-a7e50fa1c400",
   "metadata": {},
   "outputs": [
    {
     "name": "stdout",
     "output_type": "stream",
     "text": [
      "        * \n",
      "      * * * \n",
      "    * * * * * \n",
      "  * * * * * * * \n",
      "* * * * * * * * * \n"
     ]
    }
   ],
   "source": [
    "n=5\n",
    "\n",
    "for i in range(1,n+1):\n",
    "\n",
    "    for j in range(n-i):\n",
    "        print(' ', end=' ')\n",
    "\n",
    "    for j in range(2*i-1):\n",
    "        print('*', end=' ')\n",
    "\n",
    "    print()"
   ]
  },
  {
   "cell_type": "markdown",
   "id": "8965ba04-beb1-4ed5-9e13-86d62b692dd1",
   "metadata": {},
   "source": [
    "# Inverted Full Star Pyramid "
   ]
  },
  {
   "cell_type": "code",
   "execution_count": 21,
   "id": "5fcbbb22-95c8-4d87-bd4b-f72ac6853b13",
   "metadata": {},
   "outputs": [
    {
     "name": "stdout",
     "output_type": "stream",
     "text": [
      "* * * * * * * * * \n",
      "  * * * * * * * \n",
      "    * * * * * \n",
      "      * * * \n",
      "        * \n"
     ]
    }
   ],
   "source": [
    "n = 5\n",
    "\n",
    "for i in range(n, 0, -1):\n",
    "\n",
    "    for j in range(n - i):\n",
    "        print(' ', end=' ')\n",
    "\n",
    "    for j in range(2 * i - 1):\n",
    "        print('*', end=' ')\n",
    "    print()"
   ]
  },
  {
   "cell_type": "markdown",
   "id": "624f3565-6ca4-4a59-b73a-9322d2286b9f",
   "metadata": {},
   "source": [
    "# Left Aligned Pyramid Pattern"
   ]
  },
  {
   "cell_type": "code",
   "execution_count": 22,
   "id": "1cb003df-c960-4991-a46f-ec6266cb3091",
   "metadata": {},
   "outputs": [
    {
     "name": "stdout",
     "output_type": "stream",
     "text": [
      "* \n",
      "* * \n",
      "* * * \n",
      "* * * * \n",
      "* * * * * \n",
      "1 \n",
      "1 2 \n",
      "1 2 3 \n",
      "1 2 3 4 \n",
      "1 2 3 4 5 \n"
     ]
    }
   ],
   "source": [
    "n = 5\n",
    "\n",
    "for i in range(1, n + 1):\n",
    "\n",
    "    for j in range(i):\n",
    "        print('*', end=' ')\n",
    "    print()\n",
    "\n",
    "\n",
    "n = 5\n",
    "\n",
    "for i in range(1, n + 1):\n",
    "\n",
    "    for j in range(1, i + 1):\n",
    "        print(j, end=' ')\n",
    "    print()\n",
    "    "
   ]
  },
  {
   "cell_type": "code",
   "execution_count": 23,
   "id": "92d72a67-65a2-479d-b92a-ff4692bee814",
   "metadata": {},
   "outputs": [
    {
     "name": "stdout",
     "output_type": "stream",
     "text": [
      "        1 \n",
      "      1 2 \n",
      "    1 2 3 \n",
      "  1 2 3 4 \n",
      "1 2 3 4 5 \n",
      "        * \n",
      "      * * \n",
      "    * * * \n",
      "  * * * * \n",
      "* * * * * \n"
     ]
    }
   ],
   "source": [
    "n = 5\n",
    "\n",
    "for i in range(1, n + 1):\n",
    "    for j in range(n-i):\n",
    "        print(' ', end=' ')\n",
    "\n",
    "    for j in range(1, i + 1):\n",
    "        print(j, end=' ')\n",
    "\n",
    "    print()\n",
    "\n",
    "n = 5\n",
    "\n",
    "for i in range(1, n + 1):\n",
    "\n",
    "        for j in range(n - i):\n",
    "            print(' ', end=' ')\n",
    "\n",
    "        for j in range(i):\n",
    "            print('*', end=' ')\n",
    "        print()"
   ]
  },
  {
   "cell_type": "markdown",
   "id": "9ac02437-6fb1-4255-b468-9b9d23d3a98f",
   "metadata": {},
   "source": [
    "# THANKY YOU"
   ]
  },
  {
   "cell_type": "code",
   "execution_count": 27,
   "id": "c1a3f666-7c1d-42a1-a0a3-0c833d6c860f",
   "metadata": {},
   "outputs": [
    {
     "name": "stdout",
     "output_type": "stream",
     "text": [
      "0\n",
      "1\n",
      "2\n",
      "3\n",
      "4\n"
     ]
    }
   ],
   "source": [
    "for i in range(10):\n",
    "    if i == 5:\n",
    "        break\n",
    "    print(i)\n"
   ]
  },
  {
   "cell_type": "code",
   "execution_count": 29,
   "id": "929816b7-355b-4978-a8fb-d2384ad2015d",
   "metadata": {},
   "outputs": [
    {
     "name": "stdout",
     "output_type": "stream",
     "text": [
      "0\n",
      "1\n",
      "3\n",
      "4\n",
      "5\n",
      "6\n",
      "7\n",
      "8\n",
      "9\n"
     ]
    }
   ],
   "source": [
    "for i in range(10):\n",
    "    if i == 2:\n",
    "        continue\n",
    "    print(i)\n"
   ]
  },
  {
   "cell_type": "code",
   "execution_count": 30,
   "id": "cbdb7db5-3a30-44db-b32c-082abfa4812e",
   "metadata": {},
   "outputs": [
    {
     "name": "stdout",
     "output_type": "stream",
     "text": [
      "0\n",
      "1\n",
      "2\n",
      "3\n",
      "4\n",
      "Loop finished without break\n"
     ]
    }
   ],
   "source": [
    "for i in range(5):\n",
    "    print(i)\n",
    "else:\n",
    "    print(\"Loop finished without break\")\n"
   ]
  },
  {
   "cell_type": "code",
   "execution_count": 32,
   "id": "3826bf1f-2bd9-4bb3-9bcd-b5f92e18876b",
   "metadata": {},
   "outputs": [
    {
     "name": "stdout",
     "output_type": "stream",
     "text": [
      "0\n",
      "1\n",
      "2\n",
      "4\n",
      "Will not print because loop was broken\n"
     ]
    }
   ],
   "source": [
    "for i in range(5):\n",
    "    if i == 3:\n",
    "        continue\n",
    "    print(i)\n",
    "else:\n",
    "    print(\"Will not print because loop was broken\")\n"
   ]
  },
  {
   "cell_type": "code",
   "execution_count": null,
   "id": "cf26a937-481d-4b56-aa3a-f8924a467e03",
   "metadata": {},
   "outputs": [],
   "source": []
  }
 ],
 "metadata": {
  "kernelspec": {
   "display_name": "Python [conda env:base] *",
   "language": "python",
   "name": "conda-base-py"
  },
  "language_info": {
   "codemirror_mode": {
    "name": "ipython",
    "version": 3
   },
   "file_extension": ".py",
   "mimetype": "text/x-python",
   "name": "python",
   "nbconvert_exporter": "python",
   "pygments_lexer": "ipython3",
   "version": "3.12.7"
  }
 },
 "nbformat": 4,
 "nbformat_minor": 5
}

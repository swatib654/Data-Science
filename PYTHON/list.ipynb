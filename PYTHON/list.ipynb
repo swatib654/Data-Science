{
 "cells": [
  {
   "cell_type": "code",
   "execution_count": 43,
   "id": "cacebbfd-b867-46b6-a3f7-90ceb6b43e9a",
   "metadata": {},
   "outputs": [
    {
     "data": {
      "text/plain": [
       "[1, 2, 3, 4, 5]"
      ]
     },
     "execution_count": 43,
     "metadata": {},
     "output_type": "execute_result"
    }
   ],
   "source": [
    "l11=[1,2,3,4,5]\n",
    "l11"
   ]
  },
  {
   "cell_type": "code",
   "execution_count": 44,
   "id": "6548fc33-ef47-40a1-99b6-78c67e2c2b34",
   "metadata": {},
   "outputs": [],
   "source": [
    "l = []"
   ]
  },
  {
   "cell_type": "code",
   "execution_count": 45,
   "id": "1fa71808-1b9b-4cf4-a0a3-6c987a536d8e",
   "metadata": {},
   "outputs": [
    {
     "data": {
      "text/plain": [
       "list"
      ]
     },
     "execution_count": 45,
     "metadata": {},
     "output_type": "execute_result"
    }
   ],
   "source": [
    "type(l)"
   ]
  },
  {
   "cell_type": "code",
   "execution_count": 46,
   "id": "0c2ffb11-c9b8-49a5-819a-049f8346447f",
   "metadata": {},
   "outputs": [
    {
     "name": "stdout",
     "output_type": "stream",
     "text": [
      "<class 'list'>\n"
     ]
    }
   ],
   "source": [
    "print(type(l))"
   ]
  },
  {
   "cell_type": "code",
   "execution_count": 47,
   "id": "500113ef-df3c-4b12-bcd0-a60804505063",
   "metadata": {},
   "outputs": [
    {
     "data": {
      "text/plain": [
       "0"
      ]
     },
     "execution_count": 47,
     "metadata": {},
     "output_type": "execute_result"
    }
   ],
   "source": [
    "len(l)"
   ]
  },
  {
   "cell_type": "code",
   "execution_count": 48,
   "id": "23dca3e0-74a7-4fa5-9fd9-59e78f6601bc",
   "metadata": {},
   "outputs": [],
   "source": [
    "l.append(10)"
   ]
  },
  {
   "cell_type": "code",
   "execution_count": 49,
   "id": "e5b1002a-09cf-413f-ba53-22c1ec907e71",
   "metadata": {},
   "outputs": [
    {
     "data": {
      "text/plain": [
       "[10]"
      ]
     },
     "execution_count": 49,
     "metadata": {},
     "output_type": "execute_result"
    }
   ],
   "source": [
    "l"
   ]
  },
  {
   "cell_type": "markdown",
   "id": "cd387152-e71a-45e8-a57e-e250666eb735",
   "metadata": {},
   "source": [
    "# list datastructure "
   ]
  },
  {
   "cell_type": "code",
   "execution_count": 50,
   "id": "29f80e44-53a2-4929-b234-e6ace92ec4a0",
   "metadata": {},
   "outputs": [],
   "source": [
    "# swati"
   ]
  },
  {
   "cell_type": "code",
   "execution_count": 51,
   "id": "66803aaf-8bed-499c-b4dd-062deb22f524",
   "metadata": {},
   "outputs": [],
   "source": [
    "l.append(20)\n"
   ]
  },
  {
   "cell_type": "code",
   "execution_count": 52,
   "id": "d296e970-8b40-466c-8c8d-f460df253bea",
   "metadata": {},
   "outputs": [
    {
     "data": {
      "text/plain": [
       "[10, 20]"
      ]
     },
     "execution_count": 52,
     "metadata": {},
     "output_type": "execute_result"
    }
   ],
   "source": [
    "l"
   ]
  },
  {
   "cell_type": "code",
   "execution_count": 53,
   "id": "32a3963c-21c9-4788-8757-51d527604297",
   "metadata": {},
   "outputs": [
    {
     "data": {
      "text/plain": [
       "[10, 20]"
      ]
     },
     "execution_count": 53,
     "metadata": {},
     "output_type": "execute_result"
    }
   ],
   "source": [
    "l"
   ]
  },
  {
   "cell_type": "code",
   "execution_count": 54,
   "id": "4e1a5c4d-e7f6-475f-b15c-f948d27b1ecb",
   "metadata": {},
   "outputs": [],
   "source": [
    "l.append(20)\n",
    "l.append(30)\n",
    "l.append(40)\n",
    "l.append(50)"
   ]
  },
  {
   "cell_type": "code",
   "execution_count": 55,
   "id": "87c1a5a2-779f-42b5-86d4-88787f91df4a",
   "metadata": {},
   "outputs": [
    {
     "data": {
      "text/plain": [
       "[10, 20, 20, 30, 40, 50]"
      ]
     },
     "execution_count": 55,
     "metadata": {},
     "output_type": "execute_result"
    }
   ],
   "source": [
    "l"
   ]
  },
  {
   "cell_type": "code",
   "execution_count": 56,
   "id": "ecdaa21c-d2f9-451a-b9f2-b53f86de2123",
   "metadata": {},
   "outputs": [
    {
     "data": {
      "text/plain": [
       "6"
      ]
     },
     "execution_count": 56,
     "metadata": {},
     "output_type": "execute_result"
    }
   ],
   "source": [
    "len(l)"
   ]
  },
  {
   "cell_type": "code",
   "execution_count": 57,
   "id": "2a83f729-36cf-4766-84e5-fe73c38fc315",
   "metadata": {},
   "outputs": [
    {
     "ename": "TypeError",
     "evalue": "list.append() takes exactly one argument (2 given)",
     "output_type": "error",
     "traceback": [
      "\u001b[1;31m---------------------------------------------------------------------------\u001b[0m",
      "\u001b[1;31mTypeError\u001b[0m                                 Traceback (most recent call last)",
      "Cell \u001b[1;32mIn[57], line 1\u001b[0m\n\u001b[1;32m----> 1\u001b[0m l\u001b[38;5;241m.\u001b[39mappend(\u001b[38;5;241m10\u001b[39m,\u001b[38;5;241m20\u001b[39m)\n",
      "\u001b[1;31mTypeError\u001b[0m: list.append() takes exactly one argument (2 given)"
     ]
    }
   ],
   "source": [
    "l.append(10,20)"
   ]
  },
  {
   "cell_type": "code",
   "execution_count": null,
   "id": "f85bf631-63e6-4fc7-98cf-67dc977d9975",
   "metadata": {},
   "outputs": [],
   "source": [
    "l"
   ]
  },
  {
   "cell_type": "code",
   "execution_count": null,
   "id": "1676295a-e694-4f4e-890a-7f7220d183e0",
   "metadata": {},
   "outputs": [],
   "source": [
    "l.append(10)\n",
    "l"
   ]
  },
  {
   "cell_type": "code",
   "execution_count": null,
   "id": "807f3261-42d4-43a7-9633-05be13905319",
   "metadata": {},
   "outputs": [],
   "source": [
    "l[0]"
   ]
  },
  {
   "cell_type": "code",
   "execution_count": null,
   "id": "58646b47-120c-4793-ad0a-82a853f2cf93",
   "metadata": {},
   "outputs": [],
   "source": [
    "l[0]=100\n",
    "l"
   ]
  },
  {
   "cell_type": "code",
   "execution_count": null,
   "id": "e9d677f6-4441-4b60-9624-3c7f8a9bab5f",
   "metadata": {},
   "outputs": [],
   "source": [
    "l[-1]=-50\n",
    "l"
   ]
  },
  {
   "cell_type": "code",
   "execution_count": null,
   "id": "a7241883-200e-459d-a66a-89581ee8f2ed",
   "metadata": {},
   "outputs": [],
   "source": [
    "l"
   ]
  },
  {
   "cell_type": "code",
   "execution_count": null,
   "id": "1bd48ef8-6d1c-4725-aab2-8b9de252c8d2",
   "metadata": {},
   "outputs": [],
   "source": [
    "l1 = l.copy()\n",
    "l1"
   ]
  },
  {
   "cell_type": "code",
   "execution_count": null,
   "id": "8715c542-540f-44fe-9b47-cc241545dee3",
   "metadata": {},
   "outputs": [],
   "source": [
    "print(l)\n",
    "print(l1)"
   ]
  },
  {
   "cell_type": "code",
   "execution_count": null,
   "id": "402b9ddf-9cf8-4b14-864e-88865be31246",
   "metadata": {},
   "outputs": [],
   "source": [
    "l==l1"
   ]
  },
  {
   "cell_type": "code",
   "execution_count": null,
   "id": "9803b9fc-c85e-446d-9364-d99d83225204",
   "metadata": {},
   "outputs": [],
   "source": [
    "id(l) !=id(l1)"
   ]
  },
  {
   "cell_type": "code",
   "execution_count": null,
   "id": "9fffa811-95b1-47ab-8394-a1d8de4abd34",
   "metadata": {},
   "outputs": [],
   "source": [
    "l"
   ]
  },
  {
   "cell_type": "code",
   "execution_count": null,
   "id": "e26400f9-fba5-4dd8-b691-b78b0e8d5d9a",
   "metadata": {},
   "outputs": [],
   "source": [
    "l.count(20)"
   ]
  },
  {
   "cell_type": "code",
   "execution_count": null,
   "id": "f25c4ed9-5752-47d7-bf3a-5a7544cc5d82",
   "metadata": {},
   "outputs": [],
   "source": [
    "l.append(20)\n",
    "l"
   ]
  },
  {
   "cell_type": "code",
   "execution_count": null,
   "id": "3453803b-b82e-458d-8e8b-a72ba4889bad",
   "metadata": {},
   "outputs": [],
   "source": [
    "l.count(20)"
   ]
  },
  {
   "cell_type": "code",
   "execution_count": null,
   "id": "a919f964-51cf-49c4-bfb5-c5cab41b6730",
   "metadata": {},
   "outputs": [],
   "source": [
    "l1"
   ]
  },
  {
   "cell_type": "code",
   "execution_count": null,
   "id": "233f8b08-c486-427e-9951-2ee3b4124f3f",
   "metadata": {},
   "outputs": [],
   "source": [
    "len(l1)"
   ]
  },
  {
   "cell_type": "code",
   "execution_count": null,
   "id": "b3a0c99b-256a-4264-9413-b3560fe7d216",
   "metadata": {},
   "outputs": [],
   "source": [
    "l1"
   ]
  },
  {
   "cell_type": "code",
   "execution_count": null,
   "id": "8c949b39-7388-4ed9-a3ac-dbc1eedca92c",
   "metadata": {},
   "outputs": [],
   "source": [
    "l1.clear()\n",
    "l1"
   ]
  },
  {
   "cell_type": "code",
   "execution_count": null,
   "id": "2ca2b21b-3e24-41b2-9e41-dcb8649bbf43",
   "metadata": {},
   "outputs": [],
   "source": [
    "del l1\n",
    "l1"
   ]
  },
  {
   "cell_type": "code",
   "execution_count": null,
   "id": "1fb3a141-7f94-4faf-929f-4fe030dd5503",
   "metadata": {},
   "outputs": [],
   "source": [
    "l"
   ]
  },
  {
   "cell_type": "code",
   "execution_count": null,
   "id": "fc3efa7b-211e-4102-91e9-8736ead6ada0",
   "metadata": {},
   "outputs": [],
   "source": [
    "l2=[]"
   ]
  },
  {
   "cell_type": "code",
   "execution_count": null,
   "id": "d739d899-ce58-4c7a-8366-7a99554207bf",
   "metadata": {},
   "outputs": [],
   "source": [
    "l2.append(9)\n",
    "l2.append('nit')\n",
    "l2.append(True)\n",
    "l2.append(1+2j)\n",
    "l2.append(9.3)\n",
    "l2"
   ]
  },
  {
   "cell_type": "code",
   "execution_count": null,
   "id": "e028a852-295b-499d-9f61-e1e9cce6736c",
   "metadata": {},
   "outputs": [],
   "source": [
    "print(l)\n",
    "print(l2)"
   ]
  },
  {
   "cell_type": "code",
   "execution_count": null,
   "id": "f1f64957-9036-4b31-a87e-54326dc0841a",
   "metadata": {},
   "outputs": [],
   "source": [
    "l"
   ]
  },
  {
   "cell_type": "code",
   "execution_count": null,
   "id": "0b3d0bba-1ce0-447f-b48a-9fda073d0b31",
   "metadata": {},
   "outputs": [],
   "source": [
    "l.index(100)"
   ]
  },
  {
   "cell_type": "code",
   "execution_count": null,
   "id": "07e6acbd-0dad-447b-acec-8f267768f103",
   "metadata": {},
   "outputs": [],
   "source": [
    "l.index(20)"
   ]
  },
  {
   "cell_type": "code",
   "execution_count": null,
   "id": "d312bde5-ee4c-4e03-a6bd-ecacfd0b2071",
   "metadata": {},
   "outputs": [],
   "source": [
    "l2"
   ]
  },
  {
   "cell_type": "code",
   "execution_count": null,
   "id": "7c2754bd-df1a-49ca-bf9e-8a3d02f8669d",
   "metadata": {},
   "outputs": [],
   "source": [
    "l2[1] [0]"
   ]
  },
  {
   "cell_type": "code",
   "execution_count": null,
   "id": "d466cb82-6976-4768-91d4-4dc006037f71",
   "metadata": {},
   "outputs": [],
   "source": [
    "l2"
   ]
  },
  {
   "cell_type": "code",
   "execution_count": null,
   "id": "3b0b0c85-9fa2-4175-b981-051a2f843a03",
   "metadata": {},
   "outputs": [],
   "source": [
    "print(l2[1])"
   ]
  },
  {
   "cell_type": "code",
   "execution_count": null,
   "id": "d8652d3e-75bb-42bc-82fe-7211f7846719",
   "metadata": {},
   "outputs": [],
   "source": [
    "print (l2[1][0])\n",
    "print (l2[1][1])\n",
    "print (l2[1][2])"
   ]
  },
  {
   "cell_type": "code",
   "execution_count": null,
   "id": "4eaf5514-f9be-412b-a197-1a3066e1ef3e",
   "metadata": {},
   "outputs": [],
   "source": [
    "l"
   ]
  },
  {
   "cell_type": "code",
   "execution_count": null,
   "id": "74f916b1-6f4e-441a-badd-995499a0d781",
   "metadata": {},
   "outputs": [],
   "source": [
    "l[:]"
   ]
  },
  {
   "cell_type": "code",
   "execution_count": null,
   "id": "b8a565a3-d041-40e9-a965-b5f560ba3ad3",
   "metadata": {},
   "outputs": [],
   "source": [
    "l[3:]"
   ]
  },
  {
   "cell_type": "code",
   "execution_count": null,
   "id": "bb9ecee5-3d6d-4cd4-b782-0f90375c289d",
   "metadata": {},
   "outputs": [],
   "source": [
    "l"
   ]
  },
  {
   "cell_type": "code",
   "execution_count": null,
   "id": "c8b3ef8d-f393-4513-89c2-ee849b6f9fe7",
   "metadata": {},
   "outputs": [],
   "source": [
    "l[:10]"
   ]
  },
  {
   "cell_type": "code",
   "execution_count": null,
   "id": "f7551e34-4e8d-4cd3-b88c-9bd3766e7c84",
   "metadata": {},
   "outputs": [],
   "source": [
    "l"
   ]
  },
  {
   "cell_type": "code",
   "execution_count": null,
   "id": "9366c946-eaf6-47ff-990c-252631825743",
   "metadata": {},
   "outputs": [],
   "source": [
    "l[0:8:3]"
   ]
  },
  {
   "cell_type": "code",
   "execution_count": null,
   "id": "80bbb452-fd4d-4bb6-8b8c-dd5a5c337976",
   "metadata": {},
   "outputs": [],
   "source": [
    "l2"
   ]
  },
  {
   "cell_type": "code",
   "execution_count": null,
   "id": "2b471e27-be65-4b3b-b622-15d862099bf4",
   "metadata": {},
   "outputs": [],
   "source": [
    "l2[1:6:2]"
   ]
  },
  {
   "cell_type": "code",
   "execution_count": null,
   "id": "f25c038e-7646-4e6e-a1c9-3a5283ae51c7",
   "metadata": {},
   "outputs": [],
   "source": [
    "l"
   ]
  },
  {
   "cell_type": "code",
   "execution_count": null,
   "id": "60470d8f-f029-4839-ab09-95c1519e2d52",
   "metadata": {},
   "outputs": [],
   "source": [
    "l.insert(15,2)\n",
    "l"
   ]
  },
  {
   "cell_type": "code",
   "execution_count": null,
   "id": "82b02507-4bd2-49ac-a08e-029548fa7d2b",
   "metadata": {},
   "outputs": [],
   "source": [
    "l.insert(2, 15) #2nd index position & 15 is called value"
   ]
  },
  {
   "cell_type": "code",
   "execution_count": null,
   "id": "2accf880-a896-4a7c-a28d-477314fbb104",
   "metadata": {},
   "outputs": [],
   "source": [
    "l"
   ]
  },
  {
   "cell_type": "code",
   "execution_count": null,
   "id": "5f3594e8-2c69-4859-baa9-d88e58aaea41",
   "metadata": {},
   "outputs": [],
   "source": [
    "l.pop()"
   ]
  },
  {
   "cell_type": "code",
   "execution_count": null,
   "id": "18c33b05-600c-4ece-82d8-902d695f4185",
   "metadata": {},
   "outputs": [],
   "source": [
    "l"
   ]
  },
  {
   "cell_type": "code",
   "execution_count": null,
   "id": "f4ee7aa0-7f18-41df-a3ce-15ca0ae1f54a",
   "metadata": {},
   "outputs": [],
   "source": [
    "l.pop()"
   ]
  },
  {
   "cell_type": "code",
   "execution_count": null,
   "id": "05265fc1-23e5-46a9-9d85-b74c2157758e",
   "metadata": {},
   "outputs": [],
   "source": [
    "l"
   ]
  },
  {
   "cell_type": "code",
   "execution_count": null,
   "id": "5d1103eb-fe85-4f96-87c8-bce6bb0c0ddc",
   "metadata": {},
   "outputs": [],
   "source": [
    "l.pop()"
   ]
  },
  {
   "cell_type": "code",
   "execution_count": null,
   "id": "56a6b489-faeb-4a4c-a855-3411a3374cf1",
   "metadata": {},
   "outputs": [],
   "source": [
    "l"
   ]
  },
  {
   "cell_type": "code",
   "execution_count": null,
   "id": "dd32d57a-66cb-4fb0-bdfa-620846e1538e",
   "metadata": {},
   "outputs": [],
   "source": [
    "l2"
   ]
  },
  {
   "cell_type": "code",
   "execution_count": null,
   "id": "404d4e2d-46c4-41ab-8734-0eac0a0fbf2f",
   "metadata": {},
   "outputs": [],
   "source": [
    "l2.pop(3)"
   ]
  },
  {
   "cell_type": "code",
   "execution_count": null,
   "id": "d8dc019b-274a-4464-ad29-d99db682d140",
   "metadata": {},
   "outputs": [],
   "source": [
    "l2"
   ]
  },
  {
   "cell_type": "code",
   "execution_count": null,
   "id": "c667df51-aaa1-47ac-82f2-0ccfcb1b4900",
   "metadata": {},
   "outputs": [],
   "source": [
    "l2.remove('nit')"
   ]
  },
  {
   "cell_type": "code",
   "execution_count": null,
   "id": "fd960c05-6502-4941-804f-91f1f7cc714e",
   "metadata": {},
   "outputs": [],
   "source": [
    "l2"
   ]
  },
  {
   "cell_type": "code",
   "execution_count": null,
   "id": "acb5b48d-fbf0-4f90-825a-bbf0bc501b24",
   "metadata": {},
   "outputs": [],
   "source": []
  },
  {
   "cell_type": "markdown",
   "id": "abdfdd8e-61a3-45d0-a2b1-0d2d516c5d11",
   "metadata": {},
   "source": [
    "# list membership"
   ]
  },
  {
   "cell_type": "code",
   "execution_count": null,
   "id": "a3dfe031-40b6-4f87-8ede-81916bdcd0ae",
   "metadata": {},
   "outputs": [],
   "source": [
    "l = [100,20,30,40,50]"
   ]
  },
  {
   "cell_type": "code",
   "execution_count": null,
   "id": "22b1a69d-f56d-4494-8452-ec1d64294550",
   "metadata": {},
   "outputs": [],
   "source": [
    "l"
   ]
  },
  {
   "cell_type": "code",
   "execution_count": null,
   "id": "fd626e66-754e-43f6-91e9-3fb42d1eea2e",
   "metadata": {},
   "outputs": [],
   "source": [
    "l.sort()"
   ]
  },
  {
   "cell_type": "code",
   "execution_count": null,
   "id": "51b6f476-8d2a-4f5c-976d-b1698ca39826",
   "metadata": {},
   "outputs": [],
   "source": [
    "l"
   ]
  },
  {
   "cell_type": "code",
   "execution_count": null,
   "id": "35228f75-be81-4cbb-bad5-f2f3db017867",
   "metadata": {},
   "outputs": [],
   "source": [
    "l.sort(reverse=True)"
   ]
  },
  {
   "cell_type": "code",
   "execution_count": null,
   "id": "4cc641fa-5b03-4318-8bd0-c4a4a97d12de",
   "metadata": {},
   "outputs": [],
   "source": [
    "l"
   ]
  },
  {
   "cell_type": "code",
   "execution_count": 2,
   "id": "fc5000f6-c437-4c25-8f93-4156090bff48",
   "metadata": {},
   "outputs": [],
   "source": [
    "l=[]"
   ]
  },
  {
   "cell_type": "code",
   "execution_count": 3,
   "id": "83fc2565-b7d0-48ae-932a-b8010521106f",
   "metadata": {},
   "outputs": [
    {
     "data": {
      "text/plain": [
       "[]"
      ]
     },
     "execution_count": 3,
     "metadata": {},
     "output_type": "execute_result"
    }
   ],
   "source": [
    "l"
   ]
  },
  {
   "cell_type": "code",
   "execution_count": 4,
   "id": "eb3d5d29-58db-42cf-bf42-5e290d77016f",
   "metadata": {},
   "outputs": [
    {
     "data": {
      "text/plain": [
       "list"
      ]
     },
     "execution_count": 4,
     "metadata": {},
     "output_type": "execute_result"
    }
   ],
   "source": [
    "type(l)"
   ]
  },
  {
   "cell_type": "code",
   "execution_count": 32,
   "id": "97866791-92fa-4432-88d1-eab46c085877",
   "metadata": {},
   "outputs": [
    {
     "data": {
      "text/plain": [
       "[1, 2, 3]"
      ]
     },
     "execution_count": 32,
     "metadata": {},
     "output_type": "execute_result"
    }
   ],
   "source": [
    "mylist=[1,2,3]\n",
    "mylist"
   ]
  },
  {
   "cell_type": "code",
   "execution_count": 25,
   "id": "e54fe6ee-1a9e-41cb-b56d-e6453093dc78",
   "metadata": {},
   "outputs": [
    {
     "data": {
      "text/plain": [
       "[1, 2, 3, 4]"
      ]
     },
     "execution_count": 25,
     "metadata": {},
     "output_type": "execute_result"
    }
   ],
   "source": [
    "mylist.append(4)\n",
    "mylist"
   ]
  },
  {
   "cell_type": "code",
   "execution_count": 26,
   "id": "c3796d5c-d73e-4a8e-8d08-1bab4491c313",
   "metadata": {},
   "outputs": [
    {
     "data": {
      "text/plain": [
       "[1, 2, 3, 4, 5, 6]"
      ]
     },
     "execution_count": 26,
     "metadata": {},
     "output_type": "execute_result"
    }
   ],
   "source": [
    "mylist=[1,2,3,4]\n",
    "mylist.extend([5,6])\n",
    "mylist"
   ]
  },
  {
   "cell_type": "code",
   "execution_count": 27,
   "id": "29b803c9-78eb-4e29-82a1-06bf347cce2c",
   "metadata": {},
   "outputs": [
    {
     "data": {
      "text/plain": [
       "[1, 2, 3, 3, 5]"
      ]
     },
     "execution_count": 27,
     "metadata": {},
     "output_type": "execute_result"
    }
   ],
   "source": [
    "mylist=[1,2,3,5]\n",
    "mylist.insert(2,3)\n",
    "mylist"
   ]
  },
  {
   "cell_type": "code",
   "execution_count": 28,
   "id": "081b754a-2039-43bb-8727-5c9522654896",
   "metadata": {},
   "outputs": [
    {
     "data": {
      "text/plain": [
       "[1, 3, 3, 5]"
      ]
     },
     "execution_count": 28,
     "metadata": {},
     "output_type": "execute_result"
    }
   ],
   "source": [
    "mylist.remove(2)\n",
    "mylist"
   ]
  },
  {
   "cell_type": "code",
   "execution_count": 29,
   "id": "e891ebb3-9fad-4d79-94b4-8bf006dabaa0",
   "metadata": {},
   "outputs": [
    {
     "data": {
      "text/plain": [
       "[1, 3, 3]"
      ]
     },
     "execution_count": 29,
     "metadata": {},
     "output_type": "execute_result"
    }
   ],
   "source": [
    "mylist.pop(3)\n",
    "mylist"
   ]
  },
  {
   "cell_type": "code",
   "execution_count": 30,
   "id": "7d59890d-4ae8-41a3-a4dd-816dc512ce30",
   "metadata": {},
   "outputs": [
    {
     "data": {
      "text/plain": [
       "[]"
      ]
     },
     "execution_count": 30,
     "metadata": {},
     "output_type": "execute_result"
    }
   ],
   "source": [
    "mylist.clear()\n",
    "mylist"
   ]
  },
  {
   "cell_type": "code",
   "execution_count": 36,
   "id": "4bf0db45-5591-4e5c-979d-562821c2e1a9",
   "metadata": {},
   "outputs": [
    {
     "data": {
      "text/plain": [
       "[1, 2, 3, 4]"
      ]
     },
     "execution_count": 36,
     "metadata": {},
     "output_type": "execute_result"
    }
   ],
   "source": [
    "mylist=[1,2,3,4]\n",
    "mylist.index(1)\n",
    "mylist"
   ]
  },
  {
   "cell_type": "code",
   "execution_count": 37,
   "id": "26e94723-ed78-416e-9434-90aabd5ae3c9",
   "metadata": {},
   "outputs": [
    {
     "data": {
      "text/plain": [
       "[1, 2, 3, 4]"
      ]
     },
     "execution_count": 37,
     "metadata": {},
     "output_type": "execute_result"
    }
   ],
   "source": [
    "mylist.count(2)\n",
    "mylist"
   ]
  },
  {
   "cell_type": "code",
   "execution_count": 38,
   "id": "4864a45d-db9c-4ef3-bfd6-eabf6928bb71",
   "metadata": {},
   "outputs": [],
   "source": [
    "l=[]"
   ]
  },
  {
   "cell_type": "code",
   "execution_count": 39,
   "id": "72a63794-e9c4-4834-8410-46f0ca65e37e",
   "metadata": {},
   "outputs": [
    {
     "data": {
      "text/plain": [
       "[]"
      ]
     },
     "execution_count": 39,
     "metadata": {},
     "output_type": "execute_result"
    }
   ],
   "source": [
    "l"
   ]
  },
  {
   "cell_type": "code",
   "execution_count": 40,
   "id": "f0e314ec-0f42-4bf2-ba21-c20a28620997",
   "metadata": {},
   "outputs": [
    {
     "data": {
      "text/plain": [
       "list"
      ]
     },
     "execution_count": 40,
     "metadata": {},
     "output_type": "execute_result"
    }
   ],
   "source": [
    "type(l)"
   ]
  },
  {
   "cell_type": "code",
   "execution_count": 43,
   "id": "4578537d-981e-43e9-94b0-105973cd86cb",
   "metadata": {},
   "outputs": [],
   "source": [
    "list1=[]"
   ]
  },
  {
   "cell_type": "code",
   "execution_count": 45,
   "id": "2f583447-e80f-4837-a6d3-aca1028a8142",
   "metadata": {},
   "outputs": [
    {
     "name": "stdout",
     "output_type": "stream",
     "text": [
      "<class 'list'>\n"
     ]
    }
   ],
   "source": [
    "print(type(list1))"
   ]
  },
  {
   "cell_type": "code",
   "execution_count": 46,
   "id": "eca6fa59-e11d-40c6-94a8-cb77044988e7",
   "metadata": {},
   "outputs": [],
   "source": [
    "list2=[10,20,30] # int no's"
   ]
  },
  {
   "cell_type": "code",
   "execution_count": 47,
   "id": "3cdd0080-d367-4b85-90d0-b8bb28dd25fb",
   "metadata": {},
   "outputs": [],
   "source": [
    "list3=[10.77,30.66,60.69] # float no's"
   ]
  },
  {
   "cell_type": "code",
   "execution_count": 49,
   "id": "34446d3e-7662-4414-97ba-f7c22ebe307c",
   "metadata": {},
   "outputs": [],
   "source": [
    "list4='swati',25,[50,100],[150,90] # nested lists"
   ]
  },
  {
   "cell_type": "code",
   "execution_count": 50,
   "id": "95c24226-020a-456c-a3fd-95cbe842fda2",
   "metadata": {},
   "outputs": [],
   "source": [
    "list5=['one','two','three'] #string list"
   ]
  },
  {
   "cell_type": "code",
   "execution_count": 51,
   "id": "58d56b4a-b20c-43bb-a5e0-a4705c45e044",
   "metadata": {},
   "outputs": [],
   "source": [
    "list6=[100,'swati',17.55] #list of mixed data"
   ]
  },
  {
   "cell_type": "code",
   "execution_count": 53,
   "id": "cc7c3f40-70c0-4d7b-8d77-6a5184290f03",
   "metadata": {},
   "outputs": [],
   "source": [
    "list7=['swati',25,[50,100],[150,90],{'swati','shradha'}]"
   ]
  },
  {
   "cell_type": "code",
   "execution_count": 54,
   "id": "7944a8cd-d705-4419-849f-e821b6f557fa",
   "metadata": {},
   "outputs": [
    {
     "data": {
      "text/plain": [
       "3"
      ]
     },
     "execution_count": 54,
     "metadata": {},
     "output_type": "execute_result"
    }
   ],
   "source": [
    "len(list6) # length of list"
   ]
  },
  {
   "cell_type": "code",
   "execution_count": 55,
   "id": "2a724b26-b0d3-4894-9b3a-0abfca5c2304",
   "metadata": {},
   "outputs": [
    {
     "data": {
      "text/plain": [
       "10"
      ]
     },
     "execution_count": 55,
     "metadata": {},
     "output_type": "execute_result"
    }
   ],
   "source": [
    "list2[0] #recieve first element of the list"
   ]
  },
  {
   "cell_type": "code",
   "execution_count": 56,
   "id": "81915de6-8361-4b7c-8899-08cda9696829",
   "metadata": {},
   "outputs": [
    {
     "data": {
      "text/plain": [
       "'swati'"
      ]
     },
     "execution_count": 56,
     "metadata": {},
     "output_type": "execute_result"
    }
   ],
   "source": [
    "list4[0] #receive first element of the list"
   ]
  },
  {
   "cell_type": "code",
   "execution_count": 57,
   "id": "19404e80-0805-47c3-b42e-27cc0c5923c8",
   "metadata": {},
   "outputs": [
    {
     "data": {
      "text/plain": [
       "'s'"
      ]
     },
     "execution_count": 57,
     "metadata": {},
     "output_type": "execute_result"
    }
   ],
   "source": [
    "list4[0][0]"
   ]
  },
  {
   "cell_type": "code",
   "execution_count": 58,
   "id": "17e37bb9-2225-4994-b0f5-735ef59c5611",
   "metadata": {},
   "outputs": [
    {
     "data": {
      "text/plain": [
       "[150, 90]"
      ]
     },
     "execution_count": 58,
     "metadata": {},
     "output_type": "execute_result"
    }
   ],
   "source": [
    "list4[-1] # last item of numbers"
   ]
  },
  {
   "cell_type": "code",
   "execution_count": 59,
   "id": "e2370804-e1d4-4ba6-9de5-26ed02246fd3",
   "metadata": {},
   "outputs": [
    {
     "data": {
      "text/plain": [
       "'three'"
      ]
     },
     "execution_count": 59,
     "metadata": {},
     "output_type": "execute_result"
    }
   ],
   "source": [
    "list5[-1]"
   ]
  },
  {
   "cell_type": "code",
   "execution_count": 3,
   "id": "f6aa5ca6-32ee-425c-8ca3-0846d0eb9e63",
   "metadata": {},
   "outputs": [],
   "source": [
    "mylist = ['one','two','three','four','five','six','seven','eight']"
   ]
  },
  {
   "cell_type": "code",
   "execution_count": 61,
   "id": "5e96d22f-1d61-46f4-897e-58330561c66a",
   "metadata": {},
   "outputs": [
    {
     "data": {
      "text/plain": [
       "['one', 'two', 'three']"
      ]
     },
     "execution_count": 61,
     "metadata": {},
     "output_type": "execute_result"
    }
   ],
   "source": [
    "mylist[0:3] #Return all items from 0th and 3rd index location excluting the item"
   ]
  },
  {
   "cell_type": "code",
   "execution_count": 62,
   "id": "48ae90b3-f68a-4337-a328-087112784473",
   "metadata": {},
   "outputs": [
    {
     "data": {
      "text/plain": [
       "['three', 'four', 'five']"
      ]
     },
     "execution_count": 62,
     "metadata": {},
     "output_type": "execute_result"
    }
   ],
   "source": [
    "mylist[2:5] # list all item from 2nd and 5th index location excluting the item"
   ]
  },
  {
   "cell_type": "code",
   "execution_count": 63,
   "id": "7a610fc6-44cb-413e-aa41-8c5259f2a287",
   "metadata": {},
   "outputs": [
    {
     "data": {
      "text/plain": [
       "['one', 'two']"
      ]
     },
     "execution_count": 63,
     "metadata": {},
     "output_type": "execute_result"
    }
   ],
   "source": [
    "mylist[:2] #return first two item"
   ]
  },
  {
   "cell_type": "code",
   "execution_count": 65,
   "id": "44725744-2ddf-4750-8939-d08906a10ebf",
   "metadata": {},
   "outputs": [
    {
     "data": {
      "text/plain": [
       "['six', 'seven', 'eight']"
      ]
     },
     "execution_count": 65,
     "metadata": {},
     "output_type": "execute_result"
    }
   ],
   "source": [
    "mylist[-3:] #return lats three item "
   ]
  },
  {
   "cell_type": "code",
   "execution_count": 67,
   "id": "c019a5b2-dbe1-4dfc-acbf-918da1d4d5f4",
   "metadata": {},
   "outputs": [
    {
     "data": {
      "text/plain": [
       "['seven', 'eight']"
      ]
     },
     "execution_count": 67,
     "metadata": {},
     "output_type": "execute_result"
    }
   ],
   "source": [
    "mylist[-2:] #return last two item"
   ]
  },
  {
   "cell_type": "code",
   "execution_count": 68,
   "id": "df8dc93d-d3ff-43aa-a544-7e18a2d42037",
   "metadata": {},
   "outputs": [
    {
     "data": {
      "text/plain": [
       "'eight'"
      ]
     },
     "execution_count": 68,
     "metadata": {},
     "output_type": "execute_result"
    }
   ],
   "source": [
    "mylist[-1] # return last item of the list"
   ]
  },
  {
   "cell_type": "code",
   "execution_count": 69,
   "id": "f15ef21e-2d14-44d2-9343-b5b5cbc3604b",
   "metadata": {},
   "outputs": [
    {
     "data": {
      "text/plain": [
       "['one', 'two', 'three', 'four', 'five', 'six', 'seven', 'eight']"
      ]
     },
     "execution_count": 69,
     "metadata": {},
     "output_type": "execute_result"
    }
   ],
   "source": [
    "mylist[:] #return whole list"
   ]
  },
  {
   "cell_type": "markdown",
   "id": "71d75a44-ed74-4582-8f9d-6aedf317360f",
   "metadata": {},
   "source": [
    "# Add,Remove & Change Items"
   ]
  },
  {
   "cell_type": "code",
   "execution_count": 9,
   "id": "fc16af31-e74a-4d32-89fd-401789a5fb6f",
   "metadata": {},
   "outputs": [
    {
     "data": {
      "text/plain": [
       "['one', 'two', 'three', 'four', 'five', 'six', 'seven', 'eight']"
      ]
     },
     "execution_count": 9,
     "metadata": {},
     "output_type": "execute_result"
    }
   ],
   "source": [
    "mylist"
   ]
  },
  {
   "cell_type": "code",
   "execution_count": 10,
   "id": "bee19647-7281-4ef2-819b-ae98bdfb0395",
   "metadata": {},
   "outputs": [
    {
     "data": {
      "text/plain": [
       "['one', 'two', 'three', 'four', 'five', 'six', 'seven', 'eight', 'nine']"
      ]
     },
     "execution_count": 10,
     "metadata": {},
     "output_type": "execute_result"
    }
   ],
   "source": [
    "mylist.append('nine') # add last element\n",
    "mylist"
   ]
  },
  {
   "cell_type": "code",
   "execution_count": 11,
   "id": "e8ad9ccf-0a4c-4602-b763-ff459d049daa",
   "metadata": {},
   "outputs": [
    {
     "data": {
      "text/plain": [
       "['one', 'two', 'three', 'four', 'five', 'six', 'seven', 'eight', 'nine', 'ten']"
      ]
     },
     "execution_count": 11,
     "metadata": {},
     "output_type": "execute_result"
    }
   ],
   "source": [
    "mylist.insert(9,'ten') # add otem at the index location\n",
    "mylist"
   ]
  },
  {
   "cell_type": "code",
   "execution_count": 12,
   "id": "e28ee2f8-caf0-4a44-be83-2fb30801f84a",
   "metadata": {},
   "outputs": [
    {
     "data": {
      "text/plain": [
       "['one',\n",
       " 'ONE',\n",
       " 'two',\n",
       " 'three',\n",
       " 'four',\n",
       " 'five',\n",
       " 'six',\n",
       " 'seven',\n",
       " 'eight',\n",
       " 'nine',\n",
       " 'ten']"
      ]
     },
     "execution_count": 12,
     "metadata": {},
     "output_type": "execute_result"
    }
   ],
   "source": [
    "mylist.insert(1,'ONE') # add item at the index location 1\n",
    "mylist"
   ]
  },
  {
   "cell_type": "code",
   "execution_count": 13,
   "id": "0c961ddb-8c80-4aa7-8553-0585aa1bb379",
   "metadata": {},
   "outputs": [
    {
     "data": {
      "text/plain": [
       "['one', 'two', 'three', 'four', 'five', 'six', 'seven', 'eight', 'nine', 'ten']"
      ]
     },
     "execution_count": 13,
     "metadata": {},
     "output_type": "execute_result"
    }
   ],
   "source": [
    "mylist.remove('ONE')# remove item 'ONE'\n",
    "mylist"
   ]
  },
  {
   "cell_type": "code",
   "execution_count": 14,
   "id": "c1f2b141-1ffd-4827-9025-30c3c264850d",
   "metadata": {},
   "outputs": [
    {
     "data": {
      "text/plain": [
       "['one', 'two', 'three', 'four', 'five', 'six', 'seven', 'eight', 'nine']"
      ]
     },
     "execution_count": 14,
     "metadata": {},
     "output_type": "execute_result"
    }
   ],
   "source": [
    "mylist.pop() #remove last item of the list\n",
    "mylist"
   ]
  },
  {
   "cell_type": "code",
   "execution_count": 15,
   "id": "8586a554-7b5c-4fc1-84e8-00ebd86b123d",
   "metadata": {},
   "outputs": [
    {
     "data": {
      "text/plain": [
       "['one', 'two', 'three', 'four', 'five', 'six', 'seven', 'nine']"
      ]
     },
     "execution_count": 15,
     "metadata": {},
     "output_type": "execute_result"
    }
   ],
   "source": [
    "del mylist[7] # remove item at the index location\n",
    "mylist"
   ]
  },
  {
   "cell_type": "code",
   "execution_count": 16,
   "id": "6b24ed0c-8bd7-42e7-957e-8e97b02aab01",
   "metadata": {},
   "outputs": [
    {
     "data": {
      "text/plain": [
       "[1, 2, 3, 'four', 'five', 'six', 'seven', 'nine']"
      ]
     },
     "execution_count": 16,
     "metadata": {},
     "output_type": "execute_result"
    }
   ],
   "source": [
    "# chang value of the string\n",
    "mylist[0]=1\n",
    "mylist[1]=2\n",
    "mylist[2]=3\n",
    "mylist"
   ]
  },
  {
   "cell_type": "code",
   "execution_count": 17,
   "id": "f9b4dddd-838a-4172-9778-3ae6c181f728",
   "metadata": {},
   "outputs": [
    {
     "data": {
      "text/plain": [
       "[]"
      ]
     },
     "execution_count": 17,
     "metadata": {},
     "output_type": "execute_result"
    }
   ],
   "source": [
    "mylist.clear() #empty list/ delete all item in the list\n",
    "mylist"
   ]
  },
  {
   "cell_type": "code",
   "execution_count": 18,
   "id": "1f0edaf5-ffff-478b-b732-0d7e85639716",
   "metadata": {},
   "outputs": [
    {
     "ename": "NameError",
     "evalue": "name 'mylist' is not defined",
     "output_type": "error",
     "traceback": [
      "\u001b[1;31m---------------------------------------------------------------------------\u001b[0m",
      "\u001b[1;31mNameError\u001b[0m                                 Traceback (most recent call last)",
      "Cell \u001b[1;32mIn[18], line 2\u001b[0m\n\u001b[0;32m      1\u001b[0m \u001b[38;5;28;01mdel\u001b[39;00m mylist \u001b[38;5;66;03m#delete the whole list\u001b[39;00m\n\u001b[1;32m----> 2\u001b[0m mylist\n",
      "\u001b[1;31mNameError\u001b[0m: name 'mylist' is not defined"
     ]
    }
   ],
   "source": [
    "del mylist #delete the whole list\n",
    "mylist"
   ]
  },
  {
   "cell_type": "markdown",
   "id": "3e522e89-b528-4d47-b95a-8356e5b4a628",
   "metadata": {},
   "source": [
    "# Copy list"
   ]
  },
  {
   "cell_type": "code",
   "execution_count": 20,
   "id": "4eed328a-10f2-409e-93c7-39916959c072",
   "metadata": {},
   "outputs": [],
   "source": [
    "mylist = ['one','two','three','four','five','six','seven','eight','nine']"
   ]
  },
  {
   "cell_type": "code",
   "execution_count": 21,
   "id": "67305507-4d34-4ad2-bc81-283ed69f9539",
   "metadata": {},
   "outputs": [],
   "source": [
    "mylist1=mylist # create a new reference\"mylist\""
   ]
  },
  {
   "cell_type": "code",
   "execution_count": 23,
   "id": "7b3b0e4c-bdb2-4e12-a878-d2c06828a39d",
   "metadata": {},
   "outputs": [
    {
     "data": {
      "text/plain": [
       "(2252802483200, 2252802483200)"
      ]
     },
     "execution_count": 23,
     "metadata": {},
     "output_type": "execute_result"
    }
   ],
   "source": [
    "id(mylist),id(mylist1) # the address of mylist & mylist will be the same"
   ]
  },
  {
   "cell_type": "code",
   "execution_count": 24,
   "id": "b9133468-a3e8-4923-8f55-516562bba3e1",
   "metadata": {},
   "outputs": [],
   "source": [
    "mylist2=mylist.copy() # create a copy list"
   ]
  },
  {
   "cell_type": "code",
   "execution_count": 25,
   "id": "499b13a3-be6c-46e1-b366-edaba30fda1a",
   "metadata": {},
   "outputs": [
    {
     "data": {
      "text/plain": [
       "2252802488512"
      ]
     },
     "execution_count": 25,
     "metadata": {},
     "output_type": "execute_result"
    }
   ],
   "source": [
    "id(mylist2) # the address of the mylist2 will be different from mylist became mylist"
   ]
  },
  {
   "cell_type": "code",
   "execution_count": 26,
   "id": "4bdebf51-29eb-47a9-b896-e1c685b2a72f",
   "metadata": {},
   "outputs": [],
   "source": [
    "mylist[0]=1"
   ]
  },
  {
   "cell_type": "code",
   "execution_count": 27,
   "id": "27336150-32fe-4d8d-9883-821ea9883431",
   "metadata": {},
   "outputs": [
    {
     "data": {
      "text/plain": [
       "[1, 'two', 'three', 'four', 'five', 'six', 'seven', 'eight', 'nine']"
      ]
     },
     "execution_count": 27,
     "metadata": {},
     "output_type": "execute_result"
    }
   ],
   "source": [
    "mylist"
   ]
  },
  {
   "cell_type": "code",
   "execution_count": 29,
   "id": "4fa2fe3b-d637-4d46-901a-7307271c3f76",
   "metadata": {},
   "outputs": [
    {
     "data": {
      "text/plain": [
       "[1, 'two', 'three', 'four', 'five', 'six', 'seven', 'eight', 'nine']"
      ]
     },
     "execution_count": 29,
     "metadata": {},
     "output_type": "execute_result"
    }
   ],
   "source": [
    "mylist1 #my list will be also the impacted as it is pointing to the same list"
   ]
  },
  {
   "cell_type": "code",
   "execution_count": 30,
   "id": "59b3e6a1-8761-4e9e-98ab-259335af74b2",
   "metadata": {},
   "outputs": [
    {
     "data": {
      "text/plain": [
       "['one', 'two', 'three', 'four', 'five', 'six', 'seven', 'eight', 'nine']"
      ]
     },
     "execution_count": 30,
     "metadata": {},
     "output_type": "execute_result"
    }
   ],
   "source": [
    "mylist2 # copy of list won't be impacted due to changes made on the original list"
   ]
  },
  {
   "cell_type": "markdown",
   "id": "5d56ad60-4bd8-422f-b60d-9fa281d46f01",
   "metadata": {},
   "source": [
    "# Join Lists"
   ]
  },
  {
   "cell_type": "code",
   "execution_count": 31,
   "id": "11bde8de-8b7f-46db-b495-afdcb4bb7ad9",
   "metadata": {},
   "outputs": [],
   "source": [
    "list1=['one','two','three','four']\n",
    "list2=['five','six','seven','eight']"
   ]
  },
  {
   "cell_type": "code",
   "execution_count": 32,
   "id": "c4ec4b5b-9c8a-46d5-bb7d-c68d154e3f4b",
   "metadata": {},
   "outputs": [
    {
     "data": {
      "text/plain": [
       "['one', 'two', 'three', 'four', 'five', 'six', 'seven', 'eight']"
      ]
     },
     "execution_count": 32,
     "metadata": {},
     "output_type": "execute_result"
    }
   ],
   "source": [
    "list3=list1+list2 # join two list by + operator\n",
    "list3"
   ]
  },
  {
   "cell_type": "code",
   "execution_count": 33,
   "id": "c2814a08-82f5-448c-beaf-e70f05ef422d",
   "metadata": {},
   "outputs": [
    {
     "data": {
      "text/plain": [
       "['one', 'two', 'three', 'four', 'five', 'six', 'seven', 'eight']"
      ]
     },
     "execution_count": 33,
     "metadata": {},
     "output_type": "execute_result"
    }
   ],
   "source": [
    "list1.extend(list2) # append list2 with list1\n",
    "list1"
   ]
  },
  {
   "cell_type": "markdown",
   "id": "8919594c-dfab-49a4-b992-579e0f7f796b",
   "metadata": {},
   "source": [
    "# List membership"
   ]
  },
  {
   "cell_type": "code",
   "execution_count": 34,
   "id": "b7995f37-e1e5-4f28-9ab4-34f2d6e2285b",
   "metadata": {},
   "outputs": [
    {
     "data": {
      "text/plain": [
       "['one', 'two', 'three', 'four', 'five', 'six', 'seven', 'eight']"
      ]
     },
     "execution_count": 34,
     "metadata": {},
     "output_type": "execute_result"
    }
   ],
   "source": [
    "list1"
   ]
  },
  {
   "cell_type": "code",
   "execution_count": 35,
   "id": "b8d787dc-491b-422d-8a46-70f3791eda62",
   "metadata": {},
   "outputs": [
    {
     "data": {
      "text/plain": [
       "True"
      ]
     },
     "execution_count": 35,
     "metadata": {},
     "output_type": "execute_result"
    }
   ],
   "source": [
    "'one' in list1 # check if 'one' exict in the list"
   ]
  },
  {
   "cell_type": "code",
   "execution_count": 36,
   "id": "c9cf1979-604d-4d4e-85ba-7740b0787990",
   "metadata": {},
   "outputs": [
    {
     "data": {
      "text/plain": [
       "False"
      ]
     },
     "execution_count": 36,
     "metadata": {},
     "output_type": "execute_result"
    }
   ],
   "source": [
    "'ten' in list1 # check if 'ten' exist in the list"
   ]
  },
  {
   "cell_type": "code",
   "execution_count": 39,
   "id": "8e6c7c7b-c25f-4c7a-b753-acf0e5507c5d",
   "metadata": {},
   "outputs": [
    {
     "name": "stdout",
     "output_type": "stream",
     "text": [
      "Three is not present in the list\n"
     ]
    }
   ],
   "source": [
    "if 'there' in list1: #check if 'three' exist in the list\n",
    "    print ('Three is present in the list')\n",
    "else:\n",
    "    print('Three is not present in the list')\n",
    "   "
   ]
  },
  {
   "cell_type": "code",
   "execution_count": 40,
   "id": "35584486-9024-4c04-8a03-e5c9c4fddcf9",
   "metadata": {},
   "outputs": [
    {
     "name": "stdout",
     "output_type": "stream",
     "text": [
      "eleven is not present in the list\n"
     ]
    }
   ],
   "source": [
    "if 'eleven' in list1: #check if 'eleven' exist in the list\n",
    "    print('eleven is present in the list')\n",
    "else:\n",
    "    print('eleven is not present in the list')"
   ]
  },
  {
   "cell_type": "markdown",
   "id": "603f8045-db44-4a57-85fa-be4d1aec4818",
   "metadata": {},
   "source": [
    "# Reverse & Sort list"
   ]
  },
  {
   "cell_type": "code",
   "execution_count": 41,
   "id": "86828eb1-3722-42ad-8f21-92198774529d",
   "metadata": {},
   "outputs": [
    {
     "data": {
      "text/plain": [
       "['one', 'two', 'three', 'four', 'five', 'six', 'seven', 'eight']"
      ]
     },
     "execution_count": 41,
     "metadata": {},
     "output_type": "execute_result"
    }
   ],
   "source": [
    "list1"
   ]
  },
  {
   "cell_type": "code",
   "execution_count": 42,
   "id": "cd4fef1d-2f0d-43b7-b60b-2676578ebf66",
   "metadata": {},
   "outputs": [
    {
     "data": {
      "text/plain": [
       "['eight', 'seven', 'six', 'five', 'four', 'three', 'two', 'one']"
      ]
     },
     "execution_count": 42,
     "metadata": {},
     "output_type": "execute_result"
    }
   ],
   "source": [
    "list1.reverse() # reverse the list\n",
    "list1"
   ]
  },
  {
   "cell_type": "code",
   "execution_count": 43,
   "id": "b6ce9c50-35bf-4e85-aabc-17ff9678524a",
   "metadata": {},
   "outputs": [
    {
     "data": {
      "text/plain": [
       "['one', 'two', 'three', 'four', 'five', 'six', 'seven', 'eight']"
      ]
     },
     "execution_count": 43,
     "metadata": {},
     "output_type": "execute_result"
    }
   ],
   "source": [
    "list1 = list1 [::-1] # reverse the list\n",
    "list1"
   ]
  },
  {
   "cell_type": "code",
   "execution_count": 51,
   "id": "6291ef88-44e5-4530-91a1-36c98ebabfe3",
   "metadata": {},
   "outputs": [
    {
     "data": {
      "text/plain": [
       "[2, 5, 9, 12, 34, 88, 99]"
      ]
     },
     "execution_count": 51,
     "metadata": {},
     "output_type": "execute_result"
    }
   ],
   "source": [
    "mylist3 = [9,5,2,99,12,88,34]\n",
    "mylist3.sort() # sort list in aesending order\n",
    "mylist3"
   ]
  },
  {
   "cell_type": "code",
   "execution_count": 52,
   "id": "03d98929-24f9-4336-822f-bf6f627fcb00",
   "metadata": {},
   "outputs": [
    {
     "data": {
      "text/plain": [
       "[99, 88, 34, 12, 9, 5, 2]"
      ]
     },
     "execution_count": 52,
     "metadata": {},
     "output_type": "execute_result"
    }
   ],
   "source": [
    "mylist3 = [9,5,2,99,12,88,34]\n",
    "mylist3.sort(reverse=True) # sort list in desending order\n",
    "mylist3"
   ]
  },
  {
   "cell_type": "code",
   "execution_count": 53,
   "id": "c2b00422-cbfa-42e2-915d-2025fb5ced31",
   "metadata": {},
   "outputs": [
    {
     "data": {
      "text/plain": [
       "[11, 21, 33, 65, 88, 98]"
      ]
     },
     "execution_count": 53,
     "metadata": {},
     "output_type": "execute_result"
    }
   ],
   "source": [
    "mylist4 = [88,65,33,21,11,98]\n",
    "sorted(mylist4) # return a new sorted list and doesn't change original list"
   ]
  },
  {
   "cell_type": "code",
   "execution_count": 54,
   "id": "083b8b35-77dc-4462-9173-9f19bc83105d",
   "metadata": {},
   "outputs": [
    {
     "data": {
      "text/plain": [
       "[88, 65, 33, 21, 11, 98]"
      ]
     },
     "execution_count": 54,
     "metadata": {},
     "output_type": "execute_result"
    }
   ],
   "source": [
    "mylist4"
   ]
  },
  {
   "cell_type": "markdown",
   "id": "9b7de51b-de2f-48fc-97c0-838f6e19e6ee",
   "metadata": {},
   "source": [
    " # Loop through a list"
   ]
  },
  {
   "cell_type": "code",
   "execution_count": 55,
   "id": "21fda634-8715-4534-b624-406559230d6b",
   "metadata": {},
   "outputs": [
    {
     "data": {
      "text/plain": [
       "['one', 'two', 'three', 'four', 'five', 'six', 'seven', 'eight']"
      ]
     },
     "execution_count": 55,
     "metadata": {},
     "output_type": "execute_result"
    }
   ],
   "source": [
    "list1"
   ]
  },
  {
   "cell_type": "code",
   "execution_count": 56,
   "id": "98e471b1-9aab-44bf-bb32-f20ab47e683c",
   "metadata": {},
   "outputs": [
    {
     "name": "stdout",
     "output_type": "stream",
     "text": [
      "one\n",
      "two\n",
      "three\n",
      "four\n",
      "five\n",
      "six\n",
      "seven\n",
      "eight\n"
     ]
    }
   ],
   "source": [
    "for i in list1:\n",
    "    print(i)"
   ]
  },
  {
   "cell_type": "code",
   "execution_count": 57,
   "id": "7858626c-134d-4adf-8d93-f44da28e3203",
   "metadata": {},
   "outputs": [
    {
     "name": "stdout",
     "output_type": "stream",
     "text": [
      "(0, 'one')\n",
      "(1, 'two')\n",
      "(2, 'three')\n",
      "(3, 'four')\n",
      "(4, 'five')\n",
      "(5, 'six')\n",
      "(6, 'seven')\n",
      "(7, 'eight')\n"
     ]
    }
   ],
   "source": [
    "for i in enumerate (list1):\n",
    "    print(i)"
   ]
  },
  {
   "cell_type": "markdown",
   "id": "8b55ab12-411b-47d0-88c4-847048602057",
   "metadata": {},
   "source": [
    "# COUNT"
   ]
  },
  {
   "cell_type": "code",
   "execution_count": 58,
   "id": "fa840204-74db-45ec-ad28-b0d862b29105",
   "metadata": {},
   "outputs": [],
   "source": [
    "list10=['one','two','three', 'four','one','two','three']"
   ]
  },
  {
   "cell_type": "code",
   "execution_count": 59,
   "id": "7d10ebfe-6af2-4f07-a52d-acf0e18176b5",
   "metadata": {},
   "outputs": [
    {
     "data": {
      "text/plain": [
       "2"
      ]
     },
     "execution_count": 59,
     "metadata": {},
     "output_type": "execute_result"
    }
   ],
   "source": [
    "list10.count('one') # number of times item \"one\" occurrence in the list"
   ]
  },
  {
   "cell_type": "code",
   "execution_count": 60,
   "id": "f894d969-3388-467f-a6da-8332d49617e9",
   "metadata": {},
   "outputs": [
    {
     "data": {
      "text/plain": [
       "2"
      ]
     },
     "execution_count": 60,
     "metadata": {},
     "output_type": "execute_result"
    }
   ],
   "source": [
    "list10.count('two') # number of times item 'two' occurrence in the list"
   ]
  },
  {
   "cell_type": "code",
   "execution_count": 61,
   "id": "4bc4b636-8a65-45e6-a1ad-080094cce498",
   "metadata": {},
   "outputs": [
    {
     "data": {
      "text/plain": [
       "1"
      ]
     },
     "execution_count": 61,
     "metadata": {},
     "output_type": "execute_result"
    }
   ],
   "source": [
    "list10.count('four') #occurence of item'four' in the list"
   ]
  },
  {
   "cell_type": "markdown",
   "id": "854f6e52-4e3f-4574-b88d-1f54b5f1bd5e",
   "metadata": {},
   "source": [
    "# ALL/ANY"
   ]
  },
  {
   "cell_type": "code",
   "execution_count": 63,
   "id": "58c79a8b-1349-4db0-ba6a-e668648d3384",
   "metadata": {},
   "outputs": [],
   "source": [
    "L1 = [1,2,3,4,0]"
   ]
  },
  {
   "cell_type": "code",
   "execution_count": 64,
   "id": "74578a39-f833-4950-b0b5-ec31cd567130",
   "metadata": {},
   "outputs": [
    {
     "data": {
      "text/plain": [
       "False"
      ]
     },
     "execution_count": 64,
     "metadata": {},
     "output_type": "execute_result"
    }
   ],
   "source": [
    "all(L1) # WILL RETURN FALSE VALUE (VALUE 0)"
   ]
  },
  {
   "cell_type": "code",
   "execution_count": 65,
   "id": "69ccb7a5-563c-429f-92bf-f6b785be0f58",
   "metadata": {},
   "outputs": [
    {
     "data": {
      "text/plain": [
       "True"
      ]
     },
     "execution_count": 65,
     "metadata": {},
     "output_type": "execute_result"
    }
   ],
   "source": [
    "any(L1) #WILL RETURN TRUE AS WE HAVE ITEMS IN THE LIST WITH TRUE VALUE"
   ]
  },
  {
   "cell_type": "code",
   "execution_count": 66,
   "id": "3958c0d5-2f6d-454d-8f13-480570a44b10",
   "metadata": {},
   "outputs": [],
   "source": [
    "L2=[1,2,3,4,True,False]"
   ]
  },
  {
   "cell_type": "code",
   "execution_count": 68,
   "id": "33190926-17a3-4c2f-a1f2-a16040eca917",
   "metadata": {},
   "outputs": [
    {
     "data": {
      "text/plain": [
       "False"
      ]
     },
     "execution_count": 68,
     "metadata": {},
     "output_type": "execute_result"
    }
   ],
   "source": [
    "all(L2) # RETURN FALSE AS ONE VALUE IS FALSE"
   ]
  },
  {
   "cell_type": "code",
   "execution_count": 69,
   "id": "b8f4f0a6-a238-48a8-8cf6-fff774971b97",
   "metadata": {},
   "outputs": [
    {
     "data": {
      "text/plain": [
       "True"
      ]
     },
     "execution_count": 69,
     "metadata": {},
     "output_type": "execute_result"
    }
   ],
   "source": [
    "any(L2) #return true as we have items in the list with true value"
   ]
  },
  {
   "cell_type": "code",
   "execution_count": 70,
   "id": "0b34b7b0-986a-495a-8f5a-1ae22c0ae53f",
   "metadata": {},
   "outputs": [],
   "source": [
    "L3 = [1,2,3,True]"
   ]
  },
  {
   "cell_type": "code",
   "execution_count": 71,
   "id": "99ad5c8b-5708-4058-a79e-005ca7095e63",
   "metadata": {},
   "outputs": [
    {
     "data": {
      "text/plain": [
       "True"
      ]
     },
     "execution_count": 71,
     "metadata": {},
     "output_type": "execute_result"
    }
   ],
   "source": [
    "all(L3) # will return as all items in the list are true"
   ]
  },
  {
   "cell_type": "code",
   "execution_count": null,
   "id": "c1b3ddf0-8bb3-41f0-876a-5c2848b3fa85",
   "metadata": {},
   "outputs": [],
   "source": []
  }
 ],
 "metadata": {
  "kernelspec": {
   "display_name": "Python [conda env:base] *",
   "language": "python",
   "name": "conda-base-py"
  },
  "language_info": {
   "codemirror_mode": {
    "name": "ipython",
    "version": 3
   },
   "file_extension": ".py",
   "mimetype": "text/x-python",
   "name": "python",
   "nbconvert_exporter": "python",
   "pygments_lexer": "ipython3",
   "version": "3.12.7"
  }
 },
 "nbformat": 4,
 "nbformat_minor": 5
}

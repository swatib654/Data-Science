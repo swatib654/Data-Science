{
 "cells": [
  {
   "cell_type": "markdown",
   "id": "42b06c37-c7ba-4ac2-bd08-214ab8ec8519",
   "metadata": {},
   "source": [
    "# DICTONARY "
   ]
  },
  {
   "cell_type": "code",
   "execution_count": 2,
   "id": "8a692de2-d2ef-4b85-94f4-c84ed1f9c885",
   "metadata": {},
   "outputs": [],
   "source": [
    "d={}"
   ]
  },
  {
   "cell_type": "code",
   "execution_count": 3,
   "id": "397edebb-a12f-477e-bf7d-b3f7d5b327bc",
   "metadata": {},
   "outputs": [
    {
     "data": {
      "text/plain": [
       "{}"
      ]
     },
     "execution_count": 3,
     "metadata": {},
     "output_type": "execute_result"
    }
   ],
   "source": [
    "d"
   ]
  },
  {
   "cell_type": "code",
   "execution_count": 4,
   "id": "02ba3384-adce-4054-bdc5-888d684ba41a",
   "metadata": {},
   "outputs": [
    {
     "data": {
      "text/plain": [
       "dict"
      ]
     },
     "execution_count": 4,
     "metadata": {},
     "output_type": "execute_result"
    }
   ],
   "source": [
    "type(d)"
   ]
  },
  {
   "cell_type": "code",
   "execution_count": 5,
   "id": "faa27e07-f2b8-4590-8fd8-cded83538056",
   "metadata": {},
   "outputs": [],
   "source": [
    "d1= {1:'one',2:'two',3:'three'}"
   ]
  },
  {
   "cell_type": "code",
   "execution_count": 6,
   "id": "d50ea1b1-1804-438c-ab43-3ced7b9a83cd",
   "metadata": {},
   "outputs": [
    {
     "data": {
      "text/plain": [
       "{1: 'one', 2: 'two', 3: 'three'}"
      ]
     },
     "execution_count": 6,
     "metadata": {},
     "output_type": "execute_result"
    }
   ],
   "source": [
    "d1"
   ]
  },
  {
   "cell_type": "code",
   "execution_count": 8,
   "id": "6424d3eb-063e-47dc-8bb1-c6206b656613",
   "metadata": {},
   "outputs": [],
   "source": [
    "d2={'one':1,'two':2,'three':3}"
   ]
  },
  {
   "cell_type": "code",
   "execution_count": 9,
   "id": "6b360452-9f38-472b-a06f-8773ed025b7e",
   "metadata": {},
   "outputs": [
    {
     "data": {
      "text/plain": [
       "{'one': 1, 'two': 2, 'three': 3}"
      ]
     },
     "execution_count": 9,
     "metadata": {},
     "output_type": "execute_result"
    }
   ],
   "source": [
    "d2"
   ]
  },
  {
   "cell_type": "code",
   "execution_count": 10,
   "id": "6b1e928a-3e91-4fe4-b09d-5fa3e76d4e29",
   "metadata": {},
   "outputs": [
    {
     "data": {
      "text/plain": [
       "dict_keys(['one', 'two', 'three'])"
      ]
     },
     "execution_count": 10,
     "metadata": {},
     "output_type": "execute_result"
    }
   ],
   "source": [
    "d2.keys()"
   ]
  },
  {
   "cell_type": "code",
   "execution_count": 11,
   "id": "1fe89622-6345-42f8-99aa-4bd830bac961",
   "metadata": {},
   "outputs": [
    {
     "data": {
      "text/plain": [
       "dict_values([1, 2, 3])"
      ]
     },
     "execution_count": 11,
     "metadata": {},
     "output_type": "execute_result"
    }
   ],
   "source": [
    "d2.values()"
   ]
  },
  {
   "cell_type": "code",
   "execution_count": 12,
   "id": "5c662895-5c87-4322-b3e2-5b60d420bb21",
   "metadata": {},
   "outputs": [
    {
     "data": {
      "text/plain": [
       "{'one': 1, 'two': 2, 'three': 3}"
      ]
     },
     "execution_count": 12,
     "metadata": {},
     "output_type": "execute_result"
    }
   ],
   "source": [
    "d2"
   ]
  },
  {
   "cell_type": "code",
   "execution_count": 13,
   "id": "1f3e3707-ea52-4237-b4a7-f85fc08c4d0f",
   "metadata": {},
   "outputs": [
    {
     "data": {
      "text/plain": [
       "dict_items([('one', 1), ('two', 2), ('three', 3)])"
      ]
     },
     "execution_count": 13,
     "metadata": {},
     "output_type": "execute_result"
    }
   ],
   "source": [
    "d2.items()"
   ]
  },
  {
   "cell_type": "code",
   "execution_count": 14,
   "id": "c49d461b-2531-4741-8ca1-68ba5706b428",
   "metadata": {},
   "outputs": [
    {
     "data": {
      "text/plain": [
       "3"
      ]
     },
     "execution_count": 14,
     "metadata": {},
     "output_type": "execute_result"
    }
   ],
   "source": [
    "len(d2)"
   ]
  },
  {
   "cell_type": "code",
   "execution_count": 15,
   "id": "705128fb-64b0-4c1f-81bb-86e4afc30623",
   "metadata": {},
   "outputs": [
    {
     "data": {
      "text/plain": [
       "{1: 'one', 2: 'two', 'A': ['swati', 'ankita', 'sneha']}"
      ]
     },
     "execution_count": 15,
     "metadata": {},
     "output_type": "execute_result"
    }
   ],
   "source": [
    "mydict={1:'one',2:'two','A':['swati','ankita','sneha']} #dictionary with\n",
    "mydict"
   ]
  },
  {
   "cell_type": "code",
   "execution_count": 31,
   "id": "6821083b-3df9-42c3-94f8-4ea94289c532",
   "metadata": {},
   "outputs": [
    {
     "data": {
      "text/plain": [
       "{1: 'one',\n",
       " 2: 'two',\n",
       " 'A': {'Name': 'swati', 'Age': 20},\n",
       " 'B': ('Bat', 'Cat', 'Hat')}"
      ]
     },
     "execution_count": 31,
     "metadata": {},
     "output_type": "execute_result"
    }
   ],
   "source": [
    "mydict={1:'one',2:'two','A':{'Name':'swati','Age':20},'B':('Bat','Cat','Hat')}\n",
    "mydict"
   ]
  },
  {
   "cell_type": "code",
   "execution_count": 34,
   "id": "05061661-f2ca-4504-bb41-969ca237b2bc",
   "metadata": {},
   "outputs": [
    {
     "data": {
      "text/plain": [
       "{'b': None, 'c': None, 'a': None, 'd': None}"
      ]
     },
     "execution_count": 34,
     "metadata": {},
     "output_type": "execute_result"
    }
   ],
   "source": [
    "keys={'a' , 'b' , 'c' , 'd'}\n",
    "mydict3=dict.fromkeys(keys)\n",
    "mydict3"
   ]
  },
  {
   "cell_type": "code",
   "execution_count": 35,
   "id": "8c348bab-08a4-4b18-ad11-b14ec6236bd2",
   "metadata": {},
   "outputs": [
    {
     "data": {
      "text/plain": [
       "{'b': 10, 'c': 10, 'a': 10, 'd': 10}"
      ]
     },
     "execution_count": 35,
     "metadata": {},
     "output_type": "execute_result"
    }
   ],
   "source": [
    "keys={'a','b','c','d'}\n",
    "value=10\n",
    "mydict3=dict.fromkeys(keys,value) #create a dictionary from sequence of\n",
    "mydict3"
   ]
  },
  {
   "cell_type": "code",
   "execution_count": 42,
   "id": "e1d66eb1-7625-4ce9-a56f-550174dedf9a",
   "metadata": {},
   "outputs": [
    {
     "data": {
      "text/plain": [
       "{'b': [10, 20, 30], 'c': [10, 20, 30], 'a': [10, 20, 30], 'd': [10, 20, 30]}"
      ]
     },
     "execution_count": 42,
     "metadata": {},
     "output_type": "execute_result"
    }
   ],
   "source": [
    "keys={'a','b','c','d'}\n",
    "value= [10 ,20 ,30]\n",
    "mydict3 = dict.fromkeys(keys , value) #create a dictionay from sequence of\n",
    "mydict3"
   ]
  },
  {
   "cell_type": "code",
   "execution_count": 43,
   "id": "93c7720e-5fd3-4f15-a8bd-328a2d9b58c6",
   "metadata": {},
   "outputs": [
    {
     "data": {
      "text/plain": [
       "{'b': [10, 20, 30, 40],\n",
       " 'c': [10, 20, 30, 40],\n",
       " 'a': [10, 20, 30, 40],\n",
       " 'd': [10, 20, 30, 40]}"
      ]
     },
     "execution_count": 43,
     "metadata": {},
     "output_type": "execute_result"
    }
   ],
   "source": [
    "value.append(40)\n",
    "mydict3"
   ]
  },
  {
   "cell_type": "markdown",
   "id": "80b0b7b3-70a6-4bb9-a611-c7f7624d4ec0",
   "metadata": {},
   "source": [
    "# accessing item"
   ]
  },
  {
   "cell_type": "code",
   "execution_count": 44,
   "id": "c0201a16-44e6-4442-9f6e-773d3d4fd095",
   "metadata": {},
   "outputs": [
    {
     "data": {
      "text/plain": [
       "{1: 'one', 2: 'two', 3: 'three', 4: 'four'}"
      ]
     },
     "execution_count": 44,
     "metadata": {},
     "output_type": "execute_result"
    }
   ],
   "source": [
    "mydict={1:'one',2:'two',3:'three',4:'four'}\n",
    "mydict"
   ]
  },
  {
   "cell_type": "code",
   "execution_count": 50,
   "id": "34ed3c03-fdbd-4c59-8f17-c7b50b0dd9cc",
   "metadata": {},
   "outputs": [
    {
     "data": {
      "text/plain": [
       "'one'"
      ]
     },
     "execution_count": 50,
     "metadata": {},
     "output_type": "execute_result"
    }
   ],
   "source": [
    "mydict[1] # access item using key"
   ]
  },
  {
   "cell_type": "code",
   "execution_count": 52,
   "id": "095efc7e-134a-49e2-baf2-4b053d4ecd0e",
   "metadata": {},
   "outputs": [
    {
     "data": {
      "text/plain": [
       "'one'"
      ]
     },
     "execution_count": 52,
     "metadata": {},
     "output_type": "execute_result"
    }
   ],
   "source": [
    "mydict.get(1) # Access item using get() method"
   ]
  },
  {
   "cell_type": "code",
   "execution_count": 53,
   "id": "f26ce196-4f33-43b1-8e19-96695d04f4d5",
   "metadata": {},
   "outputs": [
    {
     "data": {
      "text/plain": [
       "{'name': 'swati', 'ID': 2679, 'DOB': 2004, 'job': 'analyst'}"
      ]
     },
     "execution_count": 53,
     "metadata": {},
     "output_type": "execute_result"
    }
   ],
   "source": [
    "mydict1={'name':'swati','ID': 2679,'DOB':2004,'job': 'analyst'}\n",
    "mydict1"
   ]
  },
  {
   "cell_type": "code",
   "execution_count": 55,
   "id": "13f31ce7-c123-4a44-8a69-ceb027802a6d",
   "metadata": {},
   "outputs": [
    {
     "data": {
      "text/plain": [
       "'swati'"
      ]
     },
     "execution_count": 55,
     "metadata": {},
     "output_type": "execute_result"
    }
   ],
   "source": [
    "mydict1['name'] #Access item using key"
   ]
  },
  {
   "cell_type": "code",
   "execution_count": 58,
   "id": "a936b1e0-d3fe-44df-9075-45ce32e9cee4",
   "metadata": {},
   "outputs": [
    {
     "data": {
      "text/plain": [
       "'analyst'"
      ]
     },
     "execution_count": 58,
     "metadata": {},
     "output_type": "execute_result"
    }
   ],
   "source": [
    "mydict1['job'] #Access item using get() method"
   ]
  },
  {
   "cell_type": "markdown",
   "id": "ff14f5b6-d577-4a12-8047-255970dfb671",
   "metadata": {},
   "source": [
    "# Add,Remove & Change items"
   ]
  },
  {
   "cell_type": "code",
   "execution_count": 60,
   "id": "d36d5a25-11c4-4448-a166-8664f85a1fde",
   "metadata": {},
   "outputs": [
    {
     "data": {
      "text/plain": [
       "{'name': 'swati', 'ID': 2679, 'DOB': 2004, 'address': 'latur'}"
      ]
     },
     "execution_count": 60,
     "metadata": {},
     "output_type": "execute_result"
    }
   ],
   "source": [
    "mydict1={'name':'swati','ID':2679,'DOB':2004,'address':'latur'}\n",
    "mydict1"
   ]
  },
  {
   "cell_type": "code",
   "execution_count": 63,
   "id": "4b6167cc-20ee-45eb-962c-369643135d6f",
   "metadata": {},
   "outputs": [
    {
     "data": {
      "text/plain": [
       "{'name': 'swati', 'ID': 2679, 'DOB': 2004, 'address': 'udgir'}"
      ]
     },
     "execution_count": 63,
     "metadata": {},
     "output_type": "execute_result"
    }
   ],
   "source": [
    "mydict['DOB']=2002#changing dic item\n",
    "mydict1['address']= 'udgir'\n",
    "mydict1"
   ]
  },
  {
   "cell_type": "code",
   "execution_count": 64,
   "id": "a7c7a69e-8fc0-4d7c-83b2-67eed8976a88",
   "metadata": {},
   "outputs": [
    {
     "data": {
      "text/plain": [
       "{'name': 'swati', 'ID': 2679, 'DOB': 2004, 'address': 'udgir'}"
      ]
     },
     "execution_count": 64,
     "metadata": {},
     "output_type": "execute_result"
    }
   ],
   "source": [
    "dict1={'DOB':2004}\n",
    "mydict1.update(dict1)\n",
    "mydict1"
   ]
  },
  {
   "cell_type": "code",
   "execution_count": 65,
   "id": "4baaeb80-24fd-4886-a8f1-5bdc1e09b5d8",
   "metadata": {},
   "outputs": [
    {
     "data": {
      "text/plain": [
       "{'name': 'swati',\n",
       " 'ID': 2679,\n",
       " 'DOB': 2004,\n",
       " 'address': 'udgir',\n",
       " 'job': 'analyst'}"
      ]
     },
     "execution_count": 65,
     "metadata": {},
     "output_type": "execute_result"
    }
   ],
   "source": [
    "mydict1['job']='analyst' #adding item in the dict\n",
    "mydict1"
   ]
  },
  {
   "cell_type": "code",
   "execution_count": 67,
   "id": "c2562c37-142e-4c78-bad2-d9a10d4c10fa",
   "metadata": {},
   "outputs": [
    {
     "data": {
      "text/plain": [
       "{'name': 'swati', 'ID': 2679, 'DOB': 2004, 'address': 'udgir'}"
      ]
     },
     "execution_count": 67,
     "metadata": {},
     "output_type": "execute_result"
    }
   ],
   "source": [
    "mydict1.pop('job') # removing item using dict pop method\n",
    "mydict1"
   ]
  },
  {
   "cell_type": "code",
   "execution_count": 68,
   "id": "25224d30-ffb5-45b4-9fe8-3ddcad488226",
   "metadata": {},
   "outputs": [
    {
     "data": {
      "text/plain": [
       "('address', 'udgir')"
      ]
     },
     "execution_count": 68,
     "metadata": {},
     "output_type": "execute_result"
    }
   ],
   "source": [
    "mydict1.popitem() # a random item is removed"
   ]
  },
  {
   "cell_type": "code",
   "execution_count": 69,
   "id": "98182d0a-b58d-4107-b658-9f3b224baec1",
   "metadata": {},
   "outputs": [
    {
     "data": {
      "text/plain": [
       "{'name': 'swati', 'ID': 2679, 'DOB': 2004}"
      ]
     },
     "execution_count": 69,
     "metadata": {},
     "output_type": "execute_result"
    }
   ],
   "source": [
    "mydict1"
   ]
  },
  {
   "cell_type": "code",
   "execution_count": 70,
   "id": "12706ec7-2017-4fa0-92dc-7858d52a2daa",
   "metadata": {},
   "outputs": [
    {
     "data": {
      "text/plain": [
       "{'name': 'swati', 'DOB': 2004}"
      ]
     },
     "execution_count": 70,
     "metadata": {},
     "output_type": "execute_result"
    }
   ],
   "source": [
    "del[mydict1['ID']] # removing item using del method\n",
    "mydict1"
   ]
  },
  {
   "cell_type": "code",
   "execution_count": 71,
   "id": "f86312d2-e75a-48f7-b994-6a5c42dfb876",
   "metadata": {},
   "outputs": [
    {
     "data": {
      "text/plain": [
       "{}"
      ]
     },
     "execution_count": 71,
     "metadata": {},
     "output_type": "execute_result"
    }
   ],
   "source": [
    "mydict1.clear() # delete all item using del method\n",
    "mydict1"
   ]
  },
  {
   "cell_type": "code",
   "execution_count": 72,
   "id": "8679a973-5864-42b4-ace5-deeb9a8cc7a2",
   "metadata": {},
   "outputs": [
    {
     "ename": "NameError",
     "evalue": "name 'mydict1' is not defined",
     "output_type": "error",
     "traceback": [
      "\u001b[1;31m---------------------------------------------------------------------------\u001b[0m",
      "\u001b[1;31mNameError\u001b[0m                                 Traceback (most recent call last)",
      "Cell \u001b[1;32mIn[72], line 2\u001b[0m\n\u001b[0;32m      1\u001b[0m \u001b[38;5;28;01mdel\u001b[39;00m mydict1 \u001b[38;5;66;03m#delete the dictionary object\u001b[39;00m\n\u001b[1;32m----> 2\u001b[0m mydict1\n",
      "\u001b[1;31mNameError\u001b[0m: name 'mydict1' is not defined"
     ]
    }
   ],
   "source": [
    "del mydict1 #delete the dictionary object\n",
    "mydict1"
   ]
  },
  {
   "cell_type": "markdown",
   "id": "06e2c94a-4d8c-41a9-8009-f4210febc520",
   "metadata": {},
   "source": [
    "# copy dict"
   ]
  },
  {
   "cell_type": "code",
   "execution_count": 73,
   "id": "caff0f55-2c1b-4bc8-861b-540223f7ceda",
   "metadata": {},
   "outputs": [
    {
     "data": {
      "text/plain": [
       "{'name': 'swati', 'ID': 2679, 'DOB': 2004, 'address': 'udgir'}"
      ]
     },
     "execution_count": 73,
     "metadata": {},
     "output_type": "execute_result"
    }
   ],
   "source": [
    "mydict={'name':'swati','ID':2679,'DOB':2004,'address':'udgir'}\n",
    "mydict"
   ]
  },
  {
   "cell_type": "code",
   "execution_count": 74,
   "id": "119f8d0f-111a-48b1-99d4-ceed2c5a463a",
   "metadata": {},
   "outputs": [],
   "source": [
    "mydict1=mydict # create a new reference \"mydict\""
   ]
  },
  {
   "cell_type": "code",
   "execution_count": 75,
   "id": "55e4eb36-0ffd-483b-a996-2d5a8b4d531e",
   "metadata": {},
   "outputs": [
    {
     "data": {
      "text/plain": [
       "(2728875867072, 2728875867072)"
      ]
     },
     "execution_count": 75,
     "metadata": {},
     "output_type": "execute_result"
    }
   ],
   "source": [
    "id(mydict),id(mydict) # the address of both mydict & mydict1 will be the some"
   ]
  },
  {
   "cell_type": "code",
   "execution_count": 76,
   "id": "1616c8f3-7bd8-48a4-989c-c2b1d483792e",
   "metadata": {},
   "outputs": [],
   "source": [
    "mydict2=mydict.copy() # create a copy dictionary"
   ]
  },
  {
   "cell_type": "code",
   "execution_count": 77,
   "id": "3a977fa9-b9c6-436b-b33a-10bb2dc3f2df",
   "metadata": {},
   "outputs": [
    {
     "data": {
      "text/plain": [
       "2728875982592"
      ]
     },
     "execution_count": 77,
     "metadata": {},
     "output_type": "execute_result"
    }
   ],
   "source": [
    "id(mydict2) # the address of mydict2"
   ]
  },
  {
   "cell_type": "code",
   "execution_count": 78,
   "id": "e491d640-40a3-4609-b071-b86be1adf497",
   "metadata": {},
   "outputs": [],
   "source": [
    "mydict['address']='mumbai'"
   ]
  },
  {
   "cell_type": "code",
   "execution_count": 79,
   "id": "29a6593b-526e-4edc-abe1-60536f1fba9e",
   "metadata": {},
   "outputs": [
    {
     "data": {
      "text/plain": [
       "{'name': 'swati', 'ID': 2679, 'DOB': 2004, 'address': 'mumbai'}"
      ]
     },
     "execution_count": 79,
     "metadata": {},
     "output_type": "execute_result"
    }
   ],
   "source": [
    "mydict"
   ]
  },
  {
   "cell_type": "code",
   "execution_count": 80,
   "id": "bead9e62-b4c1-4497-a63d-f8ae34f56259",
   "metadata": {},
   "outputs": [
    {
     "data": {
      "text/plain": [
       "{'name': 'swati', 'ID': 2679, 'DOB': 2004, 'address': 'mumbai'}"
      ]
     },
     "execution_count": 80,
     "metadata": {},
     "output_type": "execute_result"
    }
   ],
   "source": [
    "mydict1 # my dict will be also impacted due ti the changes mode in the original"
   ]
  },
  {
   "cell_type": "code",
   "execution_count": 81,
   "id": "344167b1-e5cb-41e2-883f-7d8a3296c40a",
   "metadata": {},
   "outputs": [
    {
     "data": {
      "text/plain": [
       "{'name': 'swati', 'ID': 2679, 'DOB': 2004, 'address': 'udgir'}"
      ]
     },
     "execution_count": 81,
     "metadata": {},
     "output_type": "execute_result"
    }
   ],
   "source": [
    "mydict2 # copy will be impact due to change made in the original"
   ]
  },
  {
   "cell_type": "markdown",
   "id": "ae1e658c-ed08-432e-a01b-83eb8c6334b1",
   "metadata": {},
   "source": [
    "# Loop through a dictionary"
   ]
  },
  {
   "cell_type": "code",
   "execution_count": 86,
   "id": "80f63a0f-27c1-4fc7-909a-d562382e7ece",
   "metadata": {},
   "outputs": [
    {
     "data": {
      "text/plain": [
       "{'name': 'swati',\n",
       " 'ID': 2243,\n",
       " 'DOB': 2003,\n",
       " 'Address': 'deoni',\n",
       " 'job': 'analyst'}"
      ]
     },
     "execution_count": 86,
     "metadata": {},
     "output_type": "execute_result"
    }
   ],
   "source": [
    "mydict1 = {'name':'swati','ID':2243,'DOB':2003,'Address':'deoni','job':'analyst'}\n",
    "mydict1"
   ]
  },
  {
   "cell_type": "code",
   "execution_count": 87,
   "id": "026a5645-228d-447a-881f-2ea1bef15ed2",
   "metadata": {},
   "outputs": [
    {
     "name": "stdout",
     "output_type": "stream",
     "text": [
      "name : swati\n",
      "ID : 2243\n",
      "DOB : 2003\n",
      "Address : deoni\n",
      "job : analyst\n"
     ]
    }
   ],
   "source": [
    "for i in mydict1:\n",
    "    print(i,':',mydict1[i]) #key & value pair"
   ]
  },
  {
   "cell_type": "code",
   "execution_count": 89,
   "id": "c9ac16c7-679b-45f8-8edb-cd4bcee5f6dd",
   "metadata": {},
   "outputs": [
    {
     "name": "stdout",
     "output_type": "stream",
     "text": [
      "swati\n",
      "2243\n",
      "2003\n",
      "deoni\n",
      "analyst\n"
     ]
    }
   ],
   "source": [
    "for i in mydict1:\n",
    "    print(mydict1[i]) # dict items"
   ]
  },
  {
   "cell_type": "markdown",
   "id": "974cac08-23c6-403b-ae7e-af317ed8cb31",
   "metadata": {},
   "source": [
    "# dictionary membership"
   ]
  },
  {
   "cell_type": "code",
   "execution_count": 91,
   "id": "0cd04f04-60d4-44c7-911d-65685c5b3ddf",
   "metadata": {},
   "outputs": [
    {
     "data": {
      "text/plain": [
       "{'name': 'swati', 'ID': 2679, 'DOB': 2004, 'address': 'latur'}"
      ]
     },
     "execution_count": 91,
     "metadata": {},
     "output_type": "execute_result"
    }
   ],
   "source": [
    "mydict1={'name':'swati','ID':2679,'DOB':2004,'address':'latur'}\n",
    "mydict1"
   ]
  },
  {
   "cell_type": "code",
   "execution_count": 92,
   "id": "f2361095-04c0-4f56-97c8-7819481f3d91",
   "metadata": {},
   "outputs": [
    {
     "data": {
      "text/plain": [
       "True"
      ]
     },
     "execution_count": 92,
     "metadata": {},
     "output_type": "execute_result"
    }
   ],
   "source": [
    "'name' in mydict1 "
   ]
  },
  {
   "cell_type": "code",
   "execution_count": 93,
   "id": "ddcb7ac0-8ccf-4f66-b3c7-701bd93b0753",
   "metadata": {},
   "outputs": [
    {
     "data": {
      "text/plain": [
       "False"
      ]
     },
     "execution_count": 93,
     "metadata": {},
     "output_type": "execute_result"
    }
   ],
   "source": [
    "'swati' in mydict1"
   ]
  },
  {
   "cell_type": "code",
   "execution_count": 94,
   "id": "a3b382ad-6b0c-4f80-b435-ac1939011e52",
   "metadata": {},
   "outputs": [
    {
     "data": {
      "text/plain": [
       "True"
      ]
     },
     "execution_count": 94,
     "metadata": {},
     "output_type": "execute_result"
    }
   ],
   "source": [
    "'ID' in mydict1"
   ]
  },
  {
   "cell_type": "code",
   "execution_count": 96,
   "id": "b1215e37-ebce-4b9c-af0b-085bd7d6dee3",
   "metadata": {},
   "outputs": [
    {
     "data": {
      "text/plain": [
       "False"
      ]
     },
     "execution_count": 96,
     "metadata": {},
     "output_type": "execute_result"
    }
   ],
   "source": [
    "'job' in mydict1"
   ]
  },
  {
   "cell_type": "markdown",
   "id": "68056a4c-9301-4aec-b75d-4e8bb8ceeb64",
   "metadata": {},
   "source": [
    "# ALL / ANY"
   ]
  },
  {
   "cell_type": "code",
   "execution_count": 97,
   "id": "2cdbe459-52d1-409e-b6d4-03675635d720",
   "metadata": {},
   "outputs": [
    {
     "data": {
      "text/plain": [
       "{'name': 'swati', 'ID': 2679, 'DOB': 2004, 'address': 'latur'}"
      ]
     },
     "execution_count": 97,
     "metadata": {},
     "output_type": "execute_result"
    }
   ],
   "source": [
    "mydict1={'name':'swati','ID':2679,'DOB':2004,'address':'latur'}\n",
    "mydict1"
   ]
  },
  {
   "cell_type": "code",
   "execution_count": 98,
   "id": "cb9fee98-e4e1-4aad-a725-cc5f0301a0e6",
   "metadata": {},
   "outputs": [
    {
     "data": {
      "text/plain": [
       "True"
      ]
     },
     "execution_count": 98,
     "metadata": {},
     "output_type": "execute_result"
    }
   ],
   "source": [
    "all(mydict1)"
   ]
  },
  {
   "cell_type": "code",
   "execution_count": 100,
   "id": "4129189e-5b46-479b-ad10-fb0a9180f099",
   "metadata": {},
   "outputs": [
    {
     "data": {
      "text/plain": [
       "True"
      ]
     },
     "execution_count": 100,
     "metadata": {},
     "output_type": "execute_result"
    }
   ],
   "source": [
    "any (mydict1)"
   ]
  },
  {
   "cell_type": "code",
   "execution_count": null,
   "id": "8461d0b0-a325-40f8-87b5-41db1e67539d",
   "metadata": {},
   "outputs": [],
   "source": []
  }
 ],
 "metadata": {
  "kernelspec": {
   "display_name": "Python [conda env:base] *",
   "language": "python",
   "name": "conda-base-py"
  },
  "language_info": {
   "codemirror_mode": {
    "name": "ipython",
    "version": 3
   },
   "file_extension": ".py",
   "mimetype": "text/x-python",
   "name": "python",
   "nbconvert_exporter": "python",
   "pygments_lexer": "ipython3",
   "version": "3.12.7"
  }
 },
 "nbformat": 4,
 "nbformat_minor": 5
}

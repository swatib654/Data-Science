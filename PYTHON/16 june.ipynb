{
 "cells": [
  {
   "cell_type": "code",
   "execution_count": 1,
   "id": "acfb0129-6b18-43be-92f1-1042134d3f63",
   "metadata": {},
   "outputs": [
    {
     "data": {
      "text/plain": [
       "6"
      ]
     },
     "execution_count": 1,
     "metadata": {},
     "output_type": "execute_result"
    }
   ],
   "source": [
    "3+3"
   ]
  },
  {
   "cell_type": "code",
   "execution_count": 2,
   "id": "c9e8cd9a-4590-4c2f-8f32-da1c79a0484d",
   "metadata": {},
   "outputs": [
    {
     "data": {
      "text/plain": [
       "0"
      ]
     },
     "execution_count": 2,
     "metadata": {},
     "output_type": "execute_result"
    }
   ],
   "source": [
    "9-9"
   ]
  },
  {
   "cell_type": "code",
   "execution_count": 3,
   "id": "a79b1400-9b94-479a-9913-410b1f07f660",
   "metadata": {},
   "outputs": [
    {
     "data": {
      "text/plain": [
       "12"
      ]
     },
     "execution_count": 3,
     "metadata": {},
     "output_type": "execute_result"
    }
   ],
   "source": [
    "2*6"
   ]
  },
  {
   "cell_type": "code",
   "execution_count": 5,
   "id": "1b5153d9-c022-45e6-9384-17ada672ff53",
   "metadata": {},
   "outputs": [
    {
     "data": {
      "text/plain": [
       "'welcome to naresh it'"
      ]
     },
     "execution_count": 5,
     "metadata": {},
     "output_type": "execute_result"
    }
   ],
   "source": [
    "\n",
    "'welcome to naresh it'"
   ]
  },
  {
   "cell_type": "code",
   "execution_count": 7,
   "id": "f588b5ef-c7c2-4887-939c-d173162735a6",
   "metadata": {},
   "outputs": [
    {
     "data": {
      "text/plain": [
       "'welcome to naresh it'"
      ]
     },
     "execution_count": 7,
     "metadata": {},
     "output_type": "execute_result"
    }
   ],
   "source": [
    "\"welcome to naresh it\" "
   ]
  },
  {
   "cell_type": "code",
   "execution_count": 8,
   "id": "2049f3ac-62f5-49e5-a73d-83df8c033409",
   "metadata": {},
   "outputs": [
    {
     "data": {
      "text/plain": [
       "'welcome to naresh it'"
      ]
     },
     "execution_count": 8,
     "metadata": {},
     "output_type": "execute_result"
    }
   ],
   "source": [
    "'''welcome to naresh it'''"
   ]
  },
  {
   "cell_type": "code",
   "execution_count": 9,
   "id": "2e43abb9-4cf0-457f-9be6-2b3d7fabf5c4",
   "metadata": {},
   "outputs": [
    {
     "ename": "SyntaxError",
     "evalue": "unterminated string literal (detected at line 1) (3451779729.py, line 1)",
     "output_type": "error",
     "traceback": [
      "\u001b[1;36m  Cell \u001b[1;32mIn[9], line 1\u001b[1;36m\u001b[0m\n\u001b[1;33m    'welcome\u001b[0m\n\u001b[1;37m    ^\u001b[0m\n\u001b[1;31mSyntaxError\u001b[0m\u001b[1;31m:\u001b[0m unterminated string literal (detected at line 1)\n"
     ]
    }
   ],
   "source": [
    "'welcome \n",
    "to naresh it'"
   ]
  },
  {
   "cell_type": "code",
   "execution_count": 10,
   "id": "ce513f03-4890-4b07-b2f7-86d8ec3c6117",
   "metadata": {},
   "outputs": [
    {
     "ename": "SyntaxError",
     "evalue": "unterminated string literal (detected at line 1) (2895184904.py, line 1)",
     "output_type": "error",
     "traceback": [
      "\u001b[1;36m  Cell \u001b[1;32mIn[10], line 1\u001b[1;36m\u001b[0m\n\u001b[1;33m    \"welcome\u001b[0m\n\u001b[1;37m    ^\u001b[0m\n\u001b[1;31mSyntaxError\u001b[0m\u001b[1;31m:\u001b[0m unterminated string literal (detected at line 1)\n"
     ]
    }
   ],
   "source": [
    "\"welcome \n",
    "tonaresh it\""
   ]
  },
  {
   "cell_type": "code",
   "execution_count": 11,
   "id": "8dc82891-e6bb-45e9-9639-0482c8e51f36",
   "metadata": {},
   "outputs": [
    {
     "data": {
      "text/plain": [
       "'welcome tonaresh it'"
      ]
     },
     "execution_count": 11,
     "metadata": {},
     "output_type": "execute_result"
    }
   ],
   "source": [
    "'''welcome tonaresh it'''"
   ]
  },
  {
   "cell_type": "code",
   "execution_count": 14,
   "id": "043277bd-81c7-42af-90d4-c43549645470",
   "metadata": {},
   "outputs": [
    {
     "ename": "SyntaxError",
     "evalue": "invalid syntax (1628475277.py, line 1)",
     "output_type": "error",
     "traceback": [
      "\u001b[1;36m  Cell \u001b[1;32mIn[14], line 1\u001b[1;36m\u001b[0m\n\u001b[1;33m    import ceil(9.4)\u001b[0m\n\u001b[1;37m               ^\u001b[0m\n\u001b[1;31mSyntaxError\u001b[0m\u001b[1;31m:\u001b[0m invalid syntax\n"
     ]
    }
   ],
   "source": [
    "import ceil(9.4)"
   ]
  },
  {
   "cell_type": "code",
   "execution_count": 1,
   "id": "a00d00cc-ac04-4356-ae20-55fd92d145db",
   "metadata": {},
   "outputs": [
    {
     "data": {
      "text/plain": [
       "81"
      ]
     },
     "execution_count": 1,
     "metadata": {},
     "output_type": "execute_result"
    }
   ],
   "source": [
    "3**4"
   ]
  },
  {
   "cell_type": "code",
   "execution_count": 4,
   "id": "c100e1d9-9b80-4a5d-9b65-2d24ddcaf880",
   "metadata": {},
   "outputs": [
    {
     "data": {
      "text/plain": [
       "9.4"
      ]
     },
     "execution_count": 4,
     "metadata": {},
     "output_type": "execute_result"
    }
   ],
   "source": [
    "float (9.4)"
   ]
  },
  {
   "cell_type": "code",
   "execution_count": 5,
   "id": "2a089d93-1e3b-42ec-a26b-bf3ff083a506",
   "metadata": {},
   "outputs": [
    {
     "ename": "NameError",
     "evalue": "name 'ceil' is not defined",
     "output_type": "error",
     "traceback": [
      "\u001b[1;31m---------------------------------------------------------------------------\u001b[0m",
      "\u001b[1;31mNameError\u001b[0m                                 Traceback (most recent call last)",
      "Cell \u001b[1;32mIn[5], line 1\u001b[0m\n\u001b[1;32m----> 1\u001b[0m ceil(\u001b[38;5;241m9.4\u001b[39m)\n",
      "\u001b[1;31mNameError\u001b[0m: name 'ceil' is not defined"
     ]
    }
   ],
   "source": [
    "ceil(9.4)"
   ]
  },
  {
   "cell_type": "code",
   "execution_count": 1,
   "id": "691887da-4318-4feb-82c1-e24556d8877b",
   "metadata": {},
   "outputs": [
    {
     "data": {
      "text/plain": [
       "10"
      ]
     },
     "execution_count": 1,
     "metadata": {},
     "output_type": "execute_result"
    }
   ],
   "source": [
    "import math\n",
    "math.ceil(9.4)"
   ]
  },
  {
   "cell_type": "code",
   "execution_count": 4,
   "id": "ef58cd69-2512-4053-8e67-a13200bce008",
   "metadata": {},
   "outputs": [
    {
     "data": {
      "text/plain": [
       "9.4"
      ]
     },
     "execution_count": 4,
     "metadata": {},
     "output_type": "execute_result"
    }
   ],
   "source": [
    "float(9.4)"
   ]
  },
  {
   "cell_type": "code",
   "execution_count": null,
   "id": "02dde1e2-7c74-4586-80c7-535a5c14f3d9",
   "metadata": {},
   "outputs": [],
   "source": []
  }
 ],
 "metadata": {
  "kernelspec": {
   "display_name": "Python [conda env:base] *",
   "language": "python",
   "name": "conda-base-py"
  },
  "language_info": {
   "codemirror_mode": {
    "name": "ipython",
    "version": 3
   },
   "file_extension": ".py",
   "mimetype": "text/x-python",
   "name": "python",
   "nbconvert_exporter": "python",
   "pygments_lexer": "ipython3",
   "version": "3.12.7"
  }
 },
 "nbformat": 4,
 "nbformat_minor": 5
}
